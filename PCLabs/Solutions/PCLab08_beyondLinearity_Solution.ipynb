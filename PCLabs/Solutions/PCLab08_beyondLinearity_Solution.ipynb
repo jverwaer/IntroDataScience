{
  "cells": [
    {
      "cell_type": "markdown",
      "metadata": {
        "id": "si2m36WmtXtq"
      },
      "source": [
        "# **Moving beyond linearity**"
      ]
    },
    {
      "cell_type": "markdown",
      "metadata": {
        "id": "lLweYToX069s"
      },
      "source": [
        "Welcome back!\n",
        "\n",
        "This notebook contains Python code for the lecture on nonlinear models (moving *beyond linearity*) for the course *Introduction to data science* and includes a set of exercises as well."
      ]
    },
    {
      "cell_type": "markdown",
      "metadata": {
        "id": "e6AubX0puQKu"
      },
      "source": [
        "<p>\n",
        "Basis extension methods provide an elegant means to model non-linear relationships in datasets. Their main purpose is to transform data into a (often high-dimensional) feature space in which the relevant patterns can be discoverd using linear methods. \n",
        "<center><a href=\"https://commons.wikimedia.org/wiki/File:Kernel_Machine.svg#/media/File:Kernel_Machine.svg\"><img src=\"https://upload.wikimedia.org/wikipedia/commons/thumb/f/fe/Kernel_Machine.svg/1200px-Kernel_Machine.svg.png\" alt=\"Scatterplot featuring a linear support vector machine's decision boundary (dashed line)\" width=\"350\"></a> </center> </p>\n"
      ]
    },
    {
      "cell_type": "markdown",
      "metadata": {
        "id": "RO7ge6pFtfKm"
      },
      "source": [
        "## Import Libraries\n",
        "\n",
        "To add functionality to your Python session, a series of libraries (most importantly scikit-image and scikit-learn are imported)"
      ]
    },
    {
      "cell_type": "code",
      "execution_count": 1,
      "metadata": {
        "id": "6HueB3Hz4B8B"
      },
      "outputs": [],
      "source": [
        "# import numpy for array manipulation\n",
        "import numpy as np\n",
        "# import matplotlib for visualization\n",
        "import matplotlib.pyplot as plt\n",
        "# import pandas\n",
        "import pandas as pd\n",
        "\n",
        "# import linear models and some convenience functions to create dummy data, plot decision boundaries ad split train and test data\n",
        "from sklearn.model_selection import train_test_split, GridSearchCV\n",
        "from sklearn.preprocessing import StandardScaler, SplineTransformer\n",
        "from sklearn.linear_model import Ridge, Lasso\n",
        "from sklearn.svm import SVC\n",
        "from sklearn.pipeline import make_pipeline\n",
        "import sklearn.metrics.pairwise as pairwise\n",
        "from sklearn.kernel_ridge import KernelRidge\n"
      ]
    },
    {
      "cell_type": "markdown",
      "metadata": {
        "id": "_maBAncE6FCk"
      },
      "source": [
        "## 1. Splines\n",
        "\n",
        "Sklearn implements B-spline basis functions for spline-based regression. As all spline methods, it consists of a basis of local polynomials (polynomials with a local support) of a given degree (often ``degree = 3``). The image below illustrates a simple polynomial basis functions (left) and a B-spline basis functions of degree three (right) and four knot positions.\n",
        "\n",
        "<center><img src=\"https:\\\\users.ugent.be\\~jverwaer\\bsplines_sklearn.png\" alt=\"B-spline basis\" width=\"450\"></center>"
      ]
    },
    {
      "cell_type": "markdown",
      "metadata": {
        "id": "iq5UZrlskgfP"
      },
      "source": [
        "**STEP 1**: load the data\n",
        "\n",
        "*To illustrate the splines for regression, we will use a QSAR dataset. Quantitative structure-activity relationship (QSAR) is a computational or mathematical modeling method to reveal relationships between biological activities and the structural properties of chemical compounds. The data we use contains 6 molecular descriptors of 908 different compounds. The objective is to predict the toxicity of these compounds. The target is the LC50 (the abbreviation used for the exposure concentration of a toxic substance lethal to half of the test animals) and is expressed in -LOG(mol/L).*"
      ]
    },
    {
      "cell_type": "code",
      "execution_count": null,
      "metadata": {
        "id": "SV-4sk7zkgfP"
      },
      "outputs": [],
      "source": [
        "# importing the qsar dataset\n",
        "fname = \"qsar_fish_toxicity.csv\"\n",
        "qsar_df = pd.read_csv(fname, sep=\";\")\n",
        "\n",
        "# extract X and y as two numpy arrays\n",
        "X = qsar_df.iloc[:,0:6].to_numpy()  \n",
        "y = qsar_df.iloc[:,6].to_numpy()"
      ]
    },
    {
      "cell_type": "markdown",
      "metadata": {
        "id": "mfF21mWLkgfQ"
      },
      "source": [
        "**STEP 2**: create train/tune/test splits"
      ]
    },
    {
      "cell_type": "code",
      "execution_count": null,
      "metadata": {
        "id": "FZNGHGM8kgfQ"
      },
      "outputs": [],
      "source": [
        "# split train and test data\n",
        "X_train, X_test, y_train, y_test = train_test_split(X, y, test_size = 150, random_state=1)\n",
        "# split tune from train data\n",
        "X_train, X_tune, y_train, y_tune = train_test_split(X_train, y_train, test_size = 50, random_state=1)\n",
        "\n",
        "# standardize the data\n",
        "scaler = StandardScaler()\n",
        "scaler.fit(X_train)\n",
        "\n",
        "X_train = scaler.transform(X_train)\n",
        "X_tune = scaler.transform(X_tune)\n",
        "X_test = scaler.transform(X_test)"
      ]
    },
    {
      "cell_type": "markdown",
      "metadata": {
        "id": "rG6AdI5wkgfR"
      },
      "source": [
        "**STEP 3**: create spline features"
      ]
    },
    {
      "cell_type": "code",
      "execution_count": null,
      "metadata": {
        "id": "YlU30LibkgfR"
      },
      "outputs": [],
      "source": [
        "# create a spline transformer object\n",
        "spline = SplineTransformer(degree=2, n_knots=5, knots='quantile')\n",
        "\n",
        "# call the fit method to compute the knot positions\n",
        "spline.fit(X_train)\n",
        "\n",
        "# transform the data\n",
        "X_train = spline.transform(X_train)\n",
        "X_tune = spline.transform(X_tune)\n",
        "X_test = spline.transform(X_test)"
      ]
    },
    {
      "cell_type": "markdown",
      "metadata": {
        "id": "k9fDXdbJkgfS"
      },
      "source": [
        "**STEP 4**: do ridge regression on the resulting spline features"
      ]
    },
    {
      "cell_type": "code",
      "execution_count": null,
      "metadata": {
        "colab": {
          "base_uri": "https://localhost:8080/",
          "height": 447
        },
        "id": "ElKZ1OgjkgfS",
        "outputId": "3b3b6690-c252-4170-b8ae-a851b060096f"
      },
      "outputs": [
        {
          "output_type": "execute_result",
          "data": {
            "text/plain": [
              "[<matplotlib.lines.Line2D at 0x7fe2d4ba62e0>]"
            ]
          },
          "metadata": {},
          "execution_count": 5
        },
        {
          "output_type": "display_data",
          "data": {
            "text/plain": [
              "<Figure size 640x480 with 1 Axes>"
            ],
            "image/png": "[encoded data removed]"
          },
          "metadata": {}
        }
      ],
      "source": [
        "# create model object\n",
        "mdl = Ridge(alpha = 0.5)\n",
        "\n",
        "# fit the model\n",
        "mdl.fit(X_train, y_train)\n",
        "\n",
        "# make predictions on test set\n",
        "predictions = mdl.predict(X_test)\n",
        "\n",
        "# make a plot\n",
        "plt.plot(predictions, y_test, \"*\")"
      ]
    },
    {
      "cell_type": "markdown",
      "metadata": {
        "id": "eln-S-dbkgfS"
      },
      "source": [
        "**STEP 5**: Tune the regularization parameter"
      ]
    },
    {
      "cell_type": "code",
      "execution_count": null,
      "metadata": {
        "colab": {
          "base_uri": "https://localhost:8080/",
          "height": 447
        },
        "id": "TS02UVCgkgfT",
        "outputId": "36c3d009-30b3-4f04-dbc8-7b30c32eb96f"
      },
      "outputs": [
        {
          "output_type": "execute_result",
          "data": {
            "text/plain": [
              "[<matplotlib.lines.Line2D at 0x7fe2d02135e0>]"
            ]
          },
          "metadata": {},
          "execution_count": 6
        },
        {
          "output_type": "display_data",
          "data": {
            "text/plain": [
              "<Figure size 640x480 with 1 Axes>"
            ],
            "image/png": "[encoded data removed]"
          },
          "metadata": {}
        }
      ],
      "source": [
        "alphas = 2**np.linspace(-5, 5, 10)\n",
        "MAEs = []\n",
        "for a in alphas:\n",
        "    # create model object\n",
        "    mdl = Ridge(alpha = a)\n",
        "\n",
        "    # fit the model\n",
        "    mdl.fit(X_train, y_train)\n",
        "\n",
        "    # make predictions on tuning set\n",
        "    predictions = mdl.predict(X_tune)\n",
        "\n",
        "    # compute MAE\n",
        "    MAEs.append(np.mean(np.abs(predictions - y_tune)))\n",
        "\n",
        "plt.plot(alphas, MAEs, '-*')"
      ]
    },
    {
      "cell_type": "markdown",
      "metadata": {
        "id": "mTSBPSc9kgfT"
      },
      "source": [
        "**STEP 6**: Build and test final model using tuned $\\alpha$ on test set"
      ]
    },
    {
      "cell_type": "code",
      "execution_count": null,
      "metadata": {
        "colab": {
          "base_uri": "https://localhost:8080/"
        },
        "id": "QxNB97fykgfU",
        "outputId": "158a97d9-e04b-4fd6-cf79-88e0245a5361"
      },
      "outputs": [
        {
          "output_type": "stream",
          "name": "stdout",
          "text": [
            "Best alpha: 1.4697344922755986\n",
            "MAE on test set: 0.6862338528847295\n"
          ]
        }
      ],
      "source": [
        "# find best alpha (this is the automated way but can also be done visually)\n",
        "idx = np.array(MAEs).argmin()\n",
        "best_alpha = alphas[idx]\n",
        "\n",
        "# build model with best alpha and test\n",
        "mdl = Ridge(alpha = best_alpha)\n",
        "mdl.fit(X_train, y_train)\n",
        "predictions = mdl.predict(X_test)\n",
        "\n",
        "# compute MAE\n",
        "MAE = np.mean(np.abs(predictions - y_test))\n",
        "\n",
        "print('Best alpha:', best_alpha)\n",
        "print('MAE on test set:', MAE)"
      ]
    },
    {
      "cell_type": "markdown",
      "metadata": {
        "id": "Toqzv0l7kgfU"
      },
      "source": [
        "**EXERCISE**: Use a spline-basis in combination with Ridge regression to build a model to predict the price of a car (we have used and cleaned this dataset before and a *cleaned* version is available data available in ``car_price_nice.csv`` the last column is the price (output)). Use $\\alpha = 4$, ``degree``= 2 and ``n_knots``= 6  (we will see how to automatically find optimal values efficiently later in this notebook)."
      ]
    },
    {
      "cell_type": "code",
      "execution_count": null,
      "metadata": {
        "id": "wm8NEIFBkgfV"
      },
      "outputs": [],
      "source": [
        "# to be completed ..."
      ]
    },
    {
      "cell_type": "markdown",
      "metadata": {
        "id": "5KIwrwbOkgfV"
      },
      "source": [
        "## 2. Pipelines in sklearn\n",
        "\n",
        "Working with basis functions often imples that data are first scaled, spline features are computed and subsequently a model is fit. Scaling and feature computation are proprocessing steps that need to be repeated on the train, tune and test sets leading to repetetive coding. ``Pipeline``s allow to avoid this and tie a series of ``preprocessing`` objects to a regressor/classifier and wrap in into a single object. The most convenient way to build such a pipeline uses the function ``make_pipeline``."
      ]
    },
    {
      "cell_type": "code",
      "execution_count": null,
      "metadata": {
        "id": "HDFXLPF8kgfV"
      },
      "outputs": [],
      "source": [
        "# importing the qsar dataset\n",
        "fname = \"qsar_fish_toxicity.csv\"\n",
        "qsar_df = pd.read_csv(fname, sep=\";\")\n",
        "\n",
        "# extract X and y as two numpy arrays\n",
        "X = qsar_df.iloc[:,0:6].to_numpy()  \n",
        "y = qsar_df.iloc[:,6].to_numpy()"
      ]
    },
    {
      "cell_type": "code",
      "execution_count": null,
      "metadata": {
        "id": "5QuGog7-kgfW"
      },
      "outputs": [],
      "source": [
        "# split train and test data\n",
        "X_train, X_test, y_train, y_test = train_test_split(X, y, test_size = 150, random_state=1)\n",
        "# split tune from train data\n",
        "X_train, X_tune, y_train, y_tune = train_test_split(X_train, y_train, test_size = 50, random_state=1)\n",
        "\n",
        "# make a pipeline\n",
        "mdl = make_pipeline(StandardScaler(),\n",
        "                    SplineTransformer(degree=2, n_knots=5, knots='quantile'),\n",
        "                    Ridge(alpha = 0.5))\n",
        "\n",
        "# scale data, compute spline features and fit model\n",
        "mdl.fit(X_train, y_train)\n",
        "\n",
        "# predict on test set (will scale the data, compute spline features etc. automatically before predicting)\n",
        "predictions = mdl.predict(X_test)"
      ]
    },
    {
      "cell_type": "markdown",
      "metadata": {
        "id": "8Waj3Cc8kgfW"
      },
      "source": [
        "## 3. Parameter tuning with cross-validation\n",
        "\n",
        "During a (hyper-)parameter tuning procedure, part of the training data is reserved for validation purposes. Especially for small(er) datasets reserving data for validation purposes can significantly reduce the amount of data left for training and thus result in less good models. On the other hand, when the validation set it too small, the valudation accuracy might not be representative and can heavily depend on the (random) split that has been choosen. Cross-validation provides an alternative that uses the training data more efficiently.\n",
        "\n",
        "<center><a href=\"https://scikit-learn.org/stable/modules/cross_validation.html\"><img src= \"https://users.ugent.be/~jverwaer/grid_search_cross_validation.png\" alt=\"Cross-validation\" width=\"350\"></a> </center> </p>\n",
        "\n",
        "Sklearn implements several interfaces to this general idea of cross validation. In this notebook we only use ``GridSearchCV``. Here, *grid* refers to the simultaneous optimization of several (hyper-) parameters by testing all combinations of these parameters where each parameter can take a value in a specified series (hence a grid of combinations)."
      ]
    },
    {
      "cell_type": "markdown",
      "metadata": {
        "id": "OThOVWaokgfW"
      },
      "source": [
        "#### 3.1 Example 1: Tuning $\\alpha$ in ridge regression"
      ]
    },
    {
      "cell_type": "code",
      "execution_count": null,
      "metadata": {
        "id": "2r64V3SskgfW"
      },
      "outputs": [],
      "source": [
        "# importing the qsar dataset\n",
        "fname = \"qsar_fish_toxicity.csv\"\n",
        "qsar_df = pd.read_csv(fname, sep=\";\")\n",
        "\n",
        "# extract X and y as two numpy arrays\n",
        "X = qsar_df.iloc[:,0:6].to_numpy()  \n",
        "y = qsar_df.iloc[:,6].to_numpy()\n",
        "\n",
        "# split train and test data\n",
        "X_train, X_test, y_train, y_test = train_test_split(X, y, test_size = 150, random_state=1)\n",
        "\n",
        "# NOTE: to limit the amount of code, no standardization is applied here (should be done in practice!!)"
      ]
    },
    {
      "cell_type": "code",
      "execution_count": null,
      "metadata": {
        "colab": {
          "base_uri": "https://localhost:8080/",
          "height": 118
        },
        "id": "ASM3JGIdkgfW",
        "outputId": "eb6cebbe-2d95-4406-ff85-a0ed2bfc61d8"
      },
      "outputs": [
        {
          "output_type": "execute_result",
          "data": {
            "text/plain": [
              "GridSearchCV(cv=10, estimator=Ridge(),\n",
              "             param_grid={'alpha': [0.001, 0.01, 0.1, 1, 10, 100, 1000]},\n",
              "             scoring='neg_mean_absolute_error')"
            ],
            "text/html": [
              "<style>#sk-container-id-1 {color: black;background-color: white;}#sk-container-id-1 pre{padding: 0;}#sk-container-id-1 div.sk-toggleable {background-color: white;}#sk-container-id-1 label.sk-toggleable__label {cursor: pointer;display: block;width: 100%;margin-bottom: 0;padding: 0.3em;box-sizing: border-box;text-align: center;}#sk-container-id-1 label.sk-toggleable__label-arrow:before {content: \"▸\";float: left;margin-right: 0.25em;color: #696969;}#sk-container-id-1 label.sk-toggleable__label-arrow:hover:before {color: black;}#sk-container-id-1 div.sk-estimator:hover label.sk-toggleable__label-arrow:before {color: black;}#sk-container-id-1 div.sk-toggleable__content {max-height: 0;max-width: 0;overflow: hidden;text-align: left;background-color: #f0f8ff;}#sk-container-id-1 div.sk-toggleable__content pre {margin: 0.2em;color: black;border-radius: 0.25em;background-color: #f0f8ff;}#sk-container-id-1 input.sk-toggleable__control:checked~div.sk-toggleable__content {max-height: 200px;max-width: 100%;overflow: auto;}#sk-container-id-1 input.sk-toggleable__control:checked~label.sk-toggleable__label-arrow:before {content: \"▾\";}#sk-container-id-1 div.sk-estimator input.sk-toggleable__control:checked~label.sk-toggleable__label {background-color: #d4ebff;}#sk-container-id-1 div.sk-label input.sk-toggleable__control:checked~label.sk-toggleable__label {background-color: #d4ebff;}#sk-container-id-1 input.sk-hidden--visually {border: 0;clip: rect(1px 1px 1px 1px);clip: rect(1px, 1px, 1px, 1px);height: 1px;margin: -1px;overflow: hidden;padding: 0;position: absolute;width: 1px;}#sk-container-id-1 div.sk-estimator {font-family: monospace;background-color: #f0f8ff;border: 1px dotted black;border-radius: 0.25em;box-sizing: border-box;margin-bottom: 0.5em;}#sk-container-id-1 div.sk-estimator:hover {background-color: #d4ebff;}#sk-container-id-1 div.sk-parallel-item::after {content: \"\";width: 100%;border-bottom: 1px solid gray;flex-grow: 1;}#sk-container-id-1 div.sk-label:hover label.sk-toggleable__label {background-color: #d4ebff;}#sk-container-id-1 div.sk-serial::before {content: \"\";position: absolute;border-left: 1px solid gray;box-sizing: border-box;top: 0;bottom: 0;left: 50%;z-index: 0;}#sk-container-id-1 div.sk-serial {display: flex;flex-direction: column;align-items: center;background-color: white;padding-right: 0.2em;padding-left: 0.2em;position: relative;}#sk-container-id-1 div.sk-item {position: relative;z-index: 1;}#sk-container-id-1 div.sk-parallel {display: flex;align-items: stretch;justify-content: center;background-color: white;position: relative;}#sk-container-id-1 div.sk-item::before, #sk-container-id-1 div.sk-parallel-item::before {content: \"\";position: absolute;border-left: 1px solid gray;box-sizing: border-box;top: 0;bottom: 0;left: 50%;z-index: -1;}#sk-container-id-1 div.sk-parallel-item {display: flex;flex-direction: column;z-index: 1;position: relative;background-color: white;}#sk-container-id-1 div.sk-parallel-item:first-child::after {align-self: flex-end;width: 50%;}#sk-container-id-1 div.sk-parallel-item:last-child::after {align-self: flex-start;width: 50%;}#sk-container-id-1 div.sk-parallel-item:only-child::after {width: 0;}#sk-container-id-1 div.sk-dashed-wrapped {border: 1px dashed gray;margin: 0 0.4em 0.5em 0.4em;box-sizing: border-box;padding-bottom: 0.4em;background-color: white;}#sk-container-id-1 div.sk-label label {font-family: monospace;font-weight: bold;display: inline-block;line-height: 1.2em;}#sk-container-id-1 div.sk-label-container {text-align: center;}#sk-container-id-1 div.sk-container {/* jupyter's `normalize.less` sets `[hidden] { display: none; }` but bootstrap.min.css set `[hidden] { display: none !important; }` so we also need the `!important` here to be able to override the default hidden behavior on the sphinx rendered scikit-learn.org. See: https://github.com/scikit-learn/scikit-learn/issues/21755 */display: inline-block !important;position: relative;}#sk-container-id-1 div.sk-text-repr-fallback {display: none;}</style><div id=\"sk-container-id-1\" class=\"sk-top-container\"><div class=\"sk-text-repr-fallback\"><pre>GridSearchCV(cv=10, estimator=Ridge(),\n",
              "             param_grid={&#x27;alpha&#x27;: [0.001, 0.01, 0.1, 1, 10, 100, 1000]},\n",
              "             scoring=&#x27;neg_mean_absolute_error&#x27;)</pre><b>In a Jupyter environment, please rerun this cell to show the HTML representation or trust the notebook. <br />On GitHub, the HTML representation is unable to render, please try loading this page with nbviewer.org.</b></div><div class=\"sk-container\" hidden><div class=\"sk-item sk-dashed-wrapped\"><div class=\"sk-label-container\"><div class=\"sk-label sk-toggleable\"><input class=\"sk-toggleable__control sk-hidden--visually\" id=\"sk-estimator-id-1\" type=\"checkbox\" ><label for=\"sk-estimator-id-1\" class=\"sk-toggleable__label sk-toggleable__label-arrow\">GridSearchCV</label><div class=\"sk-toggleable__content\"><pre>GridSearchCV(cv=10, estimator=Ridge(),\n",
              "             param_grid={&#x27;alpha&#x27;: [0.001, 0.01, 0.1, 1, 10, 100, 1000]},\n",
              "             scoring=&#x27;neg_mean_absolute_error&#x27;)</pre></div></div></div><div class=\"sk-parallel\"><div class=\"sk-parallel-item\"><div class=\"sk-item\"><div class=\"sk-label-container\"><div class=\"sk-label sk-toggleable\"><input class=\"sk-toggleable__control sk-hidden--visually\" id=\"sk-estimator-id-2\" type=\"checkbox\" ><label for=\"sk-estimator-id-2\" class=\"sk-toggleable__label sk-toggleable__label-arrow\">estimator: Ridge</label><div class=\"sk-toggleable__content\"><pre>Ridge()</pre></div></div></div><div class=\"sk-serial\"><div class=\"sk-item\"><div class=\"sk-estimator sk-toggleable\"><input class=\"sk-toggleable__control sk-hidden--visually\" id=\"sk-estimator-id-3\" type=\"checkbox\" ><label for=\"sk-estimator-id-3\" class=\"sk-toggleable__label sk-toggleable__label-arrow\">Ridge</label><div class=\"sk-toggleable__content\"><pre>Ridge()</pre></div></div></div></div></div></div></div></div></div></div>"
            ]
          },
          "metadata": {},
          "execution_count": 11
        }
      ],
      "source": [
        "# define grid of parameters\n",
        "param_grid = {'alpha': [0.001, 0.01, 0.1, 1, 10, 100, 1000]}\n",
        "\n",
        "# create GridSearchCV object\n",
        "mdl_cv = GridSearchCV(Ridge(),           # model object (in this case a ridge regressor)\n",
        "                      param_grid,        # parameter grid\n",
        "                      cv = 10,           # number of folds\n",
        "                      scoring = 'neg_mean_absolute_error')  # criterion used to select best model\n",
        "\n",
        "# perform grid search (after the grid search, mdl_cv.predict(X) will predict using best model)\n",
        "mdl_cv.fit(X_train, y_train)"
      ]
    },
    {
      "cell_type": "code",
      "execution_count": null,
      "metadata": {
        "colab": {
          "base_uri": "https://localhost:8080/"
        },
        "id": "Hh_1_QvxkgfW",
        "outputId": "5ffe073c-2225-4cc2-c33c-114efe6b8734"
      },
      "outputs": [
        {
          "output_type": "execute_result",
          "data": {
            "text/plain": [
              "array([2.13076728, 2.36111822, 3.94505905, 4.08642202, 1.63374929,\n",
              "       2.73395482, 2.47799089, 4.96018913, 2.93742619, 4.14350472,\n",
              "       3.93946381, 4.07299202, 2.44055427, 5.0040515 , 3.91988007,\n",
              "       2.59112025, 4.68780623, 3.75823826, 7.29087307, 2.5893699 ,\n",
              "       3.90355523, 4.26816816, 5.42930581, 2.50777588, 3.68711486,\n",
              "       4.8171917 , 2.99965457, 2.8890459 , 1.36189051, 3.97148456,\n",
              "       4.43358919, 3.57594642, 2.4575401 , 2.89449801, 3.43773512,\n",
              "       8.28920109, 3.77133153, 3.75958338, 3.09918312, 3.12268395,\n",
              "       4.73298911, 5.21778584, 4.77872437, 4.09938029, 3.65959634,\n",
              "       5.12795661, 3.45202823, 6.09742678, 5.34186322, 5.09242931,\n",
              "       5.11313106, 4.19305438, 0.04587365, 4.18549696, 2.81589901,\n",
              "       3.87414399, 4.04154518, 3.21254782, 4.35321374, 3.3518679 ,\n",
              "       4.56885596, 2.4575401 , 3.48803358, 4.99864065, 4.16497829,\n",
              "       5.88868737, 5.91912793, 4.65010504, 1.42292378, 2.31617336,\n",
              "       7.47431175, 6.71196539, 4.14175076, 4.238146  , 3.48777222,\n",
              "       4.49779262, 4.13164753, 5.17377703, 4.30084171, 3.78569487,\n",
              "       4.50751189, 4.64386229, 5.13571305, 3.97716391, 4.18188481,\n",
              "       4.72106184, 4.77877052, 5.72400648, 3.68244557, 3.48367863,\n",
              "       3.20863067, 4.50772582, 3.30337606, 3.95084768, 4.77100176,\n",
              "       3.48367863, 3.45103812, 6.22328284, 6.58401451, 3.48777222,\n",
              "       3.89407886, 5.11313106, 5.66652696, 4.19794066, 2.5018915 ,\n",
              "       2.07918701, 4.28676927, 4.80130142, 4.47172938, 3.55951024,\n",
              "       4.90316274, 4.16426223, 2.46353634, 4.61614065, 3.9691902 ,\n",
              "       3.94953644, 5.04835948, 6.11971323, 3.50147398, 5.37717671,\n",
              "       3.42188857, 5.58666434, 3.58156482, 3.09918312, 3.79540862,\n",
              "       4.65262612, 2.63380091, 4.50915063, 2.03662705, 3.67421308,\n",
              "       4.5028573 , 4.94519572, 5.32708918, 3.83469175, 3.68711486,\n",
              "       4.58023395, 4.88432854, 4.05812846, 2.11563189, 4.72881522,\n",
              "       3.55264953, 3.71942308, 3.85095084, 4.96353902, 3.41586692,\n",
              "       3.8939151 , 5.06820484, 3.3341905 , 4.88139948, 4.87492447])"
            ]
          },
          "metadata": {},
          "execution_count": 12
        }
      ],
      "source": [
        "# make predictions using best model on test set\n",
        "mdl_cv.predict(X_test)"
      ]
    },
    {
      "cell_type": "code",
      "execution_count": null,
      "metadata": {
        "colab": {
          "base_uri": "https://localhost:8080/",
          "height": 455
        },
        "id": "knLwdmYYkgfX",
        "outputId": "03d867a9-b3ab-4807-c41a-9a2010e2cba9"
      },
      "outputs": [
        {
          "output_type": "execute_result",
          "data": {
            "text/plain": [
              "   mean_fit_time  std_fit_time  mean_score_time  std_score_time param_alpha  \\\n",
              "0       0.001415      0.001123         0.000415        0.000145       0.001   \n",
              "1       0.000700      0.000037         0.000314        0.000013        0.01   \n",
              "2       0.000769      0.000147         0.000397        0.000160         0.1   \n",
              "3       0.000736      0.000045         0.000307        0.000008           1   \n",
              "4       0.000738      0.000062         0.000336        0.000056          10   \n",
              "5       0.000700      0.000017         0.000318        0.000028         100   \n",
              "6       0.000691      0.000014         0.000305        0.000012        1000   \n",
              "\n",
              "             params  split0_test_score  split1_test_score  split2_test_score  \\\n",
              "0  {'alpha': 0.001}          -0.715609          -0.782622          -0.513120   \n",
              "1   {'alpha': 0.01}          -0.715609          -0.782618          -0.513118   \n",
              "2    {'alpha': 0.1}          -0.715614          -0.782573          -0.513099   \n",
              "3      {'alpha': 1}          -0.715736          -0.782144          -0.512969   \n",
              "4     {'alpha': 10}          -0.717543          -0.782984          -0.515417   \n",
              "5    {'alpha': 100}          -0.758326          -0.821331          -0.555167   \n",
              "6   {'alpha': 1000}          -0.950001          -0.956960          -0.737420   \n",
              "\n",
              "   split3_test_score  split4_test_score  split5_test_score  split6_test_score  \\\n",
              "0          -0.709739          -0.671947          -0.745460          -0.740166   \n",
              "1          -0.709746          -0.671946          -0.745448          -0.740175   \n",
              "2          -0.709810          -0.671934          -0.745325          -0.740269   \n",
              "3          -0.710442          -0.671813          -0.744258          -0.741188   \n",
              "4          -0.716656          -0.672512          -0.737993          -0.750711   \n",
              "5          -0.752998          -0.690008          -0.739941          -0.810786   \n",
              "6          -0.912127          -0.797363          -0.827099          -0.889342   \n",
              "\n",
              "   split7_test_score  split8_test_score  split9_test_score  mean_test_score  \\\n",
              "0          -0.721761          -0.553216          -0.766586        -0.692023   \n",
              "1          -0.721767          -0.553207          -0.766583        -0.692022   \n",
              "2          -0.721824          -0.553114          -0.766553        -0.692012   \n",
              "3          -0.722383          -0.552202          -0.766251        -0.691938   \n",
              "4          -0.729155          -0.551839          -0.763437        -0.693825   \n",
              "5          -0.764759          -0.593273          -0.763525        -0.725011   \n",
              "6          -0.873763          -0.730945          -0.844189        -0.851921   \n",
              "\n",
              "   std_test_score  rank_test_score  \n",
              "0        0.085072                4  \n",
              "1        0.085073                3  \n",
              "2        0.085086                2  \n",
              "3        0.085217                1  \n",
              "4        0.085298                5  \n",
              "5        0.083211                6  \n",
              "6        0.075864                7  "
            ],
            "text/html": [
              "\n",
              "  <div id=\"df-a9fc5e53-3c9d-418d-b2d0-6aef803dbbfa\">\n",
              "    <div class=\"colab-df-container\">\n",
              "      <div>\n",
              "<style scoped>\n",
              "    .dataframe tbody tr th:only-of-type {\n",
              "        vertical-align: middle;\n",
              "    }\n",
              "\n",
              "    .dataframe tbody tr th {\n",
              "        vertical-align: top;\n",
              "    }\n",
              "\n",
              "    .dataframe thead th {\n",
              "        text-align: right;\n",
              "    }\n",
              "</style>\n",
              "<table border=\"1\" class=\"dataframe\">\n",
              "  <thead>\n",
              "    <tr style=\"text-align: right;\">\n",
              "      <th></th>\n",
              "      <th>mean_fit_time</th>\n",
              "      <th>std_fit_time</th>\n",
              "      <th>mean_score_time</th>\n",
              "      <th>std_score_time</th>\n",
              "      <th>param_alpha</th>\n",
              "      <th>params</th>\n",
              "      <th>split0_test_score</th>\n",
              "      <th>split1_test_score</th>\n",
              "      <th>split2_test_score</th>\n",
              "      <th>split3_test_score</th>\n",
              "      <th>split4_test_score</th>\n",
              "      <th>split5_test_score</th>\n",
              "      <th>split6_test_score</th>\n",
              "      <th>split7_test_score</th>\n",
              "      <th>split8_test_score</th>\n",
              "      <th>split9_test_score</th>\n",
              "      <th>mean_test_score</th>\n",
              "      <th>std_test_score</th>\n",
              "      <th>rank_test_score</th>\n",
              "    </tr>\n",
              "  </thead>\n",
              "  <tbody>\n",
              "    <tr>\n",
              "      <th>0</th>\n",
              "      <td>0.001415</td>\n",
              "      <td>0.001123</td>\n",
              "      <td>0.000415</td>\n",
              "      <td>0.000145</td>\n",
              "      <td>0.001</td>\n",
              "      <td>{'alpha': 0.001}</td>\n",
              "      <td>-0.715609</td>\n",
              "      <td>-0.782622</td>\n",
              "      <td>-0.513120</td>\n",
              "      <td>-0.709739</td>\n",
              "      <td>-0.671947</td>\n",
              "      <td>-0.745460</td>\n",
              "      <td>-0.740166</td>\n",
              "      <td>-0.721761</td>\n",
              "      <td>-0.553216</td>\n",
              "      <td>-0.766586</td>\n",
              "      <td>-0.692023</td>\n",
              "      <td>0.085072</td>\n",
              "      <td>4</td>\n",
              "    </tr>\n",
              "    <tr>\n",
              "      <th>1</th>\n",
              "      <td>0.000700</td>\n",
              "      <td>0.000037</td>\n",
              "      <td>0.000314</td>\n",
              "      <td>0.000013</td>\n",
              "      <td>0.01</td>\n",
              "      <td>{'alpha': 0.01}</td>\n",
              "      <td>-0.715609</td>\n",
              "      <td>-0.782618</td>\n",
              "      <td>-0.513118</td>\n",
              "      <td>-0.709746</td>\n",
              "      <td>-0.671946</td>\n",
              "      <td>-0.745448</td>\n",
              "      <td>-0.740175</td>\n",
              "      <td>-0.721767</td>\n",
              "      <td>-0.553207</td>\n",
              "      <td>-0.766583</td>\n",
              "      <td>-0.692022</td>\n",
              "      <td>0.085073</td>\n",
              "      <td>3</td>\n",
              "    </tr>\n",
              "    <tr>\n",
              "      <th>2</th>\n",
              "      <td>0.000769</td>\n",
              "      <td>0.000147</td>\n",
              "      <td>0.000397</td>\n",
              "      <td>0.000160</td>\n",
              "      <td>0.1</td>\n",
              "      <td>{'alpha': 0.1}</td>\n",
              "      <td>-0.715614</td>\n",
              "      <td>-0.782573</td>\n",
              "      <td>-0.513099</td>\n",
              "      <td>-0.709810</td>\n",
              "      <td>-0.671934</td>\n",
              "      <td>-0.745325</td>\n",
              "      <td>-0.740269</td>\n",
              "      <td>-0.721824</td>\n",
              "      <td>-0.553114</td>\n",
              "      <td>-0.766553</td>\n",
              "      <td>-0.692012</td>\n",
              "      <td>0.085086</td>\n",
              "      <td>2</td>\n",
              "    </tr>\n",
              "    <tr>\n",
              "      <th>3</th>\n",
              "      <td>0.000736</td>\n",
              "      <td>0.000045</td>\n",
              "      <td>0.000307</td>\n",
              "      <td>0.000008</td>\n",
              "      <td>1</td>\n",
              "      <td>{'alpha': 1}</td>\n",
              "      <td>-0.715736</td>\n",
              "      <td>-0.782144</td>\n",
              "      <td>-0.512969</td>\n",
              "      <td>-0.710442</td>\n",
              "      <td>-0.671813</td>\n",
              "      <td>-0.744258</td>\n",
              "      <td>-0.741188</td>\n",
              "      <td>-0.722383</td>\n",
              "      <td>-0.552202</td>\n",
              "      <td>-0.766251</td>\n",
              "      <td>-0.691938</td>\n",
              "      <td>0.085217</td>\n",
              "      <td>1</td>\n",
              "    </tr>\n",
              "    <tr>\n",
              "      <th>4</th>\n",
              "      <td>0.000738</td>\n",
              "      <td>0.000062</td>\n",
              "      <td>0.000336</td>\n",
              "      <td>0.000056</td>\n",
              "      <td>10</td>\n",
              "      <td>{'alpha': 10}</td>\n",
              "      <td>-0.717543</td>\n",
              "      <td>-0.782984</td>\n",
              "      <td>-0.515417</td>\n",
              "      <td>-0.716656</td>\n",
              "      <td>-0.672512</td>\n",
              "      <td>-0.737993</td>\n",
              "      <td>-0.750711</td>\n",
              "      <td>-0.729155</td>\n",
              "      <td>-0.551839</td>\n",
              "      <td>-0.763437</td>\n",
              "      <td>-0.693825</td>\n",
              "      <td>0.085298</td>\n",
              "      <td>5</td>\n",
              "    </tr>\n",
              "    <tr>\n",
              "      <th>5</th>\n",
              "      <td>0.000700</td>\n",
              "      <td>0.000017</td>\n",
              "      <td>0.000318</td>\n",
              "      <td>0.000028</td>\n",
              "      <td>100</td>\n",
              "      <td>{'alpha': 100}</td>\n",
              "      <td>-0.758326</td>\n",
              "      <td>-0.821331</td>\n",
              "      <td>-0.555167</td>\n",
              "      <td>-0.752998</td>\n",
              "      <td>-0.690008</td>\n",
              "      <td>-0.739941</td>\n",
              "      <td>-0.810786</td>\n",
              "      <td>-0.764759</td>\n",
              "      <td>-0.593273</td>\n",
              "      <td>-0.763525</td>\n",
              "      <td>-0.725011</td>\n",
              "      <td>0.083211</td>\n",
              "      <td>6</td>\n",
              "    </tr>\n",
              "    <tr>\n",
              "      <th>6</th>\n",
              "      <td>0.000691</td>\n",
              "      <td>0.000014</td>\n",
              "      <td>0.000305</td>\n",
              "      <td>0.000012</td>\n",
              "      <td>1000</td>\n",
              "      <td>{'alpha': 1000}</td>\n",
              "      <td>-0.950001</td>\n",
              "      <td>-0.956960</td>\n",
              "      <td>-0.737420</td>\n",
              "      <td>-0.912127</td>\n",
              "      <td>-0.797363</td>\n",
              "      <td>-0.827099</td>\n",
              "      <td>-0.889342</td>\n",
              "      <td>-0.873763</td>\n",
              "      <td>-0.730945</td>\n",
              "      <td>-0.844189</td>\n",
              "      <td>-0.851921</td>\n",
              "      <td>0.075864</td>\n",
              "      <td>7</td>\n",
              "    </tr>\n",
              "  </tbody>\n",
              "</table>\n",
              "</div>\n",
              "      <button class=\"colab-df-convert\" onclick=\"convertToInteractive('df-a9fc5e53-3c9d-418d-b2d0-6aef803dbbfa')\"\n",
              "              title=\"Convert this dataframe to an interactive table.\"\n",
              "              style=\"display:none;\">\n",
              "        \n",
              "  <svg xmlns=\"http://www.w3.org/2000/svg\" height=\"24px\"viewBox=\"0 0 24 24\"\n",
              "       width=\"24px\">\n",
              "    <path d=\"M0 0h24v24H0V0z\" fill=\"none\"/>\n",
              "    <path d=\"M18.56 5.44l.94 2.06.94-2.06 2.06-.94-2.06-.94-.94-2.06-.94 2.06-2.06.94zm-11 1L8.5 8.5l.94-2.06 2.06-.94-2.06-.94L8.5 2.5l-.94 2.06-2.06.94zm10 10l.94 2.06.94-2.06 2.06-.94-2.06-.94-.94-2.06-.94 2.06-2.06.94z\"/><path d=\"M17.41 7.96l-1.37-1.37c-.4-.4-.92-.59-1.43-.59-.52 0-1.04.2-1.43.59L10.3 9.45l-7.72 7.72c-.78.78-.78 2.05 0 2.83L4 21.41c.39.39.9.59 1.41.59.51 0 1.02-.2 1.41-.59l7.78-7.78 2.81-2.81c.8-.78.8-2.07 0-2.86zM5.41 20L4 18.59l7.72-7.72 1.47 1.35L5.41 20z\"/>\n",
              "  </svg>\n",
              "      </button>\n",
              "      \n",
              "  <style>\n",
              "    .colab-df-container {\n",
              "      display:flex;\n",
              "      flex-wrap:wrap;\n",
              "      gap: 12px;\n",
              "    }\n",
              "\n",
              "    .colab-df-convert {\n",
              "      background-color: #E8F0FE;\n",
              "      border: none;\n",
              "      border-radius: 50%;\n",
              "      cursor: pointer;\n",
              "      display: none;\n",
              "      fill: #1967D2;\n",
              "      height: 32px;\n",
              "      padding: 0 0 0 0;\n",
              "      width: 32px;\n",
              "    }\n",
              "\n",
              "    .colab-df-convert:hover {\n",
              "      background-color: #E2EBFA;\n",
              "      box-shadow: 0px 1px 2px rgba(60, 64, 67, 0.3), 0px 1px 3px 1px rgba(60, 64, 67, 0.15);\n",
              "      fill: #174EA6;\n",
              "    }\n",
              "\n",
              "    [theme=dark] .colab-df-convert {\n",
              "      background-color: #3B4455;\n",
              "      fill: #D2E3FC;\n",
              "    }\n",
              "\n",
              "    [theme=dark] .colab-df-convert:hover {\n",
              "      background-color: #434B5C;\n",
              "      box-shadow: 0px 1px 3px 1px rgba(0, 0, 0, 0.15);\n",
              "      filter: drop-shadow(0px 1px 2px rgba(0, 0, 0, 0.3));\n",
              "      fill: #FFFFFF;\n",
              "    }\n",
              "  </style>\n",
              "\n",
              "      <script>\n",
              "        const buttonEl =\n",
              "          document.querySelector('#df-a9fc5e53-3c9d-418d-b2d0-6aef803dbbfa button.colab-df-convert');\n",
              "        buttonEl.style.display =\n",
              "          google.colab.kernel.accessAllowed ? 'block' : 'none';\n",
              "\n",
              "        async function convertToInteractive(key) {\n",
              "          const element = document.querySelector('#df-a9fc5e53-3c9d-418d-b2d0-6aef803dbbfa');\n",
              "          const dataTable =\n",
              "            await google.colab.kernel.invokeFunction('convertToInteractive',\n",
              "                                                     [key], {});\n",
              "          if (!dataTable) return;\n",
              "\n",
              "          const docLinkHtml = 'Like what you see? Visit the ' +\n",
              "            '<a target=\"_blank\" href=https://colab.research.google.com/notebooks/data_table.ipynb>data table notebook</a>'\n",
              "            + ' to learn more about interactive tables.';\n",
              "          element.innerHTML = '';\n",
              "          dataTable['output_type'] = 'display_data';\n",
              "          await google.colab.output.renderOutput(dataTable, element);\n",
              "          const docLink = document.createElement('div');\n",
              "          docLink.innerHTML = docLinkHtml;\n",
              "          element.appendChild(docLink);\n",
              "        }\n",
              "      </script>\n",
              "    </div>\n",
              "  </div>\n",
              "  "
            ]
          },
          "metadata": {},
          "execution_count": 13
        }
      ],
      "source": [
        "# inspect the full cross validation results\n",
        "pd.DataFrame(mdl_cv.cv_results_)"
      ]
    },
    {
      "cell_type": "markdown",
      "metadata": {
        "id": "HxIZHgeWkgfX"
      },
      "source": [
        "#### 3.1 Example 2: Tuning $\\alpha$ and ``n_knots`` in for B-splines"
      ]
    },
    {
      "cell_type": "code",
      "execution_count": null,
      "metadata": {
        "colab": {
          "base_uri": "https://localhost:8080/",
          "height": 187
        },
        "id": "5No_J47LkgfX",
        "outputId": "c3b720bc-7cc4-4bf6-b36e-e3ccc3e0aa81"
      },
      "outputs": [
        {
          "output_type": "execute_result",
          "data": {
            "text/plain": [
              "GridSearchCV(cv=10,\n",
              "             estimator=Pipeline(steps=[('standardscaler', StandardScaler()),\n",
              "                                       ('splinetransformer',\n",
              "                                        SplineTransformer(degree=2,\n",
              "                                                          knots='quantile')),\n",
              "                                       ('ridge', Ridge())]),\n",
              "             param_grid={'ridge__alpha': [0.01, 0.1, 1, 10, 100, 1000],\n",
              "                         'splinetransformer__n_knots': [2, 4, 6, 8, 10, 12]},\n",
              "             scoring='neg_mean_absolute_error')"
            ],
            "text/html": [
              "<style>#sk-container-id-2 {color: black;background-color: white;}#sk-container-id-2 pre{padding: 0;}#sk-container-id-2 div.sk-toggleable {background-color: white;}#sk-container-id-2 label.sk-toggleable__label {cursor: pointer;display: block;width: 100%;margin-bottom: 0;padding: 0.3em;box-sizing: border-box;text-align: center;}#sk-container-id-2 label.sk-toggleable__label-arrow:before {content: \"▸\";float: left;margin-right: 0.25em;color: #696969;}#sk-container-id-2 label.sk-toggleable__label-arrow:hover:before {color: black;}#sk-container-id-2 div.sk-estimator:hover label.sk-toggleable__label-arrow:before {color: black;}#sk-container-id-2 div.sk-toggleable__content {max-height: 0;max-width: 0;overflow: hidden;text-align: left;background-color: #f0f8ff;}#sk-container-id-2 div.sk-toggleable__content pre {margin: 0.2em;color: black;border-radius: 0.25em;background-color: #f0f8ff;}#sk-container-id-2 input.sk-toggleable__control:checked~div.sk-toggleable__content {max-height: 200px;max-width: 100%;overflow: auto;}#sk-container-id-2 input.sk-toggleable__control:checked~label.sk-toggleable__label-arrow:before {content: \"▾\";}#sk-container-id-2 div.sk-estimator input.sk-toggleable__control:checked~label.sk-toggleable__label {background-color: #d4ebff;}#sk-container-id-2 div.sk-label input.sk-toggleable__control:checked~label.sk-toggleable__label {background-color: #d4ebff;}#sk-container-id-2 input.sk-hidden--visually {border: 0;clip: rect(1px 1px 1px 1px);clip: rect(1px, 1px, 1px, 1px);height: 1px;margin: -1px;overflow: hidden;padding: 0;position: absolute;width: 1px;}#sk-container-id-2 div.sk-estimator {font-family: monospace;background-color: #f0f8ff;border: 1px dotted black;border-radius: 0.25em;box-sizing: border-box;margin-bottom: 0.5em;}#sk-container-id-2 div.sk-estimator:hover {background-color: #d4ebff;}#sk-container-id-2 div.sk-parallel-item::after {content: \"\";width: 100%;border-bottom: 1px solid gray;flex-grow: 1;}#sk-container-id-2 div.sk-label:hover label.sk-toggleable__label {background-color: #d4ebff;}#sk-container-id-2 div.sk-serial::before {content: \"\";position: absolute;border-left: 1px solid gray;box-sizing: border-box;top: 0;bottom: 0;left: 50%;z-index: 0;}#sk-container-id-2 div.sk-serial {display: flex;flex-direction: column;align-items: center;background-color: white;padding-right: 0.2em;padding-left: 0.2em;position: relative;}#sk-container-id-2 div.sk-item {position: relative;z-index: 1;}#sk-container-id-2 div.sk-parallel {display: flex;align-items: stretch;justify-content: center;background-color: white;position: relative;}#sk-container-id-2 div.sk-item::before, #sk-container-id-2 div.sk-parallel-item::before {content: \"\";position: absolute;border-left: 1px solid gray;box-sizing: border-box;top: 0;bottom: 0;left: 50%;z-index: -1;}#sk-container-id-2 div.sk-parallel-item {display: flex;flex-direction: column;z-index: 1;position: relative;background-color: white;}#sk-container-id-2 div.sk-parallel-item:first-child::after {align-self: flex-end;width: 50%;}#sk-container-id-2 div.sk-parallel-item:last-child::after {align-self: flex-start;width: 50%;}#sk-container-id-2 div.sk-parallel-item:only-child::after {width: 0;}#sk-container-id-2 div.sk-dashed-wrapped {border: 1px dashed gray;margin: 0 0.4em 0.5em 0.4em;box-sizing: border-box;padding-bottom: 0.4em;background-color: white;}#sk-container-id-2 div.sk-label label {font-family: monospace;font-weight: bold;display: inline-block;line-height: 1.2em;}#sk-container-id-2 div.sk-label-container {text-align: center;}#sk-container-id-2 div.sk-container {/* jupyter's `normalize.less` sets `[hidden] { display: none; }` but bootstrap.min.css set `[hidden] { display: none !important; }` so we also need the `!important` here to be able to override the default hidden behavior on the sphinx rendered scikit-learn.org. See: https://github.com/scikit-learn/scikit-learn/issues/21755 */display: inline-block !important;position: relative;}#sk-container-id-2 div.sk-text-repr-fallback {display: none;}</style><div id=\"sk-container-id-2\" class=\"sk-top-container\"><div class=\"sk-text-repr-fallback\"><pre>GridSearchCV(cv=10,\n",
              "             estimator=Pipeline(steps=[(&#x27;standardscaler&#x27;, StandardScaler()),\n",
              "                                       (&#x27;splinetransformer&#x27;,\n",
              "                                        SplineTransformer(degree=2,\n",
              "                                                          knots=&#x27;quantile&#x27;)),\n",
              "                                       (&#x27;ridge&#x27;, Ridge())]),\n",
              "             param_grid={&#x27;ridge__alpha&#x27;: [0.01, 0.1, 1, 10, 100, 1000],\n",
              "                         &#x27;splinetransformer__n_knots&#x27;: [2, 4, 6, 8, 10, 12]},\n",
              "             scoring=&#x27;neg_mean_absolute_error&#x27;)</pre><b>In a Jupyter environment, please rerun this cell to show the HTML representation or trust the notebook. <br />On GitHub, the HTML representation is unable to render, please try loading this page with nbviewer.org.</b></div><div class=\"sk-container\" hidden><div class=\"sk-item sk-dashed-wrapped\"><div class=\"sk-label-container\"><div class=\"sk-label sk-toggleable\"><input class=\"sk-toggleable__control sk-hidden--visually\" id=\"sk-estimator-id-4\" type=\"checkbox\" ><label for=\"sk-estimator-id-4\" class=\"sk-toggleable__label sk-toggleable__label-arrow\">GridSearchCV</label><div class=\"sk-toggleable__content\"><pre>GridSearchCV(cv=10,\n",
              "             estimator=Pipeline(steps=[(&#x27;standardscaler&#x27;, StandardScaler()),\n",
              "                                       (&#x27;splinetransformer&#x27;,\n",
              "                                        SplineTransformer(degree=2,\n",
              "                                                          knots=&#x27;quantile&#x27;)),\n",
              "                                       (&#x27;ridge&#x27;, Ridge())]),\n",
              "             param_grid={&#x27;ridge__alpha&#x27;: [0.01, 0.1, 1, 10, 100, 1000],\n",
              "                         &#x27;splinetransformer__n_knots&#x27;: [2, 4, 6, 8, 10, 12]},\n",
              "             scoring=&#x27;neg_mean_absolute_error&#x27;)</pre></div></div></div><div class=\"sk-parallel\"><div class=\"sk-parallel-item\"><div class=\"sk-item\"><div class=\"sk-label-container\"><div class=\"sk-label sk-toggleable\"><input class=\"sk-toggleable__control sk-hidden--visually\" id=\"sk-estimator-id-5\" type=\"checkbox\" ><label for=\"sk-estimator-id-5\" class=\"sk-toggleable__label sk-toggleable__label-arrow\">estimator: Pipeline</label><div class=\"sk-toggleable__content\"><pre>Pipeline(steps=[(&#x27;standardscaler&#x27;, StandardScaler()),\n",
              "                (&#x27;splinetransformer&#x27;,\n",
              "                 SplineTransformer(degree=2, knots=&#x27;quantile&#x27;)),\n",
              "                (&#x27;ridge&#x27;, Ridge())])</pre></div></div></div><div class=\"sk-serial\"><div class=\"sk-item\"><div class=\"sk-serial\"><div class=\"sk-item\"><div class=\"sk-estimator sk-toggleable\"><input class=\"sk-toggleable__control sk-hidden--visually\" id=\"sk-estimator-id-6\" type=\"checkbox\" ><label for=\"sk-estimator-id-6\" class=\"sk-toggleable__label sk-toggleable__label-arrow\">StandardScaler</label><div class=\"sk-toggleable__content\"><pre>StandardScaler()</pre></div></div></div><div class=\"sk-item\"><div class=\"sk-estimator sk-toggleable\"><input class=\"sk-toggleable__control sk-hidden--visually\" id=\"sk-estimator-id-7\" type=\"checkbox\" ><label for=\"sk-estimator-id-7\" class=\"sk-toggleable__label sk-toggleable__label-arrow\">SplineTransformer</label><div class=\"sk-toggleable__content\"><pre>SplineTransformer(degree=2, knots=&#x27;quantile&#x27;)</pre></div></div></div><div class=\"sk-item\"><div class=\"sk-estimator sk-toggleable\"><input class=\"sk-toggleable__control sk-hidden--visually\" id=\"sk-estimator-id-8\" type=\"checkbox\" ><label for=\"sk-estimator-id-8\" class=\"sk-toggleable__label sk-toggleable__label-arrow\">Ridge</label><div class=\"sk-toggleable__content\"><pre>Ridge()</pre></div></div></div></div></div></div></div></div></div></div></div></div>"
            ]
          },
          "metadata": {},
          "execution_count": 14
        }
      ],
      "source": [
        "# make a pipeline\n",
        "mdl = make_pipeline(StandardScaler(),\n",
        "                    SplineTransformer(degree=2, n_knots=5, knots='quantile'),\n",
        "                    Ridge())\n",
        "\n",
        "# define grid of parameters\n",
        "# small notes: \n",
        "#      * ridge__  refers to the ridge regressor in the pipeline (we cannot just use alpha as the\n",
        "#               ridge regressor is embeddid in a pipelin)\n",
        "#      * splinetransformer__  refers to the spline transformer in the same way, the convention is\n",
        "#                             to use the class-names of the elements of the pipeline in lowercase\n",
        "                             \n",
        "param_grid = {'ridge__alpha': [0.01, 0.1, 1, 10, 100, 1000],\n",
        "              'splinetransformer__n_knots': [2, 4, 6, 8, 10, 12]}\n",
        "\n",
        "# create GridSearchCV object\n",
        "mdl_cv = GridSearchCV(mdl,               # model object (in this case the pipeline)\n",
        "                      param_grid,        # parameter grid\n",
        "                      cv = 10,           # number of folds\n",
        "                      scoring = 'neg_mean_absolute_error')  # criterion used to select best model\n",
        "\n",
        "# perform grid search (after the grid search, mdl_cv.predict(X) will predict using best model)\n",
        "mdl_cv.fit(X_train, y_train)"
      ]
    },
    {
      "cell_type": "code",
      "execution_count": null,
      "metadata": {
        "colab": {
          "base_uri": "https://localhost:8080/"
        },
        "id": "GTWnXBBUkgfX",
        "outputId": "01a26294-55b4-4efa-d9b8-d8a5fa5bcb7f"
      },
      "outputs": [
        {
          "output_type": "execute_result",
          "data": {
            "text/plain": [
              "{'ridge__alpha': 1, 'splinetransformer__n_knots': 8}"
            ]
          },
          "metadata": {},
          "execution_count": 15
        }
      ],
      "source": [
        "# look at the best parameters\n",
        "mdl_cv.best_params_"
      ]
    },
    {
      "cell_type": "markdown",
      "metadata": {
        "id": "LvnvDDqEkgfY"
      },
      "source": [
        "**EXERCISE**: Implement a full-fledged model selection procedure to build a model that is capable of predicting the price of a car (data available in ``car_price_nice.csv``) using:\n",
        "-  Lasso regression on a B-spline basis;\n",
        "-  Cross validation to tune the *number of knots*, the *degree* and *alpha*; \n",
        "\n",
        "Test the performance (MAE) on the test set."
      ]
    },
    {
      "cell_type": "code",
      "execution_count": null,
      "metadata": {
        "id": "KL8dz9f1kgfY"
      },
      "outputs": [],
      "source": [
        "# step 1: load data\n",
        "fname = \"car_price_nice.csv\"\n",
        "qsar_df = pd.read_csv(fname, sep=\",\", header = None)\n",
        "\n",
        "# extract X and y as two numpy arrays\n",
        "X = qsar_df.iloc[:,0:64].to_numpy()  \n",
        "y = qsar_df.iloc[:,64].to_numpy()\n",
        "\n",
        "# split train and test data\n",
        "X_train, X_test, y_train, y_test = train_test_split(X, y, test_size = 40, random_state=1)"
      ]
    },
    {
      "cell_type": "code",
      "source": [
        "# step 2 :make pipeline and do grid search\n",
        "\n",
        "# make a pipeline\n",
        "mdl = make_pipeline(StandardScaler(),\n",
        "                    SplineTransformer(degree=2, n_knots=5, knots='quantile'),\n",
        "                    Lasso())\n",
        "                             \n",
        "param_grid = {'lasso__alpha': [0.01, 0.1, 1, 10, 100, 1000],\n",
        "              'splinetransformer__n_knots': [2, 4, 6, 8, 10, 12],\n",
        "              'splinetransformer__degree' : [2, 3, 4, 5]}\n",
        "\n",
        "# create GridSearchCV object\n",
        "mdl_cv = GridSearchCV(mdl,               # model object (in this case the pipeline)\n",
        "                      param_grid,        # parameter grid\n",
        "                      cv = 10,           # number of folds\n",
        "                      scoring = 'neg_mean_absolute_error')  # criterion used to select best model\n",
        "\n",
        "# perform grid search (after the grid search, mdl_cv.predict(X) will predict using best model)\n",
        "mdl_cv.fit(X_train, y_train)\n"
      ],
      "metadata": {
        "id": "XqJDaZHI2i4U"
      },
      "execution_count": null,
      "outputs": []
    },
    {
      "cell_type": "code",
      "source": [
        "mdl_cv.best_params_"
      ],
      "metadata": {
        "colab": {
          "base_uri": "https://localhost:8080/"
        },
        "id": "AjL8tvNB377A",
        "outputId": "cc64b533-261b-44d7-f84f-e6409f6c096c"
      },
      "execution_count": null,
      "outputs": [
        {
          "output_type": "execute_result",
          "data": {
            "text/plain": [
              "{'lasso__alpha': 1,\n",
              " 'splinetransformer__degree': 5,\n",
              " 'splinetransformer__n_knots': 2}"
            ]
          },
          "metadata": {},
          "execution_count": 26
        }
      ]
    },
    {
      "cell_type": "code",
      "source": [
        "np.mean(np.abs(mdl_cv.predict(X_test) - y_test))\n",
        "\n",
        "plt.plot(mdl_cv.predict(X_test), y_test, '*')"
      ],
      "metadata": {
        "colab": {
          "base_uri": "https://localhost:8080/",
          "height": 447
        },
        "id": "Yr1l9rpi4O0J",
        "outputId": "f5711a3a-899a-42cb-b4ca-c7fa3b10ec3c"
      },
      "execution_count": null,
      "outputs": [
        {
          "output_type": "execute_result",
          "data": {
            "text/plain": [
              "[<matplotlib.lines.Line2D at 0x7fe2cee1b1f0>]"
            ]
          },
          "metadata": {},
          "execution_count": 29
        },
        {
          "output_type": "display_data",
          "data": {
            "text/plain": [
              "<Figure size 640x480 with 1 Axes>"
            ],
            "image/png": "[encoded data removed]"
          },
          "metadata": {}
        }
      ]
    },
    {
      "cell_type": "markdown",
      "metadata": {
        "id": "Ta8TUTkTkgfY"
      },
      "source": [
        "## 3. Kernel methods\n",
        "\n",
        "Kernel-based methods use the Kernel-trick to efficiently fit models in (very) high-dimensional feature spaces. The kernel defines the type of feature space to use. The space can use a polynomial basis, spline basis, radial basis, ... . Once a kernel function is selected, the regularized loss can be minimized. The model $f$ is now parameterized using $n+1$ parameters:\n",
        "\n",
        "$$ f(\\mathbf{x}) = \\beta_0 +  \\sum_{i = 1}^n \\alpha_i \\, \\kappa(\\mathbf{x}, \\mathbf{x}_{i}) $$\n",
        "\n",
        "These parameters are estimated by minimizing the following loss function:\n",
        "\n",
        "$$ L_{\\text{ridge}}(\\beta_0, \\alpha_1, \\ldots, \\alpha_n) = \\sum_{i=1}^n (y_i - f(\\mathbf{x}_i))^2  + \\lambda \\sum_{i=1}^n \\sum_{j=1}^n \\alpha_i \\alpha_j \\kappa(\\mathbf{x}_i, \\mathbf{x}_{j}) $$\n",
        "\n",
        "\n",
        "This estimation procedure is implemented by the class ``KernelRidge``. This class can accept a series of default kernels, an overview of built-in kernels can be found in ``pairwise.PAIRWISE_KERNEL_FUNCTIONS``. User-defined kernels can also be provided.\n"
      ]
    },
    {
      "cell_type": "code",
      "execution_count": null,
      "metadata": {
        "id": "yHNj8yaHkgfY",
        "outputId": "1d3c62c7-7f19-47e9-8bbd-c9920fe7f8f4"
      },
      "outputs": [
        {
          "data": {
            "text/plain": [
              "{'additive_chi2': <function sklearn.metrics.pairwise.additive_chi2_kernel(X, Y=None)>,\n",
              " 'chi2': <function sklearn.metrics.pairwise.chi2_kernel(X, Y=None, gamma=1.0)>,\n",
              " 'linear': <function sklearn.metrics.pairwise.linear_kernel(X, Y=None, dense_output=True)>,\n",
              " 'polynomial': <function sklearn.metrics.pairwise.polynomial_kernel(X, Y=None, degree=3, gamma=None, coef0=1)>,\n",
              " 'poly': <function sklearn.metrics.pairwise.polynomial_kernel(X, Y=None, degree=3, gamma=None, coef0=1)>,\n",
              " 'rbf': <function sklearn.metrics.pairwise.rbf_kernel(X, Y=None, gamma=None)>,\n",
              " 'laplacian': <function sklearn.metrics.pairwise.laplacian_kernel(X, Y=None, gamma=None)>,\n",
              " 'sigmoid': <function sklearn.metrics.pairwise.sigmoid_kernel(X, Y=None, gamma=None, coef0=1)>,\n",
              " 'cosine': <function sklearn.metrics.pairwise.cosine_similarity(X, Y=None, dense_output=True)>}"
            ]
          },
          "execution_count": 24,
          "metadata": {},
          "output_type": "execute_result"
        }
      ],
      "source": [
        "pairwise.PAIRWISE_KERNEL_FUNCTIONS"
      ]
    },
    {
      "cell_type": "markdown",
      "metadata": {
        "id": "GK5iytSIkgfY"
      },
      "source": [
        "**STEP 1**: Load and standardize the data"
      ]
    },
    {
      "cell_type": "code",
      "execution_count": null,
      "metadata": {
        "id": "v7q8ztpgkgfY"
      },
      "outputs": [],
      "source": [
        "# see above for dataloading, we assume that all have been scaled and\n",
        "# X_train, X_test, y_train, y_test are available in memory"
      ]
    },
    {
      "cell_type": "markdown",
      "metadata": {
        "id": "H3agg9lnkgfZ"
      },
      "source": [
        "**STEP 2**: define, fit and predict\n",
        "\n",
        "Note that every kernel comes with some parameters. For a polynomial kernel, the kernel function is:\n",
        "\n",
        "$$ \\kappa(\\mathbf{x}, \\mathbf{x}') = (\\text{\\texttt{gamma }} \\langle \\mathbf{x}, \\mathbf{x}' \\rangle, + \\text{\\texttt{coef0}})^{\\text{\\texttt{degree}}} $$\n",
        "\n",
        "where ``gamma = 1/n`` is a reasonable default, the degree determines the order of the polynomial basis and should be tuned (typically using a grid search over ``[1, 2, 3]``) and ``coef0 = 1`` is also a reasonable default."
      ]
    },
    {
      "cell_type": "code",
      "execution_count": null,
      "metadata": {
        "id": "HPddakRakgfZ"
      },
      "outputs": [],
      "source": [
        "# create model object\n",
        "mdl = KernelRidge(alpha = 0.1,      # note that alpha is the regularization parameter here (delta in the formula)\n",
        "                  kernel = \"poly\",\n",
        "                  degree = 2)\n",
        "\n",
        "# fit model\n",
        "mdl.fit(X_train, y_train)\n",
        "\n",
        "# make predictions\n",
        "mdl.predict(X_test)"
      ]
    },
    {
      "cell_type": "markdown",
      "metadata": {
        "id": "u9_1ZK0skgfZ"
      },
      "source": [
        "**EXERCISE**: The RBF-kernel is one of the most popular kernels used in practice. A ridge regression model with and RBF kernel is a *univeral approximator* which means that these models can approximate any function with arbitrary precision (as opposed to polynomial models wich, naturally, only can model polynomial functions). This kernelis of the form:\n",
        "\n",
        "$$ \\kappa(\\mathbf{x}, \\mathbf{x}') = e^{- \\text{\\texttt{gamma }} \\sum_{j = 1}^p (x_j - x'_j)^2 }  $$\n",
        "\n",
        "where ``gamma`` is a kernel parameter that is related to the length scale ($1/\\gamma^2$) large values for ``gamma`` allow the model to vary quickly whereas smaller values for ``gamma`` will lead to less variable approximations. This parameter is typically tuned along with the regularization parameter. The default is to set it equal to $1/n$ (which is often a reasonable choice).\n",
        "\n",
        "- Use an RBF-kernel to predict car-prices using the ``car_price_nice.csv`` dataset.\n",
        "- Tune ``gamma`` over the range (0.0001, 0.001, 0.01, 0.1, 1, 10, 100) and regularization parameter $\\alpha$ using a grid search \n"
      ]
    },
    {
      "cell_type": "code",
      "execution_count": null,
      "metadata": {
        "id": "0-ljP6C1kgfZ"
      },
      "outputs": [],
      "source": [
        "# step 1: load data\n",
        "fname = \"car_price_nice.csv\"\n",
        "qsar_df = pd.read_csv(fname, sep=\",\", header = None)\n",
        "\n",
        "# extract X and y as two numpy arrays\n",
        "X = qsar_df.iloc[:,0:64].to_numpy()  \n",
        "y = qsar_df.iloc[:,64].to_numpy()\n",
        "\n",
        "# split train and test data\n",
        "X_train, X_test, y_train, y_test = train_test_split(X, y, test_size = 40, random_state=1)"
      ]
    },
    {
      "cell_type": "code",
      "source": [
        "# make a pipeline\n",
        "mdl = make_pipeline(StandardScaler(),\n",
        "                    KernelRidge(kernel = \"rbf\"))\n",
        "                             \n",
        "param_grid = {'kernelridge__alpha': [0.01, 0.1, 1, 10, 100, 1000],\n",
        "              'kernelridge__gamma': [0.01, 0.1, 1, 10, 100, 1000]}\n",
        "\n",
        "# create GridSearchCV object\n",
        "mdl_cv = GridSearchCV(mdl,               # model object (in this case the pipeline)\n",
        "                      param_grid,        # parameter grid\n",
        "                      cv = 10,           # number of folds\n",
        "                      scoring = 'neg_mean_absolute_error')  # criterion used to select best model\n",
        "\n",
        "# perform grid search (after the grid search, mdl_cv.predict(X) will predict using best model)\n",
        "mdl_cv.fit(X_train, y_train)"
      ],
      "metadata": {
        "colab": {
          "base_uri": "https://localhost:8080/",
          "height": 153
        },
        "id": "8EOGt1pLBSvM",
        "outputId": "398261ec-8aeb-4ac4-d3e3-7dd6bf9ac666"
      },
      "execution_count": null,
      "outputs": [
        {
          "output_type": "execute_result",
          "data": {
            "text/plain": [
              "GridSearchCV(cv=10,\n",
              "             estimator=Pipeline(steps=[('standardscaler', StandardScaler()),\n",
              "                                       ('kernelridge',\n",
              "                                        KernelRidge(kernel='rbf'))]),\n",
              "             param_grid={'kernelridge__alpha': [0.01, 0.1, 1, 10, 100, 1000],\n",
              "                         'kernelridge__gamma': [0.01, 0.1, 1, 10, 100, 1000]},\n",
              "             scoring='neg_mean_absolute_error')"
            ],
            "text/html": [
              "<style>#sk-container-id-4 {color: black;background-color: white;}#sk-container-id-4 pre{padding: 0;}#sk-container-id-4 div.sk-toggleable {background-color: white;}#sk-container-id-4 label.sk-toggleable__label {cursor: pointer;display: block;width: 100%;margin-bottom: 0;padding: 0.3em;box-sizing: border-box;text-align: center;}#sk-container-id-4 label.sk-toggleable__label-arrow:before {content: \"▸\";float: left;margin-right: 0.25em;color: #696969;}#sk-container-id-4 label.sk-toggleable__label-arrow:hover:before {color: black;}#sk-container-id-4 div.sk-estimator:hover label.sk-toggleable__label-arrow:before {color: black;}#sk-container-id-4 div.sk-toggleable__content {max-height: 0;max-width: 0;overflow: hidden;text-align: left;background-color: #f0f8ff;}#sk-container-id-4 div.sk-toggleable__content pre {margin: 0.2em;color: black;border-radius: 0.25em;background-color: #f0f8ff;}#sk-container-id-4 input.sk-toggleable__control:checked~div.sk-toggleable__content {max-height: 200px;max-width: 100%;overflow: auto;}#sk-container-id-4 input.sk-toggleable__control:checked~label.sk-toggleable__label-arrow:before {content: \"▾\";}#sk-container-id-4 div.sk-estimator input.sk-toggleable__control:checked~label.sk-toggleable__label {background-color: #d4ebff;}#sk-container-id-4 div.sk-label input.sk-toggleable__control:checked~label.sk-toggleable__label {background-color: #d4ebff;}#sk-container-id-4 input.sk-hidden--visually {border: 0;clip: rect(1px 1px 1px 1px);clip: rect(1px, 1px, 1px, 1px);height: 1px;margin: -1px;overflow: hidden;padding: 0;position: absolute;width: 1px;}#sk-container-id-4 div.sk-estimator {font-family: monospace;background-color: #f0f8ff;border: 1px dotted black;border-radius: 0.25em;box-sizing: border-box;margin-bottom: 0.5em;}#sk-container-id-4 div.sk-estimator:hover {background-color: #d4ebff;}#sk-container-id-4 div.sk-parallel-item::after {content: \"\";width: 100%;border-bottom: 1px solid gray;flex-grow: 1;}#sk-container-id-4 div.sk-label:hover label.sk-toggleable__label {background-color: #d4ebff;}#sk-container-id-4 div.sk-serial::before {content: \"\";position: absolute;border-left: 1px solid gray;box-sizing: border-box;top: 0;bottom: 0;left: 50%;z-index: 0;}#sk-container-id-4 div.sk-serial {display: flex;flex-direction: column;align-items: center;background-color: white;padding-right: 0.2em;padding-left: 0.2em;position: relative;}#sk-container-id-4 div.sk-item {position: relative;z-index: 1;}#sk-container-id-4 div.sk-parallel {display: flex;align-items: stretch;justify-content: center;background-color: white;position: relative;}#sk-container-id-4 div.sk-item::before, #sk-container-id-4 div.sk-parallel-item::before {content: \"\";position: absolute;border-left: 1px solid gray;box-sizing: border-box;top: 0;bottom: 0;left: 50%;z-index: -1;}#sk-container-id-4 div.sk-parallel-item {display: flex;flex-direction: column;z-index: 1;position: relative;background-color: white;}#sk-container-id-4 div.sk-parallel-item:first-child::after {align-self: flex-end;width: 50%;}#sk-container-id-4 div.sk-parallel-item:last-child::after {align-self: flex-start;width: 50%;}#sk-container-id-4 div.sk-parallel-item:only-child::after {width: 0;}#sk-container-id-4 div.sk-dashed-wrapped {border: 1px dashed gray;margin: 0 0.4em 0.5em 0.4em;box-sizing: border-box;padding-bottom: 0.4em;background-color: white;}#sk-container-id-4 div.sk-label label {font-family: monospace;font-weight: bold;display: inline-block;line-height: 1.2em;}#sk-container-id-4 div.sk-label-container {text-align: center;}#sk-container-id-4 div.sk-container {/* jupyter's `normalize.less` sets `[hidden] { display: none; }` but bootstrap.min.css set `[hidden] { display: none !important; }` so we also need the `!important` here to be able to override the default hidden behavior on the sphinx rendered scikit-learn.org. See: https://github.com/scikit-learn/scikit-learn/issues/21755 */display: inline-block !important;position: relative;}#sk-container-id-4 div.sk-text-repr-fallback {display: none;}</style><div id=\"sk-container-id-4\" class=\"sk-top-container\"><div class=\"sk-text-repr-fallback\"><pre>GridSearchCV(cv=10,\n",
              "             estimator=Pipeline(steps=[(&#x27;standardscaler&#x27;, StandardScaler()),\n",
              "                                       (&#x27;kernelridge&#x27;,\n",
              "                                        KernelRidge(kernel=&#x27;rbf&#x27;))]),\n",
              "             param_grid={&#x27;kernelridge__alpha&#x27;: [0.01, 0.1, 1, 10, 100, 1000],\n",
              "                         &#x27;kernelridge__gamma&#x27;: [0.01, 0.1, 1, 10, 100, 1000]},\n",
              "             scoring=&#x27;neg_mean_absolute_error&#x27;)</pre><b>In a Jupyter environment, please rerun this cell to show the HTML representation or trust the notebook. <br />On GitHub, the HTML representation is unable to render, please try loading this page with nbviewer.org.</b></div><div class=\"sk-container\" hidden><div class=\"sk-item sk-dashed-wrapped\"><div class=\"sk-label-container\"><div class=\"sk-label sk-toggleable\"><input class=\"sk-toggleable__control sk-hidden--visually\" id=\"sk-estimator-id-14\" type=\"checkbox\" ><label for=\"sk-estimator-id-14\" class=\"sk-toggleable__label sk-toggleable__label-arrow\">GridSearchCV</label><div class=\"sk-toggleable__content\"><pre>GridSearchCV(cv=10,\n",
              "             estimator=Pipeline(steps=[(&#x27;standardscaler&#x27;, StandardScaler()),\n",
              "                                       (&#x27;kernelridge&#x27;,\n",
              "                                        KernelRidge(kernel=&#x27;rbf&#x27;))]),\n",
              "             param_grid={&#x27;kernelridge__alpha&#x27;: [0.01, 0.1, 1, 10, 100, 1000],\n",
              "                         &#x27;kernelridge__gamma&#x27;: [0.01, 0.1, 1, 10, 100, 1000]},\n",
              "             scoring=&#x27;neg_mean_absolute_error&#x27;)</pre></div></div></div><div class=\"sk-parallel\"><div class=\"sk-parallel-item\"><div class=\"sk-item\"><div class=\"sk-label-container\"><div class=\"sk-label sk-toggleable\"><input class=\"sk-toggleable__control sk-hidden--visually\" id=\"sk-estimator-id-15\" type=\"checkbox\" ><label for=\"sk-estimator-id-15\" class=\"sk-toggleable__label sk-toggleable__label-arrow\">estimator: Pipeline</label><div class=\"sk-toggleable__content\"><pre>Pipeline(steps=[(&#x27;standardscaler&#x27;, StandardScaler()),\n",
              "                (&#x27;kernelridge&#x27;, KernelRidge(kernel=&#x27;rbf&#x27;))])</pre></div></div></div><div class=\"sk-serial\"><div class=\"sk-item\"><div class=\"sk-serial\"><div class=\"sk-item\"><div class=\"sk-estimator sk-toggleable\"><input class=\"sk-toggleable__control sk-hidden--visually\" id=\"sk-estimator-id-16\" type=\"checkbox\" ><label for=\"sk-estimator-id-16\" class=\"sk-toggleable__label sk-toggleable__label-arrow\">StandardScaler</label><div class=\"sk-toggleable__content\"><pre>StandardScaler()</pre></div></div></div><div class=\"sk-item\"><div class=\"sk-estimator sk-toggleable\"><input class=\"sk-toggleable__control sk-hidden--visually\" id=\"sk-estimator-id-17\" type=\"checkbox\" ><label for=\"sk-estimator-id-17\" class=\"sk-toggleable__label sk-toggleable__label-arrow\">KernelRidge</label><div class=\"sk-toggleable__content\"><pre>KernelRidge(kernel=&#x27;rbf&#x27;)</pre></div></div></div></div></div></div></div></div></div></div></div></div>"
            ]
          },
          "metadata": {},
          "execution_count": 34
        }
      ]
    },
    {
      "cell_type": "code",
      "source": [
        "mdl_cv.best_params_"
      ],
      "metadata": {
        "colab": {
          "base_uri": "https://localhost:8080/"
        },
        "id": "-NHAoxk_CF8r",
        "outputId": "6607eeae-ba33-45e7-b241-267deeff2171"
      },
      "execution_count": null,
      "outputs": [
        {
          "output_type": "execute_result",
          "data": {
            "text/plain": [
              "{'kernelridge__alpha': 0.1, 'kernelridge__gamma': 0.01}"
            ]
          },
          "metadata": {},
          "execution_count": 35
        }
      ]
    },
    {
      "cell_type": "code",
      "source": [
        "plt.plot(mdl_cv.predict(X_test), y_test, '*')"
      ],
      "metadata": {
        "colab": {
          "base_uri": "https://localhost:8080/",
          "height": 447
        },
        "id": "tJxf7EzdCOP1",
        "outputId": "0219e66f-a692-46c4-936c-3d94f9ef6a88"
      },
      "execution_count": null,
      "outputs": [
        {
          "output_type": "execute_result",
          "data": {
            "text/plain": [
              "[<matplotlib.lines.Line2D at 0x7fe2ced377f0>]"
            ]
          },
          "metadata": {},
          "execution_count": 36
        },
        {
          "output_type": "display_data",
          "data": {
            "text/plain": [
              "<Figure size 640x480 with 1 Axes>"
            ],
            "image/png": "[encoded data removed]"
          },
          "metadata": {}
        }
      ]
    },
    {
      "cell_type": "code",
      "source": [
        "np.mean(np.abs(mdl_cv.predict(X_test) - y_test))"
      ],
      "metadata": {
        "colab": {
          "base_uri": "https://localhost:8080/"
        },
        "id": "W_KbgC-OCX7P",
        "outputId": "10f956bc-f6b8-409d-cec9-574e2edac500"
      },
      "execution_count": null,
      "outputs": [
        {
          "output_type": "execute_result",
          "data": {
            "text/plain": [
              "1579.6971978084905"
            ]
          },
          "metadata": {},
          "execution_count": 37
        }
      ]
    },
    {
      "cell_type": "markdown",
      "metadata": {
        "id": "QpDcdNOUkgfZ"
      },
      "source": [
        "## 4. Support vector classification \n",
        "\n",
        "Support vector classification is implemented by the class ``SVC`` an fits of model of the form.\n",
        "\n",
        "$$ f(\\mathbf{x}) = \\beta_0 +  \\sum_{i = 1}^n \\alpha_i \\, \\kappa(\\mathbf{x}, \\mathbf{x}_{i}) $$\n",
        "where $\\kappa$ is a kernel function (inspect the documentation https://scikit-learn.org/stable/modules/generated/sklearn.svm.SVC.html#sklearn.svm.SVC for an overview of potential kernels).  The trade-off between model fit and model compexity is set by the parameter ``C`` in the following optimization problem (which means that large ``C`` gives less regularization).\n",
        "\n",
        "$$\\sum_{j=1}^n \\alpha_i \\alpha_j \\kappa(\\mathbf{x}_i, \\mathbf{x}_{j})  + C \\left[ \\frac1n \\sum_{i=1}^n \\text{max}(0, 1-y_i f(\\mathbf{x}_i))   \\right]$$\n",
        "\n"
      ]
    },
    {
      "cell_type": "code",
      "execution_count": 14,
      "metadata": {
        "id": "GauuNuWukgfa",
        "outputId": "ee2e90df-94fd-4fe4-ec6d-7651dbfe3c0a",
        "colab": {
          "base_uri": "https://localhost:8080/"
        }
      },
      "outputs": [
        {
          "output_type": "execute_result",
          "data": {
            "text/plain": [
              "0.975"
            ]
          },
          "metadata": {},
          "execution_count": 14
        }
      ],
      "source": [
        "# create some toy data\n",
        "from sklearn.datasets import make_gaussian_quantiles\n",
        "X_dummy, y_dummy = make_gaussian_quantiles(n_features=2, n_classes=3, n_samples=5000)\n",
        "\n",
        "# split train and test data\n",
        "X_train, X_test, y_train, y_test = train_test_split(X_dummy, y_dummy, test_size = 40, random_state=1)\n",
        "\n",
        "# create a model isntance\n",
        "mdl = SVC(C = 2, kernel = 'rbf', gamma = 1/5)\n",
        "\n",
        "# fit a model\n",
        "mdl.fit(X_train, y_train)\n",
        "\n",
        "# predict on test set\n",
        "predictions = mdl.predict(X_test)\n",
        "\n",
        "# compute accuracy\n",
        "sum(predictions == y_test)/len(y_test)"
      ]
    },
    {
      "cell_type": "code",
      "source": [
        "for i in range(0,3):\n",
        "  plt.plot(X_dummy[y_dummy == i,0], X_dummy[y_dummy == i,1], '*')"
      ],
      "metadata": {
        "colab": {
          "base_uri": "https://localhost:8080/",
          "height": 430
        },
        "id": "M2T5xzYwgeMF",
        "outputId": "999335f8-52cf-4420-c07a-5321917e2818"
      },
      "execution_count": 13,
      "outputs": [
        {
          "output_type": "display_data",
          "data": {
            "text/plain": [
              "<Figure size 640x480 with 1 Axes>"
            ],
            "image/png": "[encoded data removed]"
          },
          "metadata": {}
        }
      ]
    },
    {
      "cell_type": "markdown",
      "metadata": {
        "id": "40ibldjbkgfa"
      },
      "source": [
        "**EXERCISE**: The wine dataset is a 3-class classification dataset where the goal is to predict the grape cultivar that was used to produce a wine using 13 chemical properties of the wine (https://scikit-learn.org/stable/datasets/toy_dataset.html#wine-dataset). This dataset is one of the built-in datasets in SKLearn. \n",
        "\n",
        "To do:\n",
        "- Construct a support vector classifier that can predict the cultivar. \n",
        "- Tune the regularization parameter and the hyperparameter $\\gamma$ of the RBF kernel using cross-validation.\n",
        "- Compute the performance of the final model on a hold-out test set"
      ]
    },
    {
      "cell_type": "code",
      "execution_count": 16,
      "metadata": {
        "id": "aw2Ieetskgfa",
        "outputId": "8f9511ba-6632-4209-b250-ce0bb26b9d8f",
        "colab": {
          "base_uri": "https://localhost:8080/"
        }
      },
      "outputs": [
        {
          "output_type": "stream",
          "name": "stdout",
          "text": [
            "['alcohol', 'malic_acid', 'ash', 'alcalinity_of_ash', 'magnesium', 'total_phenols', 'flavanoids', 'nonflavanoid_phenols', 'proanthocyanins', 'color_intensity', 'hue', 'od280/od315_of_diluted_wines', 'proline']\n",
            "['class_0' 'class_1' 'class_2']\n"
          ]
        }
      ],
      "source": [
        "from sklearn.datasets import load_wine\n",
        "\n",
        "# load dataset\n",
        "data = load_wine()\n",
        "\n",
        "# extract X and y\n",
        "X = data.data\n",
        "y = data.target\n",
        "\n",
        "# print some information\n",
        "print(data.feature_names)\n",
        "print(data.target_names)"
      ]
    },
    {
      "cell_type": "code",
      "execution_count": 19,
      "metadata": {
        "id": "cteFhYT7kgfa",
        "colab": {
          "base_uri": "https://localhost:8080/",
          "height": 153
        },
        "outputId": "1a963e4e-6941-4b82-f3f5-e67fea5b02af"
      },
      "outputs": [
        {
          "output_type": "execute_result",
          "data": {
            "text/plain": [
              "GridSearchCV(cv=10,\n",
              "             estimator=Pipeline(steps=[('standardscaler', StandardScaler()),\n",
              "                                       ('svc', SVC())]),\n",
              "             param_grid={'svc__C': [0.001, 0.1, 1, 10, 100],\n",
              "                         'svc__gamma': [0.001, 0.1, 1, 10, 100]})"
            ],
            "text/html": [
              "<style>#sk-container-id-1 {color: black;background-color: white;}#sk-container-id-1 pre{padding: 0;}#sk-container-id-1 div.sk-toggleable {background-color: white;}#sk-container-id-1 label.sk-toggleable__label {cursor: pointer;display: block;width: 100%;margin-bottom: 0;padding: 0.3em;box-sizing: border-box;text-align: center;}#sk-container-id-1 label.sk-toggleable__label-arrow:before {content: \"▸\";float: left;margin-right: 0.25em;color: #696969;}#sk-container-id-1 label.sk-toggleable__label-arrow:hover:before {color: black;}#sk-container-id-1 div.sk-estimator:hover label.sk-toggleable__label-arrow:before {color: black;}#sk-container-id-1 div.sk-toggleable__content {max-height: 0;max-width: 0;overflow: hidden;text-align: left;background-color: #f0f8ff;}#sk-container-id-1 div.sk-toggleable__content pre {margin: 0.2em;color: black;border-radius: 0.25em;background-color: #f0f8ff;}#sk-container-id-1 input.sk-toggleable__control:checked~div.sk-toggleable__content {max-height: 200px;max-width: 100%;overflow: auto;}#sk-container-id-1 input.sk-toggleable__control:checked~label.sk-toggleable__label-arrow:before {content: \"▾\";}#sk-container-id-1 div.sk-estimator input.sk-toggleable__control:checked~label.sk-toggleable__label {background-color: #d4ebff;}#sk-container-id-1 div.sk-label input.sk-toggleable__control:checked~label.sk-toggleable__label {background-color: #d4ebff;}#sk-container-id-1 input.sk-hidden--visually {border: 0;clip: rect(1px 1px 1px 1px);clip: rect(1px, 1px, 1px, 1px);height: 1px;margin: -1px;overflow: hidden;padding: 0;position: absolute;width: 1px;}#sk-container-id-1 div.sk-estimator {font-family: monospace;background-color: #f0f8ff;border: 1px dotted black;border-radius: 0.25em;box-sizing: border-box;margin-bottom: 0.5em;}#sk-container-id-1 div.sk-estimator:hover {background-color: #d4ebff;}#sk-container-id-1 div.sk-parallel-item::after {content: \"\";width: 100%;border-bottom: 1px solid gray;flex-grow: 1;}#sk-container-id-1 div.sk-label:hover label.sk-toggleable__label {background-color: #d4ebff;}#sk-container-id-1 div.sk-serial::before {content: \"\";position: absolute;border-left: 1px solid gray;box-sizing: border-box;top: 0;bottom: 0;left: 50%;z-index: 0;}#sk-container-id-1 div.sk-serial {display: flex;flex-direction: column;align-items: center;background-color: white;padding-right: 0.2em;padding-left: 0.2em;position: relative;}#sk-container-id-1 div.sk-item {position: relative;z-index: 1;}#sk-container-id-1 div.sk-parallel {display: flex;align-items: stretch;justify-content: center;background-color: white;position: relative;}#sk-container-id-1 div.sk-item::before, #sk-container-id-1 div.sk-parallel-item::before {content: \"\";position: absolute;border-left: 1px solid gray;box-sizing: border-box;top: 0;bottom: 0;left: 50%;z-index: -1;}#sk-container-id-1 div.sk-parallel-item {display: flex;flex-direction: column;z-index: 1;position: relative;background-color: white;}#sk-container-id-1 div.sk-parallel-item:first-child::after {align-self: flex-end;width: 50%;}#sk-container-id-1 div.sk-parallel-item:last-child::after {align-self: flex-start;width: 50%;}#sk-container-id-1 div.sk-parallel-item:only-child::after {width: 0;}#sk-container-id-1 div.sk-dashed-wrapped {border: 1px dashed gray;margin: 0 0.4em 0.5em 0.4em;box-sizing: border-box;padding-bottom: 0.4em;background-color: white;}#sk-container-id-1 div.sk-label label {font-family: monospace;font-weight: bold;display: inline-block;line-height: 1.2em;}#sk-container-id-1 div.sk-label-container {text-align: center;}#sk-container-id-1 div.sk-container {/* jupyter's `normalize.less` sets `[hidden] { display: none; }` but bootstrap.min.css set `[hidden] { display: none !important; }` so we also need the `!important` here to be able to override the default hidden behavior on the sphinx rendered scikit-learn.org. See: https://github.com/scikit-learn/scikit-learn/issues/21755 */display: inline-block !important;position: relative;}#sk-container-id-1 div.sk-text-repr-fallback {display: none;}</style><div id=\"sk-container-id-1\" class=\"sk-top-container\"><div class=\"sk-text-repr-fallback\"><pre>GridSearchCV(cv=10,\n",
              "             estimator=Pipeline(steps=[(&#x27;standardscaler&#x27;, StandardScaler()),\n",
              "                                       (&#x27;svc&#x27;, SVC())]),\n",
              "             param_grid={&#x27;svc__C&#x27;: [0.001, 0.1, 1, 10, 100],\n",
              "                         &#x27;svc__gamma&#x27;: [0.001, 0.1, 1, 10, 100]})</pre><b>In a Jupyter environment, please rerun this cell to show the HTML representation or trust the notebook. <br />On GitHub, the HTML representation is unable to render, please try loading this page with nbviewer.org.</b></div><div class=\"sk-container\" hidden><div class=\"sk-item sk-dashed-wrapped\"><div class=\"sk-label-container\"><div class=\"sk-label sk-toggleable\"><input class=\"sk-toggleable__control sk-hidden--visually\" id=\"sk-estimator-id-1\" type=\"checkbox\" ><label for=\"sk-estimator-id-1\" class=\"sk-toggleable__label sk-toggleable__label-arrow\">GridSearchCV</label><div class=\"sk-toggleable__content\"><pre>GridSearchCV(cv=10,\n",
              "             estimator=Pipeline(steps=[(&#x27;standardscaler&#x27;, StandardScaler()),\n",
              "                                       (&#x27;svc&#x27;, SVC())]),\n",
              "             param_grid={&#x27;svc__C&#x27;: [0.001, 0.1, 1, 10, 100],\n",
              "                         &#x27;svc__gamma&#x27;: [0.001, 0.1, 1, 10, 100]})</pre></div></div></div><div class=\"sk-parallel\"><div class=\"sk-parallel-item\"><div class=\"sk-item\"><div class=\"sk-label-container\"><div class=\"sk-label sk-toggleable\"><input class=\"sk-toggleable__control sk-hidden--visually\" id=\"sk-estimator-id-2\" type=\"checkbox\" ><label for=\"sk-estimator-id-2\" class=\"sk-toggleable__label sk-toggleable__label-arrow\">estimator: Pipeline</label><div class=\"sk-toggleable__content\"><pre>Pipeline(steps=[(&#x27;standardscaler&#x27;, StandardScaler()), (&#x27;svc&#x27;, SVC())])</pre></div></div></div><div class=\"sk-serial\"><div class=\"sk-item\"><div class=\"sk-serial\"><div class=\"sk-item\"><div class=\"sk-estimator sk-toggleable\"><input class=\"sk-toggleable__control sk-hidden--visually\" id=\"sk-estimator-id-3\" type=\"checkbox\" ><label for=\"sk-estimator-id-3\" class=\"sk-toggleable__label sk-toggleable__label-arrow\">StandardScaler</label><div class=\"sk-toggleable__content\"><pre>StandardScaler()</pre></div></div></div><div class=\"sk-item\"><div class=\"sk-estimator sk-toggleable\"><input class=\"sk-toggleable__control sk-hidden--visually\" id=\"sk-estimator-id-4\" type=\"checkbox\" ><label for=\"sk-estimator-id-4\" class=\"sk-toggleable__label sk-toggleable__label-arrow\">SVC</label><div class=\"sk-toggleable__content\"><pre>SVC()</pre></div></div></div></div></div></div></div></div></div></div></div></div>"
            ]
          },
          "metadata": {},
          "execution_count": 19
        }
      ],
      "source": [
        "# split train and test data\n",
        "X_train, X_test, y_train, y_test = train_test_split(X, y, test_size = 40, random_state=1)\n",
        "\n",
        "# make a pipeline\n",
        "mdl = make_pipeline(StandardScaler(),\n",
        "                    SVC(kernel = \"rbf\"))\n",
        "\n",
        "# use grid search to tune the parameter\n",
        "parameter_grid = {\"svc__C\" : [0.001, 0.1, 1, 10, 100],\n",
        "                  \"svc__gamma\" : [0.001, 0.1, 1, 10, 100]}\n",
        "\n",
        "mdl_cv = GridSearchCV(estimator = mdl,\n",
        "                      param_grid = parameter_grid,\n",
        "                      cv = 10)\n",
        "\n",
        "mdl_cv.fit(X_train, y_train)"
      ]
    },
    {
      "cell_type": "code",
      "source": [
        "mdl_cv.best_params_"
      ],
      "metadata": {
        "colab": {
          "base_uri": "https://localhost:8080/"
        },
        "id": "vuRt_6_gsNB0",
        "outputId": "bc198c28-150a-47fd-8781-2ea0e047f204"
      },
      "execution_count": 21,
      "outputs": [
        {
          "output_type": "execute_result",
          "data": {
            "text/plain": [
              "{'svc__C': 1, 'svc__gamma': 0.1}"
            ]
          },
          "metadata": {},
          "execution_count": 21
        }
      ]
    },
    {
      "cell_type": "code",
      "source": [
        "predictions = mdl_cv.predict(X_test)\n",
        "\n",
        "np.sum(predictions == y_test)/len(y_test) "
      ],
      "metadata": {
        "colab": {
          "base_uri": "https://localhost:8080/"
        },
        "id": "vHkv_uZwsg0g",
        "outputId": "634ec0d2-cdb9-4a23-8fa1-a8fce5649eef"
      },
      "execution_count": 22,
      "outputs": [
        {
          "output_type": "execute_result",
          "data": {
            "text/plain": [
              "0.975"
            ]
          },
          "metadata": {},
          "execution_count": 22
        }
      ]
    },
    {
      "cell_type": "code",
      "source": [
        "X_test"
      ],
      "metadata": {
        "colab": {
          "base_uri": "https://localhost:8080/"
        },
        "id": "FbfbMGSGs38p",
        "outputId": "316ca7f3-ab7a-4c10-9292-c747a184c565"
      },
      "execution_count": 24,
      "outputs": [
        {
          "output_type": "execute_result",
          "data": {
            "text/plain": [
              "array([[1.369e+01, 3.260e+00, 2.540e+00, 2.000e+01, 1.070e+02, 1.830e+00,\n",
              "        5.600e-01, 5.000e-01, 8.000e-01, 5.880e+00, 9.600e-01, 1.820e+00,\n",
              "        6.800e+02],\n",
              "       [1.242e+01, 1.610e+00, 2.190e+00, 2.250e+01, 1.080e+02, 2.000e+00,\n",
              "        2.090e+00, 3.400e-01, 1.610e+00, 2.060e+00, 1.060e+00, 2.960e+00,\n",
              "        3.450e+02],\n",
              "       [1.364e+01, 3.100e+00, 2.560e+00, 1.520e+01, 1.160e+02, 2.700e+00,\n",
              "        3.030e+00, 1.700e-01, 1.660e+00, 5.100e+00, 9.600e-01, 3.360e+00,\n",
              "        8.450e+02],\n",
              "       [1.221e+01, 1.190e+00, 1.750e+00, 1.680e+01, 1.510e+02, 1.850e+00,\n",
              "        1.280e+00, 1.400e-01, 2.500e+00, 2.850e+00, 1.280e+00, 3.070e+00,\n",
              "        7.180e+02],\n",
              "       [1.377e+01, 1.900e+00, 2.680e+00, 1.710e+01, 1.150e+02, 3.000e+00,\n",
              "        2.790e+00, 3.900e-01, 1.680e+00, 6.300e+00, 1.130e+00, 2.930e+00,\n",
              "        1.375e+03],\n",
              "       [1.349e+01, 3.590e+00, 2.190e+00, 1.950e+01, 8.800e+01, 1.620e+00,\n",
              "        4.800e-01, 5.800e-01, 8.800e-01, 5.700e+00, 8.100e-01, 1.820e+00,\n",
              "        5.800e+02],\n",
              "       [1.176e+01, 2.680e+00, 2.920e+00, 2.000e+01, 1.030e+02, 1.750e+00,\n",
              "        2.030e+00, 6.000e-01, 1.050e+00, 3.800e+00, 1.230e+00, 2.500e+00,\n",
              "        6.070e+02],\n",
              "       [1.438e+01, 1.870e+00, 2.380e+00, 1.200e+01, 1.020e+02, 3.300e+00,\n",
              "        3.640e+00, 2.900e-01, 2.960e+00, 7.500e+00, 1.200e+00, 3.000e+00,\n",
              "        1.547e+03],\n",
              "       [1.236e+01, 3.830e+00, 2.380e+00, 2.100e+01, 8.800e+01, 2.300e+00,\n",
              "        9.200e-01, 5.000e-01, 1.040e+00, 7.650e+00, 5.600e-01, 1.580e+00,\n",
              "        5.200e+02],\n",
              "       [1.272e+01, 1.750e+00, 2.280e+00, 2.250e+01, 8.400e+01, 1.380e+00,\n",
              "        1.760e+00, 4.800e-01, 1.630e+00, 3.300e+00, 8.800e-01, 2.420e+00,\n",
              "        4.880e+02],\n",
              "       [1.412e+01, 1.480e+00, 2.320e+00, 1.680e+01, 9.500e+01, 2.200e+00,\n",
              "        2.430e+00, 2.600e-01, 1.570e+00, 5.000e+00, 1.170e+00, 2.820e+00,\n",
              "        1.280e+03],\n",
              "       [1.324e+01, 2.590e+00, 2.870e+00, 2.100e+01, 1.180e+02, 2.800e+00,\n",
              "        2.690e+00, 3.900e-01, 1.820e+00, 4.320e+00, 1.040e+00, 2.930e+00,\n",
              "        7.350e+02],\n",
              "       [1.222e+01, 1.290e+00, 1.940e+00, 1.900e+01, 9.200e+01, 2.360e+00,\n",
              "        2.040e+00, 3.900e-01, 2.080e+00, 2.700e+00, 8.600e-01, 3.020e+00,\n",
              "        3.120e+02],\n",
              "       [1.388e+01, 1.890e+00, 2.590e+00, 1.500e+01, 1.010e+02, 3.250e+00,\n",
              "        3.560e+00, 1.700e-01, 1.700e+00, 5.430e+00, 8.800e-01, 3.560e+00,\n",
              "        1.095e+03],\n",
              "       [1.184e+01, 8.900e-01, 2.580e+00, 1.800e+01, 9.400e+01, 2.200e+00,\n",
              "        2.210e+00, 2.200e-01, 2.350e+00, 3.050e+00, 7.900e-01, 3.080e+00,\n",
              "        5.200e+02],\n",
              "       [1.141e+01, 7.400e-01, 2.500e+00, 2.100e+01, 8.800e+01, 2.480e+00,\n",
              "        2.010e+00, 4.200e-01, 1.440e+00, 3.080e+00, 1.100e+00, 2.310e+00,\n",
              "        4.340e+02],\n",
              "       [1.311e+01, 1.900e+00, 2.750e+00, 2.550e+01, 1.160e+02, 2.200e+00,\n",
              "        1.280e+00, 2.600e-01, 1.560e+00, 7.100e+00, 6.100e-01, 1.330e+00,\n",
              "        4.250e+02],\n",
              "       [1.348e+01, 1.810e+00, 2.410e+00, 2.050e+01, 1.000e+02, 2.700e+00,\n",
              "        2.980e+00, 2.600e-01, 1.860e+00, 5.100e+00, 1.040e+00, 3.470e+00,\n",
              "        9.200e+02],\n",
              "       [1.242e+01, 2.550e+00, 2.270e+00, 2.200e+01, 9.000e+01, 1.680e+00,\n",
              "        1.840e+00, 6.600e-01, 1.420e+00, 2.700e+00, 8.600e-01, 3.300e+00,\n",
              "        3.150e+02],\n",
              "       [1.358e+01, 1.660e+00, 2.360e+00, 1.910e+01, 1.060e+02, 2.860e+00,\n",
              "        3.190e+00, 2.200e-01, 1.950e+00, 6.900e+00, 1.090e+00, 2.880e+00,\n",
              "        1.515e+03],\n",
              "       [1.383e+01, 1.650e+00, 2.600e+00, 1.720e+01, 9.400e+01, 2.450e+00,\n",
              "        2.990e+00, 2.200e-01, 2.290e+00, 5.600e+00, 1.240e+00, 3.370e+00,\n",
              "        1.265e+03],\n",
              "       [1.243e+01, 1.530e+00, 2.290e+00, 2.150e+01, 8.600e+01, 2.740e+00,\n",
              "        3.150e+00, 3.900e-01, 1.770e+00, 3.940e+00, 6.900e-01, 2.840e+00,\n",
              "        3.520e+02],\n",
              "       [1.286e+01, 1.350e+00, 2.320e+00, 1.800e+01, 1.220e+02, 1.510e+00,\n",
              "        1.250e+00, 2.100e-01, 9.400e-01, 4.100e+00, 7.600e-01, 1.290e+00,\n",
              "        6.300e+02],\n",
              "       [1.299e+01, 1.670e+00, 2.600e+00, 3.000e+01, 1.390e+02, 3.300e+00,\n",
              "        2.890e+00, 2.100e-01, 1.960e+00, 3.350e+00, 1.310e+00, 3.500e+00,\n",
              "        9.850e+02],\n",
              "       [1.356e+01, 1.710e+00, 2.310e+00, 1.620e+01, 1.170e+02, 3.150e+00,\n",
              "        3.290e+00, 3.400e-01, 2.340e+00, 6.130e+00, 9.500e-01, 3.380e+00,\n",
              "        7.950e+02],\n",
              "       [1.285e+01, 3.270e+00, 2.580e+00, 2.200e+01, 1.060e+02, 1.650e+00,\n",
              "        6.000e-01, 6.000e-01, 9.600e-01, 5.580e+00, 8.700e-01, 2.110e+00,\n",
              "        5.700e+02],\n",
              "       [1.390e+01, 1.680e+00, 2.120e+00, 1.600e+01, 1.010e+02, 3.100e+00,\n",
              "        3.390e+00, 2.100e-01, 2.140e+00, 6.100e+00, 9.100e-01, 3.330e+00,\n",
              "        9.850e+02],\n",
              "       [1.402e+01, 1.680e+00, 2.210e+00, 1.600e+01, 9.600e+01, 2.650e+00,\n",
              "        2.330e+00, 2.600e-01, 1.980e+00, 4.700e+00, 1.040e+00, 3.590e+00,\n",
              "        1.035e+03],\n",
              "       [1.430e+01, 1.920e+00, 2.720e+00, 2.000e+01, 1.200e+02, 2.800e+00,\n",
              "        3.140e+00, 3.300e-01, 1.970e+00, 6.200e+00, 1.070e+00, 2.650e+00,\n",
              "        1.280e+03],\n",
              "       [1.287e+01, 4.610e+00, 2.480e+00, 2.150e+01, 8.600e+01, 1.700e+00,\n",
              "        6.500e-01, 4.700e-01, 8.600e-01, 7.650e+00, 5.400e-01, 1.860e+00,\n",
              "        6.250e+02],\n",
              "       [1.229e+01, 1.410e+00, 1.980e+00, 1.600e+01, 8.500e+01, 2.550e+00,\n",
              "        2.500e+00, 2.900e-01, 1.770e+00, 2.900e+00, 1.230e+00, 2.740e+00,\n",
              "        4.280e+02],\n",
              "       [1.348e+01, 1.670e+00, 2.640e+00, 2.250e+01, 8.900e+01, 2.600e+00,\n",
              "        1.100e+00, 5.200e-01, 2.290e+00, 1.175e+01, 5.700e-01, 1.780e+00,\n",
              "        6.200e+02],\n",
              "       [1.279e+01, 2.670e+00, 2.480e+00, 2.200e+01, 1.120e+02, 1.480e+00,\n",
              "        1.360e+00, 2.400e-01, 1.260e+00, 1.080e+01, 4.800e-01, 1.470e+00,\n",
              "        4.800e+02],\n",
              "       [1.420e+01, 1.760e+00, 2.450e+00, 1.520e+01, 1.120e+02, 3.270e+00,\n",
              "        3.390e+00, 3.400e-01, 1.970e+00, 6.750e+00, 1.050e+00, 2.850e+00,\n",
              "        1.450e+03],\n",
              "       [1.145e+01, 2.400e+00, 2.420e+00, 2.000e+01, 9.600e+01, 2.900e+00,\n",
              "        2.790e+00, 3.200e-01, 1.830e+00, 3.250e+00, 8.000e-01, 3.390e+00,\n",
              "        6.250e+02],\n",
              "       [1.162e+01, 1.990e+00, 2.280e+00, 1.800e+01, 9.800e+01, 3.020e+00,\n",
              "        2.260e+00, 1.700e-01, 1.350e+00, 3.250e+00, 1.160e+00, 2.960e+00,\n",
              "        3.450e+02],\n",
              "       [1.200e+01, 1.510e+00, 2.420e+00, 2.200e+01, 8.600e+01, 1.450e+00,\n",
              "        1.250e+00, 5.000e-01, 1.630e+00, 3.600e+00, 1.050e+00, 2.650e+00,\n",
              "        4.500e+02],\n",
              "       [1.272e+01, 1.810e+00, 2.200e+00, 1.880e+01, 8.600e+01, 2.200e+00,\n",
              "        2.530e+00, 2.600e-01, 1.770e+00, 3.900e+00, 1.160e+00, 3.140e+00,\n",
              "        7.140e+02],\n",
              "       [1.208e+01, 1.390e+00, 2.500e+00, 2.250e+01, 8.400e+01, 2.560e+00,\n",
              "        2.290e+00, 4.300e-01, 1.040e+00, 2.900e+00, 9.300e-01, 3.190e+00,\n",
              "        3.850e+02],\n",
              "       [1.410e+01, 2.020e+00, 2.400e+00, 1.880e+01, 1.030e+02, 2.750e+00,\n",
              "        2.920e+00, 3.200e-01, 2.380e+00, 6.200e+00, 1.070e+00, 2.750e+00,\n",
              "        1.060e+03]])"
            ]
          },
          "metadata": {},
          "execution_count": 24
        }
      ]
    }
  ],
  "metadata": {
    "colab": {
      "provenance": []
    },
    "gpuClass": "standard",
    "kernelspec": {
      "display_name": "Python 3.10.4 ('.venv': venv)",
      "language": "python",
      "name": "python3"
    },
    "language_info": {
      "codemirror_mode": {
        "name": "ipython",
        "version": 3
      },
      "file_extension": ".py",
      "mimetype": "text/x-python",
      "name": "python",
      "nbconvert_exporter": "python",
      "pygments_lexer": "ipython3",
      "version": "3.10.4"
    },
    "vscode": {
      "interpreter": {
        "hash": "09605cd2bc0aa78d59dab4b68b44be16a9a5d52cf560cda528d1db29b8f55ea7"
      }
    }
  },
  "nbformat": 4,
  "nbformat_minor": 0
}