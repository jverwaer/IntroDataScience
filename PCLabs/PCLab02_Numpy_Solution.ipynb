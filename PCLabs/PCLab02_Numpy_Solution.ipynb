{
 "cells": [
  {
   "cell_type": "markdown",
   "id": "62e56eac",
   "metadata": {},
   "source": [
    "# Introduction to Data Science PC Lab 02: Numpy"
   ]
  },
  {
   "cell_type": "markdown",
   "id": "8922af95",
   "metadata": {},
   "source": [
    "Author: Jan Verwaeren - Arne Deloose\n",
    "\n",
    "Course: Introduction to Data Science"
   ]
  },
  {
   "cell_type": "code",
   "execution_count": 14,
   "id": "45e9ed51",
   "metadata": {},
   "outputs": [],
   "source": [
    "try:\n",
    "    import google.colab\n",
    "    in_colab = True #set in_colab to True if you're running the code from google colab\n",
    "except:\n",
    "    in_colab = False #otherwise, it's false"
   ]
  },
  {
   "cell_type": "markdown",
   "id": "24c9b385",
   "metadata": {},
   "source": [
    "## 1. Creating Numpy arrays"
   ]
  },
  {
   "cell_type": "markdown",
   "id": "0a9bd939",
   "metadata": {},
   "source": [
    "**ILLUSTRATION**"
   ]
  },
  {
   "cell_type": "code",
   "execution_count": 2,
   "id": "928464bc",
   "metadata": {},
   "outputs": [],
   "source": [
    "#first import the numpy module\n",
    "import numpy as np"
   ]
  },
  {
   "cell_type": "markdown",
   "id": "02a214f2",
   "metadata": {},
   "source": [
    "**1.a. With *np.array***"
   ]
  },
  {
   "cell_type": "code",
   "execution_count": 9,
   "id": "babb1db7",
   "metadata": {},
   "outputs": [
    {
     "data": {
      "text/plain": [
       "dtype('int32')"
      ]
     },
     "execution_count": 9,
     "metadata": {},
     "output_type": "execute_result"
    }
   ],
   "source": [
    "#using np.array\n",
    "A = np.array([1, 2, 3])\n",
    "B = np.array([[1, 2, 3],[4, 5, 6]]) #mind the double brackets\n",
    "A.dtype #show type"
   ]
  },
  {
   "cell_type": "code",
   "execution_count": 10,
   "id": "6a957004",
   "metadata": {},
   "outputs": [
    {
     "data": {
      "text/plain": [
       "array([[1, 2, 3],\n",
       "       [4, 5, 6]])"
      ]
     },
     "execution_count": 10,
     "metadata": {},
     "output_type": "execute_result"
    }
   ],
   "source": [
    "B #show B"
   ]
  },
  {
   "cell_type": "code",
   "execution_count": 11,
   "id": "4a7c6c5b",
   "metadata": {
    "scrolled": true
   },
   "outputs": [
    {
     "data": {
      "text/plain": [
       "dtype('bool')"
      ]
     },
     "execution_count": 11,
     "metadata": {},
     "output_type": "execute_result"
    }
   ],
   "source": [
    "#different array type\n",
    "#implicit type, analogue to a single var\n",
    "A = np.array([True, False, False])\n",
    "A.dtype\n"
   ]
  },
  {
   "cell_type": "markdown",
   "id": "fe5139d9",
   "metadata": {},
   "source": [
    "**1.b. Other functions**"
   ]
  },
  {
   "cell_type": "code",
   "execution_count": null,
   "id": "0c67f81e",
   "metadata": {},
   "outputs": [],
   "source": [
    "A = np.zeros((5, 3), dtype = 'float') # 5 row, 3 columns of zeros\n",
    "\n",
    "B = np.arange(0, 10, 2)               # from 0 to (just not) 10 in steps of 2\n",
    "\n",
    "C = np.linspace(0, 1, 5)              # 5 equally spaced between 0 and 1\n",
    "\n",
    "D = np.random.random((3, 3))          # 3 by 3 matrix of random numbers in [0, 1"
   ]
  },
  {
   "cell_type": "markdown",
   "id": "ac72dff3",
   "metadata": {},
   "source": [
    "**1.c. from a file**"
   ]
  },
  {
   "cell_type": "code",
   "execution_count": 15,
   "id": "af0df8ff",
   "metadata": {},
   "outputs": [
    {
     "name": "stdout",
     "output_type": "stream",
     "text": [
      "Files cannot be found\n"
     ]
    }
   ],
   "source": [
    "#notebook running locally:\n",
    "if not in_colab:\n",
    "    try:\n",
    "        import os\n",
    "        os.chdir('c:\\\\temp\\\\files_IDS')\n",
    "        X = np.loadtxt(\"iris_features.csv\",\n",
    "                        delimiter = \",\",\n",
    "                        skiprows=1)\n",
    "\n",
    "        Y = np.loadtxt(\"iris_labels.csv\", delimiter = \",\",\n",
    "                        skiprows=1, \n",
    "                        dtype = str)\n",
    "    except:\n",
    "        print('Files cannot be found')\n",
    "#google colab\n",
    "else:\n",
    "    pass\n",
    "    #insert code here"
   ]
  },
  {
   "cell_type": "code",
   "execution_count": null,
   "id": "a67a7b47",
   "metadata": {},
   "outputs": [],
   "source": []
  }
 ],
 "metadata": {
  "kernelspec": {
   "display_name": "Python 3 (ipykernel)",
   "language": "python",
   "name": "python3"
  },
  "language_info": {
   "codemirror_mode": {
    "name": "ipython",
    "version": 3
   },
   "file_extension": ".py",
   "mimetype": "text/x-python",
   "name": "python",
   "nbconvert_exporter": "python",
   "pygments_lexer": "ipython3",
   "version": "3.7.4"
  }
 },
 "nbformat": 4,
 "nbformat_minor": 5
}
