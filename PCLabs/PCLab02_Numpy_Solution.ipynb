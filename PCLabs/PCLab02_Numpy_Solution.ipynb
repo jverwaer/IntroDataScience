{
 "cells": [
  {
   "cell_type": "markdown",
   "id": "62e56eac",
   "metadata": {},
   "source": [
    "# Introduction to Data Science PC Lab 02: Basics of Numpy Arrays"
   ]
  },
  {
   "cell_type": "markdown",
   "id": "8922af95",
   "metadata": {},
   "source": [
    "Author: Jan Verwaeren - Arne Deloose\n",
    "\n",
    "Course: Introduction to Data Science\n",
    "\n",
    "Welcome back, dear reader. In this notebook, we will cover the basics of Numpy arrays.  As usual, each section (three sections once again) will start with illustrations followed by exercises. The illustrations in this notebook match the theory slides for lecture2 (with slight deviations) and can be used to follow along."
   ]
  },
  {
   "cell_type": "markdown",
   "id": "b13bab16",
   "metadata": {},
   "source": [
    "The code below will detect which program you are using to run the notebook. This will be important later when we load in arrays"
   ]
  },
  {
   "cell_type": "code",
   "execution_count": 2,
   "id": "cd5b651e",
   "metadata": {},
   "outputs": [],
   "source": [
    "try:\n",
    "    import google.colab\n",
    "    in_colab = True #set in_colab to True if you're running the code from google colab\n",
    "except:\n",
    "    in_colab = False #otherwise, it's false"
   ]
  },
  {
   "cell_type": "markdown",
   "id": "a51418ed",
   "metadata": {},
   "source": [
    "**What is Numpy?**\n",
    "\n",
    "Before we start, let us briefly discuss what Numpy is. Numpy is a Python library that adds support for arrays and matrices. Libraries are collections of functions that extend the capabilities of Python. We will see many other libraries during this course. You may have noticed that we already used the *requests* library in PC lab 01 to load in data from a url. \n",
    "\n",
    "If a library is already installed, it can be important very easily using the *import* function illustrated below. With *as* we can give it a name. The convention is to shorten numpy to *np*"
   ]
  },
  {
   "cell_type": "code",
   "execution_count": 3,
   "id": "5c40f224",
   "metadata": {},
   "outputs": [],
   "source": [
    "#import the numpy module and call it np\n",
    "import numpy as np"
   ]
  },
  {
   "cell_type": "markdown",
   "id": "1538a57e",
   "metadata": {},
   "source": [
    "If a library is not yet installed, it needs to be downloaded first using the package manager *pip*. If we want the *jellyfish* library for example (this library is used to phonetically match strings), we need to install it first using:\n",
    "\n",
    "    !pip install jellyfish\n",
    "\n",
    "Before we can import it with:\n",
    "\n",
    "    import jellyfish\n",
    "\n",
    "Commonly used libraries like *Numpy* are installed by default on Colab, so we do not need to worry about this for now."
   ]
  },
  {
   "cell_type": "markdown",
   "id": "4594c939",
   "metadata": {},
   "source": [
    "To use a function from a library, we use *library.function()* for example, *np.array()* or *jellyfish.levenshtein_distance()*"
   ]
  },
  {
   "cell_type": "markdown",
   "id": "4b06009c",
   "metadata": {},
   "source": [
    "## 1. Creating Numpy arrays"
   ]
  },
  {
   "cell_type": "markdown",
   "id": "293260de",
   "metadata": {},
   "source": [
    "With Numpy, we can work with arrays, so the logical first step is to create these arrays. This can be done in three different ways: using np.array, with another function or by loading from a file "
   ]
  },
  {
   "cell_type": "markdown",
   "id": "ca121ae9",
   "metadata": {},
   "source": [
    "**ILLUSTRATION**"
   ]
  },
  {
   "cell_type": "markdown",
   "id": "a5b60177",
   "metadata": {},
   "source": [
    "**1.a. With *np.array***"
   ]
  },
  {
   "cell_type": "markdown",
   "id": "04024ebc",
   "metadata": {},
   "source": [
    "The most basic way to create an array is with the function *np.array()*, the first input of this function is the object we want. To get a single row, we give the elements seperated by commas enclosed in square brackets, as illustrated below. Multiple rows are given as seperate enclosed rows. However, these must be enclosed again in square brackets, because the object must be given as a single input. Without the extra brackets, the second row would be considered a second input. "
   ]
  },
  {
   "cell_type": "code",
   "execution_count": 7,
   "id": "0235f09d",
   "metadata": {},
   "outputs": [
    {
     "data": {
      "text/plain": [
       "dtype('int32')"
      ]
     },
     "execution_count": 7,
     "metadata": {},
     "output_type": "execute_result"
    }
   ],
   "source": [
    "#using np.array\n",
    "A = np.array([1, 2, 3]) #one row\n",
    "B = np.array([[1, 2, 3],[4, 5, 6]]) #two rows\n",
    "A.dtype #show type"
   ]
  },
  {
   "cell_type": "code",
   "execution_count": 13,
   "id": "f83912ee",
   "metadata": {},
   "outputs": [
    {
     "data": {
      "text/plain": [
       "array([[1, 2, 3],\n",
       "       [4, 5, 6]])"
      ]
     },
     "execution_count": 13,
     "metadata": {},
     "output_type": "execute_result"
    }
   ],
   "source": [
    "B #show B"
   ]
  },
  {
   "cell_type": "markdown",
   "id": "096a5270",
   "metadata": {},
   "source": [
    "Once again, Python automatically detects the type of our variables. The most general type is always used. So if one number is given as a float, the entire array becomes a float type."
   ]
  },
  {
   "cell_type": "code",
   "execution_count": 23,
   "id": "9d5d7e9a",
   "metadata": {
    "scrolled": true
   },
   "outputs": [
    {
     "name": "stdout",
     "output_type": "stream",
     "text": [
      "[[1. 2. 3.]\n",
      " [4. 5. 6.]]\n",
      "float64\n"
     ]
    }
   ],
   "source": [
    "B = np.array([[1, 2.0, 3],[4, 5, 6]]) #two rows\n",
    "print(B)\n",
    "print(B.dtype)"
   ]
  },
  {
   "cell_type": "markdown",
   "id": "b111b094",
   "metadata": {},
   "source": [
    "Note that dtype is a property of our array, not a function (no brackets needed). *dtype* is not the same as *type*, because the type of B is:"
   ]
  },
  {
   "cell_type": "code",
   "execution_count": 24,
   "id": "321904da",
   "metadata": {},
   "outputs": [
    {
     "data": {
      "text/plain": [
       "numpy.ndarray"
      ]
     },
     "execution_count": 24,
     "metadata": {},
     "output_type": "execute_result"
    }
   ],
   "source": [
    "type(B)"
   ]
  },
  {
   "cell_type": "markdown",
   "id": "456ea6f8",
   "metadata": {},
   "source": [
    "This type is the same for every numpy array. Even if the internal type is different. For example:"
   ]
  },
  {
   "cell_type": "code",
   "execution_count": 28,
   "id": "53fac190",
   "metadata": {
    "scrolled": true
   },
   "outputs": [
    {
     "name": "stdout",
     "output_type": "stream",
     "text": [
      "bool\n",
      "<class 'numpy.ndarray'>\n"
     ]
    }
   ],
   "source": [
    "#different array type\n",
    "#implicit type, analogue to a single var\n",
    "A = np.array([True, False, False])\n",
    "print(A.dtype)\n",
    "print(type(A))"
   ]
  },
  {
   "cell_type": "markdown",
   "id": "c66f5cc9",
   "metadata": {},
   "source": [
    "With dtype, we can explicitely define the type as well"
   ]
  },
  {
   "cell_type": "code",
   "execution_count": 31,
   "id": "447079b5",
   "metadata": {},
   "outputs": [
    {
     "data": {
      "text/plain": [
       "array([1., 2., 3.])"
      ]
     },
     "execution_count": 31,
     "metadata": {},
     "output_type": "execute_result"
    }
   ],
   "source": [
    "A = np.array([1, 2, 3], dtype='float') #one row\n",
    "A"
   ]
  },
  {
   "cell_type": "markdown",
   "id": "b7009527",
   "metadata": {},
   "source": [
    "**1.b. Other functions**"
   ]
  },
  {
   "cell_type": "markdown",
   "id": "8d22e497",
   "metadata": {},
   "source": [
    "There are several other functions to create arrays. *zeros* can be used to create an array filled with zeros, *arange* and *linspace* can fill in numbers between two points and *random* fills in random numbers. To get floats, we need *random.random* (there are other random generators such as *random.randint* for random integers)"
   ]
  },
  {
   "cell_type": "code",
   "execution_count": 6,
   "id": "1a7cb139",
   "metadata": {},
   "outputs": [],
   "source": [
    "A = np.zeros((5, 3), dtype = 'float') # 5 row, 3 columns of zeros\n",
    "\n",
    "B = np.arange(0, 10, 2)               # from 0 to (just not) 10 in steps of 2\n",
    "\n",
    "C = np.linspace(0, 1, 5)              # 5 equally spaced between 0 and 1\n",
    "\n",
    "D = np.random.random((3, 3))          # 3 by 3 matrix of random numbers in [0, 1"
   ]
  },
  {
   "cell_type": "code",
   "execution_count": 7,
   "id": "bfd3c41b",
   "metadata": {},
   "outputs": [
    {
     "data": {
      "text/plain": [
       "array([0, 2, 4, 6, 8])"
      ]
     },
     "execution_count": 7,
     "metadata": {},
     "output_type": "execute_result"
    }
   ],
   "source": [
    "B"
   ]
  },
  {
   "cell_type": "markdown",
   "id": "a50f8ba4",
   "metadata": {},
   "source": [
    "**1.c. from a file**"
   ]
  },
  {
   "cell_type": "markdown",
   "id": "457b6b58",
   "metadata": {},
   "source": [
    "Finally, arrays can be loaded in from a file using *np.loadtxt* Despite its name, other file types can be loaded in as well, not just *.txt* . The first argument of this function is the location, which can be local, or it can be a network location (in Colab, network locations are recommended). *delimiter* specifies the seperator (usually a comma). The *dtype* can be provided as well and *skiprows* will skip a number of rows (useful if you have a header)."
   ]
  },
  {
   "cell_type": "code",
   "execution_count": 8,
   "id": "8eefcfe5",
   "metadata": {},
   "outputs": [],
   "source": [
    "#notebook running locally:\n",
    "if not in_colab:\n",
    "    X = np.loadtxt(\"files_IDS/iris_features.csv\",\n",
    "                    delimiter = \",\",\n",
    "                    skiprows=1)\n",
    "\n",
    "    Y = np.loadtxt(\"files_IDS/iris_labels.csv\", delimiter = \",\",\n",
    "                    skiprows=1, \n",
    "                    dtype = str)\n",
    "#google colab\n",
    "else:\n",
    "    #loadtxt can work with network locations\n",
    "    X = np.loadtxt(\"https://raw.githubusercontent.com/jverwaer/IntroDataScience/main/PCLabs/files_IDS/iris_features.csv\",\n",
    "                    delimiter = \",\",\n",
    "                    skiprows=1)\n",
    "\n",
    "    Y = np.loadtxt(\"https://raw.githubusercontent.com/jverwaer/IntroDataScience/main/PCLabs/files_IDS/iris_labels.csv\", \n",
    "                    delimiter = \",\",\n",
    "                    skiprows=1, \n",
    "                    dtype = str)"
   ]
  },
  {
   "cell_type": "code",
   "execution_count": 9,
   "id": "c6dd5551",
   "metadata": {},
   "outputs": [
    {
     "name": "stdout",
     "output_type": "stream",
     "text": [
      "[[5.1 3.5 1.4 0.2]\n",
      " [4.9 3.  1.4 0.2]\n",
      " [4.7 3.2 1.3 0.2]\n",
      " [4.6 3.1 1.5 0.2]\n",
      " [5.  3.6 1.4 0.2]\n",
      " [5.4 3.9 1.7 0.4]\n",
      " [4.6 3.4 1.4 0.3]\n",
      " [5.  3.4 1.5 0.2]\n",
      " [4.4 2.9 1.4 0.2]\n",
      " [4.9 3.1 1.5 0.1]\n",
      " [5.4 3.7 1.5 0.2]\n",
      " [4.8 3.4 1.6 0.2]\n",
      " [4.8 3.  1.4 0.1]\n",
      " [4.3 3.  1.1 0.1]\n",
      " [5.8 4.  1.2 0.2]\n",
      " [5.7 4.4 1.5 0.4]\n",
      " [5.4 3.9 1.3 0.4]\n",
      " [5.1 3.5 1.4 0.3]\n",
      " [5.7 3.8 1.7 0.3]\n",
      " [5.1 3.8 1.5 0.3]\n",
      " [5.4 3.4 1.7 0.2]\n",
      " [5.1 3.7 1.5 0.4]\n",
      " [4.6 3.6 1.  0.2]\n",
      " [5.1 3.3 1.7 0.5]\n",
      " [4.8 3.4 1.9 0.2]\n",
      " [5.  3.  1.6 0.2]\n",
      " [5.  3.4 1.6 0.4]\n",
      " [5.2 3.5 1.5 0.2]\n",
      " [5.2 3.4 1.4 0.2]\n",
      " [4.7 3.2 1.6 0.2]\n",
      " [4.8 3.1 1.6 0.2]\n",
      " [5.4 3.4 1.5 0.4]\n",
      " [5.2 4.1 1.5 0.1]\n",
      " [5.5 4.2 1.4 0.2]\n",
      " [4.9 3.1 1.5 0.2]\n",
      " [5.  3.2 1.2 0.2]\n",
      " [5.5 3.5 1.3 0.2]\n",
      " [4.9 3.6 1.4 0.1]\n",
      " [4.4 3.  1.3 0.2]\n",
      " [5.1 3.4 1.5 0.2]\n",
      " [5.  3.5 1.3 0.3]\n",
      " [4.5 2.3 1.3 0.3]\n",
      " [4.4 3.2 1.3 0.2]\n",
      " [5.  3.5 1.6 0.6]\n",
      " [5.1 3.8 1.9 0.4]\n",
      " [4.8 3.  1.4 0.3]\n",
      " [5.1 3.8 1.6 0.2]\n",
      " [4.6 3.2 1.4 0.2]\n",
      " [5.3 3.7 1.5 0.2]\n",
      " [5.  3.3 1.4 0.2]\n",
      " [7.  3.2 4.7 1.4]\n",
      " [6.4 3.2 4.5 1.5]\n",
      " [6.9 3.1 4.9 1.5]\n",
      " [5.5 2.3 4.  1.3]\n",
      " [6.5 2.8 4.6 1.5]\n",
      " [5.7 2.8 4.5 1.3]\n",
      " [6.3 3.3 4.7 1.6]\n",
      " [4.9 2.4 3.3 1. ]\n",
      " [6.6 2.9 4.6 1.3]\n",
      " [5.2 2.7 3.9 1.4]\n",
      " [5.  2.  3.5 1. ]\n",
      " [5.9 3.  4.2 1.5]\n",
      " [6.  2.2 4.  1. ]\n",
      " [6.1 2.9 4.7 1.4]\n",
      " [5.6 2.9 3.6 1.3]\n",
      " [6.7 3.1 4.4 1.4]\n",
      " [5.6 3.  4.5 1.5]\n",
      " [5.8 2.7 4.1 1. ]\n",
      " [6.2 2.2 4.5 1.5]\n",
      " [5.6 2.5 3.9 1.1]\n",
      " [5.9 3.2 4.8 1.8]\n",
      " [6.1 2.8 4.  1.3]\n",
      " [6.3 2.5 4.9 1.5]\n",
      " [6.1 2.8 4.7 1.2]\n",
      " [6.4 2.9 4.3 1.3]\n",
      " [6.6 3.  4.4 1.4]\n",
      " [6.8 2.8 4.8 1.4]\n",
      " [6.7 3.  5.  1.7]\n",
      " [6.  2.9 4.5 1.5]\n",
      " [5.7 2.6 3.5 1. ]\n",
      " [5.5 2.4 3.8 1.1]\n",
      " [5.5 2.4 3.7 1. ]\n",
      " [5.8 2.7 3.9 1.2]\n",
      " [6.  2.7 5.1 1.6]\n",
      " [5.4 3.  4.5 1.5]\n",
      " [6.  3.4 4.5 1.6]\n",
      " [6.7 3.1 4.7 1.5]\n",
      " [6.3 2.3 4.4 1.3]\n",
      " [5.6 3.  4.1 1.3]\n",
      " [5.5 2.5 4.  1.3]\n",
      " [5.5 2.6 4.4 1.2]\n",
      " [6.1 3.  4.6 1.4]\n",
      " [5.8 2.6 4.  1.2]\n",
      " [5.  2.3 3.3 1. ]\n",
      " [5.6 2.7 4.2 1.3]\n",
      " [5.7 3.  4.2 1.2]\n",
      " [5.7 2.9 4.2 1.3]\n",
      " [6.2 2.9 4.3 1.3]\n",
      " [5.1 2.5 3.  1.1]\n",
      " [5.7 2.8 4.1 1.3]\n",
      " [6.3 3.3 6.  2.5]\n",
      " [5.8 2.7 5.1 1.9]\n",
      " [7.1 3.  5.9 2.1]\n",
      " [6.3 2.9 5.6 1.8]\n",
      " [6.5 3.  5.8 2.2]\n",
      " [7.6 3.  6.6 2.1]\n",
      " [4.9 2.5 4.5 1.7]\n",
      " [7.3 2.9 6.3 1.8]\n",
      " [6.7 2.5 5.8 1.8]\n",
      " [7.2 3.6 6.1 2.5]\n",
      " [6.5 3.2 5.1 2. ]\n",
      " [6.4 2.7 5.3 1.9]\n",
      " [6.8 3.  5.5 2.1]\n",
      " [5.7 2.5 5.  2. ]\n",
      " [5.8 2.8 5.1 2.4]\n",
      " [6.4 3.2 5.3 2.3]\n",
      " [6.5 3.  5.5 1.8]\n",
      " [7.7 3.8 6.7 2.2]\n",
      " [7.7 2.6 6.9 2.3]\n",
      " [6.  2.2 5.  1.5]\n",
      " [6.9 3.2 5.7 2.3]\n",
      " [5.6 2.8 4.9 2. ]\n",
      " [7.7 2.8 6.7 2. ]\n",
      " [6.3 2.7 4.9 1.8]\n",
      " [6.7 3.3 5.7 2.1]\n",
      " [7.2 3.2 6.  1.8]\n",
      " [6.2 2.8 4.8 1.8]\n",
      " [6.1 3.  4.9 1.8]\n",
      " [6.4 2.8 5.6 2.1]\n",
      " [7.2 3.  5.8 1.6]\n",
      " [7.4 2.8 6.1 1.9]\n",
      " [7.9 3.8 6.4 2. ]\n",
      " [6.4 2.8 5.6 2.2]\n",
      " [6.3 2.8 5.1 1.5]\n",
      " [6.1 2.6 5.6 1.4]\n",
      " [7.7 3.  6.1 2.3]\n",
      " [6.3 3.4 5.6 2.4]\n",
      " [6.4 3.1 5.5 1.8]\n",
      " [6.  3.  4.8 1.8]\n",
      " [6.9 3.1 5.4 2.1]\n",
      " [6.7 3.1 5.6 2.4]\n",
      " [6.9 3.1 5.1 2.3]\n",
      " [5.8 2.7 5.1 1.9]\n",
      " [6.8 3.2 5.9 2.3]\n",
      " [6.7 3.3 5.7 2.5]\n",
      " [6.7 3.  5.2 2.3]\n",
      " [6.3 2.5 5.  1.9]\n",
      " [6.5 3.  5.2 2. ]\n",
      " [6.2 3.4 5.4 2.3]\n",
      " [5.9 3.  5.1 1.8]]\n",
      "['setosa' 'setosa' 'setosa' 'setosa' 'setosa' 'setosa' 'setosa' 'setosa'\n",
      " 'setosa' 'setosa' 'setosa' 'setosa' 'setosa' 'setosa' 'setosa' 'setosa'\n",
      " 'setosa' 'setosa' 'setosa' 'setosa' 'setosa' 'setosa' 'setosa' 'setosa'\n",
      " 'setosa' 'setosa' 'setosa' 'setosa' 'setosa' 'setosa' 'setosa' 'setosa'\n",
      " 'setosa' 'setosa' 'setosa' 'setosa' 'setosa' 'setosa' 'setosa' 'setosa'\n",
      " 'setosa' 'setosa' 'setosa' 'setosa' 'setosa' 'setosa' 'setosa' 'setosa'\n",
      " 'setosa' 'setosa' 'versicolor' 'versicolor' 'versicolor' 'versicolor'\n",
      " 'versicolor' 'versicolor' 'versicolor' 'versicolor' 'versicolor'\n",
      " 'versicolor' 'versicolor' 'versicolor' 'versicolor' 'versicolor'\n",
      " 'versicolor' 'versicolor' 'versicolor' 'versicolor' 'versicolor'\n",
      " 'versicolor' 'versicolor' 'versicolor' 'versicolor' 'versicolor'\n",
      " 'versicolor' 'versicolor' 'versicolor' 'versicolor' 'versicolor'\n",
      " 'versicolor' 'versicolor' 'versicolor' 'versicolor' 'versicolor'\n",
      " 'versicolor' 'versicolor' 'versicolor' 'versicolor' 'versicolor'\n",
      " 'versicolor' 'versicolor' 'versicolor' 'versicolor' 'versicolor'\n",
      " 'versicolor' 'versicolor' 'versicolor' 'versicolor' 'versicolor'\n",
      " 'versicolor' 'virginica' 'virginica' 'virginica' 'virginica' 'virginica'\n",
      " 'virginica' 'virginica' 'virginica' 'virginica' 'virginica' 'virginica'\n",
      " 'virginica' 'virginica' 'virginica' 'virginica' 'virginica' 'virginica'\n",
      " 'virginica' 'virginica' 'virginica' 'virginica' 'virginica' 'virginica'\n",
      " 'virginica' 'virginica' 'virginica' 'virginica' 'virginica' 'virginica'\n",
      " 'virginica' 'virginica' 'virginica' 'virginica' 'virginica' 'virginica'\n",
      " 'virginica' 'virginica' 'virginica' 'virginica' 'virginica' 'virginica'\n",
      " 'virginica' 'virginica' 'virginica' 'virginica' 'virginica' 'virginica'\n",
      " 'virginica' 'virginica' 'virginica']\n"
     ]
    }
   ],
   "source": [
    "print(X)\n",
    "print(Y)"
   ]
  },
  {
   "cell_type": "markdown",
   "id": "e4ff8749",
   "metadata": {},
   "source": [
    "**EXERCISES**"
   ]
  },
  {
   "cell_type": "markdown",
   "id": "803f8f0d",
   "metadata": {},
   "source": [
    "**Exer 1**\n",
    "\n",
    "Create an array with the numbers 0 to 21 in steps of 3 (including the endpoints 0 and 21)"
   ]
  },
  {
   "cell_type": "code",
   "execution_count": 56,
   "id": "f281b5a6",
   "metadata": {},
   "outputs": [
    {
     "data": {
      "text/plain": [
       "array([ 0,  3,  6,  9, 12, 15, 18, 21])"
      ]
     },
     "execution_count": 56,
     "metadata": {},
     "output_type": "execute_result"
    }
   ],
   "source": [
    "M = np.arange(0, 22, 3)\n",
    "M"
   ]
  },
  {
   "cell_type": "markdown",
   "id": "31c34198",
   "metadata": {},
   "source": [
    "**Exer 2**\n",
    "\n",
    "Read in the file heart_reduced from Github. This dataset contains a number of variables (such as age and blood pressure) that can be used to try and predict heart disease."
   ]
  },
  {
   "cell_type": "code",
   "execution_count": 11,
   "id": "ee1c48a9",
   "metadata": {},
   "outputs": [],
   "source": [
    "#local method\n",
    "if not in_colab:\n",
    "    heart = np.loadtxt(\"files_IDS/heart_reduced.csv\", \n",
    "                       delimiter = \",\",\n",
    "                       skiprows=1)\n",
    "else:\n",
    "    heart = np.loadtxt(\"https://raw.githubusercontent.com/jverwaer/IntroDataScience/main/PCLabs/files_IDS/heart_reduced.csv\",\n",
    "                       delimiter = \",\",\n",
    "                       skiprows=1)"
   ]
  },
  {
   "cell_type": "markdown",
   "id": "d82f56e7",
   "metadata": {},
   "source": [
    "## 2. Data Manipulation"
   ]
  },
  {
   "cell_type": "markdown",
   "id": "165b8f33",
   "metadata": {},
   "source": [
    "**ILLUSTRATION**"
   ]
  },
  {
   "cell_type": "markdown",
   "id": "600cade0",
   "metadata": {},
   "source": [
    "**2.a. attributes**"
   ]
  },
  {
   "cell_type": "code",
   "execution_count": 12,
   "id": "e8a62cfa",
   "metadata": {},
   "outputs": [
    {
     "name": "stdout",
     "output_type": "stream",
     "text": [
      "1\n",
      "2\n",
      "(150,)\n",
      "(150, 4)\n"
     ]
    }
   ],
   "source": [
    "# get nr of dimensions\n",
    "print(Y.ndim) \n",
    "print(X.ndim)\n",
    "# get shape -> result is allways tuple\n",
    "print(Y.shape)\n",
    "print(X.shape)"
   ]
  },
  {
   "cell_type": "markdown",
   "id": "e614dda5",
   "metadata": {},
   "source": [
    "**2.b. Indexing**"
   ]
  },
  {
   "cell_type": "code",
   "execution_count": 13,
   "id": "fbc66b68",
   "metadata": {},
   "outputs": [
    {
     "name": "stdout",
     "output_type": "stream",
     "text": [
      "setosa\n",
      "1.4\n",
      "virginica\n",
      "0.2\n"
     ]
    }
   ],
   "source": [
    "#accessing values\n",
    "print(Y[1])          # square brackets with positive integer index\n",
    "print(X[1, 2])       # square brackets with positive integer indices\n",
    "print(Y[-1])         # negative index -> index backward from the end of axis\n",
    "print(X[1, -1])      # negative index -> index backward from the end of axis"
   ]
  },
  {
   "cell_type": "code",
   "execution_count": 14,
   "id": "90734d33",
   "metadata": {},
   "outputs": [
    {
     "name": "stdout",
     "output_type": "stream",
     "text": [
      "['setosa' 'hello' 'setosa' 'setosa' 'setosa' 'setosa' 'setosa' 'setosa'\n",
      " 'setosa' 'setosa' 'setosa' 'setosa' 'setosa' 'setosa' 'setosa' 'setosa'\n",
      " 'setosa' 'setosa' 'setosa' 'setosa' 'setosa' 'setosa' 'setosa' 'setosa'\n",
      " 'setosa' 'setosa' 'setosa' 'setosa' 'setosa' 'setosa' 'setosa' 'setosa'\n",
      " 'setosa' 'setosa' 'setosa' 'setosa' 'setosa' 'setosa' 'setosa' 'setosa'\n",
      " 'setosa' 'setosa' 'setosa' 'setosa' 'setosa' 'setosa' 'setosa' 'setosa'\n",
      " 'setosa' 'setosa' 'versicolor' 'versicolor' 'versicolor' 'versicolor'\n",
      " 'versicolor' 'versicolor' 'versicolor' 'versicolor' 'versicolor'\n",
      " 'versicolor' 'versicolor' 'versicolor' 'versicolor' 'versicolor'\n",
      " 'versicolor' 'versicolor' 'versicolor' 'versicolor' 'versicolor'\n",
      " 'versicolor' 'versicolor' 'versicolor' 'versicolor' 'versicolor'\n",
      " 'versicolor' 'versicolor' 'versicolor' 'versicolor' 'versicolor'\n",
      " 'versicolor' 'versicolor' 'versicolor' 'versicolor' 'versicolor'\n",
      " 'versicolor' 'versicolor' 'versicolor' 'versicolor' 'versicolor'\n",
      " 'versicolor' 'versicolor' 'versicolor' 'versicolor' 'versicolor'\n",
      " 'versicolor' 'versicolor' 'versicolor' 'versicolor' 'versicolor'\n",
      " 'versicolor' 'virginica' 'virginica' 'virginica' 'virginica' 'virginica'\n",
      " 'virginica' 'virginica' 'virginica' 'virginica' 'virginica' 'virginica'\n",
      " 'virginica' 'virginica' 'virginica' 'virginica' 'virginica' 'virginica'\n",
      " 'virginica' 'virginica' 'virginica' 'virginica' 'virginica' 'virginica'\n",
      " 'virginica' 'virginica' 'virginica' 'virginica' 'virginica' 'virginica'\n",
      " 'virginica' 'virginica' 'virginica' 'virginica' 'virginica' 'virginica'\n",
      " 'virginica' 'virginica' 'virginica' 'virginica' 'virginica' 'virginica'\n",
      " 'virginica' 'virginica' 'virginica' 'virginica' 'virginica' 'virginica'\n",
      " 'virginica' 'virginica' 'virginica']\n",
      "[[5.1 3.5 1.4 0.2]\n",
      " [4.9 3.  9.9 0.2]\n",
      " [4.7 3.2 1.3 0.2]\n",
      " [4.6 3.1 1.5 0.2]\n",
      " [5.  3.6 1.4 0.2]\n",
      " [5.4 3.9 1.7 0.4]\n",
      " [4.6 3.4 1.4 0.3]\n",
      " [5.  3.4 1.5 0.2]\n",
      " [4.4 2.9 1.4 0.2]\n",
      " [4.9 3.1 1.5 0.1]\n",
      " [5.4 3.7 1.5 0.2]\n",
      " [4.8 3.4 1.6 0.2]\n",
      " [4.8 3.  1.4 0.1]\n",
      " [4.3 3.  1.1 0.1]\n",
      " [5.8 4.  1.2 0.2]\n",
      " [5.7 4.4 1.5 0.4]\n",
      " [5.4 3.9 1.3 0.4]\n",
      " [5.1 3.5 1.4 0.3]\n",
      " [5.7 3.8 1.7 0.3]\n",
      " [5.1 3.8 1.5 0.3]\n",
      " [5.4 3.4 1.7 0.2]\n",
      " [5.1 3.7 1.5 0.4]\n",
      " [4.6 3.6 1.  0.2]\n",
      " [5.1 3.3 1.7 0.5]\n",
      " [4.8 3.4 1.9 0.2]\n",
      " [5.  3.  1.6 0.2]\n",
      " [5.  3.4 1.6 0.4]\n",
      " [5.2 3.5 1.5 0.2]\n",
      " [5.2 3.4 1.4 0.2]\n",
      " [4.7 3.2 1.6 0.2]\n",
      " [4.8 3.1 1.6 0.2]\n",
      " [5.4 3.4 1.5 0.4]\n",
      " [5.2 4.1 1.5 0.1]\n",
      " [5.5 4.2 1.4 0.2]\n",
      " [4.9 3.1 1.5 0.2]\n",
      " [5.  3.2 1.2 0.2]\n",
      " [5.5 3.5 1.3 0.2]\n",
      " [4.9 3.6 1.4 0.1]\n",
      " [4.4 3.  1.3 0.2]\n",
      " [5.1 3.4 1.5 0.2]\n",
      " [5.  3.5 1.3 0.3]\n",
      " [4.5 2.3 1.3 0.3]\n",
      " [4.4 3.2 1.3 0.2]\n",
      " [5.  3.5 1.6 0.6]\n",
      " [5.1 3.8 1.9 0.4]\n",
      " [4.8 3.  1.4 0.3]\n",
      " [5.1 3.8 1.6 0.2]\n",
      " [4.6 3.2 1.4 0.2]\n",
      " [5.3 3.7 1.5 0.2]\n",
      " [5.  3.3 1.4 0.2]\n",
      " [7.  3.2 4.7 1.4]\n",
      " [6.4 3.2 4.5 1.5]\n",
      " [6.9 3.1 4.9 1.5]\n",
      " [5.5 2.3 4.  1.3]\n",
      " [6.5 2.8 4.6 1.5]\n",
      " [5.7 2.8 4.5 1.3]\n",
      " [6.3 3.3 4.7 1.6]\n",
      " [4.9 2.4 3.3 1. ]\n",
      " [6.6 2.9 4.6 1.3]\n",
      " [5.2 2.7 3.9 1.4]\n",
      " [5.  2.  3.5 1. ]\n",
      " [5.9 3.  4.2 1.5]\n",
      " [6.  2.2 4.  1. ]\n",
      " [6.1 2.9 4.7 1.4]\n",
      " [5.6 2.9 3.6 1.3]\n",
      " [6.7 3.1 4.4 1.4]\n",
      " [5.6 3.  4.5 1.5]\n",
      " [5.8 2.7 4.1 1. ]\n",
      " [6.2 2.2 4.5 1.5]\n",
      " [5.6 2.5 3.9 1.1]\n",
      " [5.9 3.2 4.8 1.8]\n",
      " [6.1 2.8 4.  1.3]\n",
      " [6.3 2.5 4.9 1.5]\n",
      " [6.1 2.8 4.7 1.2]\n",
      " [6.4 2.9 4.3 1.3]\n",
      " [6.6 3.  4.4 1.4]\n",
      " [6.8 2.8 4.8 1.4]\n",
      " [6.7 3.  5.  1.7]\n",
      " [6.  2.9 4.5 1.5]\n",
      " [5.7 2.6 3.5 1. ]\n",
      " [5.5 2.4 3.8 1.1]\n",
      " [5.5 2.4 3.7 1. ]\n",
      " [5.8 2.7 3.9 1.2]\n",
      " [6.  2.7 5.1 1.6]\n",
      " [5.4 3.  4.5 1.5]\n",
      " [6.  3.4 4.5 1.6]\n",
      " [6.7 3.1 4.7 1.5]\n",
      " [6.3 2.3 4.4 1.3]\n",
      " [5.6 3.  4.1 1.3]\n",
      " [5.5 2.5 4.  1.3]\n",
      " [5.5 2.6 4.4 1.2]\n",
      " [6.1 3.  4.6 1.4]\n",
      " [5.8 2.6 4.  1.2]\n",
      " [5.  2.3 3.3 1. ]\n",
      " [5.6 2.7 4.2 1.3]\n",
      " [5.7 3.  4.2 1.2]\n",
      " [5.7 2.9 4.2 1.3]\n",
      " [6.2 2.9 4.3 1.3]\n",
      " [5.1 2.5 3.  1.1]\n",
      " [5.7 2.8 4.1 1.3]\n",
      " [6.3 3.3 6.  2.5]\n",
      " [5.8 2.7 5.1 1.9]\n",
      " [7.1 3.  5.9 2.1]\n",
      " [6.3 2.9 5.6 1.8]\n",
      " [6.5 3.  5.8 2.2]\n",
      " [7.6 3.  6.6 2.1]\n",
      " [4.9 2.5 4.5 1.7]\n",
      " [7.3 2.9 6.3 1.8]\n",
      " [6.7 2.5 5.8 1.8]\n",
      " [7.2 3.6 6.1 2.5]\n",
      " [6.5 3.2 5.1 2. ]\n",
      " [6.4 2.7 5.3 1.9]\n",
      " [6.8 3.  5.5 2.1]\n",
      " [5.7 2.5 5.  2. ]\n",
      " [5.8 2.8 5.1 2.4]\n",
      " [6.4 3.2 5.3 2.3]\n",
      " [6.5 3.  5.5 1.8]\n",
      " [7.7 3.8 6.7 2.2]\n",
      " [7.7 2.6 6.9 2.3]\n",
      " [6.  2.2 5.  1.5]\n",
      " [6.9 3.2 5.7 2.3]\n",
      " [5.6 2.8 4.9 2. ]\n",
      " [7.7 2.8 6.7 2. ]\n",
      " [6.3 2.7 4.9 1.8]\n",
      " [6.7 3.3 5.7 2.1]\n",
      " [7.2 3.2 6.  1.8]\n",
      " [6.2 2.8 4.8 1.8]\n",
      " [6.1 3.  4.9 1.8]\n",
      " [6.4 2.8 5.6 2.1]\n",
      " [7.2 3.  5.8 1.6]\n",
      " [7.4 2.8 6.1 1.9]\n",
      " [7.9 3.8 6.4 2. ]\n",
      " [6.4 2.8 5.6 2.2]\n",
      " [6.3 2.8 5.1 1.5]\n",
      " [6.1 2.6 5.6 1.4]\n",
      " [7.7 3.  6.1 2.3]\n",
      " [6.3 3.4 5.6 2.4]\n",
      " [6.4 3.1 5.5 1.8]\n",
      " [6.  3.  4.8 1.8]\n",
      " [6.9 3.1 5.4 2.1]\n",
      " [6.7 3.1 5.6 2.4]\n",
      " [6.9 3.1 5.1 2.3]\n",
      " [5.8 2.7 5.1 1.9]\n",
      " [6.8 3.2 5.9 2.3]\n",
      " [6.7 3.3 5.7 2.5]\n",
      " [6.7 3.  5.2 2.3]\n",
      " [6.3 2.5 5.  1.9]\n",
      " [6.5 3.  5.2 2. ]\n",
      " [6.2 3.4 5.4 2.3]\n",
      " [5.9 3.  5.1 1.8]]\n"
     ]
    }
   ],
   "source": [
    "#changing values\n",
    "Y[1] = 'hello'\n",
    "print(Y)\n",
    "X[1, 2] = 9.9\n",
    "print(X)"
   ]
  },
  {
   "cell_type": "markdown",
   "id": "93c90555",
   "metadata": {},
   "source": [
    "**Note that values can only be changed to the correct type. Inserting a string inside X is not possible**"
   ]
  },
  {
   "cell_type": "markdown",
   "id": "a4dcbe1c",
   "metadata": {},
   "source": [
    "**2.c. Slicing**\n",
    "\n",
    "Indexing: single value\n",
    "\n",
    "Slicing: multiple values"
   ]
  },
  {
   "cell_type": "code",
   "execution_count": 15,
   "id": "0a25618d",
   "metadata": {
    "scrolled": true
   },
   "outputs": [
    {
     "name": "stdout",
     "output_type": "stream",
     "text": [
      "['setosa' 'hello']\n",
      "[[3.5 1.4 0.2]\n",
      " [3.  9.9 0.2]]\n"
     ]
    }
   ],
   "source": [
    "print(Y[0:2]) \n",
    "print(X[0:2, 1:4])"
   ]
  },
  {
   "cell_type": "code",
   "execution_count": 16,
   "id": "1f6ac741",
   "metadata": {},
   "outputs": [
    {
     "name": "stdout",
     "output_type": "stream",
     "text": [
      "['setosa' 'hello']\n",
      "['setosa' 'setosa' 'setosa' 'setosa' 'setosa' 'setosa' 'setosa' 'setosa'\n",
      " 'setosa' 'setosa' 'setosa' 'setosa' 'setosa' 'setosa' 'setosa' 'setosa'\n",
      " 'setosa' 'setosa' 'setosa' 'setosa' 'setosa' 'setosa' 'setosa' 'setosa'\n",
      " 'setosa' 'setosa' 'setosa' 'setosa' 'setosa' 'setosa' 'setosa' 'setosa'\n",
      " 'setosa' 'setosa' 'setosa' 'setosa' 'setosa' 'setosa' 'setosa' 'setosa'\n",
      " 'setosa' 'setosa' 'setosa' 'setosa' 'setosa' 'setosa' 'setosa' 'setosa'\n",
      " 'versicolor' 'versicolor' 'versicolor' 'versicolor' 'versicolor'\n",
      " 'versicolor' 'versicolor' 'versicolor' 'versicolor' 'versicolor'\n",
      " 'versicolor' 'versicolor' 'versicolor' 'versicolor' 'versicolor'\n",
      " 'versicolor' 'versicolor' 'versicolor' 'versicolor' 'versicolor'\n",
      " 'versicolor' 'versicolor' 'versicolor' 'versicolor' 'versicolor'\n",
      " 'versicolor' 'versicolor' 'versicolor' 'versicolor' 'versicolor'\n",
      " 'versicolor' 'versicolor' 'versicolor' 'versicolor' 'versicolor'\n",
      " 'versicolor' 'versicolor' 'versicolor' 'versicolor' 'versicolor'\n",
      " 'versicolor' 'versicolor' 'versicolor' 'versicolor' 'versicolor'\n",
      " 'versicolor' 'versicolor' 'versicolor' 'versicolor' 'versicolor'\n",
      " 'virginica' 'virginica' 'virginica' 'virginica' 'virginica' 'virginica'\n",
      " 'virginica' 'virginica' 'virginica' 'virginica' 'virginica' 'virginica'\n",
      " 'virginica' 'virginica' 'virginica' 'virginica' 'virginica' 'virginica'\n",
      " 'virginica' 'virginica' 'virginica' 'virginica' 'virginica' 'virginica'\n",
      " 'virginica' 'virginica' 'virginica' 'virginica' 'virginica' 'virginica'\n",
      " 'virginica' 'virginica' 'virginica' 'virginica' 'virginica' 'virginica'\n",
      " 'virginica' 'virginica' 'virginica' 'virginica' 'virginica' 'virginica'\n",
      " 'virginica' 'virginica' 'virginica' 'virginica' 'virginica' 'virginica'\n",
      " 'virginica' 'virginica']\n"
     ]
    }
   ],
   "source": [
    "print(Y[:2]) #from start to 2\n",
    "print(Y[2:]) #from 2 until the end"
   ]
  },
  {
   "cell_type": "code",
   "execution_count": 17,
   "id": "65dd3b46",
   "metadata": {
    "scrolled": true
   },
   "outputs": [
    {
     "name": "stdout",
     "output_type": "stream",
     "text": [
      "[4.9 3.  9.9 0.2]\n",
      "[1.4 9.9 1.3 1.5 1.4 1.7 1.4 1.5 1.4 1.5 1.5 1.6 1.4 1.1 1.2 1.5 1.3 1.4\n",
      " 1.7 1.5 1.7 1.5 1.  1.7 1.9 1.6 1.6 1.5 1.4 1.6 1.6 1.5 1.5 1.4 1.5 1.2\n",
      " 1.3 1.4 1.3 1.5 1.3 1.3 1.3 1.6 1.9 1.4 1.6 1.4 1.5 1.4 4.7 4.5 4.9 4.\n",
      " 4.6 4.5 4.7 3.3 4.6 3.9 3.5 4.2 4.  4.7 3.6 4.4 4.5 4.1 4.5 3.9 4.8 4.\n",
      " 4.9 4.7 4.3 4.4 4.8 5.  4.5 3.5 3.8 3.7 3.9 5.1 4.5 4.5 4.7 4.4 4.1 4.\n",
      " 4.4 4.6 4.  3.3 4.2 4.2 4.2 4.3 3.  4.1 6.  5.1 5.9 5.6 5.8 6.6 4.5 6.3\n",
      " 5.8 6.1 5.1 5.3 5.5 5.  5.1 5.3 5.5 6.7 6.9 5.  5.7 4.9 6.7 4.9 5.7 6.\n",
      " 4.8 4.9 5.6 5.8 6.1 6.4 5.6 5.1 5.6 6.1 5.6 5.5 4.8 5.4 5.6 5.1 5.1 5.9\n",
      " 5.7 5.2 5.  5.2 5.4 5.1]\n"
     ]
    }
   ],
   "source": [
    "print(X[1, :])     # extract one row\n",
    "print(X[:, 2])     # extract one column"
   ]
  },
  {
   "cell_type": "code",
   "execution_count": 18,
   "id": "b89accd3",
   "metadata": {
    "scrolled": true
   },
   "outputs": [
    {
     "name": "stdout",
     "output_type": "stream",
     "text": [
      "[[5.1 1.4]\n",
      " [4.7 1.3]\n",
      " [5.  1.4]\n",
      " [4.6 1.4]\n",
      " [4.4 1.4]\n",
      " [5.4 1.5]\n",
      " [4.8 1.4]\n",
      " [5.8 1.2]\n",
      " [5.4 1.3]\n",
      " [5.7 1.7]\n",
      " [5.4 1.7]\n",
      " [4.6 1. ]\n",
      " [4.8 1.9]\n",
      " [5.  1.6]\n",
      " [5.2 1.4]\n",
      " [4.8 1.6]\n",
      " [5.2 1.5]\n",
      " [4.9 1.5]\n",
      " [5.5 1.3]\n",
      " [4.4 1.3]\n",
      " [5.  1.3]\n",
      " [4.4 1.3]\n",
      " [5.1 1.9]\n",
      " [5.1 1.6]\n",
      " [5.3 1.5]\n",
      " [7.  4.7]\n",
      " [6.9 4.9]\n",
      " [6.5 4.6]\n",
      " [6.3 4.7]\n",
      " [6.6 4.6]\n",
      " [5.  3.5]\n",
      " [6.  4. ]\n",
      " [5.6 3.6]\n",
      " [5.6 4.5]\n",
      " [6.2 4.5]\n",
      " [5.9 4.8]\n",
      " [6.3 4.9]\n",
      " [6.4 4.3]\n",
      " [6.8 4.8]\n",
      " [6.  4.5]\n",
      " [5.5 3.8]\n",
      " [5.8 3.9]\n",
      " [5.4 4.5]\n",
      " [6.7 4.7]\n",
      " [5.6 4.1]\n",
      " [5.5 4.4]\n",
      " [5.8 4. ]\n",
      " [5.6 4.2]\n",
      " [5.7 4.2]\n",
      " [5.1 3. ]\n",
      " [6.3 6. ]\n",
      " [7.1 5.9]\n",
      " [6.5 5.8]\n",
      " [4.9 4.5]\n",
      " [6.7 5.8]\n",
      " [6.5 5.1]\n",
      " [6.8 5.5]\n",
      " [5.8 5.1]\n",
      " [6.5 5.5]\n",
      " [7.7 6.9]\n",
      " [6.9 5.7]\n",
      " [7.7 6.7]\n",
      " [6.7 5.7]\n",
      " [6.2 4.8]\n",
      " [6.4 5.6]\n",
      " [7.4 6.1]\n",
      " [6.4 5.6]\n",
      " [6.1 5.6]\n",
      " [6.3 5.6]\n",
      " [6.  4.8]\n",
      " [6.7 5.6]\n",
      " [5.8 5.1]\n",
      " [6.7 5.7]\n",
      " [6.3 5. ]\n",
      " [6.2 5.4]]\n"
     ]
    }
   ],
   "source": [
    "print(X[0:150:2, 0:4:2]) #index 0 to 150 in steps of 2 + 0 to 4 in steps of 2"
   ]
  },
  {
   "cell_type": "code",
   "execution_count": 19,
   "id": "070ae340",
   "metadata": {},
   "outputs": [
    {
     "name": "stdout",
     "output_type": "stream",
     "text": [
      "[[ 5.1 10.  10.   0.2]\n",
      " [ 4.9  1.   2.   3. ]\n",
      " [ 4.7  3.2  1.3  0.2]\n",
      " [ 4.6  3.1  1.5  0.2]\n",
      " [ 5.   3.6  1.4  0.2]\n",
      " [ 5.4  3.9  1.7  0.4]\n",
      " [ 4.6  3.4  1.4  0.3]\n",
      " [ 5.   3.4  1.5  0.2]\n",
      " [ 4.4  2.9  1.4  0.2]\n",
      " [ 4.9  3.1  1.5  0.1]\n",
      " [ 5.4  3.7  1.5  0.2]\n",
      " [ 4.8  3.4  1.6  0.2]\n",
      " [ 4.8  3.   1.4  0.1]\n",
      " [ 4.3  3.   1.1  0.1]\n",
      " [ 5.8  4.   1.2  0.2]\n",
      " [ 5.7  4.4  1.5  0.4]\n",
      " [ 5.4  3.9  1.3  0.4]\n",
      " [ 5.1  3.5  1.4  0.3]\n",
      " [ 5.7  3.8  1.7  0.3]\n",
      " [ 5.1  3.8  1.5  0.3]\n",
      " [ 5.4  3.4  1.7  0.2]\n",
      " [ 5.1  3.7  1.5  0.4]\n",
      " [ 4.6  3.6  1.   0.2]\n",
      " [ 5.1  3.3  1.7  0.5]\n",
      " [ 4.8  3.4  1.9  0.2]\n",
      " [ 5.   3.   1.6  0.2]\n",
      " [ 5.   3.4  1.6  0.4]\n",
      " [ 5.2  3.5  1.5  0.2]\n",
      " [ 5.2  3.4  1.4  0.2]\n",
      " [ 4.7  3.2  1.6  0.2]\n",
      " [ 4.8  3.1  1.6  0.2]\n",
      " [ 5.4  3.4  1.5  0.4]\n",
      " [ 5.2  4.1  1.5  0.1]\n",
      " [ 5.5  4.2  1.4  0.2]\n",
      " [ 4.9  3.1  1.5  0.2]\n",
      " [ 5.   3.2  1.2  0.2]\n",
      " [ 5.5  3.5  1.3  0.2]\n",
      " [ 4.9  3.6  1.4  0.1]\n",
      " [ 4.4  3.   1.3  0.2]\n",
      " [ 5.1  3.4  1.5  0.2]\n",
      " [ 5.   3.5  1.3  0.3]\n",
      " [ 4.5  2.3  1.3  0.3]\n",
      " [ 4.4  3.2  1.3  0.2]\n",
      " [ 5.   3.5  1.6  0.6]\n",
      " [ 5.1  3.8  1.9  0.4]\n",
      " [ 4.8  3.   1.4  0.3]\n",
      " [ 5.1  3.8  1.6  0.2]\n",
      " [ 4.6  3.2  1.4  0.2]\n",
      " [ 5.3  3.7  1.5  0.2]\n",
      " [ 5.   3.3  1.4  0.2]\n",
      " [ 7.   3.2  4.7  1.4]\n",
      " [ 6.4  3.2  4.5  1.5]\n",
      " [ 6.9  3.1  4.9  1.5]\n",
      " [ 5.5  2.3  4.   1.3]\n",
      " [ 6.5  2.8  4.6  1.5]\n",
      " [ 5.7  2.8  4.5  1.3]\n",
      " [ 6.3  3.3  4.7  1.6]\n",
      " [ 4.9  2.4  3.3  1. ]\n",
      " [ 6.6  2.9  4.6  1.3]\n",
      " [ 5.2  2.7  3.9  1.4]\n",
      " [ 5.   2.   3.5  1. ]\n",
      " [ 5.9  3.   4.2  1.5]\n",
      " [ 6.   2.2  4.   1. ]\n",
      " [ 6.1  2.9  4.7  1.4]\n",
      " [ 5.6  2.9  3.6  1.3]\n",
      " [ 6.7  3.1  4.4  1.4]\n",
      " [ 5.6  3.   4.5  1.5]\n",
      " [ 5.8  2.7  4.1  1. ]\n",
      " [ 6.2  2.2  4.5  1.5]\n",
      " [ 5.6  2.5  3.9  1.1]\n",
      " [ 5.9  3.2  4.8  1.8]\n",
      " [ 6.1  2.8  4.   1.3]\n",
      " [ 6.3  2.5  4.9  1.5]\n",
      " [ 6.1  2.8  4.7  1.2]\n",
      " [ 6.4  2.9  4.3  1.3]\n",
      " [ 6.6  3.   4.4  1.4]\n",
      " [ 6.8  2.8  4.8  1.4]\n",
      " [ 6.7  3.   5.   1.7]\n",
      " [ 6.   2.9  4.5  1.5]\n",
      " [ 5.7  2.6  3.5  1. ]\n",
      " [ 5.5  2.4  3.8  1.1]\n",
      " [ 5.5  2.4  3.7  1. ]\n",
      " [ 5.8  2.7  3.9  1.2]\n",
      " [ 6.   2.7  5.1  1.6]\n",
      " [ 5.4  3.   4.5  1.5]\n",
      " [ 6.   3.4  4.5  1.6]\n",
      " [ 6.7  3.1  4.7  1.5]\n",
      " [ 6.3  2.3  4.4  1.3]\n",
      " [ 5.6  3.   4.1  1.3]\n",
      " [ 5.5  2.5  4.   1.3]\n",
      " [ 5.5  2.6  4.4  1.2]\n",
      " [ 6.1  3.   4.6  1.4]\n",
      " [ 5.8  2.6  4.   1.2]\n",
      " [ 5.   2.3  3.3  1. ]\n",
      " [ 5.6  2.7  4.2  1.3]\n",
      " [ 5.7  3.   4.2  1.2]\n",
      " [ 5.7  2.9  4.2  1.3]\n",
      " [ 6.2  2.9  4.3  1.3]\n",
      " [ 5.1  2.5  3.   1.1]\n",
      " [ 5.7  2.8  4.1  1.3]\n",
      " [ 6.3  3.3  6.   2.5]\n",
      " [ 5.8  2.7  5.1  1.9]\n",
      " [ 7.1  3.   5.9  2.1]\n",
      " [ 6.3  2.9  5.6  1.8]\n",
      " [ 6.5  3.   5.8  2.2]\n",
      " [ 7.6  3.   6.6  2.1]\n",
      " [ 4.9  2.5  4.5  1.7]\n",
      " [ 7.3  2.9  6.3  1.8]\n",
      " [ 6.7  2.5  5.8  1.8]\n",
      " [ 7.2  3.6  6.1  2.5]\n",
      " [ 6.5  3.2  5.1  2. ]\n",
      " [ 6.4  2.7  5.3  1.9]\n",
      " [ 6.8  3.   5.5  2.1]\n",
      " [ 5.7  2.5  5.   2. ]\n",
      " [ 5.8  2.8  5.1  2.4]\n",
      " [ 6.4  3.2  5.3  2.3]\n",
      " [ 6.5  3.   5.5  1.8]\n",
      " [ 7.7  3.8  6.7  2.2]\n",
      " [ 7.7  2.6  6.9  2.3]\n",
      " [ 6.   2.2  5.   1.5]\n",
      " [ 6.9  3.2  5.7  2.3]\n",
      " [ 5.6  2.8  4.9  2. ]\n",
      " [ 7.7  2.8  6.7  2. ]\n",
      " [ 6.3  2.7  4.9  1.8]\n",
      " [ 6.7  3.3  5.7  2.1]\n",
      " [ 7.2  3.2  6.   1.8]\n",
      " [ 6.2  2.8  4.8  1.8]\n",
      " [ 6.1  3.   4.9  1.8]\n",
      " [ 6.4  2.8  5.6  2.1]\n",
      " [ 7.2  3.   5.8  1.6]\n",
      " [ 7.4  2.8  6.1  1.9]\n",
      " [ 7.9  3.8  6.4  2. ]\n",
      " [ 6.4  2.8  5.6  2.2]\n",
      " [ 6.3  2.8  5.1  1.5]\n",
      " [ 6.1  2.6  5.6  1.4]\n",
      " [ 7.7  3.   6.1  2.3]\n",
      " [ 6.3  3.4  5.6  2.4]\n",
      " [ 6.4  3.1  5.5  1.8]\n",
      " [ 6.   3.   4.8  1.8]\n",
      " [ 6.9  3.1  5.4  2.1]\n",
      " [ 6.7  3.1  5.6  2.4]\n",
      " [ 6.9  3.1  5.1  2.3]\n",
      " [ 5.8  2.7  5.1  1.9]\n",
      " [ 6.8  3.2  5.9  2.3]\n",
      " [ 6.7  3.3  5.7  2.5]\n",
      " [ 6.7  3.   5.2  2.3]\n",
      " [ 6.3  2.5  5.   1.9]\n",
      " [ 6.5  3.   5.2  2. ]\n",
      " [ 6.2  3.4  5.4  2.3]\n",
      " [ 5.9  3.   5.1  1.8]]\n"
     ]
    }
   ],
   "source": [
    "#change multiple values\n",
    "X[0, 1:3] = 10 #change multiple values to the same one\n",
    "X[1, 1:4] = [1, 2, 3] #change each value to another value\n",
    "print(X)"
   ]
  },
  {
   "cell_type": "markdown",
   "id": "3ccdc494",
   "metadata": {},
   "source": [
    "**2.d. Reshaping**"
   ]
  },
  {
   "cell_type": "code",
   "execution_count": 20,
   "id": "5bf24fed",
   "metadata": {},
   "outputs": [
    {
     "name": "stdout",
     "output_type": "stream",
     "text": [
      "[[ 1  2  3  4]\n",
      " [ 5  6  7  8]\n",
      " [ 9 10 11 12]]\n"
     ]
    }
   ],
   "source": [
    "A = np.arange(1, 13) # 1D array\n",
    "#reshape is not an in-place method, so you need to assign it to a variable\n",
    "A = A.reshape((3, 4)) #reshape\n",
    "print(A)"
   ]
  },
  {
   "cell_type": "code",
   "execution_count": 21,
   "id": "6c17ab63",
   "metadata": {},
   "outputs": [
    {
     "name": "stdout",
     "output_type": "stream",
     "text": [
      "[[ 1  4  7 10]\n",
      " [ 2  5  8 11]\n",
      " [ 3  6  9 12]]\n"
     ]
    }
   ],
   "source": [
    "#change order\n",
    "A = np.arange(1, 13) # 1D array\n",
    "A = A.reshape((3, 4), order='F') #reshape, fill in per column\n",
    "print(A)"
   ]
  },
  {
   "cell_type": "markdown",
   "id": "6a8b2665",
   "metadata": {},
   "source": [
    "**Note**: There is a difference between a vector (1D) and an array with only a single row/column (2D)"
   ]
  },
  {
   "cell_type": "markdown",
   "id": "4e87b267",
   "metadata": {},
   "source": [
    "**2.e. Joining and splitting**"
   ]
  },
  {
   "cell_type": "code",
   "execution_count": 22,
   "id": "9676e03e",
   "metadata": {},
   "outputs": [
    {
     "name": "stdout",
     "output_type": "stream",
     "text": [
      "[[ 1.   2.   3.   4. ]\n",
      " [ 5.   6.   7.   8. ]\n",
      " [ 5.1 10.  10.   0.2]\n",
      " [ 4.9  1.   2.   3. ]\n",
      " [ 4.7  3.2  1.3  0.2]\n",
      " [ 4.6  3.1  1.5  0.2]\n",
      " [ 5.   3.6  1.4  0.2]\n",
      " [ 5.4  3.9  1.7  0.4]\n",
      " [ 4.6  3.4  1.4  0.3]\n",
      " [ 5.   3.4  1.5  0.2]\n",
      " [ 4.4  2.9  1.4  0.2]\n",
      " [ 4.9  3.1  1.5  0.1]\n",
      " [ 5.4  3.7  1.5  0.2]\n",
      " [ 4.8  3.4  1.6  0.2]\n",
      " [ 4.8  3.   1.4  0.1]\n",
      " [ 4.3  3.   1.1  0.1]\n",
      " [ 5.8  4.   1.2  0.2]\n",
      " [ 5.7  4.4  1.5  0.4]\n",
      " [ 5.4  3.9  1.3  0.4]\n",
      " [ 5.1  3.5  1.4  0.3]\n",
      " [ 5.7  3.8  1.7  0.3]\n",
      " [ 5.1  3.8  1.5  0.3]\n",
      " [ 5.4  3.4  1.7  0.2]\n",
      " [ 5.1  3.7  1.5  0.4]\n",
      " [ 4.6  3.6  1.   0.2]\n",
      " [ 5.1  3.3  1.7  0.5]\n",
      " [ 4.8  3.4  1.9  0.2]\n",
      " [ 5.   3.   1.6  0.2]\n",
      " [ 5.   3.4  1.6  0.4]\n",
      " [ 5.2  3.5  1.5  0.2]\n",
      " [ 5.2  3.4  1.4  0.2]\n",
      " [ 4.7  3.2  1.6  0.2]\n",
      " [ 4.8  3.1  1.6  0.2]\n",
      " [ 5.4  3.4  1.5  0.4]\n",
      " [ 5.2  4.1  1.5  0.1]\n",
      " [ 5.5  4.2  1.4  0.2]\n",
      " [ 4.9  3.1  1.5  0.2]\n",
      " [ 5.   3.2  1.2  0.2]\n",
      " [ 5.5  3.5  1.3  0.2]\n",
      " [ 4.9  3.6  1.4  0.1]\n",
      " [ 4.4  3.   1.3  0.2]\n",
      " [ 5.1  3.4  1.5  0.2]\n",
      " [ 5.   3.5  1.3  0.3]\n",
      " [ 4.5  2.3  1.3  0.3]\n",
      " [ 4.4  3.2  1.3  0.2]\n",
      " [ 5.   3.5  1.6  0.6]\n",
      " [ 5.1  3.8  1.9  0.4]\n",
      " [ 4.8  3.   1.4  0.3]\n",
      " [ 5.1  3.8  1.6  0.2]\n",
      " [ 4.6  3.2  1.4  0.2]\n",
      " [ 5.3  3.7  1.5  0.2]\n",
      " [ 5.   3.3  1.4  0.2]\n",
      " [ 7.   3.2  4.7  1.4]\n",
      " [ 6.4  3.2  4.5  1.5]\n",
      " [ 6.9  3.1  4.9  1.5]\n",
      " [ 5.5  2.3  4.   1.3]\n",
      " [ 6.5  2.8  4.6  1.5]\n",
      " [ 5.7  2.8  4.5  1.3]\n",
      " [ 6.3  3.3  4.7  1.6]\n",
      " [ 4.9  2.4  3.3  1. ]\n",
      " [ 6.6  2.9  4.6  1.3]\n",
      " [ 5.2  2.7  3.9  1.4]\n",
      " [ 5.   2.   3.5  1. ]\n",
      " [ 5.9  3.   4.2  1.5]\n",
      " [ 6.   2.2  4.   1. ]\n",
      " [ 6.1  2.9  4.7  1.4]\n",
      " [ 5.6  2.9  3.6  1.3]\n",
      " [ 6.7  3.1  4.4  1.4]\n",
      " [ 5.6  3.   4.5  1.5]\n",
      " [ 5.8  2.7  4.1  1. ]\n",
      " [ 6.2  2.2  4.5  1.5]\n",
      " [ 5.6  2.5  3.9  1.1]\n",
      " [ 5.9  3.2  4.8  1.8]\n",
      " [ 6.1  2.8  4.   1.3]\n",
      " [ 6.3  2.5  4.9  1.5]\n",
      " [ 6.1  2.8  4.7  1.2]\n",
      " [ 6.4  2.9  4.3  1.3]\n",
      " [ 6.6  3.   4.4  1.4]\n",
      " [ 6.8  2.8  4.8  1.4]\n",
      " [ 6.7  3.   5.   1.7]\n",
      " [ 6.   2.9  4.5  1.5]\n",
      " [ 5.7  2.6  3.5  1. ]\n",
      " [ 5.5  2.4  3.8  1.1]\n",
      " [ 5.5  2.4  3.7  1. ]\n",
      " [ 5.8  2.7  3.9  1.2]\n",
      " [ 6.   2.7  5.1  1.6]\n",
      " [ 5.4  3.   4.5  1.5]\n",
      " [ 6.   3.4  4.5  1.6]\n",
      " [ 6.7  3.1  4.7  1.5]\n",
      " [ 6.3  2.3  4.4  1.3]\n",
      " [ 5.6  3.   4.1  1.3]\n",
      " [ 5.5  2.5  4.   1.3]\n",
      " [ 5.5  2.6  4.4  1.2]\n",
      " [ 6.1  3.   4.6  1.4]\n",
      " [ 5.8  2.6  4.   1.2]\n",
      " [ 5.   2.3  3.3  1. ]\n",
      " [ 5.6  2.7  4.2  1.3]\n",
      " [ 5.7  3.   4.2  1.2]\n",
      " [ 5.7  2.9  4.2  1.3]\n",
      " [ 6.2  2.9  4.3  1.3]\n",
      " [ 5.1  2.5  3.   1.1]\n",
      " [ 5.7  2.8  4.1  1.3]\n",
      " [ 6.3  3.3  6.   2.5]\n",
      " [ 5.8  2.7  5.1  1.9]\n",
      " [ 7.1  3.   5.9  2.1]\n",
      " [ 6.3  2.9  5.6  1.8]\n",
      " [ 6.5  3.   5.8  2.2]\n",
      " [ 7.6  3.   6.6  2.1]\n",
      " [ 4.9  2.5  4.5  1.7]\n",
      " [ 7.3  2.9  6.3  1.8]\n",
      " [ 6.7  2.5  5.8  1.8]\n",
      " [ 7.2  3.6  6.1  2.5]\n",
      " [ 6.5  3.2  5.1  2. ]\n",
      " [ 6.4  2.7  5.3  1.9]\n",
      " [ 6.8  3.   5.5  2.1]\n",
      " [ 5.7  2.5  5.   2. ]\n",
      " [ 5.8  2.8  5.1  2.4]\n",
      " [ 6.4  3.2  5.3  2.3]\n",
      " [ 6.5  3.   5.5  1.8]\n",
      " [ 7.7  3.8  6.7  2.2]\n",
      " [ 7.7  2.6  6.9  2.3]\n",
      " [ 6.   2.2  5.   1.5]\n",
      " [ 6.9  3.2  5.7  2.3]\n",
      " [ 5.6  2.8  4.9  2. ]\n",
      " [ 7.7  2.8  6.7  2. ]\n",
      " [ 6.3  2.7  4.9  1.8]\n",
      " [ 6.7  3.3  5.7  2.1]\n",
      " [ 7.2  3.2  6.   1.8]\n",
      " [ 6.2  2.8  4.8  1.8]\n",
      " [ 6.1  3.   4.9  1.8]\n",
      " [ 6.4  2.8  5.6  2.1]\n",
      " [ 7.2  3.   5.8  1.6]\n",
      " [ 7.4  2.8  6.1  1.9]\n",
      " [ 7.9  3.8  6.4  2. ]\n",
      " [ 6.4  2.8  5.6  2.2]\n",
      " [ 6.3  2.8  5.1  1.5]\n",
      " [ 6.1  2.6  5.6  1.4]\n",
      " [ 7.7  3.   6.1  2.3]\n",
      " [ 6.3  3.4  5.6  2.4]\n",
      " [ 6.4  3.1  5.5  1.8]\n",
      " [ 6.   3.   4.8  1.8]\n",
      " [ 6.9  3.1  5.4  2.1]\n",
      " [ 6.7  3.1  5.6  2.4]\n",
      " [ 6.9  3.1  5.1  2.3]\n",
      " [ 5.8  2.7  5.1  1.9]\n",
      " [ 6.8  3.2  5.9  2.3]\n",
      " [ 6.7  3.3  5.7  2.5]\n",
      " [ 6.7  3.   5.2  2.3]\n",
      " [ 6.3  2.5  5.   1.9]\n",
      " [ 6.5  3.   5.2  2. ]\n",
      " [ 6.2  3.4  5.4  2.3]\n",
      " [ 5.9  3.   5.1  1.8]]\n"
     ]
    }
   ],
   "source": [
    "#concatenate\n",
    "X_extra = np.array([[1, 2, 3, 4], [5, 6, 7, 8]])\n",
    "X_new = np.concatenate([X_extra, X]) \n",
    "print(X_new)"
   ]
  },
  {
   "cell_type": "code",
   "execution_count": 23,
   "id": "1138ce8b",
   "metadata": {},
   "outputs": [],
   "source": [
    "Y_extra = np.array(['new', 'new'])\n",
    "Y_new = np.concatenate([Y_extra, Y]) "
   ]
  },
  {
   "cell_type": "code",
   "execution_count": 24,
   "id": "b8c424cd",
   "metadata": {},
   "outputs": [],
   "source": [
    "#using axis\n",
    "X_new2 = np.concatenate((X, X[:,0].reshape(-1, 1)), axis = 1)"
   ]
  },
  {
   "cell_type": "markdown",
   "id": "1c975fa8",
   "metadata": {},
   "source": [
    "**EXERCISES**"
   ]
  },
  {
   "cell_type": "markdown",
   "id": "34f6dc6e",
   "metadata": {},
   "source": [
    "**Exer 1**\n",
    "\n",
    "Split the heart disease dataset into three parts. X_num should contain the numerical variables: age (first column), trestbps (resting blood pressure, column four) and col (cholesterol level, column five). X_cat should contain the categorical variables: sex (second column), cp (chest pain type, third column), fbs (fasting blood sugar high or low, sixth column) and restecg (resting electrocardiagraphic anomalies, seventh column). Finally, the last variable is the target (whether the patient has a heart disease), name this Y_heart."
   ]
  },
  {
   "cell_type": "code",
   "execution_count": 25,
   "id": "8148fbf4",
   "metadata": {},
   "outputs": [],
   "source": [
    "#allocate a zeroes array\n",
    "X_num = np.zeros((heart.shape[0], 3))\n",
    "#fill in first column\n",
    "X_num[:, 0] = heart[:, 0]\n",
    "#fill in other two columns\n",
    "X_num[:, 1:] = heart[:, 3:5]\n",
    "\n",
    "#same method for X_cat\n",
    "#allocate a zeroes array\n",
    "X_cat = np.zeros((heart.shape[0], 4))\n",
    "#fill in first column\n",
    "X_cat[:, 0:2] = heart[:, 1:3] #sex and cp\n",
    "X_cat[:, 2:] = heart[:, 5:7] #fbs and restecg\n",
    "\n",
    "Y_heart = heart[:, -1] #last column"
   ]
  },
  {
   "cell_type": "markdown",
   "id": "f9daa21e",
   "metadata": {},
   "source": [
    "## 3. Computation"
   ]
  },
  {
   "cell_type": "markdown",
   "id": "dd07d860",
   "metadata": {},
   "source": [
    "**ILLUSTRATION**"
   ]
  },
  {
   "cell_type": "markdown",
   "id": "9545c98d",
   "metadata": {},
   "source": [
    "**3.a. Universal functions**"
   ]
  },
  {
   "cell_type": "code",
   "execution_count": 26,
   "id": "2a6106ff",
   "metadata": {},
   "outputs": [],
   "source": [
    "#square 2nd column\n",
    "\n",
    "#option 1\n",
    "A = np.zeros((150,))\n",
    "for i in range(150):\n",
    "    A[i] = X[i,1]**2\n",
    "\n",
    "#option 2\n",
    "B = X[:,1]**2\n",
    "\n",
    "#option 3\n",
    "B = np.power(X[:,1], 2)    "
   ]
  },
  {
   "cell_type": "code",
   "execution_count": 27,
   "id": "9e5fe4c0",
   "metadata": {
    "scrolled": true
   },
   "outputs": [
    {
     "name": "stdout",
     "output_type": "stream",
     "text": [
      "[15.   6.   8.2  8.1  8.6  8.9  8.4  8.4  7.9  8.1  8.7  8.4  8.   8.\n",
      "  9.   9.4  8.9  8.5  8.8  8.8  8.4  8.7  8.6  8.3  8.4  8.   8.4  8.5\n",
      "  8.4  8.2  8.1  8.4  9.1  9.2  8.1  8.2  8.5  8.6  8.   8.4  8.5  7.3\n",
      "  8.2  8.5  8.8  8.   8.8  8.2  8.7  8.3  8.2  8.2  8.1  7.3  7.8  7.8\n",
      "  8.3  7.4  7.9  7.7  7.   8.   7.2  7.9  7.9  8.1  8.   7.7  7.2  7.5\n",
      "  8.2  7.8  7.5  7.8  7.9  8.   7.8  8.   7.9  7.6  7.4  7.4  7.7  7.7\n",
      "  8.   8.4  8.1  7.3  8.   7.5  7.6  8.   7.6  7.3  7.7  8.   7.9  7.9\n",
      "  7.5  7.8  8.3  7.7  8.   7.9  8.   8.   7.5  7.9  7.5  8.6  8.2  7.7\n",
      "  8.   7.5  7.8  8.2  8.   8.8  7.6  7.2  8.2  7.8  7.8  7.7  8.3  8.2\n",
      "  7.8  8.   7.8  8.   7.8  8.8  7.8  7.8  7.6  8.   8.4  8.1  8.   8.1\n",
      "  8.1  8.1  7.7  8.2  8.3  8.   7.5  8.   8.4  8. ]\n",
      "[20.   3.   4.5  4.6  5.   5.6  4.8  4.9  4.3  4.6  5.2  5.   4.4  4.1\n",
      "  5.2  5.9  5.2  4.9  5.5  5.3  5.1  5.2  4.6  5.   5.3  4.6  5.   5.\n",
      "  4.8  4.8  4.7  4.9  5.6  5.6  4.6  4.4  4.8  5.   4.3  4.9  4.8  3.6\n",
      "  4.5  5.1  5.7  4.4  5.4  4.6  5.2  4.7  7.9  7.7  8.   6.3  7.4  7.3\n",
      "  8.   5.7  7.5  6.6  5.5  7.2  6.2  7.6  6.5  7.5  7.5  6.8  6.7  6.4\n",
      "  8.   6.8  7.4  7.5  7.2  7.4  7.6  8.   7.4  6.1  6.2  6.1  6.6  7.8\n",
      "  7.5  7.9  7.8  6.7  7.1  6.5  7.   7.6  6.6  5.6  6.9  7.2  7.1  7.2\n",
      "  5.5  6.9  9.3  7.8  8.9  8.5  8.8  9.6  7.   9.2  8.3  9.7  8.3  8.\n",
      "  8.5  7.5  7.9  8.5  8.5 10.5  9.5  7.2  8.9  7.7  9.5  7.6  9.   9.2\n",
      "  7.6  7.9  8.4  8.8  8.9 10.2  8.4  7.9  8.2  9.1  9.   8.6  7.8  8.5\n",
      "  8.7  8.2  7.8  9.1  9.   8.2  7.5  8.2  8.8  8.1]\n",
      "[ 8.  -1.   1.2  1.1  1.6  1.9  1.4  1.4  0.9  1.1  1.7  1.4  1.   1.\n",
      "  2.   2.4  1.9  1.5  1.8  1.8  1.4  1.7  1.6  1.3  1.4  1.   1.4  1.5\n",
      "  1.4  1.2  1.1  1.4  2.1  2.2  1.1  1.2  1.5  1.6  1.   1.4  1.5  0.3\n",
      "  1.2  1.5  1.8  1.   1.8  1.2  1.7  1.3  1.2  1.2  1.1  0.3  0.8  0.8\n",
      "  1.3  0.4  0.9  0.7  0.   1.   0.2  0.9  0.9  1.1  1.   0.7  0.2  0.5\n",
      "  1.2  0.8  0.5  0.8  0.9  1.   0.8  1.   0.9  0.6  0.4  0.4  0.7  0.7\n",
      "  1.   1.4  1.1  0.3  1.   0.5  0.6  1.   0.6  0.3  0.7  1.   0.9  0.9\n",
      "  0.5  0.8  1.3  0.7  1.   0.9  1.   1.   0.5  0.9  0.5  1.6  1.2  0.7\n",
      "  1.   0.5  0.8  1.2  1.   1.8  0.6  0.2  1.2  0.8  0.8  0.7  1.3  1.2\n",
      "  0.8  1.   0.8  1.   0.8  1.8  0.8  0.8  0.6  1.   1.4  1.1  1.   1.1\n",
      "  1.1  1.1  0.7  1.2  1.3  1.   0.5  1.   1.4  1. ]\n",
      "[20.   2.   6.4  6.2  7.2  7.8  6.8  6.8  5.8  6.2  7.4  6.8  6.   6.\n",
      "  8.   8.8  7.8  7.   7.6  7.6  6.8  7.4  7.2  6.6  6.8  6.   6.8  7.\n",
      "  6.8  6.4  6.2  6.8  8.2  8.4  6.2  6.4  7.   7.2  6.   6.8  7.   4.6\n",
      "  6.4  7.   7.6  6.   7.6  6.4  7.4  6.6  6.4  6.4  6.2  4.6  5.6  5.6\n",
      "  6.6  4.8  5.8  5.4  4.   6.   4.4  5.8  5.8  6.2  6.   5.4  4.4  5.\n",
      "  6.4  5.6  5.   5.6  5.8  6.   5.6  6.   5.8  5.2  4.8  4.8  5.4  5.4\n",
      "  6.   6.8  6.2  4.6  6.   5.   5.2  6.   5.2  4.6  5.4  6.   5.8  5.8\n",
      "  5.   5.6  6.6  5.4  6.   5.8  6.   6.   5.   5.8  5.   7.2  6.4  5.4\n",
      "  6.   5.   5.6  6.4  6.   7.6  5.2  4.4  6.4  5.6  5.6  5.4  6.6  6.4\n",
      "  5.6  6.   5.6  6.   5.6  7.6  5.6  5.6  5.2  6.   6.8  6.2  6.   6.2\n",
      "  6.2  6.2  5.4  6.4  6.6  6.   5.   6.   6.8  6. ]\n",
      "[5.   0.5  1.6  1.55 1.8  1.95 1.7  1.7  1.45 1.55 1.85 1.7  1.5  1.5\n",
      " 2.   2.2  1.95 1.75 1.9  1.9  1.7  1.85 1.8  1.65 1.7  1.5  1.7  1.75\n",
      " 1.7  1.6  1.55 1.7  2.05 2.1  1.55 1.6  1.75 1.8  1.5  1.7  1.75 1.15\n",
      " 1.6  1.75 1.9  1.5  1.9  1.6  1.85 1.65 1.6  1.6  1.55 1.15 1.4  1.4\n",
      " 1.65 1.2  1.45 1.35 1.   1.5  1.1  1.45 1.45 1.55 1.5  1.35 1.1  1.25\n",
      " 1.6  1.4  1.25 1.4  1.45 1.5  1.4  1.5  1.45 1.3  1.2  1.2  1.35 1.35\n",
      " 1.5  1.7  1.55 1.15 1.5  1.25 1.3  1.5  1.3  1.15 1.35 1.5  1.45 1.45\n",
      " 1.25 1.4  1.65 1.35 1.5  1.45 1.5  1.5  1.25 1.45 1.25 1.8  1.6  1.35\n",
      " 1.5  1.25 1.4  1.6  1.5  1.9  1.3  1.1  1.6  1.4  1.4  1.35 1.65 1.6\n",
      " 1.4  1.5  1.4  1.5  1.4  1.9  1.4  1.4  1.3  1.5  1.7  1.55 1.5  1.55\n",
      " 1.55 1.55 1.35 1.6  1.65 1.5  1.25 1.5  1.7  1.5 ]\n",
      "[100.     1.    10.24   9.61  12.96  15.21  11.56  11.56   8.41   9.61\n",
      "  13.69  11.56   9.     9.    16.    19.36  15.21  12.25  14.44  14.44\n",
      "  11.56  13.69  12.96  10.89  11.56   9.    11.56  12.25  11.56  10.24\n",
      "   9.61  11.56  16.81  17.64   9.61  10.24  12.25  12.96   9.    11.56\n",
      "  12.25   5.29  10.24  12.25  14.44   9.    14.44  10.24  13.69  10.89\n",
      "  10.24  10.24   9.61   5.29   7.84   7.84  10.89   5.76   8.41   7.29\n",
      "   4.     9.     4.84   8.41   8.41   9.61   9.     7.29   4.84   6.25\n",
      "  10.24   7.84   6.25   7.84   8.41   9.     7.84   9.     8.41   6.76\n",
      "   5.76   5.76   7.29   7.29   9.    11.56   9.61   5.29   9.     6.25\n",
      "   6.76   9.     6.76   5.29   7.29   9.     8.41   8.41   6.25   7.84\n",
      "  10.89   7.29   9.     8.41   9.     9.     6.25   8.41   6.25  12.96\n",
      "  10.24   7.29   9.     6.25   7.84  10.24   9.    14.44   6.76   4.84\n",
      "  10.24   7.84   7.84   7.29  10.89  10.24   7.84   9.     7.84   9.\n",
      "   7.84  14.44   7.84   7.84   6.76   9.    11.56   9.61   9.     9.61\n",
      "   9.61   9.61   7.29  10.24  10.89   9.     6.25   9.    11.56   9.  ]\n"
     ]
    }
   ],
   "source": [
    "#other arithmetic functions\n",
    "print(X[:,1] + 5) # short for np.add(X[:,1], 5)\n",
    "print(X[:,1] + X[:,2]) # short for np.add(X[:,1], X[:,2])\n",
    "print(X[:,1] - 2) # subtract\n",
    "print(X[:,1] * 2) # multiply\n",
    "print(X[:,1] / 2) # divide\n",
    "print(X[:,1] ** 2) # square"
   ]
  },
  {
   "cell_type": "code",
   "execution_count": 28,
   "id": "3106774d",
   "metadata": {},
   "outputs": [
    {
     "name": "stdout",
     "output_type": "stream",
     "text": [
      "[1.   0.5  1.25 2.  ]\n",
      "[-0.84147098  0.47942554  0.94898462  0.90929743]\n",
      "[ 0.54030231  0.87758256  0.31532236 -0.41614684]\n",
      "[0.36787944 1.64872127 3.49034296 7.3890561 ]\n",
      "[        nan -0.69314718  0.22314355  0.69314718]\n"
     ]
    },
    {
     "name": "stderr",
     "output_type": "stream",
     "text": [
      "C:\\Users\\adloose\\AppData\\Local\\Continuum\\anaconda3\\lib\\site-packages\\ipykernel_launcher.py:7: RuntimeWarning: invalid value encountered in log\n",
      "  import sys\n"
     ]
    }
   ],
   "source": [
    "#absolute value, trigonometric, exponents and log functions\n",
    "a = np.array([-1, 0.5, 1.25, 2.0])\n",
    "print(np.abs(a)) # absolute value of each element\n",
    "print(np.sin(a)) # sine of each element (angle assumed in radians)\n",
    "print(np.cos(a)) # cosine of each element (angle assumed in radians)\n",
    "print(np.exp(a)) # exponential function: e^a\n",
    "print(np.log(a)) # natural logarithm (ln(a))"
   ]
  },
  {
   "cell_type": "markdown",
   "id": "8d0038ea",
   "metadata": {},
   "source": [
    "**3.b. Aggregations**"
   ]
  },
  {
   "cell_type": "code",
   "execution_count": 29,
   "id": "2ce9c3d4",
   "metadata": {
    "scrolled": true
   },
   "outputs": [
    {
     "name": "stdout",
     "output_type": "stream",
     "text": [
      "[5.84333333 3.08733333 3.81933333 1.218     ]\n",
      "[6.325 2.725 2.35  2.35  2.55  2.85  2.425 2.525 2.225 2.4   2.7   2.5\n",
      " 2.325 2.125 2.8   3.    2.75  2.575 2.875 2.675 2.675 2.675 2.35  2.65\n",
      " 2.575 2.45  2.6   2.6   2.55  2.425 2.425 2.675 2.725 2.825 2.425 2.4\n",
      " 2.625 2.5   2.225 2.55  2.525 2.1   2.275 2.675 2.8   2.375 2.675 2.35\n",
      " 2.675 2.475 4.075 3.9   4.1   3.275 3.85  3.575 3.975 2.9   3.85  3.3\n",
      " 2.875 3.65  3.3   3.775 3.35  3.9   3.65  3.4   3.6   3.275 3.925 3.55\n",
      " 3.8   3.7   3.725 3.85  3.95  4.1   3.725 3.2   3.2   3.15  3.4   3.85\n",
      " 3.6   3.875 4.    3.575 3.5   3.325 3.425 3.775 3.4   2.9   3.45  3.525\n",
      " 3.525 3.675 2.925 3.475 4.525 3.875 4.525 4.15  4.375 4.825 3.4   4.575\n",
      " 4.2   4.85  4.2   4.075 4.35  3.8   4.025 4.3   4.2   5.1   4.875 3.675\n",
      " 4.525 3.825 4.8   3.925 4.45  4.55  3.9   3.95  4.225 4.4   4.55  5.025\n",
      " 4.25  3.925 3.925 4.775 4.425 4.2   3.9   4.375 4.45  4.35  3.875 4.55\n",
      " 4.55  4.3   3.925 4.175 4.325 3.95 ]\n"
     ]
    }
   ],
   "source": [
    "print(X.mean(axis = 0)) #column means\n",
    "print(X.mean(axis = 1)) #row means"
   ]
  },
  {
   "cell_type": "markdown",
   "id": "629fe822",
   "metadata": {},
   "source": [
    "![alt text](files_IDS/aggregations.png \"Aggregations\")"
   ]
  },
  {
   "cell_type": "code",
   "execution_count": 30,
   "id": "17a0f086",
   "metadata": {},
   "outputs": [],
   "source": [
    "#standardise (broadcasting)\n",
    "X_standardized = (X - X.mean(axis = 0)) / X.std(axis=0)"
   ]
  },
  {
   "cell_type": "markdown",
   "id": "2c7076d8",
   "metadata": {},
   "source": [
    "**3.c. Comparisons, masks and boolean logic**"
   ]
  },
  {
   "cell_type": "code",
   "execution_count": 31,
   "id": "aee02f48",
   "metadata": {
    "scrolled": true
   },
   "outputs": [
    {
     "name": "stdout",
     "output_type": "stream",
     "text": [
      "[False  True  True  True False False  True False  True  True False  True\n",
      "  True  True False False False False False False False False  True False\n",
      "  True False False False False  True  True False False False  True False\n",
      " False  True  True False False  True  True False False  True False  True\n",
      " False False False False False False False False False  True False False\n",
      " False False False False False False False False False False False False\n",
      " False False False False False False False False False False False False\n",
      " False False False False False False False False False False False False\n",
      " False False False False False False False False False False  True False\n",
      " False False False False False False False False False False False False\n",
      " False False False False False False False False False False False False\n",
      " False False False False False False False False False False False False\n",
      " False False False False False False]\n",
      "22\n"
     ]
    }
   ],
   "source": [
    "#comparisons\n",
    "A = X[:,0] < 5\n",
    "print(A)\n",
    "print(np.sum(A)) #number of True values (True: 1, False: 0)"
   ]
  },
  {
   "cell_type": "markdown",
   "id": "967e67e2",
   "metadata": {},
   "source": [
    "![alt text](files_IDS/comparison.png \"Comparison\")"
   ]
  },
  {
   "cell_type": "code",
   "execution_count": 32,
   "id": "961f9cad",
   "metadata": {
    "scrolled": true
   },
   "outputs": [
    {
     "name": "stdout",
     "output_type": "stream",
     "text": [
      "[[False False False]\n",
      " [False  True  True]\n",
      " [ True  True  True]]\n",
      "[[False False  True]\n",
      " [False False  True]\n",
      " [False False  True]]\n"
     ]
    }
   ],
   "source": [
    "A = np.arange(1, 10).reshape((3,3))\n",
    "print(A >= 5) # elements that are greater than or equal to 5\n",
    "print(A % 3 == 0) # remainder after division by 3 equals zero"
   ]
  },
  {
   "cell_type": "code",
   "execution_count": 33,
   "id": "66b2ac01",
   "metadata": {},
   "outputs": [
    {
     "name": "stdout",
     "output_type": "stream",
     "text": [
      "[[False False False]\n",
      " [False False  True]\n",
      " [False  True False]]\n",
      "[[False  True False]\n",
      " [ True False  True]\n",
      " [ True  True  True]]\n",
      "[[ True  True  True]\n",
      " [ True  True False]\n",
      " [False False False]]\n"
     ]
    }
   ],
   "source": [
    "#boolean logic\n",
    "print((A > 5)  &  (A % 2 == 0)) #AND\n",
    "print((A > 5)  |  (A % 2 == 0)) #OR\n",
    "print(~(A > 5)) #NOT"
   ]
  },
  {
   "cell_type": "code",
   "execution_count": 34,
   "id": "53148bdb",
   "metadata": {},
   "outputs": [
    {
     "name": "stdout",
     "output_type": "stream",
     "text": [
      "[False False  True False False False  True False  True False False False\n",
      "  True  True False False False False False False False False  True False\n",
      " False False False False False False False False False False False False\n",
      " False  True  True False False  True  True False False  True False  True\n",
      " False False False False False False False False False False False False\n",
      " False False False False False False False False False False False False\n",
      " False False False False False False False False False False False False\n",
      " False False False False False False False False False False False False\n",
      " False False False False False False False False False False False False\n",
      " False False False False False False False False False False False False\n",
      " False False False False False False False False False False False False\n",
      " False False False False False False False False False False False False\n",
      " False False False False False False]\n",
      "12\n"
     ]
    }
   ],
   "source": [
    "print((X[:,0] < 5) & (X[:,2] < 1.5)) #slicing + comparison + boolean logic\n",
    "print(np.sum((X[:,0] < 5) & (X[:,2] < 1.5)))"
   ]
  },
  {
   "cell_type": "code",
   "execution_count": 35,
   "id": "405663d8",
   "metadata": {},
   "outputs": [
    {
     "name": "stdout",
     "output_type": "stream",
     "text": [
      "[2 4 6 8]\n",
      "[2 4 6 7 8 9]\n"
     ]
    }
   ],
   "source": [
    "#masks\n",
    "print(A[A % 2 == 0])\n",
    "print(A[(A > 5) | (A % 2 == 0)])"
   ]
  },
  {
   "cell_type": "code",
   "execution_count": 36,
   "id": "35de8d70",
   "metadata": {},
   "outputs": [],
   "source": [
    "#masks combined with replacing values\n",
    "A[A % 2 == 0] = 0"
   ]
  },
  {
   "cell_type": "code",
   "execution_count": 37,
   "id": "ff289007",
   "metadata": {},
   "outputs": [
    {
     "name": "stdout",
     "output_type": "stream",
     "text": [
      "[[1 0 3]\n",
      " [7 0 9]]\n",
      "[[1 0 3]\n",
      " [7 0 9]]\n"
     ]
    }
   ],
   "source": [
    "#masks as partial index\n",
    "print(A[A[:,0] % 2 == 1, :])\n",
    "\n",
    "mask = A[:,0] % 2 == 1 # using an intermediate variable for readability\n",
    "print(A[mask, :])"
   ]
  },
  {
   "cell_type": "code",
   "execution_count": 38,
   "id": "df876e0d",
   "metadata": {},
   "outputs": [
    {
     "name": "stdout",
     "output_type": "stream",
     "text": [
      "4.690909090909091\n",
      "5.0081632653061225\n",
      "[0.35215763 1.00065368 1.21920287 0.10517632]\n"
     ]
    }
   ],
   "source": [
    "#examples\n",
    "\n",
    "#Compute average sepal length of all ‘short’ sepals ( < 5 )\n",
    "mask = X[:,0] < 5\n",
    "print(np.mean(X[mask, 0]))\n",
    "\n",
    "#Compute average sepal length of all ‘setosa’ flowers\n",
    "mask = Y == 'setosa'\n",
    "print(np.mean(X[mask, 0]))\n",
    "\n",
    "#Compute standard deviation of all variables for ‘setosa’ flowers\n",
    "mask = Y == 'setosa'\n",
    "print(np.std(X[mask, :], axis = 0))"
   ]
  },
  {
   "cell_type": "markdown",
   "id": "23afffc5",
   "metadata": {},
   "source": [
    "**3.d. fancy indexing and sorting**"
   ]
  },
  {
   "cell_type": "code",
   "execution_count": 39,
   "id": "b7521e07",
   "metadata": {},
   "outputs": [
    {
     "name": "stdout",
     "output_type": "stream",
     "text": [
      "[ 1.   10.24 12.96]\n",
      "[0 7 0]\n",
      "[[1 0 3]\n",
      " [7 0 9]]\n"
     ]
    }
   ],
   "source": [
    "#passing an array of indices\n",
    "idx = [1, 2, 4]\n",
    "print(B[idx])\n",
    "\n",
    "#row + column\n",
    "rowidx = [1, 2, 2]\n",
    "colidx = [0, 0, 1]\n",
    "print(A[rowidx, colidx])\n",
    "\n",
    "#combined with slicing\n",
    "rowidx = [0, 2]\n",
    "print(A[rowidx, :])"
   ]
  },
  {
   "cell_type": "code",
   "execution_count": 40,
   "id": "16fb0c1b",
   "metadata": {},
   "outputs": [
    {
     "name": "stdout",
     "output_type": "stream",
     "text": [
      "[[5.8 4.  1.2 0.2]\n",
      " [5.1 2.5 3.  1.1]\n",
      " [6.6 3.  4.4 1.4]\n",
      " [5.4 3.9 1.3 0.4]\n",
      " [7.9 3.8 6.4 2. ]\n",
      " [6.3 3.3 4.7 1.6]\n",
      " [6.9 3.1 5.1 2.3]\n",
      " [5.1 3.8 1.9 0.4]\n",
      " [4.7 3.2 1.6 0.2]\n",
      " [6.9 3.2 5.7 2.3]\n",
      " [5.6 2.7 4.2 1.3]\n",
      " [5.4 3.9 1.7 0.4]\n",
      " [7.1 3.  5.9 2.1]\n",
      " [6.4 3.2 4.5 1.5]\n",
      " [6.  2.9 4.5 1.5]\n",
      " [4.4 3.2 1.3 0.2]\n",
      " [5.8 2.6 4.  1.2]\n",
      " [5.6 3.  4.5 1.5]\n",
      " [5.4 3.4 1.5 0.4]\n",
      " [5.  3.2 1.2 0.2]\n",
      " [5.5 2.6 4.4 1.2]\n",
      " [5.4 3.  4.5 1.5]\n",
      " [6.7 3.  5.  1.7]\n",
      " [5.  3.5 1.3 0.3]\n",
      " [7.2 3.2 6.  1.8]\n",
      " [5.7 2.8 4.1 1.3]\n",
      " [5.5 4.2 1.4 0.2]\n",
      " [5.1 3.8 1.5 0.3]\n",
      " [6.1 2.8 4.7 1.2]\n",
      " [6.3 2.5 5.  1.9]\n",
      " [6.1 3.  4.6 1.4]\n",
      " [7.7 3.  6.1 2.3]\n",
      " [5.6 2.5 3.9 1.1]\n",
      " [6.4 2.8 5.6 2.1]\n",
      " [5.8 2.8 5.1 2.4]\n",
      " [5.3 3.7 1.5 0.2]\n",
      " [5.5 2.3 4.  1.3]\n",
      " [5.2 3.4 1.4 0.2]\n",
      " [6.5 2.8 4.6 1.5]\n",
      " [6.7 2.5 5.8 1.8]\n",
      " [6.8 3.  5.5 2.1]\n",
      " [5.1 3.5 1.4 0.3]\n",
      " [6.  2.2 5.  1.5]\n",
      " [6.3 2.9 5.6 1.8]\n",
      " [6.6 2.9 4.6 1.3]\n",
      " [7.7 2.6 6.9 2.3]\n",
      " [5.7 3.8 1.7 0.3]\n",
      " [5.  3.6 1.4 0.2]\n",
      " [4.8 3.  1.4 0.3]\n",
      " [5.2 2.7 3.9 1.4]\n",
      " [5.1 3.4 1.5 0.2]\n",
      " [5.5 3.5 1.3 0.2]\n",
      " [7.7 3.8 6.7 2.2]\n",
      " [6.9 3.1 5.4 2.1]\n",
      " [7.3 2.9 6.3 1.8]\n",
      " [6.4 2.8 5.6 2.2]\n",
      " [6.2 2.8 4.8 1.8]\n",
      " [6.  3.4 4.5 1.6]\n",
      " [7.7 2.8 6.7 2. ]\n",
      " [5.7 3.  4.2 1.2]]\n"
     ]
    }
   ],
   "source": [
    "#random\n",
    "rand = np.random.RandomState(1) #generate a random state\n",
    "#this makes the code reproducable\n",
    "rowidx = rand.choice(150, 60, replace=False) #select 60 values between 0 and 150 without replacement\n",
    "#no replacement = value can only be selected once\n",
    "print(X[rowidx, :])"
   ]
  },
  {
   "cell_type": "code",
   "execution_count": 41,
   "id": "9c2fde85",
   "metadata": {},
   "outputs": [
    {
     "name": "stdout",
     "output_type": "stream",
     "text": [
      "[1 2 3 5 7 8]\n",
      "[4 5 3 0 2 1]\n"
     ]
    }
   ],
   "source": [
    "#sorting\n",
    "B = np.array([5, 8, 7, 3, 1, 2])\n",
    "print(np.sort(B)) #sort ascending\n",
    "print(np.argsort(B)) #indices sorted elements"
   ]
  },
  {
   "cell_type": "code",
   "execution_count": 42,
   "id": "b06388f3",
   "metadata": {},
   "outputs": [
    {
     "name": "stdout",
     "output_type": "stream",
     "text": [
      "[[ 4.9  1.   2.   3. ]\n",
      " [ 5.   2.   3.5  1. ]\n",
      " [ 6.   2.2  4.   1. ]\n",
      " [ 6.   2.2  5.   1.5]\n",
      " [ 6.2  2.2  4.5  1.5]\n",
      " [ 5.   2.3  3.3  1. ]\n",
      " [ 4.5  2.3  1.3  0.3]\n",
      " [ 5.5  2.3  4.   1.3]\n",
      " [ 6.3  2.3  4.4  1.3]\n",
      " [ 4.9  2.4  3.3  1. ]\n",
      " [ 5.5  2.4  3.8  1.1]\n",
      " [ 5.5  2.4  3.7  1. ]\n",
      " [ 6.3  2.5  5.   1.9]\n",
      " [ 4.9  2.5  4.5  1.7]\n",
      " [ 5.7  2.5  5.   2. ]\n",
      " [ 6.3  2.5  4.9  1.5]\n",
      " [ 5.1  2.5  3.   1.1]\n",
      " [ 5.6  2.5  3.9  1.1]\n",
      " [ 5.5  2.5  4.   1.3]\n",
      " [ 6.7  2.5  5.8  1.8]\n",
      " [ 5.5  2.6  4.4  1.2]\n",
      " [ 7.7  2.6  6.9  2.3]\n",
      " [ 5.7  2.6  3.5  1. ]\n",
      " [ 6.1  2.6  5.6  1.4]\n",
      " [ 5.8  2.6  4.   1.2]\n",
      " [ 5.8  2.7  5.1  1.9]\n",
      " [ 5.2  2.7  3.9  1.4]\n",
      " [ 5.6  2.7  4.2  1.3]\n",
      " [ 6.   2.7  5.1  1.6]\n",
      " [ 6.4  2.7  5.3  1.9]\n",
      " [ 6.3  2.7  4.9  1.8]\n",
      " [ 5.8  2.7  5.1  1.9]\n",
      " [ 5.8  2.7  4.1  1. ]\n",
      " [ 5.8  2.7  3.9  1.2]\n",
      " [ 6.4  2.8  5.6  2.2]\n",
      " [ 5.7  2.8  4.5  1.3]\n",
      " [ 7.4  2.8  6.1  1.9]\n",
      " [ 6.8  2.8  4.8  1.4]\n",
      " [ 6.2  2.8  4.8  1.8]\n",
      " [ 6.4  2.8  5.6  2.1]\n",
      " [ 6.1  2.8  4.7  1.2]\n",
      " [ 7.7  2.8  6.7  2. ]\n",
      " [ 5.7  2.8  4.1  1.3]\n",
      " [ 5.6  2.8  4.9  2. ]\n",
      " [ 6.1  2.8  4.   1.3]\n",
      " [ 5.8  2.8  5.1  2.4]\n",
      " [ 6.3  2.8  5.1  1.5]\n",
      " [ 6.5  2.8  4.6  1.5]\n",
      " [ 6.1  2.9  4.7  1.4]\n",
      " [ 6.6  2.9  4.6  1.3]\n",
      " [ 5.6  2.9  3.6  1.3]\n",
      " [ 6.   2.9  4.5  1.5]\n",
      " [ 6.4  2.9  4.3  1.3]\n",
      " [ 6.2  2.9  4.3  1.3]\n",
      " [ 5.7  2.9  4.2  1.3]\n",
      " [ 6.3  2.9  5.6  1.8]\n",
      " [ 4.4  2.9  1.4  0.2]\n",
      " [ 7.3  2.9  6.3  1.8]\n",
      " [ 5.6  3.   4.1  1.3]\n",
      " [ 6.5  3.   5.2  2. ]\n",
      " [ 6.7  3.   5.2  2.3]\n",
      " [ 6.   3.   4.8  1.8]\n",
      " [ 7.7  3.   6.1  2.3]\n",
      " [ 7.2  3.   5.8  1.6]\n",
      " [ 6.7  3.   5.   1.7]\n",
      " [ 6.5  3.   5.5  1.8]\n",
      " [ 5.4  3.   4.5  1.5]\n",
      " [ 6.8  3.   5.5  2.1]\n",
      " [ 7.6  3.   6.6  2.1]\n",
      " [ 6.5  3.   5.8  2.2]\n",
      " [ 7.1  3.   5.9  2.1]\n",
      " [ 5.7  3.   4.2  1.2]\n",
      " [ 6.1  3.   4.6  1.4]\n",
      " [ 6.1  3.   4.9  1.8]\n",
      " [ 6.6  3.   4.4  1.4]\n",
      " [ 5.9  3.   5.1  1.8]\n",
      " [ 5.   3.   1.6  0.2]\n",
      " [ 5.6  3.   4.5  1.5]\n",
      " [ 4.4  3.   1.3  0.2]\n",
      " [ 5.9  3.   4.2  1.5]\n",
      " [ 4.3  3.   1.1  0.1]\n",
      " [ 4.8  3.   1.4  0.1]\n",
      " [ 4.8  3.   1.4  0.3]\n",
      " [ 4.9  3.1  1.5  0.1]\n",
      " [ 4.8  3.1  1.6  0.2]\n",
      " [ 6.9  3.1  5.4  2.1]\n",
      " [ 6.4  3.1  5.5  1.8]\n",
      " [ 6.7  3.1  5.6  2.4]\n",
      " [ 6.9  3.1  5.1  2.3]\n",
      " [ 4.6  3.1  1.5  0.2]\n",
      " [ 6.9  3.1  4.9  1.5]\n",
      " [ 6.7  3.1  4.4  1.4]\n",
      " [ 6.7  3.1  4.7  1.5]\n",
      " [ 4.9  3.1  1.5  0.2]\n",
      " [ 6.8  3.2  5.9  2.3]\n",
      " [ 4.7  3.2  1.3  0.2]\n",
      " [ 7.2  3.2  6.   1.8]\n",
      " [ 6.9  3.2  5.7  2.3]\n",
      " [ 6.4  3.2  5.3  2.3]\n",
      " [ 6.5  3.2  5.1  2. ]\n",
      " [ 4.7  3.2  1.6  0.2]\n",
      " [ 5.9  3.2  4.8  1.8]\n",
      " [ 4.4  3.2  1.3  0.2]\n",
      " [ 7.   3.2  4.7  1.4]\n",
      " [ 4.6  3.2  1.4  0.2]\n",
      " [ 6.4  3.2  4.5  1.5]\n",
      " [ 5.   3.2  1.2  0.2]\n",
      " [ 6.7  3.3  5.7  2.1]\n",
      " [ 6.3  3.3  4.7  1.6]\n",
      " [ 5.1  3.3  1.7  0.5]\n",
      " [ 6.3  3.3  6.   2.5]\n",
      " [ 5.   3.3  1.4  0.2]\n",
      " [ 6.7  3.3  5.7  2.5]\n",
      " [ 5.   3.4  1.6  0.4]\n",
      " [ 6.2  3.4  5.4  2.3]\n",
      " [ 4.8  3.4  1.9  0.2]\n",
      " [ 4.6  3.4  1.4  0.3]\n",
      " [ 5.4  3.4  1.5  0.4]\n",
      " [ 6.3  3.4  5.6  2.4]\n",
      " [ 5.4  3.4  1.7  0.2]\n",
      " [ 5.   3.4  1.5  0.2]\n",
      " [ 4.8  3.4  1.6  0.2]\n",
      " [ 5.2  3.4  1.4  0.2]\n",
      " [ 6.   3.4  4.5  1.6]\n",
      " [ 5.1  3.4  1.5  0.2]\n",
      " [ 5.   3.5  1.6  0.6]\n",
      " [ 5.5  3.5  1.3  0.2]\n",
      " [ 5.1  3.5  1.4  0.3]\n",
      " [ 5.2  3.5  1.5  0.2]\n",
      " [ 5.   3.5  1.3  0.3]\n",
      " [ 7.2  3.6  6.1  2.5]\n",
      " [ 4.9  3.6  1.4  0.1]\n",
      " [ 4.6  3.6  1.   0.2]\n",
      " [ 5.   3.6  1.4  0.2]\n",
      " [ 5.3  3.7  1.5  0.2]\n",
      " [ 5.1  3.7  1.5  0.4]\n",
      " [ 5.4  3.7  1.5  0.2]\n",
      " [ 7.7  3.8  6.7  2.2]\n",
      " [ 5.1  3.8  1.5  0.3]\n",
      " [ 7.9  3.8  6.4  2. ]\n",
      " [ 5.1  3.8  1.9  0.4]\n",
      " [ 5.7  3.8  1.7  0.3]\n",
      " [ 5.1  3.8  1.6  0.2]\n",
      " [ 5.4  3.9  1.7  0.4]\n",
      " [ 5.4  3.9  1.3  0.4]\n",
      " [ 5.8  4.   1.2  0.2]\n",
      " [ 5.2  4.1  1.5  0.1]\n",
      " [ 5.5  4.2  1.4  0.2]\n",
      " [ 5.7  4.4  1.5  0.4]\n",
      " [ 5.1 10.  10.   0.2]]\n"
     ]
    }
   ],
   "source": [
    "#Sorting rows of a 2D array on a column\n",
    "idx = np.argsort(X[:,1])\n",
    "print(X[idx, :])"
   ]
  },
  {
   "cell_type": "markdown",
   "id": "e7595d93",
   "metadata": {},
   "source": [
    "**EXERCISES**"
   ]
  },
  {
   "cell_type": "markdown",
   "id": "c523a37f",
   "metadata": {},
   "source": [
    "**Exer 1**\n",
    "\n",
    "Adapt X_cat to show strings instead. Use the following conversions:\n",
    "\n",
    "* sex: 0 --> 'female', 1 --> 'male' \n",
    "* cp (chest pain type): 0 --> 'typical angina', 1 --> 'atypical angina', 2 --> 'non-anginal pain', 3 --> 'asymptomatic'\n",
    "* fbs (fasting blood sugar): 0 --> 'low', 1 --> 'high'\n",
    "* restecg (ST-T wave abnormality): 0 --> 'normal', 1 --> 'abnormal'\n",
    "\n",
    "In order to use strings in an array, you need to specify the space that will be reserved. Using dtype=str will only reserve a single character. If you want more characters, you can do this the following way:\n",
    "\n",
    "- np.zeros((3, 2), dtype='<U5')\n",
    "\n",
    "This creates a 3 by 2 array with 5 spaces reserved. Anything longer will be cut off after the 5th letter."
   ]
  },
  {
   "cell_type": "code",
   "execution_count": 59,
   "id": "3aa10e17",
   "metadata": {},
   "outputs": [],
   "source": [
    "X_cat_new = np.zeros((X_cat.shape[0], X_cat.shape[1]), dtype='<U30')\n",
    "\n",
    "#sex\n",
    "mask = X_cat[:, 0]==0 #get the females\n",
    "X_cat_new[mask, 0] = 'female' #replace the values with Female\n",
    "X_cat_new[~mask, 0] = 'male' #replace the reverse values with Male\n",
    "\n",
    "#fbs\n",
    "mask = X_cat[:, 2]==0\n",
    "X_cat_new[mask, 2] = 'low'\n",
    "X_cat_new[~mask, 2] = 'high'\n",
    "\n",
    "#fbs\n",
    "mask = X_cat[:, 3]==0\n",
    "X_cat_new[mask, 3] = 'normal'\n",
    "X_cat_new[~mask, 3] = 'abnormal'\n",
    "\n",
    "#cp\n",
    "mask = X_cat[:, 1]==0\n",
    "X_cat_new[mask, 1] = 'typical angina'\n",
    "mask = X_cat[:, 1]==1\n",
    "X_cat_new[mask, 1] = 'atypical angina'\n",
    "mask = X_cat[:, 1]==2\n",
    "X_cat_new[mask, 1] = 'non-anginal pain'\n",
    "mask = X_cat[:, 1]==3\n",
    "X_cat_new[mask, 1] = 'asymptomatic'"
   ]
  },
  {
   "cell_type": "code",
   "execution_count": 60,
   "id": "f2ddcb50",
   "metadata": {},
   "outputs": [
    {
     "data": {
      "text/plain": [
       "array([['male', 'typical angina', 'low', 'abnormal'],\n",
       "       ['male', 'typical angina', 'high', 'normal'],\n",
       "       ['male', 'typical angina', 'low', 'abnormal'],\n",
       "       ...,\n",
       "       ['male', 'typical angina', 'low', 'normal'],\n",
       "       ['female', 'typical angina', 'low', 'normal'],\n",
       "       ['male', 'typical angina', 'low', 'abnormal']], dtype='<U30')"
      ]
     },
     "execution_count": 60,
     "metadata": {},
     "output_type": "execute_result"
    }
   ],
   "source": [
    "X_cat_new"
   ]
  },
  {
   "cell_type": "markdown",
   "id": "a03b100e",
   "metadata": {},
   "source": [
    "**Exer 2**\n",
    "\n",
    "What percentage of patients have typical angina? Is this the same for each gender?"
   ]
  },
  {
   "cell_type": "code",
   "execution_count": 44,
   "id": "eaf12e36",
   "metadata": {},
   "outputs": [
    {
     "name": "stdout",
     "output_type": "stream",
     "text": [
      "48.48780487804878\n",
      "female: 42.62820512820513\n",
      "male: 51.051893408134646\n"
     ]
    }
   ],
   "source": [
    "#patients with typical angina\n",
    "result = np.sum(X_cat_new[:, 1] == 'typical angina')\n",
    "#divide by total and multiply by 100\n",
    "result = 100 * result/X_cat_new.shape[0]\n",
    "print(result)\n",
    "\n",
    "#per gender\n",
    "result_female = np.sum((X_cat_new[:, 1] == 'typical angina') & (X_cat_new[:, 0] == 'female'))\n",
    "#divide by total female and multiply by 100\n",
    "result_female = 100 * result_female/np.sum(X_cat_new[:, 0]=='female')\n",
    "print('female: ' + str(result_female))\n",
    "#repeat for male\n",
    "result_male = np.sum((X_cat_new[:, 1] == 'typical angina') & (X_cat_new[:, 0] == 'male'))\n",
    "#divide by total female and multiply by 100\n",
    "result_male = 100 * result_male/np.sum(X_cat_new[:, 0]=='male')\n",
    "print('male: ' + str(result_male))"
   ]
  },
  {
   "cell_type": "code",
   "execution_count": null,
   "id": "993b98f1",
   "metadata": {},
   "outputs": [],
   "source": []
  }
 ],
 "metadata": {
  "kernelspec": {
   "display_name": "Python 3 (ipykernel)",
   "language": "python",
   "name": "python3"
  },
  "language_info": {
   "codemirror_mode": {
    "name": "ipython",
    "version": 3
   },
   "file_extension": ".py",
   "mimetype": "text/x-python",
   "name": "python",
   "nbconvert_exporter": "python",
   "pygments_lexer": "ipython3",
   "version": "3.7.4"
  }
 },
 "nbformat": 4,
 "nbformat_minor": 5
}
