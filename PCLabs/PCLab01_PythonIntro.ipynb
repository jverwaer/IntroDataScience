{
 "cells": [
  {
   "cell_type": "markdown",
   "id": "62e56eac",
   "metadata": {},
   "source": [
    "# Introduction to Data Science PC Lab 01: Introduction to Python"
   ]
  },
  {
   "cell_type": "markdown",
   "id": "8922af95",
   "metadata": {},
   "source": [
    "Author: Jan Verwaeren - Arne Deloose\n",
    "\n",
    "Course: Introduction to Data Science"
   ]
  },
  {
   "cell_type": "markdown",
   "id": "f930a300",
   "metadata": {},
   "source": [
    "Welcome, dear reader, to this short introduction to Python and Google Colab. In this notebook, we will cover the basics of Python, which you will need in your journey through data science. Each section of this notebook (there are three in this one) will first illustrate the principles followed by several exercises. But before we start, let us cover the basics of notebooks."
   ]
  },
  {
   "cell_type": "markdown",
   "id": "d37d154e",
   "metadata": {},
   "source": [
    "**What is a notebook?**\n",
    "\n",
    "A notebook is a document that contains both text/visuals and code. This makes the code much more human-readable and easier to document. A notebook consists of individual cells which are either text cells such as the one you are reading right now, or code cells. The code cells will contain Python code (but other programming languages can also work with notebooks). If you want to put text inside a code cell, you will need to use a '#' to mark it as a comment. In Colab, you can insert a new cell using the insert menu at the top (try inserting a code cell and a text cell below here)."
   ]
  },
  {
   "cell_type": "markdown",
   "id": "f72a0d5e",
   "metadata": {},
   "source": [
    "Well done. By clicking inside a cell, you can alter its contents. Executing a cell can be done using SHIFT + ENTER or by pressing the play button. Deleting a cell can be done with the icon on the right."
   ]
  },
  {
   "cell_type": "markdown",
   "id": "5b6c1b9f",
   "metadata": {},
   "source": [
    "**Colab vs Jupyter/VScode**\n",
    "\n",
    "In this course, we will use Colab, but you can also use a local program such as Jupyter or VSCode. However, some methods will be slightly different, because Colab cannot access local files on your pc. In other to deal with this, the code block below will  detect what you are using right now and adjust accordingly. Don't worry too much about how this code works just yet. "
   ]
  },
  {
   "cell_type": "code",
   "execution_count": null,
   "id": "d7545e7f",
   "metadata": {},
   "outputs": [],
   "source": [
    "try:\n",
    "    import google.colab\n",
    "    in_colab = True #set in_colab to True if you're running the code from google colab\n",
    "except:\n",
    "    in_colab = False #otherwise, it's false"
   ]
  },
  {
   "cell_type": "markdown",
   "id": "3d881048",
   "metadata": {},
   "source": [
    "**Saving notebooks**"
   ]
  },
  {
   "cell_type": "markdown",
   "id": "59c3fab1",
   "metadata": {},
   "source": [
    "Because Colab is a server based program, alterations you make to this notebook will not be saved locally. If you want to save this notebook with your own notes included, you will need to download it under file, download and select .ipynb. Saved notebooks can be uploaded again to Colab later. The notebooks we use will always be available on Github. Simply paste the Github link into Colab to load a notebook.\n",
    "\n",
    "Now that we have dealt with this, let's get started with:"
   ]
  },
  {
   "cell_type": "markdown",
   "id": "14501f5c",
   "metadata": {},
   "source": [
    "## 1. Datatypes"
   ]
  },
  {
   "cell_type": "markdown",
   "id": "d0fab1d0",
   "metadata": {},
   "source": [
    "There are various datatypes in Python. Below, we will discuss some of the most important ones: numeric types (integers and floats), strings, lists and tuples and bools. Python has a flexible type system which allows for variables to be implicitely defined and converted when necessary to perform certain functions."
   ]
  },
  {
   "cell_type": "markdown",
   "id": "7c81a4a3",
   "metadata": {},
   "source": [
    "**ILLUSTRATION**"
   ]
  },
  {
   "cell_type": "markdown",
   "id": "bf829ea3",
   "metadata": {},
   "source": [
    "**1.a. numeric variables**"
   ]
  },
  {
   "cell_type": "markdown",
   "id": "abf08986",
   "metadata": {},
   "source": [
    "Let us start with definining a simple integer and printing out its type using the function type()\n",
    "\n",
    "As can be seen, explicitely defining the type is not necessary, Python will automatically assume this is an integer based on its form."
   ]
  },
  {
   "cell_type": "code",
   "execution_count": null,
   "id": "ae9c7862",
   "metadata": {},
   "outputs": [],
   "source": [
    "#define a variable\n",
    "a = 5\n",
    "#print out the type\n",
    "print(type(a))"
   ]
  },
  {
   "cell_type": "markdown",
   "id": "32c0e611",
   "metadata": {},
   "source": [
    "If we want a float instead, we either have to write the variable in the form of a float (implicit), or explicitely give it the float type."
   ]
  },
  {
   "cell_type": "code",
   "execution_count": null,
   "id": "b1ba1e99",
   "metadata": {},
   "outputs": [],
   "source": [
    "#define a float\n",
    "\n",
    "#implicit\n",
    "b = 5.0\n",
    "print(type(b))\n",
    "\n",
    "#explicit\n",
    "b = float(5)\n",
    "print(type(b))"
   ]
  },
  {
   "cell_type": "markdown",
   "id": "0b369d72",
   "metadata": {},
   "source": [
    "As you can see, Python is very flexible with data types. Notice what happens if we add our float *b* and our int *a* together:"
   ]
  },
  {
   "cell_type": "code",
   "execution_count": null,
   "id": "d7f414b1",
   "metadata": {
    "scrolled": false
   },
   "outputs": [],
   "source": [
    "#add an int and a float together\n",
    "c = a + b\n",
    "#a will be automatically converted to a float\n",
    "print(type(c))\n",
    "print(c) #print the value"
   ]
  },
  {
   "cell_type": "markdown",
   "id": "1094fe40",
   "metadata": {},
   "source": [
    "This makes Python code easy to write. However, do be careful, because your datatypes might change without Python telling you.\n",
    "\n",
    "We can also explicitely convert data types, as can be seen below."
   ]
  },
  {
   "cell_type": "code",
   "execution_count": null,
   "id": "75f0b8e5",
   "metadata": {},
   "outputs": [],
   "source": [
    "#convert types\n",
    "d = 5.9 #float\n",
    "\n",
    "#conversion\n",
    "d1 = int(d) #convert to int\n",
    "print(d1) #check value\n",
    "\n",
    "#rounding\n",
    "d2 = round(d)\n",
    "print(d2)"
   ]
  },
  {
   "cell_type": "markdown",
   "id": "bf74d0b9",
   "metadata": {},
   "source": [
    "Notice here that rounding and converting is not the same thing, so always be careful when you convert data types"
   ]
  },
  {
   "cell_type": "markdown",
   "id": "b0b22737",
   "metadata": {},
   "source": [
    "Now let us move on to strings"
   ]
  },
  {
   "cell_type": "markdown",
   "id": "5e958d17",
   "metadata": {},
   "source": [
    "**1.b. strings**"
   ]
  },
  {
   "cell_type": "markdown",
   "id": "9049d12b",
   "metadata": {},
   "source": [
    "Once again, we can define a string implicitely or explicitely"
   ]
  },
  {
   "cell_type": "code",
   "execution_count": null,
   "id": "1567aede",
   "metadata": {},
   "outputs": [],
   "source": [
    "str1 = 'hello'\n",
    "print(type(str1))\n",
    "\n",
    "str2 = str(5)\n",
    "print(type(str2))\n",
    "print(str2)"
   ]
  },
  {
   "cell_type": "markdown",
   "id": "b85f6ac9",
   "metadata": {},
   "source": [
    "Be careful here. 5 and '5' are not the same thing. If you try to add *str2* together with *a*, you will get an error because Python cannot convert the variables into a compatible form (go ahead and try this below if you do not believe me)."
   ]
  },
  {
   "cell_type": "markdown",
   "id": "1c577131",
   "metadata": {},
   "source": [
    "Strings are saved as little arrays, which means it is possible to select specific letters. Note that Python indexing starts at 0, so 1:3 are the second and third letter of a string (endpoint is not included)"
   ]
  },
  {
   "cell_type": "code",
   "execution_count": null,
   "id": "73563b8d",
   "metadata": {},
   "outputs": [],
   "source": [
    "#indexing\n",
    "#print out letters 2 and 3\n",
    "print(str1[1:3]) #indexing starts at 0, we want positions 1 and 2 "
   ]
  },
  {
   "cell_type": "markdown",
   "id": "b9d14429",
   "metadata": {},
   "source": [
    "We can add ('concatenate') strings together using + . Notice that we are overwriting str2 with a different value here"
   ]
  },
  {
   "cell_type": "code",
   "execution_count": null,
   "id": "028207e1",
   "metadata": {},
   "outputs": [],
   "source": [
    "#add strings together\n",
    "str2 = 'hello' + ' ' + 'world'\n",
    "print(str2)"
   ]
  },
  {
   "cell_type": "markdown",
   "id": "a5c6a18a",
   "metadata": {},
   "source": [
    "Strings have methods. These are built-in functions you can use on any string. They use the format:\n",
    "\n",
    "str.method()\n",
    "\n",
    "Where str is replaced with the name of your string and method the method. Methods have function inputs too. For example:"
   ]
  },
  {
   "cell_type": "code",
   "execution_count": null,
   "id": "b8b2abed",
   "metadata": {
    "scrolled": true
   },
   "outputs": [],
   "source": [
    "#string methods\n",
    "#count how often the letter 'l' appears\n",
    "result = str2.count('l')\n",
    "print(result)"
   ]
  },
  {
   "cell_type": "markdown",
   "id": "388b16c9",
   "metadata": {},
   "source": [
    "Or to convert to uppercase:"
   ]
  },
  {
   "cell_type": "code",
   "execution_count": null,
   "id": "973ddb67",
   "metadata": {
    "scrolled": true
   },
   "outputs": [],
   "source": [
    "#convert to uppercase\n",
    "str3 = str2.upper() #mind the brackets\n",
    "print(str3)"
   ]
  },
  {
   "cell_type": "markdown",
   "id": "3cc649df",
   "metadata": {},
   "source": [
    "As you can see, a method can be given with empty input. However, the brackets are still necessary, otherwise you will get the function back instead of the output of the function."
   ]
  },
  {
   "cell_type": "markdown",
   "id": "fd854537",
   "metadata": {},
   "source": [
    "Below, you can see an overview of some important string methods"
   ]
  },
  {
   "cell_type": "markdown",
   "id": "54e34144",
   "metadata": {},
   "source": [
    "<div align=\"center\">String methods overview</div>"
   ]
  },
  {
   "cell_type": "markdown",
   "id": "93f40de5",
   "metadata": {},
   "source": [
    "![alt text](files_IDS/stringmethods.png \"String methods\")"
   ]
  },
  {
   "cell_type": "markdown",
   "id": "7b996467",
   "metadata": {},
   "source": [
    "**1.c. lists and tuples**"
   ]
  },
  {
   "cell_type": "markdown",
   "id": "4b8a5b89",
   "metadata": {},
   "source": [
    "If we want to have multiple elements in one variable, we can use a list or a tuple. Tuples and lists behave identically for the most part, however, tuples are immutable (elements cannot be replaced). Once again, we can define them implicitely or explicitely. Converting other variables is also possible, but be careful here, because Python might not always convert the way you expect."
   ]
  },
  {
   "cell_type": "code",
   "execution_count": null,
   "id": "89270410",
   "metadata": {},
   "outputs": [],
   "source": [
    "#lists\n",
    "list1 = list(str3)\n",
    "list2 = ['apples', 'bananas', 'coconuts']\n",
    "print(list1)\n",
    "print(list2)\n",
    "\n",
    "#tuples\n",
    "tuple1 = tuple(str3)\n",
    "tuple2 = ('apples', 'bananas', 'coconuts')\n",
    "print(tuple1)\n",
    "print(tuple2)"
   ]
  },
  {
   "cell_type": "markdown",
   "id": "e9c56444",
   "metadata": {},
   "source": [
    "As you can see, converting a string will split it into letters by default. \n",
    "\n",
    "We can access elements of a list using indexing with square brackets [ ]"
   ]
  },
  {
   "cell_type": "code",
   "execution_count": null,
   "id": "e88a664f",
   "metadata": {},
   "outputs": [],
   "source": [
    "#indexing\n",
    "print(list2[1]) #access a word\n",
    "print(tuple2[1])"
   ]
  },
  {
   "cell_type": "markdown",
   "id": "73e32bf8",
   "metadata": {},
   "source": [
    "If an element of a list is a string, we can double index to access letters within this string"
   ]
  },
  {
   "cell_type": "code",
   "execution_count": null,
   "id": "eb2dd6e1",
   "metadata": {},
   "outputs": [],
   "source": [
    "#double indexing\n",
    "print(list2[1][2:]) #second word, select letters from 3 to the end of the string"
   ]
  },
  {
   "cell_type": "markdown",
   "id": "e0f853be",
   "metadata": {},
   "source": [
    "Modifying a list can be done by assigning a new element to a position. We can also use list methods such as *append* to add an element."
   ]
  },
  {
   "cell_type": "code",
   "execution_count": null,
   "id": "499cec73",
   "metadata": {
    "scrolled": false
   },
   "outputs": [],
   "source": [
    "#replace element\n",
    "list2[1] = 'oranges'\n",
    "print(list2)"
   ]
  },
  {
   "cell_type": "markdown",
   "id": "851fc6ec",
   "metadata": {},
   "source": [
    "As you can see below, *append* is an 'in-place' method. It directly modifies the list without giving an output"
   ]
  },
  {
   "cell_type": "code",
   "execution_count": null,
   "id": "11f7422a",
   "metadata": {
    "scrolled": true
   },
   "outputs": [],
   "source": [
    "#list methods\n",
    "#append\n",
    "\n",
    "list2.append('pears') \n",
    "print(list2)"
   ]
  },
  {
   "cell_type": "markdown",
   "id": "5f1574cb",
   "metadata": {},
   "source": [
    "**Note**: Tuples are immutable, so assigning or appending will not work"
   ]
  },
  {
   "cell_type": "markdown",
   "id": "378faba9",
   "metadata": {},
   "source": [
    "The number of elements in a list can be found with the function len() (this will also work on a string)"
   ]
  },
  {
   "cell_type": "code",
   "execution_count": null,
   "id": "f5ef6e9b",
   "metadata": {
    "scrolled": true
   },
   "outputs": [],
   "source": [
    "#number of elements in a list\n",
    "print(len(list2))"
   ]
  },
  {
   "cell_type": "markdown",
   "id": "373a0332",
   "metadata": {},
   "source": [
    "List elements can be the same type, but we can mix types as well"
   ]
  },
  {
   "cell_type": "code",
   "execution_count": null,
   "id": "e055a5ff",
   "metadata": {},
   "outputs": [],
   "source": [
    "#mixing var types\n",
    "list4 = [5, 'apple', 4.20]\n",
    "print(list4)"
   ]
  },
  {
   "cell_type": "markdown",
   "id": "1d3a4e2c",
   "metadata": {},
   "source": [
    "Finally, the function split can be used to seperate a string into list elements. A seperator or 'delimiter' must be provided"
   ]
  },
  {
   "cell_type": "code",
   "execution_count": null,
   "id": "089ac1b0",
   "metadata": {
    "scrolled": true
   },
   "outputs": [],
   "source": [
    "#split a string into a list\n",
    "str4 = 'this,is,a,test,string'\n",
    "print(str4.split(',')) #split into list using , as sep"
   ]
  },
  {
   "cell_type": "markdown",
   "id": "1f9af80c",
   "metadata": {},
   "source": [
    "**1.d. Bools**"
   ]
  },
  {
   "cell_type": "markdown",
   "id": "52e96ff2",
   "metadata": {},
   "source": [
    "Finally, we have bools. Bools are either True or False. If you make a comparison, the result will be a True or a False (or multiple values, depending on what you are comparing)"
   ]
  },
  {
   "cell_type": "code",
   "execution_count": null,
   "id": "23b9da7b",
   "metadata": {
    "scrolled": false
   },
   "outputs": [],
   "source": [
    "bool1 = True\n",
    "print(type(bool1))"
   ]
  },
  {
   "cell_type": "markdown",
   "id": "e265179b",
   "metadata": {},
   "source": [
    "Bigger then or smaller then works in the following way"
   ]
  },
  {
   "cell_type": "code",
   "execution_count": null,
   "id": "dea03ff8",
   "metadata": {
    "scrolled": true
   },
   "outputs": [],
   "source": [
    "#compare numbers\n",
    "print(3<4) #less than\n",
    "print(3>4) #more than\n",
    "print(3<=3) #less or equal\n",
    "print(3>=4) #more or equal"
   ]
  },
  {
   "cell_type": "markdown",
   "id": "128b4637",
   "metadata": {},
   "source": [
    "Equal or not equal works like this. Mind the double ==. This is necessary to distinguish between variable assignments and equality tests"
   ]
  },
  {
   "cell_type": "code",
   "execution_count": null,
   "id": "d3621dd2",
   "metadata": {},
   "outputs": [],
   "source": [
    "#compare numbers\n",
    "print(3==4) #equal, \n",
    "print(3!=4) #not equal"
   ]
  },
  {
   "cell_type": "code",
   "execution_count": null,
   "id": "ef12f627",
   "metadata": {},
   "outputs": [],
   "source": [
    "#comparisons auto-convert ints and floats\n",
    "print(int(3)==float(3))"
   ]
  },
  {
   "cell_type": "markdown",
   "id": "18593ff5",
   "metadata": {},
   "source": [
    "If we want to check if a substring appears in a string, we can use *in*. *In* can also be used to see if an element is present in a list"
   ]
  },
  {
   "cell_type": "code",
   "execution_count": null,
   "id": "9ca78c4d",
   "metadata": {
    "scrolled": true
   },
   "outputs": [],
   "source": [
    "#in operator\n",
    "print('hello' in str2)\n",
    "print('hello' in str3) #str3 is capitalised\n",
    "print('hello' in str3.lower()) #convert str3 back to lowercase"
   ]
  },
  {
   "cell_type": "markdown",
   "id": "07478de2",
   "metadata": {},
   "source": [
    "**EXERCISES**"
   ]
  },
  {
   "cell_type": "markdown",
   "id": "83d217de",
   "metadata": {},
   "source": [
    "Now that we have seen how everything works, you should be able to solve these exercises"
   ]
  },
  {
   "cell_type": "markdown",
   "id": "4450e74b",
   "metadata": {},
   "source": [
    "**Exer 1**\n",
    "\n",
    "Below, a course name is given. Convert this name so the first letter is capitalised. Do this in a general way that works for every name.\n",
    "\n",
    "Hint: is there a string method that can help you here?"
   ]
  },
  {
   "cell_type": "code",
   "execution_count": null,
   "id": "ab5eaccb",
   "metadata": {},
   "outputs": [],
   "source": [
    "CourseName = 'process engineering'"
   ]
  },
  {
   "cell_type": "code",
   "execution_count": null,
   "id": "9ac0c9a7",
   "metadata": {},
   "outputs": [],
   "source": [
    "#..."
   ]
  },
  {
   "cell_type": "markdown",
   "id": "4a67215f",
   "metadata": {},
   "source": [
    "The course name contains two words. Capitalize both of them. \n",
    "\n",
    "Hint: strings can be split based on spaces"
   ]
  },
  {
   "cell_type": "code",
   "execution_count": null,
   "id": "106b2c8b",
   "metadata": {},
   "outputs": [],
   "source": [
    "#..."
   ]
  },
  {
   "cell_type": "markdown",
   "id": "f6efdf70",
   "metadata": {},
   "source": [
    "**Exer 2**\n",
    "\n",
    "Below, a list of some important model organisms used in research is given. Using this as the basis, create a new list that contains the shortened name instead (initial + genus). So instead of 'Escherichia coli', we want 'E. coli'."
   ]
  },
  {
   "cell_type": "code",
   "execution_count": null,
   "id": "b58f27ea",
   "metadata": {},
   "outputs": [],
   "source": [
    "#define list\n",
    "model_organism = ['Escherichia coli', 'Arabidopsis thaliana', 'Drosophila melanogaster'] "
   ]
  },
  {
   "cell_type": "code",
   "execution_count": null,
   "id": "dbe3a29c",
   "metadata": {},
   "outputs": [],
   "source": [
    "#..."
   ]
  },
  {
   "cell_type": "markdown",
   "id": "5949509f",
   "metadata": {},
   "source": [
    "## 2. Control structures"
   ]
  },
  {
   "cell_type": "markdown",
   "id": "7ab79f4b",
   "metadata": {},
   "source": [
    "In this second part, we will discuss control structures. We will discuss IF, FOR and WHILE."
   ]
  },
  {
   "cell_type": "markdown",
   "id": "2bfc208a",
   "metadata": {},
   "source": [
    "**ILLUSTRATION**"
   ]
  },
  {
   "cell_type": "markdown",
   "id": "d6bd3f28",
   "metadata": {},
   "source": [
    "**2.a. IF**"
   ]
  },
  {
   "cell_type": "markdown",
   "id": "7c292642",
   "metadata": {},
   "source": [
    "With the if statement, a block of code will be executed if a specific condition is met (condition is True). The following form is used:\n",
    "\n",
    "    if condition:\n",
    "        code block\n",
    "    \n",
    "Mind the indentation here. The code block must be indented (shifted to the right) so Python knows which part of the code is inside the *if* statement. "
   ]
  },
  {
   "cell_type": "code",
   "execution_count": null,
   "id": "af74765d",
   "metadata": {},
   "outputs": [],
   "source": [
    "#if\n",
    "num = 45\n",
    "\n",
    "#if\n",
    "if num > 25:\n",
    "    print(\"Number is greater than 25\") #indented\n",
    "print(\"This part is not inside the if statement\") #not indented"
   ]
  },
  {
   "cell_type": "markdown",
   "id": "ee38fc2d",
   "metadata": {},
   "source": [
    "With *if else*, we can supply two blocks of code. If the condition is True, the *if* block is executed, if it is False, the *else* block is executed."
   ]
  },
  {
   "cell_type": "code",
   "execution_count": null,
   "id": "45766a5a",
   "metadata": {
    "scrolled": true
   },
   "outputs": [],
   "source": [
    "#if-else\n",
    "if num % 2 == 0: #remainder after division is zero\n",
    "    print(\"Number is even\")\n",
    "else:\n",
    "    print(\"Number is odd\")"
   ]
  },
  {
   "cell_type": "markdown",
   "id": "35c15b52",
   "metadata": {},
   "source": [
    "Using *elif*, we can check multiple conditions in a row. If the first condition is not met, the next *elif* is checked. If they are all False, *else* is executed."
   ]
  },
  {
   "cell_type": "code",
   "execution_count": null,
   "id": "7390cc9d",
   "metadata": {},
   "outputs": [],
   "source": [
    "# if-elif-else\n",
    "# any number of elif can be used\n",
    "if num < 0:\n",
    "    print(\"Number is a negative number\")\n",
    "elif num > 0:\n",
    "    print(\"Number is a positive number\")\n",
    "else:\n",
    "    print(\"Number is zero\")"
   ]
  },
  {
   "cell_type": "markdown",
   "id": "307c9c08",
   "metadata": {},
   "source": [
    "Multiple *if* statements can be nested together"
   ]
  },
  {
   "cell_type": "code",
   "execution_count": null,
   "id": "83039772",
   "metadata": {},
   "outputs": [],
   "source": [
    "#nested ifs\n",
    "num = 40\n",
    "\n",
    "#if\n",
    "if num > 25:\n",
    "    if num % 2 == 0: \n",
    "        print(\"Number is greater than 20 and even\")"
   ]
  },
  {
   "cell_type": "markdown",
   "id": "3a9ae88d",
   "metadata": {},
   "source": [
    "We can accomplish the same thing using the *and* statement to combine both conditions. *Or* can also be used."
   ]
  },
  {
   "cell_type": "code",
   "execution_count": null,
   "id": "e981e4a7",
   "metadata": {},
   "outputs": [],
   "source": [
    "#and\n",
    "num = 40\n",
    "\n",
    "if num > 25 and num % 2 == 0: \n",
    "    print(\"Number is greater than 20 and even\")"
   ]
  },
  {
   "cell_type": "markdown",
   "id": "c96f74d7",
   "metadata": {},
   "source": [
    "**2.b. FOR**"
   ]
  },
  {
   "cell_type": "markdown",
   "id": "d8f28a28",
   "metadata": {},
   "source": [
    "Using *for*, we can execute a block of code a fixed number of times. *For* uses an iterator that changes every loop. There are different types of iterators. Below, you can see numeric iterators and list iterators"
   ]
  },
  {
   "cell_type": "code",
   "execution_count": null,
   "id": "3e4d54cb",
   "metadata": {},
   "outputs": [],
   "source": [
    "#for, range\n",
    "#use only endpoint\n",
    "for i in range(5):\n",
    "    print(i)"
   ]
  },
  {
   "cell_type": "code",
   "execution_count": null,
   "id": "a4254686",
   "metadata": {},
   "outputs": [],
   "source": [
    "#for\n",
    "#start and endpoint\n",
    "for i in range(3, 5):\n",
    "    print(i)"
   ]
  },
  {
   "cell_type": "code",
   "execution_count": null,
   "id": "edb73b29",
   "metadata": {},
   "outputs": [],
   "source": [
    "#for\n",
    "#start and endpoint + step\n",
    "for i in range(2, 10, 2): #from 2 to 10 in steps of 2\n",
    "    print(i)"
   ]
  },
  {
   "cell_type": "code",
   "execution_count": null,
   "id": "a302e068",
   "metadata": {},
   "outputs": [],
   "source": [
    "#for\n",
    "#using a list\n",
    "list_fruit = ['apples', 'bananas', 'coconuts']\n",
    "for fruit in list_fruit:\n",
    "    print(fruit)"
   ]
  },
  {
   "cell_type": "markdown",
   "id": "31d41e87",
   "metadata": {},
   "source": [
    "**2.c. WHILE**"
   ]
  },
  {
   "cell_type": "markdown",
   "id": "56accfcf",
   "metadata": {},
   "source": [
    "With *while*, a piece of code is executed until a condition is met"
   ]
  },
  {
   "cell_type": "code",
   "execution_count": null,
   "id": "66eb81e2",
   "metadata": {
    "scrolled": true
   },
   "outputs": [],
   "source": [
    "#while\n",
    "num = 0\n",
    "while num<10:\n",
    "    num+=1 #add 1 to number\n",
    "print(num)"
   ]
  },
  {
   "cell_type": "markdown",
   "id": "9179745f",
   "metadata": {},
   "source": [
    "**EXERCISES**"
   ]
  },
  {
   "cell_type": "markdown",
   "id": "d7e55eaf",
   "metadata": {},
   "source": [
    "**Exer 1**\n",
    "\n",
    "The Collatz conjecture is a famous unsolved math problem. Given a number (positive integer), the following operation is performed:\n",
    "* If the number is even: divide by 2\n",
    "* If it is odd: multiply by 3 and add 1\n",
    "\n",
    "If the new number is not equal to 1, the same rules are followed again. Given these rules, will the sequence always converge to 1?\n",
    "\n",
    "Write a program that executes these operations for a given number. Using *input*, you can prompt the user for a number (note that this will be given as string by default). Count the number of operations performed and write this back to the user.\n",
    "\n",
    "EXTRA: adapt your code to give an error message when an invalid input is given (not a positive integer). For this, you can use the function isnumeric() to detect whether an input is a positive integer (this works on a string as well). Keep in mind that 0 is an invalid input as well."
   ]
  },
  {
   "cell_type": "code",
   "execution_count": null,
   "id": "26583fc7",
   "metadata": {
    "scrolled": true
   },
   "outputs": [],
   "source": [
    "#..."
   ]
  },
  {
   "cell_type": "code",
   "execution_count": null,
   "id": "18c5a3ab",
   "metadata": {},
   "outputs": [],
   "source": [
    "#with input checking\n",
    "#..."
   ]
  },
  {
   "cell_type": "markdown",
   "id": "60494ba3",
   "metadata": {},
   "source": [
    "**Exer 2**\n",
    "\n",
    "Replace the drug names in the list below by their capitalised version (you can use the *capitalize* string method)."
   ]
  },
  {
   "cell_type": "code",
   "execution_count": null,
   "id": "acfb8a66",
   "metadata": {},
   "outputs": [],
   "source": [
    "#define list\n",
    "DrugNames = ['adderall', 'mydayis', 'ritalin', 'concerta']"
   ]
  },
  {
   "cell_type": "code",
   "execution_count": null,
   "id": "f0db8cf5",
   "metadata": {},
   "outputs": [],
   "source": [
    "#..."
   ]
  },
  {
   "cell_type": "markdown",
   "id": "e9251042",
   "metadata": {},
   "source": [
    "## 3. File input/output"
   ]
  },
  {
   "cell_type": "markdown",
   "id": "5da77a90",
   "metadata": {},
   "source": [
    "Finally, we will briefly discuss loading files into a notebook. There are various methods to do this, but some of them work better in Colab vs a local program. In general, there are two methods: network locations (Github) and locally"
   ]
  },
  {
   "cell_type": "markdown",
   "id": "97418e65",
   "metadata": {},
   "source": [
    "**ILLUSTRATION**"
   ]
  },
  {
   "cell_type": "markdown",
   "id": "55200b20",
   "metadata": {},
   "source": [
    "**3.a  Network location (such as Github)**"
   ]
  },
  {
   "cell_type": "markdown",
   "id": "2002e7d9",
   "metadata": {},
   "source": [
    "Option 1 (colab recommended): clone the entire repository from Github\n",
    "\n",
    "After the clone command, the repo will show up in the sidebar (select the files icon). It can now be accessed as if it's a local file"
   ]
  },
  {
   "cell_type": "code",
   "execution_count": null,
   "id": "7b478791",
   "metadata": {
    "scrolled": true
   },
   "outputs": [],
   "source": [
    "#this method should not be used outside google colab\n",
    "if in_colab:\n",
    "    #first clone the repo (insert the link below)\n",
    "    !git clone https://github.com/jverwaer/IntroDataScience\n",
    "    #navigate to the repo and then use / to select files inside the repo\n",
    "    #open the file\n",
    "    f = open('IntroDataScience/PCLabs/files_IDS/iris.csv', 'r')\n",
    "    #read the lines\n",
    "    print(f.readlines())"
   ]
  },
  {
   "cell_type": "markdown",
   "id": "d6727290",
   "metadata": {},
   "source": [
    "Option 2 (works everywhere): load raw files using the direct link\n",
    "\n",
    "- Click on the file in the repository on Github, \n",
    "- Click on 'View Raw',\n",
    "- Copy the URL of the raw file, \n",
    "- Use this URL as the location of your file. \n",
    "\n",
    "Some functions can work directly with a URL. However, the function *open* cannot do this. Therefore, we need to use the requests library.\n"
   ]
  },
  {
   "cell_type": "code",
   "execution_count": null,
   "id": "84923150",
   "metadata": {},
   "outputs": [],
   "source": [
    "#load a file directly from Github\n",
    "url='https://raw.githubusercontent.com/jverwaer/IntroDataScience/main/PCLabs/files_IDS/iris.csv' #raw github link\n",
    "\n",
    "#load requests library\n",
    "import requests\n",
    "\n",
    "#use requests to load the file from the url\n",
    "f = requests.get(url)\n",
    "#print out the text\n",
    "print(f.text)"
   ]
  },
  {
   "cell_type": "markdown",
   "id": "8ad20027",
   "metadata": {},
   "source": [
    "**3.b Local files**\n",
    "\n",
    "In the sidebar, navigate to the files icon and select *upload*. Then you can navigate to this file.\n",
    "\n",
    "Outside of colab, uploading is not necessary if the file is in the correct location (same folder as notebook). Otherwise, you need to copy the correct path.\n",
    "\n",
    "Other paths can be set using the following commands:\n",
    "\n",
    "    import os\n",
    "    os.chdir('c:\\\\temp\\\\files_IDS') #navigate to the temp folder\n",
    "\n",
    "Keep in mind that setting a path like this will make the notebook less reproducable (a location might not exist on a different computer).\n",
    "\n",
    "If we are working with a local program, there's no need to upload anything, we can simply navigate to the correct location to load in the file"
   ]
  },
  {
   "cell_type": "code",
   "execution_count": null,
   "id": "741d93fc",
   "metadata": {},
   "outputs": [],
   "source": [
    "#google colab\n",
    "if in_colab:\n",
    "    f = open('iris.csv', 'r') #remember to upload the file first\n",
    "    print(f.readlines())\n",
    "else: #locally\n",
    "    f = open('files_IDS/iris.csv', 'r') #location (relative path)\n",
    "    print(f.readlines())"
   ]
  },
  {
   "cell_type": "markdown",
   "id": "39e8dcf9",
   "metadata": {},
   "source": [
    "**EXERCISES**"
   ]
  },
  {
   "cell_type": "markdown",
   "id": "c88c1183",
   "metadata": {},
   "source": [
    "**Exer 1**\n",
    "\n",
    "Get the raw Github links for iris_features and iris_labels and read both files seperately. "
   ]
  },
  {
   "cell_type": "code",
   "execution_count": null,
   "id": "00f3d605",
   "metadata": {},
   "outputs": [],
   "source": [
    "url_X='...' #raw github link\n",
    "url_Y='...' #raw github link\n",
    "\n",
    "#..."
   ]
  },
  {
   "cell_type": "markdown",
   "id": "2a81b3d3",
   "metadata": {},
   "source": [
    "**Exer 2**\n",
    "\n",
    "Using the data you loaded, extract the petal width of the third flower."
   ]
  },
  {
   "cell_type": "code",
   "execution_count": null,
   "id": "a8092793",
   "metadata": {},
   "outputs": [],
   "source": [
    "#..."
   ]
  },
  {
   "cell_type": "code",
   "execution_count": null,
   "id": "7089ad73",
   "metadata": {},
   "outputs": [],
   "source": []
  }
 ],
 "metadata": {
  "kernelspec": {
   "display_name": "Python 3 (ipykernel)",
   "language": "python",
   "name": "python3"
  },
  "language_info": {
   "codemirror_mode": {
    "name": "ipython",
    "version": 3
   },
   "file_extension": ".py",
   "mimetype": "text/x-python",
   "name": "python",
   "nbconvert_exporter": "python",
   "pygments_lexer": "ipython3",
   "version": "3.7.4"
  }
 },
 "nbformat": 4,
 "nbformat_minor": 5
}
