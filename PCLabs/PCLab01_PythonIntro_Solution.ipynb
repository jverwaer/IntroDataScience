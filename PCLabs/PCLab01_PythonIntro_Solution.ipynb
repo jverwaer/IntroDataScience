{
 "cells": [
  {
   "cell_type": "markdown",
   "id": "62e56eac",
   "metadata": {},
   "source": [
    "# Introduction to Data Science PC Lab 01: Introduction to Python"
   ]
  },
  {
   "cell_type": "markdown",
   "id": "8922af95",
   "metadata": {},
   "source": [
    "Author: Jan Verwaeren - Arne Deloose\n",
    "\n",
    "Course: Introduction to Data Science"
   ]
  },
  {
   "cell_type": "markdown",
   "id": "f930a300",
   "metadata": {},
   "source": [
    "Welcome, dear reader, to this short introduction to Python and Google Colab. In this notebook, we will cover the basics of Python, which you will need in your journey through data science. Each section of this notebook (there are three in this one) will first illustrate the principles followed by several exercises. But before we start, let us cover the basics of notebooks."
   ]
  },
  {
   "cell_type": "markdown",
   "id": "d37d154e",
   "metadata": {},
   "source": [
    "**What is a notebook?**\n",
    "\n",
    "A notebook is a document that contains both text/visuals and code. This makes the code much more human-readable and easier to document. A notebook consists of individual cells which are either text cells such as the one you are reading right now, or code cells. The code cells will contain Python code (but other programming languages can also work with notebooks). If you want to put text inside a code cell, you will need to use a '#' to mark it as a comment. In Colab, you can insert a new cell using the insert menu at the top (try inserting a code cell and a text cell below here)."
   ]
  },
  {
   "cell_type": "markdown",
   "id": "f72a0d5e",
   "metadata": {},
   "source": [
    "Well done. By clicking inside a cell, you can alter its contents. Executing a cell can be done using SHIFT + ENTER or by pressing the play button. Deleting a cell can be done with the icon on the right."
   ]
  },
  {
   "cell_type": "markdown",
   "id": "5b6c1b9f",
   "metadata": {},
   "source": [
    "**Colab vs Jupyter/VScode**\n",
    "\n",
    "In this course, we will use Colab, but you can also use a local program such as Jupyter or VSCode. However, some methods will be slightly different, because Colab cannot access local files on your pc. In other to deal with this, the code block below will  detect what you are using right now and adjust accordingly. Don't worry too much about how this code works just yet. "
   ]
  },
  {
   "cell_type": "code",
   "execution_count": 1,
   "id": "d7545e7f",
   "metadata": {},
   "outputs": [],
   "source": [
    "try:\n",
    "    import google.colab\n",
    "    in_colab = True #set in_colab to True if you're running the code from google colab\n",
    "except:\n",
    "    in_colab = False #otherwise, it's false"
   ]
  },
  {
   "cell_type": "markdown",
   "id": "3d881048",
   "metadata": {},
   "source": [
    "**Saving notebooks**"
   ]
  },
  {
   "cell_type": "markdown",
   "id": "59c3fab1",
   "metadata": {},
   "source": [
    "Because Colab is a server based program, alterations you make to this notebook will not be saved locally. If you want to save this notebook with your own notes included, you will need to download it under file, download and select .ipynb. Saved notebooks can be uploaded again to Colab later. The notebooks we use will always be available on Github. Simply paste the Github link into Colab to load a notebook.\n",
    "\n",
    "Now that we have dealt with this, let's get started with:"
   ]
  },
  {
   "cell_type": "markdown",
   "id": "14501f5c",
   "metadata": {},
   "source": [
    "## 1. Datatypes"
   ]
  },
  {
   "cell_type": "markdown",
   "id": "d0fab1d0",
   "metadata": {},
   "source": [
    "There are various datatypes in Python. Below, we will discuss some of the most important ones: numeric types (integers and floats), strings, lists and tuples and bools. Python has a flexible type system which allows for variables to be implicitely defined and converted when necessary to perform certain functions."
   ]
  },
  {
   "cell_type": "markdown",
   "id": "7c81a4a3",
   "metadata": {},
   "source": [
    "**ILLUSTRATION**"
   ]
  },
  {
   "cell_type": "markdown",
   "id": "bf829ea3",
   "metadata": {},
   "source": [
    "**1.a. numeric variables**"
   ]
  },
  {
   "cell_type": "markdown",
   "id": "abf08986",
   "metadata": {},
   "source": [
    "Let us start with definining a simple integer and printing out its type using the function type()\n",
    "\n",
    "As can be seen, explicitely defining the type is not necessary, Python will automatically assume this is an integer based on its form."
   ]
  },
  {
   "cell_type": "code",
   "execution_count": 2,
   "id": "ae9c7862",
   "metadata": {},
   "outputs": [
    {
     "name": "stdout",
     "output_type": "stream",
     "text": [
      "<class 'int'>\n"
     ]
    }
   ],
   "source": [
    "#define a variable\n",
    "a = 5\n",
    "#print out the type\n",
    "print(type(a))"
   ]
  },
  {
   "cell_type": "markdown",
   "id": "32c0e611",
   "metadata": {},
   "source": [
    "If we want a float instead, we either have to write the variable in the form of a float (implicit), or explicitely give it the float type."
   ]
  },
  {
   "cell_type": "code",
   "execution_count": 3,
   "id": "b1ba1e99",
   "metadata": {},
   "outputs": [
    {
     "name": "stdout",
     "output_type": "stream",
     "text": [
      "<class 'float'>\n",
      "<class 'float'>\n"
     ]
    }
   ],
   "source": [
    "#define a float\n",
    "\n",
    "#implicit\n",
    "b = 5.0\n",
    "print(type(b))\n",
    "\n",
    "#explicit\n",
    "b = float(5)\n",
    "print(type(b))"
   ]
  },
  {
   "cell_type": "markdown",
   "id": "0b369d72",
   "metadata": {},
   "source": [
    "As you can see, Python is very flexible with data types. Notice what happens if we add our float *b* and our int *a* together:"
   ]
  },
  {
   "cell_type": "code",
   "execution_count": 4,
   "id": "d7f414b1",
   "metadata": {
    "scrolled": false
   },
   "outputs": [
    {
     "name": "stdout",
     "output_type": "stream",
     "text": [
      "<class 'float'>\n",
      "10.0\n"
     ]
    }
   ],
   "source": [
    "#add an int and a float together\n",
    "c = a + b\n",
    "#a will be automatically converted to a float\n",
    "print(type(c))\n",
    "print(c) #print the value"
   ]
  },
  {
   "cell_type": "markdown",
   "id": "1094fe40",
   "metadata": {},
   "source": [
    "This makes Python code easy to write. However, do be careful, because your datatypes might change without Python telling you.\n",
    "\n",
    "We can also explicitely convert data types, as can be seen below."
   ]
  },
  {
   "cell_type": "code",
   "execution_count": 5,
   "id": "75f0b8e5",
   "metadata": {},
   "outputs": [
    {
     "name": "stdout",
     "output_type": "stream",
     "text": [
      "5\n",
      "6\n"
     ]
    }
   ],
   "source": [
    "#convert types\n",
    "d = 5.9 #float\n",
    "\n",
    "#conversion\n",
    "d1 = int(d) #convert to int\n",
    "print(d1) #check value\n",
    "\n",
    "#rounding\n",
    "d2 = round(d)\n",
    "print(d2)"
   ]
  },
  {
   "cell_type": "markdown",
   "id": "bf74d0b9",
   "metadata": {},
   "source": [
    "Notice here that rounding and converting is not the same thing, so always be careful when you convert data types"
   ]
  },
  {
   "cell_type": "markdown",
   "id": "b0b22737",
   "metadata": {},
   "source": [
    "Now let us move on to strings"
   ]
  },
  {
   "cell_type": "markdown",
   "id": "5e958d17",
   "metadata": {},
   "source": [
    "**1.b. strings**"
   ]
  },
  {
   "cell_type": "markdown",
   "id": "9049d12b",
   "metadata": {},
   "source": [
    "Once again, we can define a string implicitely or explicitely"
   ]
  },
  {
   "cell_type": "code",
   "execution_count": 6,
   "id": "1567aede",
   "metadata": {},
   "outputs": [
    {
     "name": "stdout",
     "output_type": "stream",
     "text": [
      "<class 'str'>\n",
      "<class 'str'>\n",
      "5\n"
     ]
    }
   ],
   "source": [
    "str1 = 'hello'\n",
    "print(type(str1))\n",
    "\n",
    "str2 = str(5)\n",
    "print(type(str2))\n",
    "print(str2)"
   ]
  },
  {
   "cell_type": "markdown",
   "id": "b85f6ac9",
   "metadata": {},
   "source": [
    "Be careful here. 5 and '5' are not the same thing. If you try to add *str2* together with *a*, you will get an error because Python cannot convert the variables into a compatible form (go ahead and try this below if you do not believe me)."
   ]
  },
  {
   "cell_type": "markdown",
   "id": "1c577131",
   "metadata": {},
   "source": [
    "Strings are saved as little arrays, which means it is possible to select specific letters. Note that Python indexing starts at 0, so 1:3 are the second and third letter of a string (endpoint is not included)"
   ]
  },
  {
   "cell_type": "code",
   "execution_count": 7,
   "id": "73563b8d",
   "metadata": {},
   "outputs": [
    {
     "name": "stdout",
     "output_type": "stream",
     "text": [
      "el\n"
     ]
    }
   ],
   "source": [
    "#indexing\n",
    "#print out letters 2 and 3\n",
    "print(str1[1:3]) #indexing starts at 0, we want positions 1 and 2 "
   ]
  },
  {
   "cell_type": "markdown",
   "id": "b9d14429",
   "metadata": {},
   "source": [
    "We can add ('concatenate') strings together using + . Notice that we are overwriting str2 with a different value here"
   ]
  },
  {
   "cell_type": "code",
   "execution_count": 8,
   "id": "028207e1",
   "metadata": {},
   "outputs": [
    {
     "name": "stdout",
     "output_type": "stream",
     "text": [
      "hello world\n"
     ]
    }
   ],
   "source": [
    "#add strings together\n",
    "str2 = 'hello' + ' ' + 'world'\n",
    "print(str2)"
   ]
  },
  {
   "cell_type": "markdown",
   "id": "a5c6a18a",
   "metadata": {},
   "source": [
    "Strings have methods. These are built-in functions you can use on any string. They use the format:\n",
    "\n",
    "str.method()\n",
    "\n",
    "Where str is replaced with the name of your string and method the method. Methods have function inputs too. For example:"
   ]
  },
  {
   "cell_type": "code",
   "execution_count": 9,
   "id": "b8b2abed",
   "metadata": {
    "scrolled": true
   },
   "outputs": [
    {
     "name": "stdout",
     "output_type": "stream",
     "text": [
      "3\n"
     ]
    }
   ],
   "source": [
    "#string methods\n",
    "#count how often the letter 'l' appears\n",
    "result = str2.count('l')\n",
    "print(result)"
   ]
  },
  {
   "cell_type": "markdown",
   "id": "388b16c9",
   "metadata": {},
   "source": [
    "Or to convert to uppercase:"
   ]
  },
  {
   "cell_type": "code",
   "execution_count": 10,
   "id": "973ddb67",
   "metadata": {
    "scrolled": true
   },
   "outputs": [
    {
     "name": "stdout",
     "output_type": "stream",
     "text": [
      "HELLO WORLD\n"
     ]
    }
   ],
   "source": [
    "#convert to uppercase\n",
    "str3 = str2.upper() #mind the brackets\n",
    "print(str3)"
   ]
  },
  {
   "cell_type": "markdown",
   "id": "3cc649df",
   "metadata": {},
   "source": [
    "As you can see, a method can be given with empty input. However, the brackets are still necessary, otherwise you will get the function back instead of the output of the function."
   ]
  },
  {
   "cell_type": "markdown",
   "id": "fd854537",
   "metadata": {},
   "source": [
    "Below, you can see an overview of some important string methods"
   ]
  },
  {
   "cell_type": "markdown",
   "id": "54e34144",
   "metadata": {},
   "source": [
    "<div align=\"center\">String methods overview</div>"
   ]
  },
  {
   "cell_type": "markdown",
   "id": "93f40de5",
   "metadata": {},
   "source": [
    "![alt text](files_IDS/stringmethods.png \"String methods\")"
   ]
  },
  {
   "cell_type": "markdown",
   "id": "7b996467",
   "metadata": {},
   "source": [
    "**1.c. lists and tuples**"
   ]
  },
  {
   "cell_type": "markdown",
   "id": "4b8a5b89",
   "metadata": {},
   "source": [
    "If we want to have multiple elements in one variable, we can use a list or a tuple. Tuples and lists behave identically for the most part, however, tuples are immutable (elements cannot be replaced). Once again, we can define them implicitely or explicitely. Converting other variables is also possible, but be careful here, because Python might not always convert the way you expect."
   ]
  },
  {
   "cell_type": "code",
   "execution_count": 11,
   "id": "89270410",
   "metadata": {},
   "outputs": [
    {
     "name": "stdout",
     "output_type": "stream",
     "text": [
      "['H', 'E', 'L', 'L', 'O', ' ', 'W', 'O', 'R', 'L', 'D']\n",
      "['apples', 'bananas', 'coconuts']\n",
      "('H', 'E', 'L', 'L', 'O', ' ', 'W', 'O', 'R', 'L', 'D')\n",
      "('apples', 'bananas', 'coconuts')\n"
     ]
    }
   ],
   "source": [
    "#lists\n",
    "list1 = list(str3)\n",
    "list2 = ['apples', 'bananas', 'coconuts']\n",
    "print(list1)\n",
    "print(list2)\n",
    "\n",
    "#tuples\n",
    "tuple1 = tuple(str3)\n",
    "tuple2 = ('apples', 'bananas', 'coconuts')\n",
    "print(tuple1)\n",
    "print(tuple2)"
   ]
  },
  {
   "cell_type": "markdown",
   "id": "e9c56444",
   "metadata": {},
   "source": [
    "As you can see, converting a string will split it into letters by default. \n",
    "\n",
    "We can access elements of a list using indexing with square brackets [ ]"
   ]
  },
  {
   "cell_type": "code",
   "execution_count": 12,
   "id": "e88a664f",
   "metadata": {},
   "outputs": [
    {
     "name": "stdout",
     "output_type": "stream",
     "text": [
      "bananas\n",
      "bananas\n"
     ]
    }
   ],
   "source": [
    "#indexing\n",
    "print(list2[1]) #access a word\n",
    "print(tuple2[1])"
   ]
  },
  {
   "cell_type": "markdown",
   "id": "73e32bf8",
   "metadata": {},
   "source": [
    "If an element of a list is a string, we can double index to access letters within this string"
   ]
  },
  {
   "cell_type": "code",
   "execution_count": 13,
   "id": "eb2dd6e1",
   "metadata": {},
   "outputs": [
    {
     "name": "stdout",
     "output_type": "stream",
     "text": [
      "nanas\n"
     ]
    }
   ],
   "source": [
    "#double indexing\n",
    "print(list2[1][2:]) #second word, select letters from 3 to the end of the string"
   ]
  },
  {
   "cell_type": "markdown",
   "id": "e0f853be",
   "metadata": {},
   "source": [
    "Modifying a list can be done by assigning a new element to a position. We can also use list methods such as *append* to add an element."
   ]
  },
  {
   "cell_type": "code",
   "execution_count": 14,
   "id": "499cec73",
   "metadata": {
    "scrolled": false
   },
   "outputs": [
    {
     "name": "stdout",
     "output_type": "stream",
     "text": [
      "['apples', 'oranges', 'coconuts']\n"
     ]
    }
   ],
   "source": [
    "#replace element\n",
    "list2[1] = 'oranges'\n",
    "print(list2)"
   ]
  },
  {
   "cell_type": "markdown",
   "id": "851fc6ec",
   "metadata": {},
   "source": [
    "As you can see below, *append* is an 'in-place' method. It directly modifies the list without giving an output"
   ]
  },
  {
   "cell_type": "code",
   "execution_count": 15,
   "id": "11f7422a",
   "metadata": {
    "scrolled": true
   },
   "outputs": [
    {
     "name": "stdout",
     "output_type": "stream",
     "text": [
      "['apples', 'oranges', 'coconuts', 'pears']\n"
     ]
    }
   ],
   "source": [
    "#list methods\n",
    "#append\n",
    "\n",
    "list2.append('pears') \n",
    "print(list2)"
   ]
  },
  {
   "cell_type": "markdown",
   "id": "5f1574cb",
   "metadata": {},
   "source": [
    "**Note**: Tuples are immutable, so assigning or appending will not work"
   ]
  },
  {
   "cell_type": "markdown",
   "id": "378faba9",
   "metadata": {},
   "source": [
    "The number of elements in a list can be found with the function len() (this will also work on a string)"
   ]
  },
  {
   "cell_type": "code",
   "execution_count": 16,
   "id": "f5ef6e9b",
   "metadata": {
    "scrolled": true
   },
   "outputs": [
    {
     "name": "stdout",
     "output_type": "stream",
     "text": [
      "4\n"
     ]
    }
   ],
   "source": [
    "#number of elements in a list\n",
    "print(len(list2))"
   ]
  },
  {
   "cell_type": "markdown",
   "id": "373a0332",
   "metadata": {},
   "source": [
    "List elements can be the same type, but we can mix types as well"
   ]
  },
  {
   "cell_type": "code",
   "execution_count": 17,
   "id": "e055a5ff",
   "metadata": {},
   "outputs": [
    {
     "name": "stdout",
     "output_type": "stream",
     "text": [
      "[5, 'apple', 4.2]\n"
     ]
    }
   ],
   "source": [
    "#mixing var types\n",
    "list4 = [5, 'apple', 4.20]\n",
    "print(list4)"
   ]
  },
  {
   "cell_type": "markdown",
   "id": "1d3a4e2c",
   "metadata": {},
   "source": [
    "Finally, the function split can be used to seperate a string into list elements. A seperator or 'delimiter' must be provided"
   ]
  },
  {
   "cell_type": "code",
   "execution_count": 18,
   "id": "089ac1b0",
   "metadata": {
    "scrolled": true
   },
   "outputs": [
    {
     "name": "stdout",
     "output_type": "stream",
     "text": [
      "['this', 'is', 'a', 'test', 'string']\n"
     ]
    }
   ],
   "source": [
    "#split a string into a list\n",
    "str4 = 'this,is,a,test,string'\n",
    "print(str4.split(',')) #split into list using , as sep"
   ]
  },
  {
   "cell_type": "markdown",
   "id": "1f9af80c",
   "metadata": {},
   "source": [
    "**1.d. Bools**"
   ]
  },
  {
   "cell_type": "markdown",
   "id": "52e96ff2",
   "metadata": {},
   "source": [
    "Finally, we have bools. Bools are either True or False. If you make a comparison, the result will be a True or a False (or multiple values, depending on what you are comparing)"
   ]
  },
  {
   "cell_type": "code",
   "execution_count": 19,
   "id": "23b9da7b",
   "metadata": {
    "scrolled": false
   },
   "outputs": [
    {
     "name": "stdout",
     "output_type": "stream",
     "text": [
      "<class 'bool'>\n"
     ]
    }
   ],
   "source": [
    "bool1 = True\n",
    "print(type(bool1))"
   ]
  },
  {
   "cell_type": "markdown",
   "id": "e265179b",
   "metadata": {},
   "source": [
    "Bigger then or smaller then works in the following way"
   ]
  },
  {
   "cell_type": "code",
   "execution_count": 20,
   "id": "dea03ff8",
   "metadata": {
    "scrolled": true
   },
   "outputs": [
    {
     "name": "stdout",
     "output_type": "stream",
     "text": [
      "True\n",
      "False\n",
      "True\n",
      "False\n"
     ]
    }
   ],
   "source": [
    "#compare numbers\n",
    "print(3<4) #less than\n",
    "print(3>4) #more than\n",
    "print(3<=3) #less or equal\n",
    "print(3>=4) #more or equal"
   ]
  },
  {
   "cell_type": "markdown",
   "id": "128b4637",
   "metadata": {},
   "source": [
    "Equal or not equal works like this. Mind the double ==. This is necessary to distinguish between variable assignments and equality tests"
   ]
  },
  {
   "cell_type": "code",
   "execution_count": 21,
   "id": "d3621dd2",
   "metadata": {},
   "outputs": [
    {
     "name": "stdout",
     "output_type": "stream",
     "text": [
      "False\n",
      "True\n"
     ]
    }
   ],
   "source": [
    "#compare numbers\n",
    "print(3==4) #equal, \n",
    "print(3!=4) #not equal"
   ]
  },
  {
   "cell_type": "code",
   "execution_count": 22,
   "id": "ef12f627",
   "metadata": {},
   "outputs": [
    {
     "name": "stdout",
     "output_type": "stream",
     "text": [
      "True\n"
     ]
    }
   ],
   "source": [
    "#comparisons auto-convert ints and floats\n",
    "print(int(3)==float(3))"
   ]
  },
  {
   "cell_type": "markdown",
   "id": "18593ff5",
   "metadata": {},
   "source": [
    "If we want to check if a substring appears in a string, we can use *in*. *In* can also be used to see if an element is present in a list"
   ]
  },
  {
   "cell_type": "code",
   "execution_count": 23,
   "id": "9ca78c4d",
   "metadata": {
    "scrolled": true
   },
   "outputs": [
    {
     "name": "stdout",
     "output_type": "stream",
     "text": [
      "True\n",
      "False\n",
      "True\n"
     ]
    }
   ],
   "source": [
    "#in operator\n",
    "print('hello' in str2)\n",
    "print('hello' in str3) #str3 is capitalised\n",
    "print('hello' in str3.lower()) #convert str3 back to lowercase"
   ]
  },
  {
   "cell_type": "markdown",
   "id": "07478de2",
   "metadata": {},
   "source": [
    "**EXERCISES**"
   ]
  },
  {
   "cell_type": "markdown",
   "id": "83d217de",
   "metadata": {},
   "source": [
    "Now that we have seen how everything works, you should be able to solve these exercises"
   ]
  },
  {
   "cell_type": "markdown",
   "id": "4450e74b",
   "metadata": {},
   "source": [
    "**Exer 1**\n",
    "\n",
    "Below, a course name is given. Convert this name so the first letter is capitalised. Do this in a general way that works for every name.\n",
    "\n",
    "Hint: is there a string method that can help you here?"
   ]
  },
  {
   "cell_type": "code",
   "execution_count": 24,
   "id": "ab5eaccb",
   "metadata": {},
   "outputs": [],
   "source": [
    "CourseName = 'process engineering'"
   ]
  },
  {
   "cell_type": "code",
   "execution_count": 25,
   "id": "9ac0c9a7",
   "metadata": {},
   "outputs": [
    {
     "data": {
      "text/plain": [
       "'Process engineering'"
      ]
     },
     "execution_count": 25,
     "metadata": {},
     "output_type": "execute_result"
    }
   ],
   "source": [
    "CourseName = CourseName.capitalize()\n",
    "CourseName"
   ]
  },
  {
   "cell_type": "markdown",
   "id": "4a67215f",
   "metadata": {},
   "source": [
    "The course name contains two words. Capitalize both of them. \n",
    "\n",
    "Hint: strings can be split based on spaces"
   ]
  },
  {
   "cell_type": "code",
   "execution_count": 26,
   "id": "106b2c8b",
   "metadata": {},
   "outputs": [
    {
     "data": {
      "text/plain": [
       "'Process Engineering'"
      ]
     },
     "execution_count": 26,
     "metadata": {},
     "output_type": "execute_result"
    }
   ],
   "source": [
    "temp = CourseName.split()\n",
    "CourseName = temp[0].capitalize() + ' ' + temp[1].capitalize()\n",
    "CourseName"
   ]
  },
  {
   "cell_type": "markdown",
   "id": "f6efdf70",
   "metadata": {},
   "source": [
    "**Exer 2**\n",
    "\n",
    "Below, a list of some important model organisms used in research is given. Using this as the basis, create a new list that contains the shortened name instead (initial + genus). So instead of 'Escherichia coli', we want 'E. coli'."
   ]
  },
  {
   "cell_type": "code",
   "execution_count": 27,
   "id": "b58f27ea",
   "metadata": {},
   "outputs": [],
   "source": [
    "#define list\n",
    "model_organism = ['Escherichia coli', 'Arabidopsis thaliana', 'Drosophila melanogaster'] "
   ]
  },
  {
   "cell_type": "code",
   "execution_count": 28,
   "id": "dbe3a29c",
   "metadata": {},
   "outputs": [
    {
     "name": "stdout",
     "output_type": "stream",
     "text": [
      "['E. coli', 'A. thaliana', 'D. melanogaster']\n"
     ]
    }
   ],
   "source": [
    "#solution\n",
    "model_organism_short = list() #pre-allocate list\n",
    "temp = model_organism[0].split(' ') #split on space\n",
    "model_organism_short.append(temp[0][0] + '. ' + temp[1]) #add together\n",
    "#repeat for the others\n",
    "temp = model_organism[1].split(' ') #split on space\n",
    "model_organism_short.append(temp[0][0] + '. ' + temp[1]) #add together\n",
    "temp = model_organism[2].split(' ') #split on space\n",
    "model_organism_short.append(temp[0][0] + '. ' + temp[1]) #add together\n",
    "\n",
    "print(model_organism_short)"
   ]
  },
  {
   "cell_type": "markdown",
   "id": "5949509f",
   "metadata": {},
   "source": [
    "## 2. Control structures"
   ]
  },
  {
   "cell_type": "markdown",
   "id": "7ab79f4b",
   "metadata": {},
   "source": [
    "In this second part, we will discuss control structures. We will discuss IF, FOR and WHILE."
   ]
  },
  {
   "cell_type": "markdown",
   "id": "2bfc208a",
   "metadata": {},
   "source": [
    "**ILLUSTRATION**"
   ]
  },
  {
   "cell_type": "markdown",
   "id": "d6bd3f28",
   "metadata": {},
   "source": [
    "**2.a. IF**"
   ]
  },
  {
   "cell_type": "markdown",
   "id": "7c292642",
   "metadata": {},
   "source": [
    "With the if statement, a block of code will be executed if a specific condition is met (condition is True). The following form is used:\n",
    "\n",
    "    if condition:\n",
    "        code block\n",
    "    \n",
    "Mind the indentation here. The code block must be indented (shifted to the right) so Python knows which part of the code is inside the *if* statement. "
   ]
  },
  {
   "cell_type": "code",
   "execution_count": 29,
   "id": "af74765d",
   "metadata": {},
   "outputs": [
    {
     "name": "stdout",
     "output_type": "stream",
     "text": [
      "Number is greater than 25\n",
      "This part is not inside the if statement\n"
     ]
    }
   ],
   "source": [
    "#if\n",
    "num = 45\n",
    "\n",
    "#if\n",
    "if num > 25:\n",
    "    print(\"Number is greater than 25\") #indented\n",
    "print(\"This part is not inside the if statement\") #not indented"
   ]
  },
  {
   "cell_type": "markdown",
   "id": "ee38fc2d",
   "metadata": {},
   "source": [
    "With *if else*, we can supply two blocks of code. If the condition is True, the *if* block is executed, if it is False, the *else* block is executed."
   ]
  },
  {
   "cell_type": "code",
   "execution_count": 30,
   "id": "45766a5a",
   "metadata": {
    "scrolled": true
   },
   "outputs": [
    {
     "name": "stdout",
     "output_type": "stream",
     "text": [
      "Number is odd\n"
     ]
    }
   ],
   "source": [
    "#if-else\n",
    "if num % 2 == 0: #remainder after division is zero\n",
    "    print(\"Number is even\")\n",
    "else:\n",
    "    print(\"Number is odd\")"
   ]
  },
  {
   "cell_type": "markdown",
   "id": "35c15b52",
   "metadata": {},
   "source": [
    "Using *elif*, we can check multiple conditions in a row. If the first condition is not met, the next *elif* is checked. If they are all False, *else* is executed."
   ]
  },
  {
   "cell_type": "code",
   "execution_count": 31,
   "id": "7390cc9d",
   "metadata": {},
   "outputs": [
    {
     "name": "stdout",
     "output_type": "stream",
     "text": [
      "Number is a positive number\n"
     ]
    }
   ],
   "source": [
    "# if-elif-else\n",
    "# any number of elif can be used\n",
    "if num < 0:\n",
    "    print(\"Number is a negative number\")\n",
    "elif num > 0:\n",
    "    print(\"Number is a positive number\")\n",
    "else:\n",
    "    print(\"Number is zero\")"
   ]
  },
  {
   "cell_type": "markdown",
   "id": "307c9c08",
   "metadata": {},
   "source": [
    "Multiple *if* statements can be nested together"
   ]
  },
  {
   "cell_type": "code",
   "execution_count": 32,
   "id": "83039772",
   "metadata": {},
   "outputs": [
    {
     "name": "stdout",
     "output_type": "stream",
     "text": [
      "Number is greater than 20 and even\n"
     ]
    }
   ],
   "source": [
    "#nested ifs\n",
    "num = 40\n",
    "\n",
    "#if\n",
    "if num > 25:\n",
    "    if num % 2 == 0: \n",
    "        print(\"Number is greater than 20 and even\")"
   ]
  },
  {
   "cell_type": "markdown",
   "id": "3a9ae88d",
   "metadata": {},
   "source": [
    "We can accomplish the same thing using the *and* statement to combine both conditions. *Or* can also be used."
   ]
  },
  {
   "cell_type": "code",
   "execution_count": 33,
   "id": "e981e4a7",
   "metadata": {},
   "outputs": [
    {
     "name": "stdout",
     "output_type": "stream",
     "text": [
      "Number is greater than 20 and even\n"
     ]
    }
   ],
   "source": [
    "#and\n",
    "num = 40\n",
    "\n",
    "if num > 25 and num % 2 == 0: \n",
    "    print(\"Number is greater than 20 and even\")"
   ]
  },
  {
   "cell_type": "markdown",
   "id": "c96f74d7",
   "metadata": {},
   "source": [
    "**2.b. FOR**"
   ]
  },
  {
   "cell_type": "markdown",
   "id": "d8f28a28",
   "metadata": {},
   "source": [
    "Using *for*, we can execute a block of code a fixed number of times. *For* uses an iterator that changes every loop. There are different types of iterators. Below, you can see numeric iterators and list iterators"
   ]
  },
  {
   "cell_type": "code",
   "execution_count": 34,
   "id": "3e4d54cb",
   "metadata": {},
   "outputs": [
    {
     "name": "stdout",
     "output_type": "stream",
     "text": [
      "0\n",
      "1\n",
      "2\n",
      "3\n",
      "4\n"
     ]
    }
   ],
   "source": [
    "#for, range\n",
    "#use only endpoint\n",
    "for i in range(5):\n",
    "    print(i)"
   ]
  },
  {
   "cell_type": "code",
   "execution_count": 35,
   "id": "a4254686",
   "metadata": {},
   "outputs": [
    {
     "name": "stdout",
     "output_type": "stream",
     "text": [
      "3\n",
      "4\n"
     ]
    }
   ],
   "source": [
    "#for\n",
    "#start and endpoint\n",
    "for i in range(3, 5):\n",
    "    print(i)"
   ]
  },
  {
   "cell_type": "code",
   "execution_count": 36,
   "id": "edb73b29",
   "metadata": {},
   "outputs": [
    {
     "name": "stdout",
     "output_type": "stream",
     "text": [
      "2\n",
      "4\n",
      "6\n",
      "8\n"
     ]
    }
   ],
   "source": [
    "#for\n",
    "#start and endpoint + step\n",
    "for i in range(2, 10, 2): #from 2 to 10 in steps of 2\n",
    "    print(i)"
   ]
  },
  {
   "cell_type": "code",
   "execution_count": 37,
   "id": "a302e068",
   "metadata": {},
   "outputs": [
    {
     "name": "stdout",
     "output_type": "stream",
     "text": [
      "apples\n",
      "bananas\n",
      "coconuts\n"
     ]
    }
   ],
   "source": [
    "#for\n",
    "#using a list\n",
    "list_fruit = ['apples', 'bananas', 'coconuts']\n",
    "for fruit in list_fruit:\n",
    "    print(fruit)"
   ]
  },
  {
   "cell_type": "markdown",
   "id": "31d41e87",
   "metadata": {},
   "source": [
    "**2.c. WHILE**"
   ]
  },
  {
   "cell_type": "markdown",
   "id": "56accfcf",
   "metadata": {},
   "source": [
    "With *while*, a piece of code is executed until a condition is met"
   ]
  },
  {
   "cell_type": "code",
   "execution_count": 38,
   "id": "66eb81e2",
   "metadata": {
    "scrolled": true
   },
   "outputs": [
    {
     "name": "stdout",
     "output_type": "stream",
     "text": [
      "10\n"
     ]
    }
   ],
   "source": [
    "#while\n",
    "num = 0\n",
    "while num<10:\n",
    "    num+=1 #add 1 to number\n",
    "print(num)"
   ]
  },
  {
   "cell_type": "markdown",
   "id": "9179745f",
   "metadata": {},
   "source": [
    "**EXERCISES**"
   ]
  },
  {
   "cell_type": "markdown",
   "id": "d7e55eaf",
   "metadata": {},
   "source": [
    "**Exer 1**\n",
    "\n",
    "The Collatz conjecture is a famous unsolved math problem. Given a number (positive integer), the following operation is performed:\n",
    "* If the number is even: divide by 2\n",
    "* If it is odd: multiply by 3 and add 1\n",
    "\n",
    "If the new number is not equal to 1, the same rules are followed again. Given these rules, will the sequence always converge to 1?\n",
    "\n",
    "Write a program that executes these operations for a given number. Using *input*, you can prompt the user for a number (note that this will be given as string by default). Count the number of operations performed and write this back to the user.\n",
    "\n",
    "EXTRA: adapt your code to give an error message when an invalid input is given (not a positive integer). For this, you can use the function isnumeric() to detect whether an input is a positive integer (this works on a string as well). Keep in mind that 0 is an invalid input as well."
   ]
  },
  {
   "cell_type": "code",
   "execution_count": 39,
   "id": "26583fc7",
   "metadata": {
    "scrolled": true
   },
   "outputs": [
    {
     "name": "stdout",
     "output_type": "stream",
     "text": [
      "Give a number: 5\n",
      "Converged\n",
      "5 operations were performed.\n"
     ]
    }
   ],
   "source": [
    "current_num = input('Give a number: ')\n",
    "current_num = int(current_num)\n",
    "num_op = 0 #number of operations\n",
    "while current_num!=1:\n",
    "    if current_num % 2 == 0: #remainder after division is zero => even\n",
    "        current_num=current_num/2\n",
    "    else:\n",
    "        current_num=current_num*3 + 1\n",
    "    num_op+=1\n",
    "print('Converged')\n",
    "print(str(num_op) + ' operations were performed.')"
   ]
  },
  {
   "cell_type": "code",
   "execution_count": 40,
   "id": "18c5a3ab",
   "metadata": {},
   "outputs": [
    {
     "name": "stdout",
     "output_type": "stream",
     "text": [
      "Give a number: 15\n",
      "Converged\n",
      "17 operations were performed.\n"
     ]
    }
   ],
   "source": [
    "#with input checking\n",
    "\n",
    "current_num = input('Give a number: ')\n",
    "if current_num.isnumeric():\n",
    "    current_num = int(current_num)\n",
    "    if current_num<1:\n",
    "        print('Number must be positive')\n",
    "    else: #run the code\n",
    "        num_op = 0 #number of operations\n",
    "        while current_num!=1:\n",
    "            if current_num % 2 == 0: #remainder after division is zero => even\n",
    "                current_num=current_num/2\n",
    "            else:\n",
    "                current_num=current_num*3 + 1\n",
    "            num_op+=1\n",
    "        print('Converged')\n",
    "        print(str(num_op) + ' operations were performed.')\n",
    "else:\n",
    "    print('Invalid input')\n"
   ]
  },
  {
   "cell_type": "markdown",
   "id": "60494ba3",
   "metadata": {},
   "source": [
    "**Exer 2**\n",
    "\n",
    "Replace the drug names in the list below by their capitalised version (you can use the *capitalize* string method)."
   ]
  },
  {
   "cell_type": "code",
   "execution_count": 41,
   "id": "acfb8a66",
   "metadata": {},
   "outputs": [],
   "source": [
    "#define list\n",
    "DrugNames = ['adderall', 'mydayis', 'ritalin', 'concerta']"
   ]
  },
  {
   "cell_type": "code",
   "execution_count": 42,
   "id": "f0db8cf5",
   "metadata": {},
   "outputs": [
    {
     "name": "stdout",
     "output_type": "stream",
     "text": [
      "['Adderall', 'Mydayis', 'Ritalin', 'Concerta']\n"
     ]
    }
   ],
   "source": [
    "for i in range(len(DrugNames)):\n",
    "    DrugNames[i] = DrugNames[i].capitalize()\n",
    "print(DrugNames)"
   ]
  },
  {
   "cell_type": "markdown",
   "id": "e9251042",
   "metadata": {},
   "source": [
    "## 3. File input/output"
   ]
  },
  {
   "cell_type": "markdown",
   "id": "5da77a90",
   "metadata": {},
   "source": [
    "Finally, we will briefly discuss loading files into a notebook. There are various methods to do this, but some of them work better in Colab vs a local program. In general, there are two methods: network locations (Github) and locally"
   ]
  },
  {
   "cell_type": "markdown",
   "id": "97418e65",
   "metadata": {},
   "source": [
    "**ILLUSTRATION**"
   ]
  },
  {
   "cell_type": "markdown",
   "id": "55200b20",
   "metadata": {},
   "source": [
    "**3.a  Network location (such as Github)**"
   ]
  },
  {
   "cell_type": "markdown",
   "id": "2002e7d9",
   "metadata": {},
   "source": [
    "Option 1 (colab recommended): clone the entire repository from Github\n",
    "\n",
    "After the clone command, the repo will show up in the sidebar (select the files icon). It can now be accessed as if it's a local file"
   ]
  },
  {
   "cell_type": "code",
   "execution_count": 43,
   "id": "7b478791",
   "metadata": {
    "scrolled": true
   },
   "outputs": [],
   "source": [
    "#this method should not be used outside google colab\n",
    "if in_colab:\n",
    "    #first clone the repo (insert the link below)\n",
    "    !git clone https://github.com/jverwaer/IntroDataScience\n",
    "    #navigate to the repo and then use / to select files inside the repo\n",
    "    #open the file\n",
    "    f = open('IntroDataScience/PCLabs/files_IDS/iris.csv', 'r')\n",
    "    #read the lines\n",
    "    print(f.readlines())"
   ]
  },
  {
   "cell_type": "markdown",
   "id": "d6727290",
   "metadata": {},
   "source": [
    "Option 2 (works everywhere): load raw files using the direct link\n",
    "\n",
    "- Click on the file in the repository on Github, \n",
    "- Click on 'View Raw',\n",
    "- Copy the URL of the raw file, \n",
    "- Use this URL as the location of your file. \n",
    "\n",
    "Some functions can work directly with a URL. However, the function *open* cannot do this. Therefore, we need to use the requests library.\n"
   ]
  },
  {
   "cell_type": "code",
   "execution_count": 44,
   "id": "84923150",
   "metadata": {},
   "outputs": [
    {
     "name": "stdout",
     "output_type": "stream",
     "text": [
      "sepal length;sepal width;petal length;petal width;soort\n",
      "5.1;3.5;1.4;0.2;setosa\n",
      "4.9;3.0;1.4;0.2;setosa\n",
      "4.7;3.2;1.3;0.2;setosa\n",
      "4.6;3.1;1.5;0.2;setosa\n",
      "5.0;3.6;1.4;0.2;setosa\n",
      "5.4;3.9;1.7;0.4;setosa\n",
      "4.6;3.4;1.4;0.3;setosa\n",
      "5.0;3.4;1.5;0.2;setosa\n",
      "4.4;2.9;1.4;0.2;setosa\n",
      "4.9;3.1;1.5;0.1;setosa\n",
      "5.4;3.7;1.5;0.2;setosa\n",
      "4.8;3.4;1.6;0.2;setosa\n",
      "4.8;3.0;1.4;0.1;setosa\n",
      "4.3;3.0;1.1;0.1;setosa\n",
      "5.8;4.0;1.2;0.2;setosa\n",
      "5.7;4.4;1.5;0.4;setosa\n",
      "5.4;3.9;1.3;0.4;setosa\n",
      "5.1;3.5;1.4;0.3;setosa\n",
      "5.7;3.8;1.7;0.3;setosa\n",
      "5.1;3.8;1.5;0.3;setosa\n",
      "5.4;3.4;1.7;0.2;setosa\n",
      "5.1;3.7;1.5;0.4;setosa\n",
      "4.6;3.6;1.0;0.2;setosa\n",
      "5.1;3.3;1.7;0.5;setosa\n",
      "4.8;3.4;1.9;0.2;setosa\n",
      "5.0;3.0;1.6;0.2;setosa\n",
      "5.0;3.4;1.6;0.4;setosa\n",
      "5.2;3.5;1.5;0.2;setosa\n",
      "5.2;3.4;1.4;0.2;setosa\n",
      "4.7;3.2;1.6;0.2;setosa\n",
      "4.8;3.1;1.6;0.2;setosa\n",
      "5.4;3.4;1.5;0.4;setosa\n",
      "5.2;4.1;1.5;0.1;setosa\n",
      "5.5;4.2;1.4;0.2;setosa\n",
      "4.9;3.1;1.5;0.2;setosa\n",
      "5.0;3.2;1.2;0.2;setosa\n",
      "5.5;3.5;1.3;0.2;setosa\n",
      "4.9;3.6;1.4;0.1;setosa\n",
      "4.4;3.0;1.3;0.2;setosa\n",
      "5.1;3.4;1.5;0.2;setosa\n",
      "5.0;3.5;1.3;0.3;setosa\n",
      "4.5;2.3;1.3;0.3;setosa\n",
      "4.4;3.2;1.3;0.2;setosa\n",
      "5.0;3.5;1.6;0.6;setosa\n",
      "5.1;3.8;1.9;0.4;setosa\n",
      "4.8;3.0;1.4;0.3;setosa\n",
      "5.1;3.8;1.6;0.2;setosa\n",
      "4.6;3.2;1.4;0.2;setosa\n",
      "5.3;3.7;1.5;0.2;setosa\n",
      "5.0;3.3;1.4;0.2;setosa\n",
      "7.0;3.2;4.7;1.4;versicolor\n",
      "6.4;3.2;4.5;1.5;versicolor\n",
      "6.9;3.1;4.9;1.5;versicolor\n",
      "5.5;2.3;4.0;1.3;versicolor\n",
      "6.5;2.8;4.6;1.5;versicolor\n",
      "5.7;2.8;4.5;1.3;versicolor\n",
      "6.3;3.3;4.7;1.6;versicolor\n",
      "4.9;2.4;3.3;1.0;versicolor\n",
      "6.6;2.9;4.6;1.3;versicolor\n",
      "5.2;2.7;3.9;1.4;versicolor\n",
      "5.0;2.0;3.5;1.0;versicolor\n",
      "5.9;3.0;4.2;1.5;versicolor\n",
      "6.0;2.2;4.0;1.0;versicolor\n",
      "6.1;2.9;4.7;1.4;versicolor\n",
      "5.6;2.9;3.6;1.3;versicolor\n",
      "6.7;3.1;4.4;1.4;versicolor\n",
      "5.6;3.0;4.5;1.5;versicolor\n",
      "5.8;2.7;4.1;1.0;versicolor\n",
      "6.2;2.2;4.5;1.5;versicolor\n",
      "5.6;2.5;3.9;1.1;versicolor\n",
      "5.9;3.2;4.8;1.8;versicolor\n",
      "6.1;2.8;4.0;1.3;versicolor\n",
      "6.3;2.5;4.9;1.5;versicolor\n",
      "6.1;2.8;4.7;1.2;versicolor\n",
      "6.4;2.9;4.3;1.3;versicolor\n",
      "6.6;3.0;4.4;1.4;versicolor\n",
      "6.8;2.8;4.8;1.4;versicolor\n",
      "6.7;3.0;5.0;1.7;versicolor\n",
      "6.0;2.9;4.5;1.5;versicolor\n",
      "5.7;2.6;3.5;1.0;versicolor\n",
      "5.5;2.4;3.8;1.1;versicolor\n",
      "5.5;2.4;3.7;1.0;versicolor\n",
      "5.8;2.7;3.9;1.2;versicolor\n",
      "6.0;2.7;5.1;1.6;versicolor\n",
      "5.4;3.0;4.5;1.5;versicolor\n",
      "6.0;3.4;4.5;1.6;versicolor\n",
      "6.7;3.1;4.7;1.5;versicolor\n",
      "6.3;2.3;4.4;1.3;versicolor\n",
      "5.6;3.0;4.1;1.3;versicolor\n",
      "5.5;2.5;4.0;1.3;versicolor\n",
      "5.5;2.6;4.4;1.2;versicolor\n",
      "6.1;3.0;4.6;1.4;versicolor\n",
      "5.8;2.6;4.0;1.2;versicolor\n",
      "5.0;2.3;3.3;1.0;versicolor\n",
      "5.6;2.7;4.2;1.3;versicolor\n",
      "5.7;3.0;4.2;1.2;versicolor\n",
      "5.7;2.9;4.2;1.3;versicolor\n",
      "6.2;2.9;4.3;1.3;versicolor\n",
      "5.1;2.5;3.0;1.1;versicolor\n",
      "5.7;2.8;4.1;1.3;versicolor\n",
      "6.3;3.3;6.0;2.5;virginica\n",
      "5.8;2.7;5.1;1.9;virginica\n",
      "7.1;3.0;5.9;2.1;virginica\n",
      "6.3;2.9;5.6;1.8;virginica\n",
      "6.5;3.0;5.8;2.2;virginica\n",
      "7.6;3.0;6.6;2.1;virginica\n",
      "4.9;2.5;4.5;1.7;virginica\n",
      "7.3;2.9;6.3;1.8;virginica\n",
      "6.7;2.5;5.8;1.8;virginica\n",
      "7.2;3.6;6.1;2.5;virginica\n",
      "6.5;3.2;5.1;2.0;virginica\n",
      "6.4;2.7;5.3;1.9;virginica\n",
      "6.8;3.0;5.5;2.1;virginica\n",
      "5.7;2.5;5.0;2.0;virginica\n",
      "5.8;2.8;5.1;2.4;virginica\n",
      "6.4;3.2;5.3;2.3;virginica\n",
      "6.5;3.0;5.5;1.8;virginica\n",
      "7.7;3.8;6.7;2.2;virginica\n",
      "7.7;2.6;6.9;2.3;virginica\n",
      "6.0;2.2;5.0;1.5;virginica\n",
      "6.9;3.2;5.7;2.3;virginica\n",
      "5.6;2.8;4.9;2.0;virginica\n",
      "7.7;2.8;6.7;2.0;virginica\n",
      "6.3;2.7;4.9;1.8;virginica\n",
      "6.7;3.3;5.7;2.1;virginica\n",
      "7.2;3.2;6.0;1.8;virginica\n",
      "6.2;2.8;4.8;1.8;virginica\n",
      "6.1;3.0;4.9;1.8;virginica\n",
      "6.4;2.8;5.6;2.1;virginica\n",
      "7.2;3.0;5.8;1.6;virginica\n",
      "7.4;2.8;6.1;1.9;virginica\n",
      "7.9;3.8;6.4;2.0;virginica\n",
      "6.4;2.8;5.6;2.2;virginica\n",
      "6.3;2.8;5.1;1.5;virginica\n",
      "6.1;2.6;5.6;1.4;virginica\n",
      "7.7;3.0;6.1;2.3;virginica\n",
      "6.3;3.4;5.6;2.4;virginica\n",
      "6.4;3.1;5.5;1.8;virginica\n",
      "6.0;3.0;4.8;1.8;virginica\n",
      "6.9;3.1;5.4;2.1;virginica\n",
      "6.7;3.1;5.6;2.4;virginica\n",
      "6.9;3.1;5.1;2.3;virginica\n",
      "5.8;2.7;5.1;1.9;virginica\n",
      "6.8;3.2;5.9;2.3;virginica\n",
      "6.7;3.3;5.7;2.5;virginica\n",
      "6.7;3.0;5.2;2.3;virginica\n",
      "6.3;2.5;5.0;1.9;virginica\n",
      "6.5;3.0;5.2;2.0;virginica\n",
      "6.2;3.4;5.4;2.3;virginica\n",
      "5.9;3.0;5.1;1.8;virginica\n",
      "\n"
     ]
    }
   ],
   "source": [
    "#load a file directly from Github\n",
    "url='https://raw.githubusercontent.com/jverwaer/IntroDataScience/main/PCLabs/files_IDS/iris.csv' #raw github link\n",
    "\n",
    "#load requests library\n",
    "import requests\n",
    "\n",
    "#use requests to load the file from the url\n",
    "f = requests.get(url)\n",
    "#print out the text\n",
    "print(f.text)"
   ]
  },
  {
   "cell_type": "markdown",
   "id": "8ad20027",
   "metadata": {},
   "source": [
    "**3.b Local files**\n",
    "\n",
    "In the sidebar, navigate to the files icon and select *upload*. Then you can navigate to this file.\n",
    "\n",
    "Outside of colab, uploading is not necessary if the file is in the correct location (same folder as notebook). Otherwise, you need to copy the correct path.\n",
    "\n",
    "Other paths can be set using the following commands:\n",
    "\n",
    "    import os\n",
    "    os.chdir('c:\\\\temp\\\\files_IDS') #navigate to the temp folder\n",
    "\n",
    "Keep in mind that setting a path like this will make the notebook less reproducable (a location might not exist on a different computer).\n",
    "\n",
    "If we are working with a local program, there's no need to upload anything, we can simply navigate to the correct location to load in the file"
   ]
  },
  {
   "cell_type": "code",
   "execution_count": 45,
   "id": "741d93fc",
   "metadata": {},
   "outputs": [
    {
     "name": "stdout",
     "output_type": "stream",
     "text": [
      "['sepal length;sepal width;petal length;petal width;soort\\n', '5.1;3.5;1.4;0.2;setosa\\n', '4.9;3.0;1.4;0.2;setosa\\n', '4.7;3.2;1.3;0.2;setosa\\n', '4.6;3.1;1.5;0.2;setosa\\n', '5.0;3.6;1.4;0.2;setosa\\n', '5.4;3.9;1.7;0.4;setosa\\n', '4.6;3.4;1.4;0.3;setosa\\n', '5.0;3.4;1.5;0.2;setosa\\n', '4.4;2.9;1.4;0.2;setosa\\n', '4.9;3.1;1.5;0.1;setosa\\n', '5.4;3.7;1.5;0.2;setosa\\n', '4.8;3.4;1.6;0.2;setosa\\n', '4.8;3.0;1.4;0.1;setosa\\n', '4.3;3.0;1.1;0.1;setosa\\n', '5.8;4.0;1.2;0.2;setosa\\n', '5.7;4.4;1.5;0.4;setosa\\n', '5.4;3.9;1.3;0.4;setosa\\n', '5.1;3.5;1.4;0.3;setosa\\n', '5.7;3.8;1.7;0.3;setosa\\n', '5.1;3.8;1.5;0.3;setosa\\n', '5.4;3.4;1.7;0.2;setosa\\n', '5.1;3.7;1.5;0.4;setosa\\n', '4.6;3.6;1.0;0.2;setosa\\n', '5.1;3.3;1.7;0.5;setosa\\n', '4.8;3.4;1.9;0.2;setosa\\n', '5.0;3.0;1.6;0.2;setosa\\n', '5.0;3.4;1.6;0.4;setosa\\n', '5.2;3.5;1.5;0.2;setosa\\n', '5.2;3.4;1.4;0.2;setosa\\n', '4.7;3.2;1.6;0.2;setosa\\n', '4.8;3.1;1.6;0.2;setosa\\n', '5.4;3.4;1.5;0.4;setosa\\n', '5.2;4.1;1.5;0.1;setosa\\n', '5.5;4.2;1.4;0.2;setosa\\n', '4.9;3.1;1.5;0.2;setosa\\n', '5.0;3.2;1.2;0.2;setosa\\n', '5.5;3.5;1.3;0.2;setosa\\n', '4.9;3.6;1.4;0.1;setosa\\n', '4.4;3.0;1.3;0.2;setosa\\n', '5.1;3.4;1.5;0.2;setosa\\n', '5.0;3.5;1.3;0.3;setosa\\n', '4.5;2.3;1.3;0.3;setosa\\n', '4.4;3.2;1.3;0.2;setosa\\n', '5.0;3.5;1.6;0.6;setosa\\n', '5.1;3.8;1.9;0.4;setosa\\n', '4.8;3.0;1.4;0.3;setosa\\n', '5.1;3.8;1.6;0.2;setosa\\n', '4.6;3.2;1.4;0.2;setosa\\n', '5.3;3.7;1.5;0.2;setosa\\n', '5.0;3.3;1.4;0.2;setosa\\n', '7.0;3.2;4.7;1.4;versicolor\\n', '6.4;3.2;4.5;1.5;versicolor\\n', '6.9;3.1;4.9;1.5;versicolor\\n', '5.5;2.3;4.0;1.3;versicolor\\n', '6.5;2.8;4.6;1.5;versicolor\\n', '5.7;2.8;4.5;1.3;versicolor\\n', '6.3;3.3;4.7;1.6;versicolor\\n', '4.9;2.4;3.3;1.0;versicolor\\n', '6.6;2.9;4.6;1.3;versicolor\\n', '5.2;2.7;3.9;1.4;versicolor\\n', '5.0;2.0;3.5;1.0;versicolor\\n', '5.9;3.0;4.2;1.5;versicolor\\n', '6.0;2.2;4.0;1.0;versicolor\\n', '6.1;2.9;4.7;1.4;versicolor\\n', '5.6;2.9;3.6;1.3;versicolor\\n', '6.7;3.1;4.4;1.4;versicolor\\n', '5.6;3.0;4.5;1.5;versicolor\\n', '5.8;2.7;4.1;1.0;versicolor\\n', '6.2;2.2;4.5;1.5;versicolor\\n', '5.6;2.5;3.9;1.1;versicolor\\n', '5.9;3.2;4.8;1.8;versicolor\\n', '6.1;2.8;4.0;1.3;versicolor\\n', '6.3;2.5;4.9;1.5;versicolor\\n', '6.1;2.8;4.7;1.2;versicolor\\n', '6.4;2.9;4.3;1.3;versicolor\\n', '6.6;3.0;4.4;1.4;versicolor\\n', '6.8;2.8;4.8;1.4;versicolor\\n', '6.7;3.0;5.0;1.7;versicolor\\n', '6.0;2.9;4.5;1.5;versicolor\\n', '5.7;2.6;3.5;1.0;versicolor\\n', '5.5;2.4;3.8;1.1;versicolor\\n', '5.5;2.4;3.7;1.0;versicolor\\n', '5.8;2.7;3.9;1.2;versicolor\\n', '6.0;2.7;5.1;1.6;versicolor\\n', '5.4;3.0;4.5;1.5;versicolor\\n', '6.0;3.4;4.5;1.6;versicolor\\n', '6.7;3.1;4.7;1.5;versicolor\\n', '6.3;2.3;4.4;1.3;versicolor\\n', '5.6;3.0;4.1;1.3;versicolor\\n', '5.5;2.5;4.0;1.3;versicolor\\n', '5.5;2.6;4.4;1.2;versicolor\\n', '6.1;3.0;4.6;1.4;versicolor\\n', '5.8;2.6;4.0;1.2;versicolor\\n', '5.0;2.3;3.3;1.0;versicolor\\n', '5.6;2.7;4.2;1.3;versicolor\\n', '5.7;3.0;4.2;1.2;versicolor\\n', '5.7;2.9;4.2;1.3;versicolor\\n', '6.2;2.9;4.3;1.3;versicolor\\n', '5.1;2.5;3.0;1.1;versicolor\\n', '5.7;2.8;4.1;1.3;versicolor\\n', '6.3;3.3;6.0;2.5;virginica\\n', '5.8;2.7;5.1;1.9;virginica\\n', '7.1;3.0;5.9;2.1;virginica\\n', '6.3;2.9;5.6;1.8;virginica\\n', '6.5;3.0;5.8;2.2;virginica\\n', '7.6;3.0;6.6;2.1;virginica\\n', '4.9;2.5;4.5;1.7;virginica\\n', '7.3;2.9;6.3;1.8;virginica\\n', '6.7;2.5;5.8;1.8;virginica\\n', '7.2;3.6;6.1;2.5;virginica\\n', '6.5;3.2;5.1;2.0;virginica\\n', '6.4;2.7;5.3;1.9;virginica\\n', '6.8;3.0;5.5;2.1;virginica\\n', '5.7;2.5;5.0;2.0;virginica\\n', '5.8;2.8;5.1;2.4;virginica\\n', '6.4;3.2;5.3;2.3;virginica\\n', '6.5;3.0;5.5;1.8;virginica\\n', '7.7;3.8;6.7;2.2;virginica\\n', '7.7;2.6;6.9;2.3;virginica\\n', '6.0;2.2;5.0;1.5;virginica\\n', '6.9;3.2;5.7;2.3;virginica\\n', '5.6;2.8;4.9;2.0;virginica\\n', '7.7;2.8;6.7;2.0;virginica\\n', '6.3;2.7;4.9;1.8;virginica\\n', '6.7;3.3;5.7;2.1;virginica\\n', '7.2;3.2;6.0;1.8;virginica\\n', '6.2;2.8;4.8;1.8;virginica\\n', '6.1;3.0;4.9;1.8;virginica\\n', '6.4;2.8;5.6;2.1;virginica\\n', '7.2;3.0;5.8;1.6;virginica\\n', '7.4;2.8;6.1;1.9;virginica\\n', '7.9;3.8;6.4;2.0;virginica\\n', '6.4;2.8;5.6;2.2;virginica\\n', '6.3;2.8;5.1;1.5;virginica\\n', '6.1;2.6;5.6;1.4;virginica\\n', '7.7;3.0;6.1;2.3;virginica\\n', '6.3;3.4;5.6;2.4;virginica\\n', '6.4;3.1;5.5;1.8;virginica\\n', '6.0;3.0;4.8;1.8;virginica\\n', '6.9;3.1;5.4;2.1;virginica\\n', '6.7;3.1;5.6;2.4;virginica\\n', '6.9;3.1;5.1;2.3;virginica\\n', '5.8;2.7;5.1;1.9;virginica\\n', '6.8;3.2;5.9;2.3;virginica\\n', '6.7;3.3;5.7;2.5;virginica\\n', '6.7;3.0;5.2;2.3;virginica\\n', '6.3;2.5;5.0;1.9;virginica\\n', '6.5;3.0;5.2;2.0;virginica\\n', '6.2;3.4;5.4;2.3;virginica\\n', '5.9;3.0;5.1;1.8;virginica\\n']\n"
     ]
    }
   ],
   "source": [
    "#google colab\n",
    "if in_colab:\n",
    "    f = open('iris.csv', 'r') #remember to upload the file first\n",
    "    print(f.readlines())\n",
    "else: #locally\n",
    "    f = open('files_IDS/iris.csv', 'r') #location (relative path)\n",
    "    print(f.readlines())"
   ]
  },
  {
   "cell_type": "markdown",
   "id": "39e8dcf9",
   "metadata": {},
   "source": [
    "**EXERCISES**"
   ]
  },
  {
   "cell_type": "markdown",
   "id": "c88c1183",
   "metadata": {},
   "source": [
    "**Exer 1**\n",
    "\n",
    "Get the raw Github links for iris_features and iris_labels and read both files seperately. "
   ]
  },
  {
   "cell_type": "code",
   "execution_count": 46,
   "id": "00f3d605",
   "metadata": {},
   "outputs": [],
   "source": [
    "url_X='https://raw.githubusercontent.com/jverwaer/IntroDataScience/main/PCLabs/files_IDS/iris_features.csv' #raw github link\n",
    "url_Y='https://raw.githubusercontent.com/jverwaer/IntroDataScience/main/PCLabs/files_IDS/iris_labels.csv' #raw github link\n",
    "\n",
    "f = requests.get(url_X)\n",
    "X = f.text\n",
    "f = requests.get(url_Y)\n",
    "Y = f.text"
   ]
  },
  {
   "cell_type": "markdown",
   "id": "2a81b3d3",
   "metadata": {},
   "source": [
    "**Exer 2**\n",
    "\n",
    "Using the data you loaded, extract the petal width of the third flower."
   ]
  },
  {
   "cell_type": "code",
   "execution_count": 57,
   "id": "a8092793",
   "metadata": {},
   "outputs": [
    {
     "name": "stdout",
     "output_type": "stream",
     "text": [
      "1.3\n"
     ]
    }
   ],
   "source": [
    "Xdata = X.split() #split into data rows\n",
    "flower = Xdata[3].split(',') #split data row into entries\n",
    "petallength = flower[2] #get the third entry (PetalLength)\n",
    "print(petallength)"
   ]
  },
  {
   "cell_type": "code",
   "execution_count": null,
   "id": "7089ad73",
   "metadata": {},
   "outputs": [],
   "source": []
  }
 ],
 "metadata": {
  "kernelspec": {
   "display_name": "Python 3 (ipykernel)",
   "language": "python",
   "name": "python3"
  },
  "language_info": {
   "codemirror_mode": {
    "name": "ipython",
    "version": 3
   },
   "file_extension": ".py",
   "mimetype": "text/x-python",
   "name": "python",
   "nbconvert_exporter": "python",
   "pygments_lexer": "ipython3",
   "version": "3.7.4"
  }
 },
 "nbformat": 4,
 "nbformat_minor": 5
}
