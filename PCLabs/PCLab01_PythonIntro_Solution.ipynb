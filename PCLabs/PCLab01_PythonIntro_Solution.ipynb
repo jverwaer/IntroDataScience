{
 "cells": [
  {
   "cell_type": "markdown",
   "id": "62e56eac",
   "metadata": {},
   "source": [
    "# Introduction to Data Science PC Lab 01: Introduction to Python"
   ]
  },
  {
   "cell_type": "markdown",
   "id": "8922af95",
   "metadata": {},
   "source": [
    "Author: Jan Verwaeren - Arne Deloose\n",
    "\n",
    "Course: Introduction to Data Science\n",
    "\n",
    "This notebook will give a brief introduction to Python. Each section will first give a brief illustration, followed by exercises"
   ]
  },
  {
   "cell_type": "markdown",
   "id": "14501f5c",
   "metadata": {},
   "source": [
    "## 1. Datatypes"
   ]
  },
  {
   "cell_type": "markdown",
   "id": "7c81a4a3",
   "metadata": {},
   "source": [
    "**ILLUSTRATION**"
   ]
  },
  {
   "cell_type": "markdown",
   "id": "bf829ea3",
   "metadata": {},
   "source": [
    "**1.a. numeric variables**"
   ]
  },
  {
   "cell_type": "code",
   "execution_count": 48,
   "id": "ae9c7862",
   "metadata": {},
   "outputs": [
    {
     "name": "stdout",
     "output_type": "stream",
     "text": [
      "<class 'int'>\n"
     ]
    }
   ],
   "source": [
    "#define a variable\n",
    "a = 5\n",
    "#print out the type\n",
    "print(type(a))"
   ]
  },
  {
   "cell_type": "code",
   "execution_count": 49,
   "id": "b1ba1e99",
   "metadata": {},
   "outputs": [
    {
     "name": "stdout",
     "output_type": "stream",
     "text": [
      "<class 'float'>\n",
      "<class 'float'>\n"
     ]
    }
   ],
   "source": [
    "#define a float\n",
    "\n",
    "#implicit\n",
    "b = 5.0\n",
    "print(type(b))\n",
    "\n",
    "#explicit\n",
    "b = float(5)\n",
    "print(type(b))"
   ]
  },
  {
   "cell_type": "code",
   "execution_count": 50,
   "id": "d7f414b1",
   "metadata": {
    "scrolled": true
   },
   "outputs": [
    {
     "name": "stdout",
     "output_type": "stream",
     "text": [
      "<class 'float'>\n",
      "10.0\n"
     ]
    }
   ],
   "source": [
    "#variable types are mutable\n",
    "\n",
    "#add an int and a float together\n",
    "c = a + b\n",
    "#a will be automatically converted to a float\n",
    "print(type(c))\n",
    "print(c) #print the value"
   ]
  },
  {
   "cell_type": "code",
   "execution_count": 51,
   "id": "75f0b8e5",
   "metadata": {},
   "outputs": [
    {
     "name": "stdout",
     "output_type": "stream",
     "text": [
      "5\n",
      "6\n"
     ]
    }
   ],
   "source": [
    "#convert types\n",
    "#notice that conversion and rounding work differently\n",
    "d = 5.9 #float\n",
    "\n",
    "#conversion\n",
    "d1 = int(d) #convert to int\n",
    "print(d1) #check value\n",
    "\n",
    "#rounding\n",
    "d2 = round(d)\n",
    "print(d2)"
   ]
  },
  {
   "cell_type": "markdown",
   "id": "5e958d17",
   "metadata": {},
   "source": [
    "**1.b. strings**"
   ]
  },
  {
   "cell_type": "code",
   "execution_count": 52,
   "id": "1567aede",
   "metadata": {},
   "outputs": [
    {
     "name": "stdout",
     "output_type": "stream",
     "text": [
      "<class 'str'>\n"
     ]
    }
   ],
   "source": [
    "str1 = 'hello'\n",
    "print(type(str1))"
   ]
  },
  {
   "cell_type": "code",
   "execution_count": 53,
   "id": "73563b8d",
   "metadata": {},
   "outputs": [
    {
     "name": "stdout",
     "output_type": "stream",
     "text": [
      "el\n"
     ]
    }
   ],
   "source": [
    "#indexing\n",
    "#print out letters 2 and 3\n",
    "print(str1[1:3]) #indexing starts at 0, we want positions 1 and 2 "
   ]
  },
  {
   "cell_type": "code",
   "execution_count": 54,
   "id": "028207e1",
   "metadata": {},
   "outputs": [
    {
     "name": "stdout",
     "output_type": "stream",
     "text": [
      "hello world\n"
     ]
    }
   ],
   "source": [
    "#add strings together\n",
    "str2 = 'hello' + ' ' + 'world'\n",
    "print(str2)"
   ]
  },
  {
   "cell_type": "code",
   "execution_count": 55,
   "id": "b8b2abed",
   "metadata": {},
   "outputs": [
    {
     "name": "stdout",
     "output_type": "stream",
     "text": [
      "3\n"
     ]
    }
   ],
   "source": [
    "#string methods\n",
    "#count how often the letter 'l' appears\n",
    "result = str2.count('l')\n",
    "print(result)"
   ]
  },
  {
   "cell_type": "code",
   "execution_count": 56,
   "id": "973ddb67",
   "metadata": {
    "scrolled": false
   },
   "outputs": [
    {
     "name": "stdout",
     "output_type": "stream",
     "text": [
      "HELLO WORLD\n"
     ]
    }
   ],
   "source": [
    "#convert to uppercase\n",
    "str3 = str2.upper() #mind the brackets\n",
    "print(str3)"
   ]
  },
  {
   "cell_type": "markdown",
   "id": "7b996467",
   "metadata": {},
   "source": [
    "**1.c. lists and tuples**"
   ]
  },
  {
   "cell_type": "markdown",
   "id": "4b8a5b89",
   "metadata": {},
   "source": [
    "Tuples and lists behave identically for the most part, however, tuples are immutable (elements cannot be replaced)"
   ]
  },
  {
   "cell_type": "code",
   "execution_count": 57,
   "id": "89270410",
   "metadata": {},
   "outputs": [
    {
     "name": "stdout",
     "output_type": "stream",
     "text": [
      "['H', 'E', 'L', 'L', 'O', ' ', 'W', 'O', 'R', 'L', 'D']\n",
      "['apples', 'bananas', 'coconuts']\n",
      "('H', 'E', 'L', 'L', 'O', ' ', 'W', 'O', 'R', 'L', 'D')\n",
      "('apples', 'bananas', 'coconuts')\n"
     ]
    }
   ],
   "source": [
    "#lists\n",
    "list1 = list(str3)\n",
    "list2 = ['apples', 'bananas', 'coconuts']\n",
    "print(list1)\n",
    "print(list2)\n",
    "\n",
    "#tuples\n",
    "tuple1 = tuple(str3)\n",
    "tuple2 = ('apples', 'bananas', 'coconuts')\n",
    "print(tuple1)\n",
    "print(tuple2)"
   ]
  },
  {
   "cell_type": "code",
   "execution_count": 58,
   "id": "e88a664f",
   "metadata": {},
   "outputs": [
    {
     "name": "stdout",
     "output_type": "stream",
     "text": [
      "bananas\n",
      "bananas\n"
     ]
    }
   ],
   "source": [
    "#indexing\n",
    "print(list2[1]) #access a word\n",
    "print(tuple2[1])"
   ]
  },
  {
   "cell_type": "code",
   "execution_count": 59,
   "id": "eb2dd6e1",
   "metadata": {},
   "outputs": [
    {
     "name": "stdout",
     "output_type": "stream",
     "text": [
      "nanas\n"
     ]
    }
   ],
   "source": [
    "#double indexing\n",
    "print(list2[1][2:]) #second word, select letters from 3 onwards"
   ]
  },
  {
   "cell_type": "code",
   "execution_count": 60,
   "id": "499cec73",
   "metadata": {
    "scrolled": true
   },
   "outputs": [
    {
     "name": "stdout",
     "output_type": "stream",
     "text": [
      "['apples', 'oranges', 'coconuts']\n"
     ]
    }
   ],
   "source": [
    "#replace element\n",
    "list2[1] = 'oranges'\n",
    "print(list2)"
   ]
  },
  {
   "cell_type": "code",
   "execution_count": 61,
   "id": "11f7422a",
   "metadata": {},
   "outputs": [
    {
     "name": "stdout",
     "output_type": "stream",
     "text": [
      "['apples', 'oranges', 'coconuts', 'pears']\n"
     ]
    }
   ],
   "source": [
    "#list methods\n",
    "#append\n",
    "#note that append is an 'in-place' method (no output)\n",
    "\n",
    "list2.append('pears') \n",
    "print(list2)"
   ]
  },
  {
   "cell_type": "markdown",
   "id": "5f1574cb",
   "metadata": {},
   "source": [
    "**Note: Tuples are immutable (elements cannot be replaced)**"
   ]
  },
  {
   "cell_type": "code",
   "execution_count": 62,
   "id": "f5ef6e9b",
   "metadata": {},
   "outputs": [
    {
     "name": "stdout",
     "output_type": "stream",
     "text": [
      "4\n"
     ]
    }
   ],
   "source": [
    "#number of elements in a list\n",
    "print(len(list2))"
   ]
  },
  {
   "cell_type": "code",
   "execution_count": 63,
   "id": "e055a5ff",
   "metadata": {},
   "outputs": [
    {
     "name": "stdout",
     "output_type": "stream",
     "text": [
      "[5, 'apple', 4.2]\n"
     ]
    }
   ],
   "source": [
    "#mixing var types\n",
    "list4 = [5, 'apple', 4.20]\n",
    "print(list4)"
   ]
  },
  {
   "cell_type": "code",
   "execution_count": 64,
   "id": "089ac1b0",
   "metadata": {
    "scrolled": true
   },
   "outputs": [
    {
     "name": "stdout",
     "output_type": "stream",
     "text": [
      "['this', 'is', 'a', 'test', 'string']\n"
     ]
    }
   ],
   "source": [
    "#split a string into a list\n",
    "str4 = 'this,is,a,test,string'\n",
    "print(str4.split(',')) #split into list using , as sep"
   ]
  },
  {
   "cell_type": "markdown",
   "id": "1f9af80c",
   "metadata": {},
   "source": [
    "**1.d. Bools**"
   ]
  },
  {
   "cell_type": "code",
   "execution_count": 65,
   "id": "23b9da7b",
   "metadata": {
    "scrolled": true
   },
   "outputs": [
    {
     "name": "stdout",
     "output_type": "stream",
     "text": [
      "<class 'bool'>\n"
     ]
    }
   ],
   "source": [
    "bool1 = True\n",
    "print(type(bool1))"
   ]
  },
  {
   "cell_type": "code",
   "execution_count": 66,
   "id": "dea03ff8",
   "metadata": {},
   "outputs": [
    {
     "name": "stdout",
     "output_type": "stream",
     "text": [
      "True\n",
      "False\n",
      "True\n",
      "False\n"
     ]
    }
   ],
   "source": [
    "#compare numbers\n",
    "print(3<4) #less than\n",
    "print(3>4) #more than\n",
    "print(3<=3) #less or equal\n",
    "print(3>=4) #more or equal"
   ]
  },
  {
   "cell_type": "code",
   "execution_count": 67,
   "id": "d3621dd2",
   "metadata": {},
   "outputs": [
    {
     "name": "stdout",
     "output_type": "stream",
     "text": [
      "False\n",
      "True\n"
     ]
    }
   ],
   "source": [
    "#compare numbers\n",
    "print(3==4) #equal, use double == to distinguish between variable assignments and equality tests\n",
    "print(3!=4) #not equal"
   ]
  },
  {
   "cell_type": "code",
   "execution_count": 68,
   "id": "ef12f627",
   "metadata": {},
   "outputs": [
    {
     "name": "stdout",
     "output_type": "stream",
     "text": [
      "True\n"
     ]
    }
   ],
   "source": [
    "#comparisons auto-convert ints and floats\n",
    "print(int(3)==float(3))"
   ]
  },
  {
   "cell_type": "code",
   "execution_count": 69,
   "id": "9ca78c4d",
   "metadata": {
    "scrolled": true
   },
   "outputs": [
    {
     "name": "stdout",
     "output_type": "stream",
     "text": [
      "True\n",
      "False\n",
      "True\n"
     ]
    }
   ],
   "source": [
    "#in operator\n",
    "print('hello' in str2)\n",
    "print('hello' in str3) #str3 is capitalised\n",
    "print('hello' in str3.lower()) #convert str3 back to lowercase"
   ]
  },
  {
   "cell_type": "markdown",
   "id": "07478de2",
   "metadata": {},
   "source": [
    "**EXERCISES**"
   ]
  },
  {
   "cell_type": "markdown",
   "id": "f6efdf70",
   "metadata": {},
   "source": [
    "**Exer 1**\n",
    "\n",
    "Below, a list of some important model organisms used in research is given. Using this as the basis, create a new list that contains the shortened name instead (initial + genus). So instead of 'Escherichia coli', we want 'E. coli'.\n",
    "\n",
    "Hint: try to split the strings based on the whitespace"
   ]
  },
  {
   "cell_type": "code",
   "execution_count": 70,
   "id": "b58f27ea",
   "metadata": {},
   "outputs": [],
   "source": [
    "#define list\n",
    "model_organism = ['Escherichia coli', 'Arabidopsis thaliana', 'Drosophila melanogaster'] "
   ]
  },
  {
   "cell_type": "code",
   "execution_count": 71,
   "id": "dbe3a29c",
   "metadata": {},
   "outputs": [
    {
     "name": "stdout",
     "output_type": "stream",
     "text": [
      "['E. coli', 'A. thaliana', 'D. melanogaster']\n"
     ]
    }
   ],
   "source": [
    "#solution\n",
    "model_organism_short = list() #pre-allocate list\n",
    "temp = model_organism[0].split(' ') #split on space\n",
    "model_organism_short.append(temp[0][0] + '. ' + temp[1]) #add together\n",
    "#repeat for the others\n",
    "temp = model_organism[1].split(' ') #split on space\n",
    "model_organism_short.append(temp[0][0] + '. ' + temp[1]) #add together\n",
    "temp = model_organism[2].split(' ') #split on space\n",
    "model_organism_short.append(temp[0][0] + '. ' + temp[1]) #add together\n",
    "\n",
    "print(model_organism_short)"
   ]
  },
  {
   "cell_type": "markdown",
   "id": "e10a1a3f",
   "metadata": {},
   "source": [
    "**Exer 2**\n",
    "\n",
    "Below, three course names are given as a tuple. Replace the 3rd and 5th letter with uppercase\n",
    "\n",
    "Hint: use the function *upper* and remember which types of vars are mutable"
   ]
  },
  {
   "cell_type": "code",
   "execution_count": 72,
   "id": "f0e20bea",
   "metadata": {},
   "outputs": [],
   "source": [
    "CourseNames = ('Pharmacokinetics', 'Process Engineering', 'Industrial Biotechnology')"
   ]
  },
  {
   "cell_type": "code",
   "execution_count": 73,
   "id": "60a2f5ea",
   "metadata": {},
   "outputs": [
    {
     "name": "stdout",
     "output_type": "stream",
     "text": [
      "['PhaRmAcokinetics', 'ProCeSs Engineering', 'IndUsTrial Biotechnology']\n"
     ]
    }
   ],
   "source": [
    "CourseNames_list = list()\n",
    "#strings are immutable, so you need to construct a new string first\n",
    "#take the first 2 letters, add uppercase 3rd letter, add letter 4\n",
    "#add uppercase letter 5, add the rest\n",
    "new_string = (CourseNames[0][0:3] + CourseNames[0][3].upper() + \n",
    "CourseNames[0][4] + CourseNames[0][5].upper() + CourseNames[0][6:])\n",
    "\n",
    "CourseNames_list.append(new_string) #add together\n",
    "CourseNames_list.append(CourseNames[1][0:3] + CourseNames[1][3].upper() + \n",
    "                        CourseNames[1][4] + CourseNames[1][5].upper() + CourseNames[1][6:]) #add together\n",
    "CourseNames_list.append(CourseNames[2][0:3] + CourseNames[2][3].upper() + \n",
    "                        CourseNames[2][4] + CourseNames[2][5].upper() + CourseNames[2][6:]) #add together\n",
    "\n",
    "\n",
    "print(CourseNames_list)"
   ]
  },
  {
   "cell_type": "markdown",
   "id": "6f5b7021",
   "metadata": {},
   "source": [
    "**Exer 3**\n",
    "\n",
    "Below, three lists are given. Check if the first and last element are the same and assign the results to variables result_x, result_y and result_z. Your results should be a bool (True or False). \n",
    "\n",
    "Concatenate these bools together to create a list of results (call this results_list)."
   ]
  },
  {
   "cell_type": "code",
   "execution_count": 74,
   "id": "72017735",
   "metadata": {},
   "outputs": [],
   "source": [
    "numbers_x = [10, 20, 30, 40, 50]\n",
    "numbers_y = [10, 20, 30, 40, 10]\n",
    "numbers_z = [10, 20, 30, 40, 10.0]"
   ]
  },
  {
   "cell_type": "code",
   "execution_count": 75,
   "id": "538694f3",
   "metadata": {},
   "outputs": [
    {
     "name": "stdout",
     "output_type": "stream",
     "text": [
      "[False, True, True]\n"
     ]
    }
   ],
   "source": [
    "result_x = numbers_x[0]==numbers_x[-1]\n",
    "result_y = numbers_y[0]==numbers_y[-1]\n",
    "result_z = numbers_z[0]==numbers_z[-1]\n",
    "\n",
    "results_list = [result_x, result_y, result_z]\n",
    "print(results_list)"
   ]
  },
  {
   "cell_type": "markdown",
   "id": "5949509f",
   "metadata": {},
   "source": [
    "## 2. Control structures"
   ]
  },
  {
   "cell_type": "markdown",
   "id": "2bfc208a",
   "metadata": {},
   "source": [
    "**ILLUSTRATION**"
   ]
  },
  {
   "cell_type": "markdown",
   "id": "d6bd3f28",
   "metadata": {},
   "source": [
    "**2.a. IF**"
   ]
  },
  {
   "cell_type": "code",
   "execution_count": 76,
   "id": "af74765d",
   "metadata": {},
   "outputs": [
    {
     "name": "stdout",
     "output_type": "stream",
     "text": [
      "Number is greater than 25\n"
     ]
    }
   ],
   "source": [
    "#if, else and elif\n",
    "num = 45\n",
    "\n",
    "#if\n",
    "if num > 25:\n",
    "    print(\"Number is greater than 25\")"
   ]
  },
  {
   "cell_type": "code",
   "execution_count": 77,
   "id": "45766a5a",
   "metadata": {},
   "outputs": [
    {
     "name": "stdout",
     "output_type": "stream",
     "text": [
      "Number is odd\n"
     ]
    }
   ],
   "source": [
    "#if-else\n",
    "if num % 2 == 0: #remainder after division is zero\n",
    "    print(\"Number is even\")\n",
    "else:\n",
    "    print(\"Number is odd\")"
   ]
  },
  {
   "cell_type": "code",
   "execution_count": 78,
   "id": "7390cc9d",
   "metadata": {},
   "outputs": [
    {
     "name": "stdout",
     "output_type": "stream",
     "text": [
      "Number is a positive number\n"
     ]
    }
   ],
   "source": [
    "# if-elif-else\n",
    "# any number of elif can be used\n",
    "if num < 0:\n",
    "    print(\"Number is a negative number\")\n",
    "elif num > 0:\n",
    "    print(\"Number is a positive number\")\n",
    "else:\n",
    "    print(\"Number is zero\")"
   ]
  },
  {
   "cell_type": "markdown",
   "id": "c96f74d7",
   "metadata": {},
   "source": [
    "**2.b. FOR**"
   ]
  },
  {
   "cell_type": "code",
   "execution_count": 79,
   "id": "3e4d54cb",
   "metadata": {},
   "outputs": [
    {
     "name": "stdout",
     "output_type": "stream",
     "text": [
      "0\n",
      "1\n",
      "2\n",
      "3\n",
      "4\n"
     ]
    }
   ],
   "source": [
    "#for, range\n",
    "#use only endpoint\n",
    "for i in range(5):\n",
    "    print(i)"
   ]
  },
  {
   "cell_type": "code",
   "execution_count": 80,
   "id": "a4254686",
   "metadata": {},
   "outputs": [
    {
     "name": "stdout",
     "output_type": "stream",
     "text": [
      "3\n",
      "4\n"
     ]
    }
   ],
   "source": [
    "#for\n",
    "#start and endpoint\n",
    "for i in range(3, 5):\n",
    "    print(i)"
   ]
  },
  {
   "cell_type": "code",
   "execution_count": 81,
   "id": "edb73b29",
   "metadata": {},
   "outputs": [
    {
     "name": "stdout",
     "output_type": "stream",
     "text": [
      "2\n",
      "4\n",
      "6\n",
      "8\n"
     ]
    }
   ],
   "source": [
    "#for\n",
    "#start and endpoint + step\n",
    "for i in range(2, 10, 2): #from 2 to 10 in steps of 2\n",
    "    print(i)"
   ]
  },
  {
   "cell_type": "code",
   "execution_count": 82,
   "id": "a302e068",
   "metadata": {},
   "outputs": [
    {
     "name": "stdout",
     "output_type": "stream",
     "text": [
      "apples\n",
      "bananas\n",
      "coconuts\n"
     ]
    }
   ],
   "source": [
    "#for\n",
    "#using a list\n",
    "list_fruit = ['apples', 'bananas', 'coconuts']\n",
    "for fruit in list_fruit:\n",
    "    print(fruit)\n"
   ]
  },
  {
   "cell_type": "markdown",
   "id": "31d41e87",
   "metadata": {},
   "source": [
    "**2.c. WHILE**"
   ]
  },
  {
   "cell_type": "code",
   "execution_count": 83,
   "id": "66eb81e2",
   "metadata": {
    "scrolled": true
   },
   "outputs": [
    {
     "name": "stdout",
     "output_type": "stream",
     "text": [
      "10\n"
     ]
    }
   ],
   "source": [
    "#while\n",
    "num = 0\n",
    "while num<10:\n",
    "    num+=1 #add 1 to number\n",
    "print(num)"
   ]
  },
  {
   "cell_type": "markdown",
   "id": "9179745f",
   "metadata": {},
   "source": [
    "**EXERCISES**"
   ]
  },
  {
   "cell_type": "markdown",
   "id": "d7e55eaf",
   "metadata": {},
   "source": [
    "**Exer 1**\n",
    "\n",
    "The Collatz conjecture is a famous unsolved math problem. Given a number (positive integer), the following operation is performed:\n",
    "* If the number is even: divide by 2\n",
    "* If it is odd: multiply by 3 and add 1\n",
    "\n",
    "If the new number is not equal to 1, the same rules are followed again. Given these rules, will the sequence always converge to 1?\n",
    "\n",
    "Write a program that executes these operations for a given number. Using *input*, you can prompt the user for a number (note that this will be given as string by default). Count the number of operations performed and write this back to the user.\n",
    "\n",
    "EXTRA: adapt your code to give an error message when an invalid input is given (not a positive integer). You can use a try + except structure for this."
   ]
  },
  {
   "cell_type": "code",
   "execution_count": 85,
   "id": "26583fc7",
   "metadata": {},
   "outputs": [
    {
     "name": "stdout",
     "output_type": "stream",
     "text": [
      "Give a number: 5\n",
      "Converged\n",
      "5 operations were performed.\n"
     ]
    }
   ],
   "source": [
    "current_num = input('Give a number: ')\n",
    "current_num = int(current_num)\n",
    "num_op = 0 #number of operations\n",
    "while current_num!=1:\n",
    "    if current_num % 2 == 0: #remainder after division is zero => even\n",
    "        current_num=current_num/2\n",
    "    else:\n",
    "        current_num=current_num*3 + 1\n",
    "    num_op+=1\n",
    "print('Converged')\n",
    "print(str(num_op) + ' operations were performed.')"
   ]
  },
  {
   "cell_type": "code",
   "execution_count": 86,
   "id": "18c5a3ab",
   "metadata": {},
   "outputs": [
    {
     "name": "stdout",
     "output_type": "stream",
     "text": [
      "Give a number: 6\n",
      "Converged\n",
      "8 operations were performed.\n"
     ]
    }
   ],
   "source": [
    "#with input checking\n",
    "\n",
    "current_num = input('Give a number: ')\n",
    "#try: if it gives an error message, run except instead\n",
    "try:\n",
    "    current_num = int(current_num)\n",
    "except:\n",
    "    print('Invalid input')\n",
    "if current_num<1:\n",
    "    print('Number must be positive')\n",
    "else: #run the code\n",
    "    num_op = 0 #number of operations\n",
    "    while current_num!=1:\n",
    "        if current_num % 2 == 0: #remainder after division is zero => even\n",
    "            current_num=current_num/2\n",
    "        else:\n",
    "            current_num=current_num*3 + 1\n",
    "        num_op+=1\n",
    "    print('Converged')\n",
    "    print(str(num_op) + ' operations were performed.')"
   ]
  },
  {
   "cell_type": "markdown",
   "id": "60494ba3",
   "metadata": {},
   "source": [
    "**Exer 2**\n",
    "\n",
    "Replace the drug names in the list below by their capitalised version (you can use the *capitalize* string method)."
   ]
  },
  {
   "cell_type": "code",
   "execution_count": 87,
   "id": "acfb8a66",
   "metadata": {},
   "outputs": [],
   "source": [
    "#define list\n",
    "DrugNames = ['adderall', 'mydayis', 'ritalin', 'concerta']"
   ]
  },
  {
   "cell_type": "code",
   "execution_count": 88,
   "id": "f0db8cf5",
   "metadata": {},
   "outputs": [
    {
     "name": "stdout",
     "output_type": "stream",
     "text": [
      "['Adderall', 'Mydayis', 'Ritalin', 'Concerta']\n"
     ]
    }
   ],
   "source": [
    "for i in range(len(DrugNames)):\n",
    "    DrugNames[i] = DrugNames[i].capitalize()\n",
    "print(DrugNames)"
   ]
  },
  {
   "cell_type": "markdown",
   "id": "e9251042",
   "metadata": {},
   "source": [
    "## 3. File input/output"
   ]
  },
  {
   "cell_type": "markdown",
   "id": "97418e65",
   "metadata": {},
   "source": [
    "**ILLUSTRATION**"
   ]
  },
  {
   "cell_type": "markdown",
   "id": "c136c949",
   "metadata": {},
   "source": [
    "File input output works differently for google colab vs local programs such as Jupyter. Therefore, we will first check where we are running the notebook."
   ]
  },
  {
   "cell_type": "code",
   "execution_count": 89,
   "id": "c510a711",
   "metadata": {},
   "outputs": [],
   "source": [
    "try:\n",
    "    import google.colab\n",
    "    in_colab = True #set in_colab to True if you're running the code from google colab\n",
    "except:\n",
    "    in_colab = False #otherwise, it's false"
   ]
  },
  {
   "cell_type": "markdown",
   "id": "55200b20",
   "metadata": {},
   "source": [
    "**3.a From Github**"
   ]
  },
  {
   "cell_type": "markdown",
   "id": "2002e7d9",
   "metadata": {},
   "source": [
    "Option 1 (colab recommended): clone the repository from Github\n",
    "\n",
    "After the clone command, the repo will show up in the sidebar (select the files icon)"
   ]
  },
  {
   "cell_type": "code",
   "execution_count": 90,
   "id": "7b478791",
   "metadata": {
    "scrolled": true
   },
   "outputs": [],
   "source": [
    "#this method should not be used outside google colab\n",
    "if in_colab:\n",
    "    #first clone the repo (insert the link below)\n",
    "    !git clone https://github.com/jverwaer/IntroDataScience\n",
    "    #navigate to the repo and then use / to select files inside the repo\n",
    "    #open the file\n",
    "    f = open('IntroDataScience/PCLabs/files_IDS/iris.csv', 'r')\n",
    "    #read the lines\n",
    "    print(f.readlines())"
   ]
  },
  {
   "cell_type": "markdown",
   "id": "d6727290",
   "metadata": {},
   "source": [
    "Option 2 (works everywhere): load raw files\n",
    "\n",
    "- Click on the file in the repository, \n",
    "- Click on 'View Raw',\n",
    "- Copy the URL of the raw file, \n",
    "- Use this URL as the location of your file. \n",
    "\n",
    "Some functions can work directly with a URL. However, the function *open* cannot do this. Therefore, we need to use the requests library.\n"
   ]
  },
  {
   "cell_type": "code",
   "execution_count": 100,
   "id": "84923150",
   "metadata": {},
   "outputs": [
    {
     "name": "stdout",
     "output_type": "stream",
     "text": [
      "sepal length;sepal width;petal length;petal width;soort\n",
      "5.1;3.5;1.4;0.2;setosa\n",
      "4.9;3.0;1.4;0.2;setosa\n",
      "4.7;3.2;1.3;0.2;setosa\n",
      "4.6;3.1;1.5;0.2;setosa\n",
      "5.0;3.6;1.4;0.2;setosa\n",
      "5.4;3.9;1.7;0.4;setosa\n",
      "4.6;3.4;1.4;0.3;setosa\n",
      "5.0;3.4;1.5;0.2;setosa\n",
      "4.4;2.9;1.4;0.2;setosa\n",
      "4.9;3.1;1.5;0.1;setosa\n",
      "5.4;3.7;1.5;0.2;setosa\n",
      "4.8;3.4;1.6;0.2;setosa\n",
      "4.8;3.0;1.4;0.1;setosa\n",
      "4.3;3.0;1.1;0.1;setosa\n",
      "5.8;4.0;1.2;0.2;setosa\n",
      "5.7;4.4;1.5;0.4;setosa\n",
      "5.4;3.9;1.3;0.4;setosa\n",
      "5.1;3.5;1.4;0.3;setosa\n",
      "5.7;3.8;1.7;0.3;setosa\n",
      "5.1;3.8;1.5;0.3;setosa\n",
      "5.4;3.4;1.7;0.2;setosa\n",
      "5.1;3.7;1.5;0.4;setosa\n",
      "4.6;3.6;1.0;0.2;setosa\n",
      "5.1;3.3;1.7;0.5;setosa\n",
      "4.8;3.4;1.9;0.2;setosa\n",
      "5.0;3.0;1.6;0.2;setosa\n",
      "5.0;3.4;1.6;0.4;setosa\n",
      "5.2;3.5;1.5;0.2;setosa\n",
      "5.2;3.4;1.4;0.2;setosa\n",
      "4.7;3.2;1.6;0.2;setosa\n",
      "4.8;3.1;1.6;0.2;setosa\n",
      "5.4;3.4;1.5;0.4;setosa\n",
      "5.2;4.1;1.5;0.1;setosa\n",
      "5.5;4.2;1.4;0.2;setosa\n",
      "4.9;3.1;1.5;0.2;setosa\n",
      "5.0;3.2;1.2;0.2;setosa\n",
      "5.5;3.5;1.3;0.2;setosa\n",
      "4.9;3.6;1.4;0.1;setosa\n",
      "4.4;3.0;1.3;0.2;setosa\n",
      "5.1;3.4;1.5;0.2;setosa\n",
      "5.0;3.5;1.3;0.3;setosa\n",
      "4.5;2.3;1.3;0.3;setosa\n",
      "4.4;3.2;1.3;0.2;setosa\n",
      "5.0;3.5;1.6;0.6;setosa\n",
      "5.1;3.8;1.9;0.4;setosa\n",
      "4.8;3.0;1.4;0.3;setosa\n",
      "5.1;3.8;1.6;0.2;setosa\n",
      "4.6;3.2;1.4;0.2;setosa\n",
      "5.3;3.7;1.5;0.2;setosa\n",
      "5.0;3.3;1.4;0.2;setosa\n",
      "7.0;3.2;4.7;1.4;versicolor\n",
      "6.4;3.2;4.5;1.5;versicolor\n",
      "6.9;3.1;4.9;1.5;versicolor\n",
      "5.5;2.3;4.0;1.3;versicolor\n",
      "6.5;2.8;4.6;1.5;versicolor\n",
      "5.7;2.8;4.5;1.3;versicolor\n",
      "6.3;3.3;4.7;1.6;versicolor\n",
      "4.9;2.4;3.3;1.0;versicolor\n",
      "6.6;2.9;4.6;1.3;versicolor\n",
      "5.2;2.7;3.9;1.4;versicolor\n",
      "5.0;2.0;3.5;1.0;versicolor\n",
      "5.9;3.0;4.2;1.5;versicolor\n",
      "6.0;2.2;4.0;1.0;versicolor\n",
      "6.1;2.9;4.7;1.4;versicolor\n",
      "5.6;2.9;3.6;1.3;versicolor\n",
      "6.7;3.1;4.4;1.4;versicolor\n",
      "5.6;3.0;4.5;1.5;versicolor\n",
      "5.8;2.7;4.1;1.0;versicolor\n",
      "6.2;2.2;4.5;1.5;versicolor\n",
      "5.6;2.5;3.9;1.1;versicolor\n",
      "5.9;3.2;4.8;1.8;versicolor\n",
      "6.1;2.8;4.0;1.3;versicolor\n",
      "6.3;2.5;4.9;1.5;versicolor\n",
      "6.1;2.8;4.7;1.2;versicolor\n",
      "6.4;2.9;4.3;1.3;versicolor\n",
      "6.6;3.0;4.4;1.4;versicolor\n",
      "6.8;2.8;4.8;1.4;versicolor\n",
      "6.7;3.0;5.0;1.7;versicolor\n",
      "6.0;2.9;4.5;1.5;versicolor\n",
      "5.7;2.6;3.5;1.0;versicolor\n",
      "5.5;2.4;3.8;1.1;versicolor\n",
      "5.5;2.4;3.7;1.0;versicolor\n",
      "5.8;2.7;3.9;1.2;versicolor\n",
      "6.0;2.7;5.1;1.6;versicolor\n",
      "5.4;3.0;4.5;1.5;versicolor\n",
      "6.0;3.4;4.5;1.6;versicolor\n",
      "6.7;3.1;4.7;1.5;versicolor\n",
      "6.3;2.3;4.4;1.3;versicolor\n",
      "5.6;3.0;4.1;1.3;versicolor\n",
      "5.5;2.5;4.0;1.3;versicolor\n",
      "5.5;2.6;4.4;1.2;versicolor\n",
      "6.1;3.0;4.6;1.4;versicolor\n",
      "5.8;2.6;4.0;1.2;versicolor\n",
      "5.0;2.3;3.3;1.0;versicolor\n",
      "5.6;2.7;4.2;1.3;versicolor\n",
      "5.7;3.0;4.2;1.2;versicolor\n",
      "5.7;2.9;4.2;1.3;versicolor\n",
      "6.2;2.9;4.3;1.3;versicolor\n",
      "5.1;2.5;3.0;1.1;versicolor\n",
      "5.7;2.8;4.1;1.3;versicolor\n",
      "6.3;3.3;6.0;2.5;virginica\n",
      "5.8;2.7;5.1;1.9;virginica\n",
      "7.1;3.0;5.9;2.1;virginica\n",
      "6.3;2.9;5.6;1.8;virginica\n",
      "6.5;3.0;5.8;2.2;virginica\n",
      "7.6;3.0;6.6;2.1;virginica\n",
      "4.9;2.5;4.5;1.7;virginica\n",
      "7.3;2.9;6.3;1.8;virginica\n",
      "6.7;2.5;5.8;1.8;virginica\n",
      "7.2;3.6;6.1;2.5;virginica\n",
      "6.5;3.2;5.1;2.0;virginica\n",
      "6.4;2.7;5.3;1.9;virginica\n",
      "6.8;3.0;5.5;2.1;virginica\n",
      "5.7;2.5;5.0;2.0;virginica\n",
      "5.8;2.8;5.1;2.4;virginica\n",
      "6.4;3.2;5.3;2.3;virginica\n",
      "6.5;3.0;5.5;1.8;virginica\n",
      "7.7;3.8;6.7;2.2;virginica\n",
      "7.7;2.6;6.9;2.3;virginica\n",
      "6.0;2.2;5.0;1.5;virginica\n",
      "6.9;3.2;5.7;2.3;virginica\n",
      "5.6;2.8;4.9;2.0;virginica\n",
      "7.7;2.8;6.7;2.0;virginica\n",
      "6.3;2.7;4.9;1.8;virginica\n",
      "6.7;3.3;5.7;2.1;virginica\n",
      "7.2;3.2;6.0;1.8;virginica\n",
      "6.2;2.8;4.8;1.8;virginica\n",
      "6.1;3.0;4.9;1.8;virginica\n",
      "6.4;2.8;5.6;2.1;virginica\n",
      "7.2;3.0;5.8;1.6;virginica\n",
      "7.4;2.8;6.1;1.9;virginica\n",
      "7.9;3.8;6.4;2.0;virginica\n",
      "6.4;2.8;5.6;2.2;virginica\n",
      "6.3;2.8;5.1;1.5;virginica\n",
      "6.1;2.6;5.6;1.4;virginica\n",
      "7.7;3.0;6.1;2.3;virginica\n",
      "6.3;3.4;5.6;2.4;virginica\n",
      "6.4;3.1;5.5;1.8;virginica\n",
      "6.0;3.0;4.8;1.8;virginica\n",
      "6.9;3.1;5.4;2.1;virginica\n",
      "6.7;3.1;5.6;2.4;virginica\n",
      "6.9;3.1;5.1;2.3;virginica\n",
      "5.8;2.7;5.1;1.9;virginica\n",
      "6.8;3.2;5.9;2.3;virginica\n",
      "6.7;3.3;5.7;2.5;virginica\n",
      "6.7;3.0;5.2;2.3;virginica\n",
      "6.3;2.5;5.0;1.9;virginica\n",
      "6.5;3.0;5.2;2.0;virginica\n",
      "6.2;3.4;5.4;2.3;virginica\n",
      "5.9;3.0;5.1;1.8;virginica\n",
      "\n"
     ]
    }
   ],
   "source": [
    "#load a file directly from Github\n",
    "url='https://raw.githubusercontent.com/jverwaer/IntroDataScience/main/PCLabs/files_IDS/iris.csv' #raw github link\n",
    "\n",
    "#load requests library\n",
    "import requests\n",
    "\n",
    "#use requests to load the file from the url\n",
    "f = requests.get(url)\n",
    "#print out the text\n",
    "print(f.text)"
   ]
  },
  {
   "cell_type": "markdown",
   "id": "8ad20027",
   "metadata": {},
   "source": [
    "**3.b Local files**\n",
    "\n",
    "In the sidebar, navigate to the files icon and select *upload*. Then you can navigate to this file.\n",
    "\n",
    "Outside of colab, uploading is not necessary if the file is in the correct location (same folder as notebook). Otherwise, you need to copy the correct path.\n",
    "\n",
    "Other paths can be set using the following commands:\n",
    "* import os\n",
    "* os.chdir('c:\\\\temp\\\\files_IDS') #navigate to the temp folder\n",
    "\n",
    "Keep in mind that setting a path like this will make the notebook less reproducable (a location might not exist on a different computer)."
   ]
  },
  {
   "cell_type": "code",
   "execution_count": 96,
   "id": "741d93fc",
   "metadata": {},
   "outputs": [
    {
     "name": "stdout",
     "output_type": "stream",
     "text": [
      "['sepal length;sepal width;petal length;petal width;soort\\n', '5.1;3.5;1.4;0.2;setosa\\n', '4.9;3.0;1.4;0.2;setosa\\n', '4.7;3.2;1.3;0.2;setosa\\n', '4.6;3.1;1.5;0.2;setosa\\n', '5.0;3.6;1.4;0.2;setosa\\n', '5.4;3.9;1.7;0.4;setosa\\n', '4.6;3.4;1.4;0.3;setosa\\n', '5.0;3.4;1.5;0.2;setosa\\n', '4.4;2.9;1.4;0.2;setosa\\n', '4.9;3.1;1.5;0.1;setosa\\n', '5.4;3.7;1.5;0.2;setosa\\n', '4.8;3.4;1.6;0.2;setosa\\n', '4.8;3.0;1.4;0.1;setosa\\n', '4.3;3.0;1.1;0.1;setosa\\n', '5.8;4.0;1.2;0.2;setosa\\n', '5.7;4.4;1.5;0.4;setosa\\n', '5.4;3.9;1.3;0.4;setosa\\n', '5.1;3.5;1.4;0.3;setosa\\n', '5.7;3.8;1.7;0.3;setosa\\n', '5.1;3.8;1.5;0.3;setosa\\n', '5.4;3.4;1.7;0.2;setosa\\n', '5.1;3.7;1.5;0.4;setosa\\n', '4.6;3.6;1.0;0.2;setosa\\n', '5.1;3.3;1.7;0.5;setosa\\n', '4.8;3.4;1.9;0.2;setosa\\n', '5.0;3.0;1.6;0.2;setosa\\n', '5.0;3.4;1.6;0.4;setosa\\n', '5.2;3.5;1.5;0.2;setosa\\n', '5.2;3.4;1.4;0.2;setosa\\n', '4.7;3.2;1.6;0.2;setosa\\n', '4.8;3.1;1.6;0.2;setosa\\n', '5.4;3.4;1.5;0.4;setosa\\n', '5.2;4.1;1.5;0.1;setosa\\n', '5.5;4.2;1.4;0.2;setosa\\n', '4.9;3.1;1.5;0.2;setosa\\n', '5.0;3.2;1.2;0.2;setosa\\n', '5.5;3.5;1.3;0.2;setosa\\n', '4.9;3.6;1.4;0.1;setosa\\n', '4.4;3.0;1.3;0.2;setosa\\n', '5.1;3.4;1.5;0.2;setosa\\n', '5.0;3.5;1.3;0.3;setosa\\n', '4.5;2.3;1.3;0.3;setosa\\n', '4.4;3.2;1.3;0.2;setosa\\n', '5.0;3.5;1.6;0.6;setosa\\n', '5.1;3.8;1.9;0.4;setosa\\n', '4.8;3.0;1.4;0.3;setosa\\n', '5.1;3.8;1.6;0.2;setosa\\n', '4.6;3.2;1.4;0.2;setosa\\n', '5.3;3.7;1.5;0.2;setosa\\n', '5.0;3.3;1.4;0.2;setosa\\n', '7.0;3.2;4.7;1.4;versicolor\\n', '6.4;3.2;4.5;1.5;versicolor\\n', '6.9;3.1;4.9;1.5;versicolor\\n', '5.5;2.3;4.0;1.3;versicolor\\n', '6.5;2.8;4.6;1.5;versicolor\\n', '5.7;2.8;4.5;1.3;versicolor\\n', '6.3;3.3;4.7;1.6;versicolor\\n', '4.9;2.4;3.3;1.0;versicolor\\n', '6.6;2.9;4.6;1.3;versicolor\\n', '5.2;2.7;3.9;1.4;versicolor\\n', '5.0;2.0;3.5;1.0;versicolor\\n', '5.9;3.0;4.2;1.5;versicolor\\n', '6.0;2.2;4.0;1.0;versicolor\\n', '6.1;2.9;4.7;1.4;versicolor\\n', '5.6;2.9;3.6;1.3;versicolor\\n', '6.7;3.1;4.4;1.4;versicolor\\n', '5.6;3.0;4.5;1.5;versicolor\\n', '5.8;2.7;4.1;1.0;versicolor\\n', '6.2;2.2;4.5;1.5;versicolor\\n', '5.6;2.5;3.9;1.1;versicolor\\n', '5.9;3.2;4.8;1.8;versicolor\\n', '6.1;2.8;4.0;1.3;versicolor\\n', '6.3;2.5;4.9;1.5;versicolor\\n', '6.1;2.8;4.7;1.2;versicolor\\n', '6.4;2.9;4.3;1.3;versicolor\\n', '6.6;3.0;4.4;1.4;versicolor\\n', '6.8;2.8;4.8;1.4;versicolor\\n', '6.7;3.0;5.0;1.7;versicolor\\n', '6.0;2.9;4.5;1.5;versicolor\\n', '5.7;2.6;3.5;1.0;versicolor\\n', '5.5;2.4;3.8;1.1;versicolor\\n', '5.5;2.4;3.7;1.0;versicolor\\n', '5.8;2.7;3.9;1.2;versicolor\\n', '6.0;2.7;5.1;1.6;versicolor\\n', '5.4;3.0;4.5;1.5;versicolor\\n', '6.0;3.4;4.5;1.6;versicolor\\n', '6.7;3.1;4.7;1.5;versicolor\\n', '6.3;2.3;4.4;1.3;versicolor\\n', '5.6;3.0;4.1;1.3;versicolor\\n', '5.5;2.5;4.0;1.3;versicolor\\n', '5.5;2.6;4.4;1.2;versicolor\\n', '6.1;3.0;4.6;1.4;versicolor\\n', '5.8;2.6;4.0;1.2;versicolor\\n', '5.0;2.3;3.3;1.0;versicolor\\n', '5.6;2.7;4.2;1.3;versicolor\\n', '5.7;3.0;4.2;1.2;versicolor\\n', '5.7;2.9;4.2;1.3;versicolor\\n', '6.2;2.9;4.3;1.3;versicolor\\n', '5.1;2.5;3.0;1.1;versicolor\\n', '5.7;2.8;4.1;1.3;versicolor\\n', '6.3;3.3;6.0;2.5;virginica\\n', '5.8;2.7;5.1;1.9;virginica\\n', '7.1;3.0;5.9;2.1;virginica\\n', '6.3;2.9;5.6;1.8;virginica\\n', '6.5;3.0;5.8;2.2;virginica\\n', '7.6;3.0;6.6;2.1;virginica\\n', '4.9;2.5;4.5;1.7;virginica\\n', '7.3;2.9;6.3;1.8;virginica\\n', '6.7;2.5;5.8;1.8;virginica\\n', '7.2;3.6;6.1;2.5;virginica\\n', '6.5;3.2;5.1;2.0;virginica\\n', '6.4;2.7;5.3;1.9;virginica\\n', '6.8;3.0;5.5;2.1;virginica\\n', '5.7;2.5;5.0;2.0;virginica\\n', '5.8;2.8;5.1;2.4;virginica\\n', '6.4;3.2;5.3;2.3;virginica\\n', '6.5;3.0;5.5;1.8;virginica\\n', '7.7;3.8;6.7;2.2;virginica\\n', '7.7;2.6;6.9;2.3;virginica\\n', '6.0;2.2;5.0;1.5;virginica\\n', '6.9;3.2;5.7;2.3;virginica\\n', '5.6;2.8;4.9;2.0;virginica\\n', '7.7;2.8;6.7;2.0;virginica\\n', '6.3;2.7;4.9;1.8;virginica\\n', '6.7;3.3;5.7;2.1;virginica\\n', '7.2;3.2;6.0;1.8;virginica\\n', '6.2;2.8;4.8;1.8;virginica\\n', '6.1;3.0;4.9;1.8;virginica\\n', '6.4;2.8;5.6;2.1;virginica\\n', '7.2;3.0;5.8;1.6;virginica\\n', '7.4;2.8;6.1;1.9;virginica\\n', '7.9;3.8;6.4;2.0;virginica\\n', '6.4;2.8;5.6;2.2;virginica\\n', '6.3;2.8;5.1;1.5;virginica\\n', '6.1;2.6;5.6;1.4;virginica\\n', '7.7;3.0;6.1;2.3;virginica\\n', '6.3;3.4;5.6;2.4;virginica\\n', '6.4;3.1;5.5;1.8;virginica\\n', '6.0;3.0;4.8;1.8;virginica\\n', '6.9;3.1;5.4;2.1;virginica\\n', '6.7;3.1;5.6;2.4;virginica\\n', '6.9;3.1;5.1;2.3;virginica\\n', '5.8;2.7;5.1;1.9;virginica\\n', '6.8;3.2;5.9;2.3;virginica\\n', '6.7;3.3;5.7;2.5;virginica\\n', '6.7;3.0;5.2;2.3;virginica\\n', '6.3;2.5;5.0;1.9;virginica\\n', '6.5;3.0;5.2;2.0;virginica\\n', '6.2;3.4;5.4;2.3;virginica\\n', '5.9;3.0;5.1;1.8;virginica\\n']\n"
     ]
    }
   ],
   "source": [
    "#google colab\n",
    "if in_colab:\n",
    "    f = open('iris.csv', 'r') #remember to upload the file first\n",
    "    print(f.readlines())\n",
    "else: #locally\n",
    "    f = open('files_IDS/iris.csv', 'r') #location (relative path)\n",
    "    print(f.readlines())"
   ]
  },
  {
   "cell_type": "markdown",
   "id": "39e8dcf9",
   "metadata": {},
   "source": [
    "**EXERCISES**"
   ]
  },
  {
   "cell_type": "markdown",
   "id": "c88c1183",
   "metadata": {},
   "source": [
    "**Exer 1**\n",
    "\n",
    "Get the raw Github links for iris_features and iris_labels and read both files seperately"
   ]
  },
  {
   "cell_type": "code",
   "execution_count": 101,
   "id": "00f3d605",
   "metadata": {},
   "outputs": [],
   "source": [
    "url_X='https://raw.githubusercontent.com/jverwaer/IntroDataScience/main/PCLabs/files_IDS/iris_features.csv' #raw github link\n",
    "url_Y='https://raw.githubusercontent.com/jverwaer/IntroDataScience/main/PCLabs/files_IDS/iris_labels.csv' #raw github link\n",
    "\n",
    "f = requests.get(url_X)\n",
    "X = f.text\n",
    "f = requests.get(url_Y)\n",
    "Y = f.text"
   ]
  },
  {
   "cell_type": "code",
   "execution_count": null,
   "id": "543e4a76",
   "metadata": {},
   "outputs": [],
   "source": []
  }
 ],
 "metadata": {
  "kernelspec": {
   "display_name": "Python 3 (ipykernel)",
   "language": "python",
   "name": "python3"
  },
  "language_info": {
   "codemirror_mode": {
    "name": "ipython",
    "version": 3
   },
   "file_extension": ".py",
   "mimetype": "text/x-python",
   "name": "python",
   "nbconvert_exporter": "python",
   "pygments_lexer": "ipython3",
   "version": "3.7.4"
  }
 },
 "nbformat": 4,
 "nbformat_minor": 5
}
