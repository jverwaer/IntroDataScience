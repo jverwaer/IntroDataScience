{
 "cells": [
  {
   "cell_type": "markdown",
   "id": "62e56eac",
   "metadata": {},
   "source": [
    "# Introduction to Data Science PC Lab 01: Introduction to Python"
   ]
  },
  {
   "cell_type": "markdown",
   "id": "8922af95",
   "metadata": {},
   "source": [
    "Author: Jan Verwaeren - Arne Deloose\n",
    "\n",
    "Course: Introduction to Data Science\n",
    "\n",
    "This notebook will give a brief introduction to Python. Each section will first give a brief illustration, followed by exercises"
   ]
  },
  {
   "cell_type": "markdown",
   "id": "14501f5c",
   "metadata": {},
   "source": [
    "## 1. Datatypes"
   ]
  },
  {
   "cell_type": "markdown",
   "id": "7c81a4a3",
   "metadata": {},
   "source": [
    "**ILLUSTRATION**"
   ]
  },
  {
   "cell_type": "markdown",
   "id": "bf829ea3",
   "metadata": {},
   "source": [
    "**1.a. numeric variables**"
   ]
  },
  {
   "cell_type": "code",
   "execution_count": 5,
   "id": "ae9c7862",
   "metadata": {},
   "outputs": [
    {
     "name": "stdout",
     "output_type": "stream",
     "text": [
      "<class 'int'>\n"
     ]
    }
   ],
   "source": [
    "#define a variable\n",
    "a = 5\n",
    "#print out the type\n",
    "print(type(a))"
   ]
  },
  {
   "cell_type": "code",
   "execution_count": 6,
   "id": "b1ba1e99",
   "metadata": {},
   "outputs": [
    {
     "name": "stdout",
     "output_type": "stream",
     "text": [
      "<class 'float'>\n",
      "<class 'float'>\n"
     ]
    }
   ],
   "source": [
    "#define a float\n",
    "\n",
    "#implicit\n",
    "b = 5.0\n",
    "print(type(b))\n",
    "\n",
    "#explicit\n",
    "b = float(5)\n",
    "print(type(b))"
   ]
  },
  {
   "cell_type": "code",
   "execution_count": 7,
   "id": "d7f414b1",
   "metadata": {
    "scrolled": true
   },
   "outputs": [
    {
     "name": "stdout",
     "output_type": "stream",
     "text": [
      "<class 'float'>\n",
      "10.0\n"
     ]
    }
   ],
   "source": [
    "#variable types are mutable\n",
    "\n",
    "#add an int and a float together\n",
    "c = a + b\n",
    "#a will be automatically converted to a float\n",
    "print(type(c))\n",
    "print(c) #print the value"
   ]
  },
  {
   "cell_type": "code",
   "execution_count": 8,
   "id": "75f0b8e5",
   "metadata": {},
   "outputs": [
    {
     "name": "stdout",
     "output_type": "stream",
     "text": [
      "5\n",
      "6\n"
     ]
    }
   ],
   "source": [
    "#convert types\n",
    "#notice that conversion and rounding work differently\n",
    "d = 5.9\n",
    "\n",
    "#conversion\n",
    "d1 = int(d) #convert to int\n",
    "print(d1) #check value\n",
    "\n",
    "#rounding\n",
    "d2 = round(d)\n",
    "print(d2)"
   ]
  },
  {
   "cell_type": "markdown",
   "id": "5e958d17",
   "metadata": {},
   "source": [
    "**1.b. strings**"
   ]
  },
  {
   "cell_type": "code",
   "execution_count": 9,
   "id": "1567aede",
   "metadata": {},
   "outputs": [
    {
     "name": "stdout",
     "output_type": "stream",
     "text": [
      "<class 'str'>\n"
     ]
    }
   ],
   "source": [
    "str1 = 'hello'\n",
    "print(type(str1))"
   ]
  },
  {
   "cell_type": "code",
   "execution_count": 10,
   "id": "73563b8d",
   "metadata": {},
   "outputs": [
    {
     "name": "stdout",
     "output_type": "stream",
     "text": [
      "el\n"
     ]
    }
   ],
   "source": [
    "#indexing\n",
    "#print out letters 2 and 3\n",
    "print(str1[1:3]) #indexing starts at 0, we want positions 1 and 2 "
   ]
  },
  {
   "cell_type": "code",
   "execution_count": 11,
   "id": "028207e1",
   "metadata": {},
   "outputs": [
    {
     "name": "stdout",
     "output_type": "stream",
     "text": [
      "hello world\n"
     ]
    }
   ],
   "source": [
    "#add strings together\n",
    "str2 = 'hello' + ' ' + 'world'\n",
    "print(str2)"
   ]
  },
  {
   "cell_type": "code",
   "execution_count": 12,
   "id": "b8b2abed",
   "metadata": {},
   "outputs": [
    {
     "name": "stdout",
     "output_type": "stream",
     "text": [
      "3\n"
     ]
    }
   ],
   "source": [
    "#string methods\n",
    "#count how often the letter 'l' appears\n",
    "result = str2.count('l')\n",
    "print(result)"
   ]
  },
  {
   "cell_type": "code",
   "execution_count": 13,
   "id": "973ddb67",
   "metadata": {
    "scrolled": false
   },
   "outputs": [
    {
     "name": "stdout",
     "output_type": "stream",
     "text": [
      "HELLO WORLD\n"
     ]
    }
   ],
   "source": [
    "#convert to uppercase\n",
    "str3 = str2.upper() #mind the brackets\n",
    "print(str3)"
   ]
  },
  {
   "cell_type": "markdown",
   "id": "7b996467",
   "metadata": {},
   "source": [
    "**1.c. lists and tuples**"
   ]
  },
  {
   "cell_type": "markdown",
   "id": "4b8a5b89",
   "metadata": {},
   "source": [
    "Tuples and lists behave identically for the most part, however, tuples are immutable (elements cannot be replaced)"
   ]
  },
  {
   "cell_type": "code",
   "execution_count": 14,
   "id": "89270410",
   "metadata": {},
   "outputs": [
    {
     "name": "stdout",
     "output_type": "stream",
     "text": [
      "['H', 'E', 'L', 'L', 'O', ' ', 'W', 'O', 'R', 'L', 'D']\n",
      "['apples', 'bananas', 'coconuts']\n",
      "('H', 'E', 'L', 'L', 'O', ' ', 'W', 'O', 'R', 'L', 'D')\n",
      "('apples', 'bananas', 'coconuts')\n"
     ]
    }
   ],
   "source": [
    "#lists\n",
    "list1 = list(str3)\n",
    "list2 = ['apples', 'bananas', 'coconuts']\n",
    "print(list1)\n",
    "print(list2)\n",
    "\n",
    "#tuples\n",
    "tuple1 = tuple(str3)\n",
    "tuple2 = ('apples', 'bananas', 'coconuts')\n",
    "print(tuple1)\n",
    "print(tuple2)"
   ]
  },
  {
   "cell_type": "code",
   "execution_count": 15,
   "id": "e88a664f",
   "metadata": {},
   "outputs": [
    {
     "name": "stdout",
     "output_type": "stream",
     "text": [
      "bananas\n",
      "bananas\n"
     ]
    }
   ],
   "source": [
    "#indexing\n",
    "print(list2[1]) #access a word\n",
    "print(tuple2[1])"
   ]
  },
  {
   "cell_type": "code",
   "execution_count": 16,
   "id": "eb2dd6e1",
   "metadata": {},
   "outputs": [
    {
     "name": "stdout",
     "output_type": "stream",
     "text": [
      "nanas\n"
     ]
    }
   ],
   "source": [
    "#double indexing\n",
    "print(list2[1][2:]) #second word, select letters from 3 onwards"
   ]
  },
  {
   "cell_type": "code",
   "execution_count": 18,
   "id": "499cec73",
   "metadata": {
    "scrolled": true
   },
   "outputs": [
    {
     "name": "stdout",
     "output_type": "stream",
     "text": [
      "['apples', 'oranges', 'coconuts']\n"
     ]
    }
   ],
   "source": [
    "#replace element\n",
    "list2[1] = 'oranges'\n",
    "print(list2)"
   ]
  },
  {
   "cell_type": "code",
   "execution_count": 19,
   "id": "11f7422a",
   "metadata": {},
   "outputs": [
    {
     "name": "stdout",
     "output_type": "stream",
     "text": [
      "['apples', 'oranges', 'coconuts', 'pears']\n"
     ]
    }
   ],
   "source": [
    "#list methods\n",
    "#append\n",
    "#note that append is an 'in-place' method (no output)\n",
    "\n",
    "list2.append('pears') \n",
    "print(list2)"
   ]
  },
  {
   "cell_type": "markdown",
   "id": "5f1574cb",
   "metadata": {},
   "source": [
    "**Tuples are immutable. Elements cannot be replaced this way. Apppend will not work either**"
   ]
  },
  {
   "cell_type": "code",
   "execution_count": 20,
   "id": "f5ef6e9b",
   "metadata": {},
   "outputs": [
    {
     "name": "stdout",
     "output_type": "stream",
     "text": [
      "4\n"
     ]
    }
   ],
   "source": [
    "#number of elements in a list\n",
    "print(len(list2))"
   ]
  },
  {
   "cell_type": "code",
   "execution_count": 21,
   "id": "e055a5ff",
   "metadata": {},
   "outputs": [
    {
     "name": "stdout",
     "output_type": "stream",
     "text": [
      "[5, 'apple', 4.2]\n"
     ]
    }
   ],
   "source": [
    "#mixing var types\n",
    "list4 = [5, 'apple', 4.20]\n",
    "print(list4)"
   ]
  },
  {
   "cell_type": "code",
   "execution_count": 22,
   "id": "089ac1b0",
   "metadata": {
    "scrolled": true
   },
   "outputs": [
    {
     "name": "stdout",
     "output_type": "stream",
     "text": [
      "['this', 'is', 'a', 'test', 'string']\n"
     ]
    }
   ],
   "source": [
    "#split a string into a list\n",
    "str4 = 'this,is,a,test,string'\n",
    "print(str4.split(',')) #split into list using , as sep"
   ]
  },
  {
   "cell_type": "markdown",
   "id": "1f9af80c",
   "metadata": {},
   "source": [
    "**1.d. Bools**"
   ]
  },
  {
   "cell_type": "code",
   "execution_count": 23,
   "id": "23b9da7b",
   "metadata": {
    "scrolled": true
   },
   "outputs": [
    {
     "name": "stdout",
     "output_type": "stream",
     "text": [
      "<class 'bool'>\n"
     ]
    }
   ],
   "source": [
    "bool1 = True\n",
    "print(type(bool1))"
   ]
  },
  {
   "cell_type": "code",
   "execution_count": 24,
   "id": "dea03ff8",
   "metadata": {},
   "outputs": [
    {
     "name": "stdout",
     "output_type": "stream",
     "text": [
      "True\n",
      "False\n",
      "True\n",
      "False\n"
     ]
    }
   ],
   "source": [
    "#compare numbers\n",
    "print(3<4) #less than\n",
    "print(3>4) #more than\n",
    "print(3<=3) #less or equal\n",
    "print(3>=4) #more or equal"
   ]
  },
  {
   "cell_type": "code",
   "execution_count": 25,
   "id": "d3621dd2",
   "metadata": {},
   "outputs": [
    {
     "name": "stdout",
     "output_type": "stream",
     "text": [
      "False\n",
      "True\n"
     ]
    }
   ],
   "source": [
    "#compare numbers\n",
    "print(3==4) #equal, use double == to distinguish between variable assignments and equality tests\n",
    "print(3!=4) #not equal"
   ]
  },
  {
   "cell_type": "code",
   "execution_count": 48,
   "id": "ef12f627",
   "metadata": {},
   "outputs": [
    {
     "name": "stdout",
     "output_type": "stream",
     "text": [
      "True\n"
     ]
    }
   ],
   "source": [
    "#comparisons auto-convert ints and floats\n",
    "print(int(3)==float(3))"
   ]
  },
  {
   "cell_type": "code",
   "execution_count": 26,
   "id": "9ca78c4d",
   "metadata": {
    "scrolled": true
   },
   "outputs": [
    {
     "name": "stdout",
     "output_type": "stream",
     "text": [
      "True\n",
      "False\n",
      "True\n"
     ]
    }
   ],
   "source": [
    "#in operator\n",
    "print('hello' in str2)\n",
    "print('hello' in str3) #str3 is capitalised\n",
    "print('hello' in str3.lower()) #convert str3 back to lowercase"
   ]
  },
  {
   "cell_type": "markdown",
   "id": "07478de2",
   "metadata": {},
   "source": [
    "**EXERCISES**"
   ]
  },
  {
   "cell_type": "markdown",
   "id": "f6efdf70",
   "metadata": {},
   "source": [
    "**Exer 1**\n",
    "\n",
    "Below, a list of some important model organisms used in research is given. Using this as the basis, create a new list that contains the shortened name instead (initial + genus). So instead of 'Escherichia coli', we want 'E. coli'.\n",
    "\n",
    "Hint: try to split the strings based on the whitespace"
   ]
  },
  {
   "cell_type": "code",
   "execution_count": 33,
   "id": "b58f27ea",
   "metadata": {},
   "outputs": [],
   "source": [
    "#define list\n",
    "model_organism = ['Escherichia coli', 'Arabidopsis thaliana', 'Drosophila melanogaster'] "
   ]
  },
  {
   "cell_type": "code",
   "execution_count": 34,
   "id": "dbe3a29c",
   "metadata": {},
   "outputs": [
    {
     "name": "stdout",
     "output_type": "stream",
     "text": [
      "['E. coli']\n"
     ]
    }
   ],
   "source": [
    "#solution\n",
    "model_organism_short = list() #pre-allocate list\n",
    "temp = model_organism[0].split(' ') #split on space\n",
    "model_organism_short.append(temp[0][0] + '. ' + temp[1]) #add together\n",
    "print(model_organism_short)"
   ]
  },
  {
   "cell_type": "code",
   "execution_count": 35,
   "id": "e579f404",
   "metadata": {},
   "outputs": [],
   "source": [
    "#repeat this for the other strings"
   ]
  },
  {
   "cell_type": "markdown",
   "id": "e10a1a3f",
   "metadata": {},
   "source": [
    "**Exer 2**\n",
    "\n",
    "Below, three course names are given as a tuple. Replace the 3rd and 5th letter with uppercase\n",
    "\n",
    "Hint: use the function *upper* and remember which types of vars are mutable"
   ]
  },
  {
   "cell_type": "code",
   "execution_count": 52,
   "id": "f0e20bea",
   "metadata": {},
   "outputs": [],
   "source": [
    "CourseNames = ('Pharmacokinetics', 'Process Engineering', 'Industrial Biotechnology')"
   ]
  },
  {
   "cell_type": "code",
   "execution_count": 53,
   "id": "60a2f5ea",
   "metadata": {},
   "outputs": [
    {
     "name": "stdout",
     "output_type": "stream",
     "text": [
      "['PhaRmAcokinetics']\n"
     ]
    }
   ],
   "source": [
    "CourseNames_list = list()\n",
    "CourseNames_list.append(CourseNames[0][0:3] + CourseNames[0][3].upper() + \n",
    "                        CourseNames[0][4:5] + CourseNames[0][5].upper() + CourseNames[0][6:]) #add together\n",
    "print(CourseNames_list)\n",
    "#repeat for the other strings"
   ]
  },
  {
   "cell_type": "markdown",
   "id": "6f5b7021",
   "metadata": {},
   "source": [
    "**Exer 3**\n",
    "\n",
    "Below, three lists are given. Check if the first and last element are the same and assign the results to variables result_x, result_y and result_z. Your results should be a bool (True or False). \n",
    "\n",
    "Concatenate these bools together to create a list of results (call this results_list)."
   ]
  },
  {
   "cell_type": "code",
   "execution_count": 49,
   "id": "72017735",
   "metadata": {},
   "outputs": [],
   "source": [
    "numbers_x = [10, 20, 30, 40, 50]\n",
    "numbers_y = [10, 20, 30, 40, 10]\n",
    "numbers_z = [10, 20, 30, 40, 10.0]"
   ]
  },
  {
   "cell_type": "code",
   "execution_count": 50,
   "id": "538694f3",
   "metadata": {},
   "outputs": [
    {
     "name": "stdout",
     "output_type": "stream",
     "text": [
      "[False, True, True]\n"
     ]
    }
   ],
   "source": [
    "result_x = numbers_x[0]==numbers_x[-1]\n",
    "result_y = numbers_y[0]==numbers_y[-1]\n",
    "result_z = numbers_z[0]==numbers_z[-1]\n",
    "\n",
    "results_list = [result_x, result_y, result_z]\n",
    "print(results_list)"
   ]
  },
  {
   "cell_type": "markdown",
   "id": "5949509f",
   "metadata": {},
   "source": [
    "## 2. Control structures"
   ]
  },
  {
   "cell_type": "code",
   "execution_count": null,
   "id": "af74765d",
   "metadata": {},
   "outputs": [],
   "source": []
  },
  {
   "cell_type": "code",
   "execution_count": null,
   "id": "45766a5a",
   "metadata": {},
   "outputs": [],
   "source": []
  },
  {
   "cell_type": "code",
   "execution_count": null,
   "id": "acfb8a66",
   "metadata": {},
   "outputs": [],
   "source": [
    "#define list\n",
    "DrugNames = ('Adderall', 'Mydayis', 'Ritalin', 'Concerta')"
   ]
  },
  {
   "cell_type": "markdown",
   "id": "e9251042",
   "metadata": {},
   "source": [
    "## 3. File input/output"
   ]
  },
  {
   "cell_type": "code",
   "execution_count": null,
   "id": "aa47bc42",
   "metadata": {},
   "outputs": [],
   "source": []
  },
  {
   "cell_type": "code",
   "execution_count": null,
   "id": "79937c60",
   "metadata": {},
   "outputs": [],
   "source": []
  },
  {
   "cell_type": "code",
   "execution_count": null,
   "id": "741d93fc",
   "metadata": {},
   "outputs": [],
   "source": []
  },
  {
   "cell_type": "code",
   "execution_count": null,
   "id": "63dcbdeb",
   "metadata": {},
   "outputs": [],
   "source": []
  }
 ],
 "metadata": {
  "kernelspec": {
   "display_name": "Python 3 (ipykernel)",
   "language": "python",
   "name": "python3"
  },
  "language_info": {
   "codemirror_mode": {
    "name": "ipython",
    "version": 3
   },
   "file_extension": ".py",
   "mimetype": "text/x-python",
   "name": "python",
   "nbconvert_exporter": "python",
   "pygments_lexer": "ipython3",
   "version": "3.7.4"
  }
 },
 "nbformat": 4,
 "nbformat_minor": 5
}
