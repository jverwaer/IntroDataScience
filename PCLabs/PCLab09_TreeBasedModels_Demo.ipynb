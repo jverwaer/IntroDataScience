{
 "cells": [
  {
   "cell_type": "markdown",
   "metadata": {
    "id": "_H0kp5Nk-Uiu"
   },
   "source": [
    "# Introduction to Data Science PC Lab 09: Tree-based Models \n",
    "# Demo Notebook"
   ]
  },
  {
   "cell_type": "markdown",
   "metadata": {},
   "source": [
    "Author: Jan Verwaeren - Arne Deloose\n",
    "\n",
    "Course: Introduction to Data Science\n",
    "    \n",
    "Welcome back!\n",
    "\n",
    "This notebook contains Python code for the lecture on Tree-based methods in the course *Introduction to data science* and includes a set of exercises as well."
   ]
  },
  {
   "cell_type": "markdown",
   "metadata": {
    "id": "BP3saUG2-fsO"
   },
   "source": [
    "## Import Libraries\n",
    "\n",
    "To add functionality to your Python session, a series of libraries (most importantly scikit-image and scikit-learn are imported)"
   ]
  },
  {
   "cell_type": "code",
   "execution_count": 1,
   "metadata": {
    "id": "gxiom-qM-LvD"
   },
   "outputs": [],
   "source": [
    "# Basic libraries\n",
    "import pandas as pd\n",
    "import numpy as np\n",
    "import warnings\n",
    "warnings.simplefilter(\"ignore\", UserWarning)\n",
    "warnings.simplefilter(\"ignore\", RuntimeWarning)\n",
    "warnings.simplefilter(\"ignore\", DeprecationWarning)\n",
    "\n",
    "# Sklearn\n",
    "## Data\n",
    "from sklearn.datasets import load_breast_cancer\n",
    "from sklearn.model_selection import train_test_split\n",
    "\n",
    "## Models\n",
    "from sklearn import tree\n",
    "from sklearn import ensemble\n",
    "from sklearn.model_selection import GridSearchCV\n",
    "from sklearn.manifold import TSNE\n",
    "\n",
    "## Model Explaination\n",
    "from sklearn.inspection import permutation_importance\n",
    "from sklearn.inspection import PartialDependenceDisplay\n",
    "\n",
    "## Metrics\n",
    "from sklearn.metrics import accuracy_score, confusion_matrix\n",
    "\n",
    "# XGBoost\n",
    "# import xgboost\n",
    "\n",
    "# Plotting\n",
    "import graphviz\n",
    "import seaborn as sns\n",
    "import matplotlib.pyplot as plt\n",
    "from IPython.display import display\n",
    "\n"
   ]
  },
  {
   "cell_type": "markdown",
   "metadata": {
    "id": "_pKCSXty-plm"
   },
   "source": [
    "## Loading a toy dataset\n",
    "\n",
    "To illustrate the concepts of this class, we will use the Wisconsin Breastcancer dataset, a dataset that contains measurements of microscopic images of tumors. The goal is to predict if these tumors are *benign* or *malignant*. "
   ]
  },
  {
   "cell_type": "code",
   "execution_count": 2,
   "metadata": {
    "colab": {
     "base_uri": "https://localhost:8080/"
    },
    "id": "76KkfmIq_AxG",
    "outputId": "c48fed25-77dd-4ee8-f60e-a74ec1ec5153"
   },
   "outputs": [],
   "source": [
    "# Load dataset\n",
    "breast_cancer_data = load_breast_cancer()\n",
    "predictors = breast_cancer_data['data']\n",
    "labels = breast_cancer_data['target']\n",
    "\n",
    "# Print description of the dataset (in case you want some more info)\n",
    "# print(breast_cancer_data['DESCR'])"
   ]
  },
  {
   "cell_type": "markdown",
   "metadata": {
    "id": "tz07WfXpAWS-"
   },
   "source": [
    "We will make the usual split in train and test data."
   ]
  },
  {
   "cell_type": "code",
   "execution_count": 3,
   "metadata": {
    "id": "QjYTuF4wAVSG"
   },
   "outputs": [],
   "source": [
    "# Parameters\n",
    "seed = 0\n",
    "\n",
    "# Train - Test Split\n",
    "X_train, X_test, y_train, y_test = train_test_split(predictors, \n",
    "                                                    labels, \n",
    "                                                    random_state=seed)"
   ]
  },
  {
   "cell_type": "markdown",
   "metadata": {
    "id": "ayqf5pTy_diV"
   },
   "source": [
    "## 1. Decision Trees\n",
    "\n",
    "Tree-based methods are implemented in the submodule ``tree`` and classification trees are implemeted by the ``DecisionTreeClassifier`` class of that submodule."
   ]
  },
  {
   "cell_type": "markdown",
   "metadata": {
    "id": "2o5nyl1AZMxu"
   },
   "source": [
    "### 1.1 Decision trees with default parameters\n",
    "\n",
    "Decision tree classifiers come (as most classifiers in sklearn) with a set of default settings for the hyperparameters. The colde sample below shows how such a default tree can be built and tested.\n",
    "\n",
    "NOTE: the parameter ``random_state`` sets the seed of the random generator used by the ``DecisionTreeClassifier`` instance. On rare occasions, two potential splits can be equally good and in that case thetree induction algorithm will decide randomly which split to use (using a random number generator). As this is a random process, different attempts will lead to different trees. Fixing the seed avoids this problem.  "
   ]
  },
  {
   "cell_type": "code",
   "execution_count": 4,
   "metadata": {
    "colab": {
     "base_uri": "https://localhost:8080/"
    },
    "id": "8iBxgg2tIkyK",
    "outputId": "5f8da1e4-10f7-4b0d-e8df-a9d4c5ee21f7"
   },
   "outputs": [
    {
     "name": "stdout",
     "output_type": "stream",
     "text": [
      "Train set accuracy is: 1.0 and test set accuracy is: 0.8811\n"
     ]
    }
   ],
   "source": [
    "# Create decision tree classifier object\n",
    "decision_tree_classifier = tree.DecisionTreeClassifier(random_state=seed)\n",
    "\n",
    "# Fit the training data to the classifier\n",
    "decision_tree_classifier = decision_tree_classifier.fit(X_train, y_train)\n",
    "\n",
    "# Calculate accuracy of the train and test sets\n",
    "train_predictions = decision_tree_classifier.predict(X_train)\n",
    "test_predictions = decision_tree_classifier.predict(X_test)\n",
    "print(\"Train set accuracy is: {} and test set accuracy is: {}\".format(round(accuracy_score(y_train, train_predictions), 4),\n",
    "                                                                      round(accuracy_score(y_test, test_predictions), 4)))"
   ]
  },
  {
   "cell_type": "markdown",
   "metadata": {
    "id": "BQuFSVDCdvtf"
   },
   "source": [
    "### 1.2 Decision trees with cost complexity pruning\n",
    "\n",
    "Cost-complexity pruning is a for of model tuning that focuses on finding an optimal value for the cost-complexity parameter $\\alpha$. As opposed to hyperparameters we have been tuning in the past (such as the regularization parameter $\\alpha$ for ridge regression) sklearn provides a method (``cost_complexity_pruning_path``) that is capable of generating a series of $\\alpha$'s that should be searched during a grid search (one can show that including additional values in the grid search is not relevant).\n",
    "\n",
    "In the following code fragment ``path.ccp_alphas`` is an array of relevant $\\alpha$'s to try."
   ]
  },
  {
   "cell_type": "code",
   "execution_count": null,
   "metadata": {},
   "outputs": [],
   "source": [
    "# Call built-in method to compute the pruning path during Minimal Cost-Complexity Pruning.\n",
    "path = decision_tree_classifier.cost_complexity_pruning_path(X_train, y_train)\n",
    "path.ccp_alphas"
   ]
  },
  {
   "cell_type": "markdown",
   "metadata": {},
   "source": [
    "In a next step, a grid search can be used to find the optimal value for $\\alpha$ (cross-validation)."
   ]
  },
  {
   "cell_type": "code",
   "execution_count": 14,
   "metadata": {},
   "outputs": [
    {
     "data": {
      "text/html": [
       "<style>#sk-container-id-2 {color: black;background-color: white;}#sk-container-id-2 pre{padding: 0;}#sk-container-id-2 div.sk-toggleable {background-color: white;}#sk-container-id-2 label.sk-toggleable__label {cursor: pointer;display: block;width: 100%;margin-bottom: 0;padding: 0.3em;box-sizing: border-box;text-align: center;}#sk-container-id-2 label.sk-toggleable__label-arrow:before {content: \"▸\";float: left;margin-right: 0.25em;color: #696969;}#sk-container-id-2 label.sk-toggleable__label-arrow:hover:before {color: black;}#sk-container-id-2 div.sk-estimator:hover label.sk-toggleable__label-arrow:before {color: black;}#sk-container-id-2 div.sk-toggleable__content {max-height: 0;max-width: 0;overflow: hidden;text-align: left;background-color: #f0f8ff;}#sk-container-id-2 div.sk-toggleable__content pre {margin: 0.2em;color: black;border-radius: 0.25em;background-color: #f0f8ff;}#sk-container-id-2 input.sk-toggleable__control:checked~div.sk-toggleable__content {max-height: 200px;max-width: 100%;overflow: auto;}#sk-container-id-2 input.sk-toggleable__control:checked~label.sk-toggleable__label-arrow:before {content: \"▾\";}#sk-container-id-2 div.sk-estimator input.sk-toggleable__control:checked~label.sk-toggleable__label {background-color: #d4ebff;}#sk-container-id-2 div.sk-label input.sk-toggleable__control:checked~label.sk-toggleable__label {background-color: #d4ebff;}#sk-container-id-2 input.sk-hidden--visually {border: 0;clip: rect(1px 1px 1px 1px);clip: rect(1px, 1px, 1px, 1px);height: 1px;margin: -1px;overflow: hidden;padding: 0;position: absolute;width: 1px;}#sk-container-id-2 div.sk-estimator {font-family: monospace;background-color: #f0f8ff;border: 1px dotted black;border-radius: 0.25em;box-sizing: border-box;margin-bottom: 0.5em;}#sk-container-id-2 div.sk-estimator:hover {background-color: #d4ebff;}#sk-container-id-2 div.sk-parallel-item::after {content: \"\";width: 100%;border-bottom: 1px solid gray;flex-grow: 1;}#sk-container-id-2 div.sk-label:hover label.sk-toggleable__label {background-color: #d4ebff;}#sk-container-id-2 div.sk-serial::before {content: \"\";position: absolute;border-left: 1px solid gray;box-sizing: border-box;top: 0;bottom: 0;left: 50%;z-index: 0;}#sk-container-id-2 div.sk-serial {display: flex;flex-direction: column;align-items: center;background-color: white;padding-right: 0.2em;padding-left: 0.2em;position: relative;}#sk-container-id-2 div.sk-item {position: relative;z-index: 1;}#sk-container-id-2 div.sk-parallel {display: flex;align-items: stretch;justify-content: center;background-color: white;position: relative;}#sk-container-id-2 div.sk-item::before, #sk-container-id-2 div.sk-parallel-item::before {content: \"\";position: absolute;border-left: 1px solid gray;box-sizing: border-box;top: 0;bottom: 0;left: 50%;z-index: -1;}#sk-container-id-2 div.sk-parallel-item {display: flex;flex-direction: column;z-index: 1;position: relative;background-color: white;}#sk-container-id-2 div.sk-parallel-item:first-child::after {align-self: flex-end;width: 50%;}#sk-container-id-2 div.sk-parallel-item:last-child::after {align-self: flex-start;width: 50%;}#sk-container-id-2 div.sk-parallel-item:only-child::after {width: 0;}#sk-container-id-2 div.sk-dashed-wrapped {border: 1px dashed gray;margin: 0 0.4em 0.5em 0.4em;box-sizing: border-box;padding-bottom: 0.4em;background-color: white;}#sk-container-id-2 div.sk-label label {font-family: monospace;font-weight: bold;display: inline-block;line-height: 1.2em;}#sk-container-id-2 div.sk-label-container {text-align: center;}#sk-container-id-2 div.sk-container {/* jupyter's `normalize.less` sets `[hidden] { display: none; }` but bootstrap.min.css set `[hidden] { display: none !important; }` so we also need the `!important` here to be able to override the default hidden behavior on the sphinx rendered scikit-learn.org. See: https://github.com/scikit-learn/scikit-learn/issues/21755 */display: inline-block !important;position: relative;}#sk-container-id-2 div.sk-text-repr-fallback {display: none;}</style><div id=\"sk-container-id-2\" class=\"sk-top-container\"><div class=\"sk-text-repr-fallback\"><pre>GridSearchCV(cv=10, estimator=DecisionTreeClassifier(random_state=0),\n",
       "             param_grid={&#x27;ccp_alpha&#x27;: array([0.        , 0.00226647, 0.00464743, 0.0046598 , 0.0056338 ,\n",
       "       0.00704225, 0.00784194, 0.00911402, 0.01144366, 0.018988  ,\n",
       "       0.02314163, 0.03422475, 0.32729844])})</pre><b>In a Jupyter environment, please rerun this cell to show the HTML representation or trust the notebook. <br />On GitHub, the HTML representation is unable to render, please try loading this page with nbviewer.org.</b></div><div class=\"sk-container\" hidden><div class=\"sk-item sk-dashed-wrapped\"><div class=\"sk-label-container\"><div class=\"sk-label sk-toggleable\"><input class=\"sk-toggleable__control sk-hidden--visually\" id=\"sk-estimator-id-4\" type=\"checkbox\" ><label for=\"sk-estimator-id-4\" class=\"sk-toggleable__label sk-toggleable__label-arrow\">GridSearchCV</label><div class=\"sk-toggleable__content\"><pre>GridSearchCV(cv=10, estimator=DecisionTreeClassifier(random_state=0),\n",
       "             param_grid={&#x27;ccp_alpha&#x27;: array([0.        , 0.00226647, 0.00464743, 0.0046598 , 0.0056338 ,\n",
       "       0.00704225, 0.00784194, 0.00911402, 0.01144366, 0.018988  ,\n",
       "       0.02314163, 0.03422475, 0.32729844])})</pre></div></div></div><div class=\"sk-parallel\"><div class=\"sk-parallel-item\"><div class=\"sk-item\"><div class=\"sk-label-container\"><div class=\"sk-label sk-toggleable\"><input class=\"sk-toggleable__control sk-hidden--visually\" id=\"sk-estimator-id-5\" type=\"checkbox\" ><label for=\"sk-estimator-id-5\" class=\"sk-toggleable__label sk-toggleable__label-arrow\">estimator: DecisionTreeClassifier</label><div class=\"sk-toggleable__content\"><pre>DecisionTreeClassifier(random_state=0)</pre></div></div></div><div class=\"sk-serial\"><div class=\"sk-item\"><div class=\"sk-estimator sk-toggleable\"><input class=\"sk-toggleable__control sk-hidden--visually\" id=\"sk-estimator-id-6\" type=\"checkbox\" ><label for=\"sk-estimator-id-6\" class=\"sk-toggleable__label sk-toggleable__label-arrow\">DecisionTreeClassifier</label><div class=\"sk-toggleable__content\"><pre>DecisionTreeClassifier(random_state=0)</pre></div></div></div></div></div></div></div></div></div></div>"
      ],
      "text/plain": [
       "GridSearchCV(cv=10, estimator=DecisionTreeClassifier(random_state=0),\n",
       "             param_grid={'ccp_alpha': array([0.        , 0.00226647, 0.00464743, 0.0046598 , 0.0056338 ,\n",
       "       0.00704225, 0.00784194, 0.00911402, 0.01144366, 0.018988  ,\n",
       "       0.02314163, 0.03422475, 0.32729844])})"
      ]
     },
     "execution_count": 14,
     "metadata": {},
     "output_type": "execute_result"
    }
   ],
   "source": [
    "# create GridSearchCV instance\n",
    "mdl_cv = GridSearchCV(decision_tree_classifier,\n",
    "                      param_grid = {'ccp_alpha' : path.ccp_alphas},\n",
    "                      cv = 10)\n",
    "\n",
    "# perform the grid search\n",
    "mdl_cv.fit(X_train, y_train)"
   ]
  },
  {
   "cell_type": "markdown",
   "metadata": {},
   "source": [
    "Look at the best alpha found"
   ]
  },
  {
   "cell_type": "code",
   "execution_count": null,
   "metadata": {},
   "outputs": [],
   "source": [
    "mdl_cv.best_params_"
   ]
  },
  {
   "cell_type": "markdown",
   "metadata": {},
   "source": [
    "Make predictions on the test set and compute accuracy."
   ]
  },
  {
   "cell_type": "code",
   "execution_count": null,
   "metadata": {},
   "outputs": [],
   "source": [
    "# make predictions using and compute accuracy (using a built-in function this time)\n",
    "predictions = mdl_cv.predict(X_test)\n",
    "print(accuracy_score(y_test, predictions))\n",
    "\n",
    "# make predictions using and compute confusion matrix\n",
    "confusion_matrix(y_test, predictions)"
   ]
  },
  {
   "cell_type": "markdown",
   "metadata": {},
   "source": [
    "Visualize the tree"
   ]
  },
  {
   "cell_type": "code",
   "execution_count": null,
   "metadata": {},
   "outputs": [],
   "source": [
    "tree.plot_tree(mdl_cv.best_estimator_)"
   ]
  },
  {
   "cell_type": "markdown",
   "metadata": {},
   "source": [
    "### 1.3 Regression trees\n",
    "\n",
    "Regression trees can be built in the same way. They are implemented by the ``DecisionTreeRegressor`` class of the ``tree`` submodule of ``sklearn``."
   ]
  },
  {
   "cell_type": "markdown",
   "metadata": {},
   "source": [
    "## 2 Random forests\n",
    "\n",
    "Random forests are a simple but powerful extension to classification and regression trees. \n",
    "\n",
    "Random forests are implemented by the ``RandomForestClassifier`` and ``RandomForestRegressor`` classes in the ``ensemble`` submodule."
   ]
  },
  {
   "cell_type": "code",
   "execution_count": null,
   "metadata": {},
   "outputs": [],
   "source": [
    "# Create random forest classifier object\n",
    "random_forest_classifier = ensemble.RandomForestClassifier(oob_score=True,\n",
    "                                                           max_features='sqrt',\n",
    "                                                           random_state=seed)\n",
    "\n",
    "# Fit the training data to the classifier\n",
    "random_forest_classifier = random_forest_classifier.fit(X_train, y_train)\n",
    "\n",
    "# Calculate accuracy of the train and test sets\n",
    "train_predictions = random_forest_classifier.predict(X_train)\n",
    "test_predictions = random_forest_classifier.predict(X_test)\n",
    "print(\"Train set accuracy is: {} and test set accuracy is: {}\".format(round(accuracy_score(y_train, train_predictions), 6),\n",
    "                                                                      round(accuracy_score(y_test, test_predictions), 6)))"
   ]
  },
  {
   "cell_type": "markdown",
   "metadata": {},
   "source": [
    "As with most methods, the hyperparameters can be tuned using GridSearchCV"
   ]
  },
  {
   "cell_type": "code",
   "execution_count": null,
   "metadata": {},
   "outputs": [],
   "source": [
    "# Define parameter space to search\n",
    "param_grid = { \n",
    "    'max_features': ['sqrt', None],\n",
    "    'max_depth': [3, 5, 10, None],\n",
    "    'min_samples_split': [2, 5, 10],}\n",
    "\n",
    "# Create random forest classifier object\n",
    "random_forest_classifier = ensemble.RandomForestClassifier(n_estimators=300,\n",
    "                                                           oob_score=True, \n",
    "                                                           n_jobs=-1,\n",
    "                                                           random_state=seed,) \n",
    "\n",
    "# Perform grid search in the defined parameter space with cross validation (3 fold) -> in total 2*3*3*3 = 54 model fits \n",
    "CV_random_forest_classifier = GridSearchCV(estimator=random_forest_classifier, param_grid=param_grid, cv= 5)\n",
    "CV_random_forest_classifier.fit(X_train, y_train)\n",
    "print('Best Parameters:', CV_random_forest_classifier.best_params_)"
   ]
  },
  {
   "cell_type": "markdown",
   "metadata": {
    "id": "EcPXL519BTF8"
   },
   "source": [
    "## 3. Feature Importances"
   ]
  },
  {
   "cell_type": "markdown",
   "metadata": {},
   "source": [
    "### 3.1 Permutation importance\n",
    "\n",
    "*Permutation importance* is a generic approach to computing importances of variables for a model."
   ]
  },
  {
   "cell_type": "code",
   "execution_count": null,
   "metadata": {
    "colab": {
     "base_uri": "https://localhost:8080/",
     "height": 595
    },
    "id": "-7Dj2iZJEjAm",
    "outputId": "dcb1f451-423b-471f-fb65-22cd1fe0678d"
   },
   "outputs": [],
   "source": [
    "# Perform permutation feature importance using the best random forest model\n",
    "\n",
    "random_forest_classifier.fit(X_train, y_train)\n",
    "\n",
    "permutation_importance_result = permutation_importance(random_forest_classifier, \n",
    "                                                       X_test, \n",
    "                                                       y_test, \n",
    "                                                       n_repeats=10, \n",
    "                                                       random_state=seed,)\n",
    "\n",
    "# Extract the mean and standard deviation of the feature importances from the results and create Pandas Dataframe\n",
    "forest_importances = pd.DataFrame({\"importances\" : permutation_importance_result.importances_mean, \n",
    "                                   \"stdev\" : permutation_importance_result.importances_std }, \n",
    "                                   index=breast_cancer_data['feature_names']).sort_values(\"importances\", ascending=False).iloc[:8]\n",
    "\n",
    "# Plot the feature importances\n",
    "plt.bar(x = forest_importances.index,\n",
    "        height = forest_importances[\"importances\"],\n",
    "        yerr=forest_importances[\"stdev\"])\n",
    "\n",
    "plt.title(\"Feature importances using permutation on test data\")\n",
    "plt.ylabel(\"Mean accuracy decrease\")\n",
    "plt.ylim(bottom=0)\n",
    "plt.show()"
   ]
  },
  {
   "cell_type": "markdown",
   "metadata": {
    "id": "l29c-VrLHpUU"
   },
   "source": [
    "### 3.2 Partial Dependence and ICE"
   ]
  },
  {
   "cell_type": "code",
   "execution_count": null,
   "metadata": {
    "colab": {
     "base_uri": "https://localhost:8080/",
     "height": 514
    },
    "id": "sakvvAEEE9_k",
    "outputId": "f4724b16-4567-4828-f0d7-8854ef1ae02f"
   },
   "outputs": [],
   "source": [
    "# Create Pandas DataFrame for the test predictors\n",
    "X_test_df = pd.DataFrame(X_test, columns=breast_cancer_data['feature_names'])\n",
    "\n",
    "# Plot individual partial dependency of selected features \n",
    "fig, ax = plt.subplots(figsize=(20, 8))\n",
    "PartialDependenceDisplay.from_estimator(random_forest_classifier, \n",
    "                                        X_test_df, \n",
    "                                        features = ['worst radius', 'worst perimeter', 'mean concave points'], \n",
    "                                        kind='both', \n",
    "                                        ax=ax)"
   ]
  },
  {
   "cell_type": "markdown",
   "metadata": {},
   "source": [
    "**EXERCISE**: Tune a random forest regressor to predct the toxicity of molecules using the ``QSAR dataset``.\n",
    "- Evaluate the performance of the resulting model.\n",
    "- Which features are the most important?"
   ]
  },
  {
   "cell_type": "code",
   "execution_count": 1,
   "metadata": {},
   "outputs": [],
   "source": [
    "# complete ..."
   ]
  }
 ],
 "metadata": {
  "colab": {
   "collapsed_sections": [],
   "provenance": [],
   "toc_visible": true
  },
  "kernelspec": {
   "display_name": "Python 3 (ipykernel)",
   "language": "python",
   "name": "python3"
  },
  "language_info": {
   "codemirror_mode": {
    "name": "ipython",
    "version": 3
   },
   "file_extension": ".py",
   "mimetype": "text/x-python",
   "name": "python",
   "nbconvert_exporter": "python",
   "pygments_lexer": "ipython3",
   "version": "3.7.4"
  },
  "vscode": {
   "interpreter": {
    "hash": "09605cd2bc0aa78d59dab4b68b44be16a9a5d52cf560cda528d1db29b8f55ea7"
   }
  }
 },
 "nbformat": 4,
 "nbformat_minor": 1
}
