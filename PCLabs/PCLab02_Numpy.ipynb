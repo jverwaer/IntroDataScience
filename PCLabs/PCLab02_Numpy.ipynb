{
 "cells": [
  {
   "cell_type": "markdown",
   "id": "62e56eac",
   "metadata": {},
   "source": [
    "# Introduction to Data Science PC Lab 02: Basics of Numpy Arrays"
   ]
  },
  {
   "cell_type": "markdown",
   "id": "8922af95",
   "metadata": {},
   "source": [
    "Author: Jan Verwaeren - Arne Deloose\n",
    "\n",
    "Course: Introduction to Data Science\n",
    "\n",
    "Welcome back, dear reader. In this notebook, we will cover the basics of Numpy arrays.  As usual, each section (three sections once again) will start with illustrations followed by exercises. The illustrations in this notebook are similar to those of the theory slides for lecture2 and can be used to follow along."
   ]
  },
  {
   "cell_type": "markdown",
   "id": "b13bab16",
   "metadata": {},
   "source": [
    "The code below will detect which program you are using to run the notebook. This will be important later when we load in arrays"
   ]
  },
  {
   "cell_type": "code",
   "execution_count": null,
   "id": "cd5b651e",
   "metadata": {},
   "outputs": [],
   "source": [
    "try:\n",
    "    import google.colab\n",
    "    in_colab = True #set in_colab to True if you're running the code from google colab\n",
    "except:\n",
    "    in_colab = False #otherwise, it's false"
   ]
  },
  {
   "cell_type": "markdown",
   "id": "a51418ed",
   "metadata": {},
   "source": [
    "**What is Numpy?**\n",
    "\n",
    "Before we start, let us briefly discuss what Numpy is. Numpy is a Python library that adds support for arrays and matrices. Libraries are collections of functions that extend the capabilities of Python. We will see many other libraries during this course. You may have noticed that we already used the *requests* library in PC lab 01 to load in data from a url. \n",
    "\n",
    "If a library is already installed, it can be imported using the *import* function as illustrated below. With *as* we can give it a name. The convention is to shorten numpy to *np*"
   ]
  },
  {
   "cell_type": "code",
   "execution_count": null,
   "id": "5c40f224",
   "metadata": {},
   "outputs": [],
   "source": [
    "#import the numpy module and call it np\n",
    "import numpy as np"
   ]
  },
  {
   "cell_type": "markdown",
   "id": "1538a57e",
   "metadata": {},
   "source": [
    "If a library is not yet installed, it needs to be downloaded first using the package manager *pip*. If we want the *jellyfish* library for example (this library is used to phonetically match strings), we need to install it first using:\n",
    "\n",
    "    !pip install jellyfish\n",
    "\n",
    "Before we can import it with:\n",
    "\n",
    "    import jellyfish\n",
    "\n",
    "Commonly used libraries like *Numpy* are installed by default on Colab, so we do not need to worry about this for now."
   ]
  },
  {
   "cell_type": "markdown",
   "id": "4594c939",
   "metadata": {},
   "source": [
    "To use a function from a library, we use *library.function()* for example, *np.array()* or *jellyfish.levenshtein_distance()*"
   ]
  },
  {
   "cell_type": "markdown",
   "id": "4b06009c",
   "metadata": {},
   "source": [
    "## 1. Creating Numpy arrays"
   ]
  },
  {
   "cell_type": "markdown",
   "id": "293260de",
   "metadata": {},
   "source": [
    "With Numpy, we can work with arrays, so the logical first step is to create these arrays. This can be done in three different ways: using np.array, with another function or by loading from a file "
   ]
  },
  {
   "cell_type": "markdown",
   "id": "ca121ae9",
   "metadata": {},
   "source": [
    "**ILLUSTRATION**"
   ]
  },
  {
   "cell_type": "markdown",
   "id": "a5b60177",
   "metadata": {},
   "source": [
    "**1.a. With *np.array***"
   ]
  },
  {
   "cell_type": "markdown",
   "id": "04024ebc",
   "metadata": {},
   "source": [
    "The most basic way to create an array is with the function *np.array()*. The first input of this function is the object we want as an array. To get a single row, we give the elements seperated by commas enclosed in square brackets, as illustrated below. Multiple rows are given as seperate enclosed rows. However, these must be enclosed again in square brackets, because the object must be given as a single input. Without the extra brackets, the second row would be considered a second input. "
   ]
  },
  {
   "cell_type": "code",
   "execution_count": null,
   "id": "0235f09d",
   "metadata": {},
   "outputs": [],
   "source": [
    "#using np.array\n",
    "A = np.array([1, 2, 3]) #one row\n",
    "B = np.array([[1, 2, 3],[4, 5, 6]]) #two rows\n",
    "A.dtype #show type"
   ]
  },
  {
   "cell_type": "code",
   "execution_count": null,
   "id": "f83912ee",
   "metadata": {},
   "outputs": [],
   "source": [
    "B #show B"
   ]
  },
  {
   "cell_type": "markdown",
   "id": "096a5270",
   "metadata": {},
   "source": [
    "Once again, Python automatically detects the type of our variables. The most general type is always used. So if one number is given as a float, the entire array becomes a float type."
   ]
  },
  {
   "cell_type": "code",
   "execution_count": null,
   "id": "9d5d7e9a",
   "metadata": {
    "scrolled": true
   },
   "outputs": [],
   "source": [
    "B = np.array([[1, 2.0, 3],[4, 5, 6]]) #two rows\n",
    "print(B)\n",
    "print(B.dtype)"
   ]
  },
  {
   "cell_type": "markdown",
   "id": "b111b094",
   "metadata": {},
   "source": [
    "Note that dtype is an *attribute* of our array, not a function (no brackets needed). *dtype* is not the same as *type*, because the type of B is:"
   ]
  },
  {
   "cell_type": "code",
   "execution_count": null,
   "id": "321904da",
   "metadata": {},
   "outputs": [],
   "source": [
    "type(B)"
   ]
  },
  {
   "cell_type": "markdown",
   "id": "456ea6f8",
   "metadata": {},
   "source": [
    "This type is the same for every numpy array. Even if the internal type is different. For example:"
   ]
  },
  {
   "cell_type": "code",
   "execution_count": null,
   "id": "53fac190",
   "metadata": {
    "scrolled": true
   },
   "outputs": [],
   "source": [
    "#different array type\n",
    "#implicit type, analogue to a single var\n",
    "A = np.array([True, False, False])\n",
    "print(A.dtype)\n",
    "print(type(A))"
   ]
  },
  {
   "cell_type": "markdown",
   "id": "c66f5cc9",
   "metadata": {},
   "source": [
    "With dtype, we can explicitely define the type as well"
   ]
  },
  {
   "cell_type": "code",
   "execution_count": null,
   "id": "447079b5",
   "metadata": {},
   "outputs": [],
   "source": [
    "A = np.array([1, 2, 3], dtype='float') #one row\n",
    "A"
   ]
  },
  {
   "cell_type": "markdown",
   "id": "b7009527",
   "metadata": {},
   "source": [
    "**1.b. Other functions**"
   ]
  },
  {
   "cell_type": "markdown",
   "id": "8d22e497",
   "metadata": {},
   "source": [
    "There are several other functions to create arrays. *zeros* can be used to create an array filled with zeros, *arange* and *linspace* can fill in numbers between two points and *random* fills in random numbers. To get floats, we need *random.random* (there are other random generators such as *random.randint* for random integers)"
   ]
  },
  {
   "cell_type": "code",
   "execution_count": null,
   "id": "1a7cb139",
   "metadata": {},
   "outputs": [],
   "source": [
    "A = np.zeros((5, 3), dtype = 'float') # 5 row, 3 columns of zeros\n",
    "\n",
    "B = np.arange(0, 10, 2)               # from 0 to (just not) 10 in steps of 2\n",
    "\n",
    "C = np.linspace(0, 1, 5)              # 5 equally spaced between 0 and 1\n",
    "\n",
    "D = np.random.random((3, 3))          # 3 by 3 matrix of random numbers in [0, 1"
   ]
  },
  {
   "cell_type": "code",
   "execution_count": null,
   "id": "bfd3c41b",
   "metadata": {},
   "outputs": [],
   "source": [
    "B"
   ]
  },
  {
   "cell_type": "markdown",
   "id": "a50f8ba4",
   "metadata": {},
   "source": [
    "**1.c. from a file**"
   ]
  },
  {
   "cell_type": "markdown",
   "id": "457b6b58",
   "metadata": {},
   "source": [
    "Finally, arrays can be loaded in from a file using *np.loadtxt*. Despite its name, other file types can be loaded in as well, not just *.txt* . The first argument of this function is the location, which can be local, or it can be a network location (in Colab, network locations are recommended). *delimiter* specifies the seperator (usually a comma). The *dtype* can be provided as well and *skiprows* will skip a number of rows (useful if you have a header)."
   ]
  },
  {
   "cell_type": "code",
   "execution_count": null,
   "id": "8eefcfe5",
   "metadata": {},
   "outputs": [],
   "source": [
    "#notebook running locally:\n",
    "if not in_colab:\n",
    "    X = np.loadtxt(\"files_IDS/iris_features.csv\",\n",
    "                    delimiter = \",\",\n",
    "                    skiprows=1)\n",
    "\n",
    "    Y = np.loadtxt(\"files_IDS/iris_labels.csv\", delimiter = \",\",\n",
    "                    skiprows=1, \n",
    "                    dtype = str)\n",
    "#google colab\n",
    "else:\n",
    "    #loadtxt can work with network locations\n",
    "    X = np.loadtxt(\"https://raw.githubusercontent.com/jverwaer/IntroDataScience/main/PCLabs/files_IDS/iris_features.csv\",\n",
    "                    delimiter = \",\",\n",
    "                    skiprows=1)\n",
    "\n",
    "    Y = np.loadtxt(\"https://raw.githubusercontent.com/jverwaer/IntroDataScience/main/PCLabs/files_IDS/iris_labels.csv\", \n",
    "                    delimiter = \",\",\n",
    "                    skiprows=1, \n",
    "                    dtype = str)"
   ]
  },
  {
   "cell_type": "code",
   "execution_count": null,
   "id": "c6dd5551",
   "metadata": {},
   "outputs": [],
   "source": [
    "print(X)\n",
    "print(Y)"
   ]
  },
  {
   "cell_type": "markdown",
   "id": "e4ff8749",
   "metadata": {},
   "source": [
    "**EXERCISES**"
   ]
  },
  {
   "cell_type": "markdown",
   "id": "803f8f0d",
   "metadata": {},
   "source": [
    "**Exer 1**\n",
    "\n",
    "Create an array with the numbers 0 to 21 in steps of 3 (including the endpoints 0 and 21)"
   ]
  },
  {
   "cell_type": "code",
   "execution_count": null,
   "id": "f281b5a6",
   "metadata": {},
   "outputs": [],
   "source": [
    "#..."
   ]
  },
  {
   "cell_type": "markdown",
   "id": "31c34198",
   "metadata": {},
   "source": [
    "**Exer 2**\n",
    "\n",
    "Read in the file *heart_reduced* from Github. This is a small version of the Cleveland heart disease dataset, a popular public dataset that is commonly used to illustrate machine learning and data science. The 'goal' of the dataset is to predict heart diseases based on several variables (such as age and blood pressure). As will be seen later, these variables have a different type.\n",
    "\n",
    "The original dataset is available here: https://archive.ics.uci.edu/ml/datasets/heart+disease"
   ]
  },
  {
   "cell_type": "code",
   "execution_count": 1,
   "id": "ee1c48a9",
   "metadata": {},
   "outputs": [],
   "source": [
    "#..."
   ]
  },
  {
   "cell_type": "markdown",
   "id": "d82f56e7",
   "metadata": {},
   "source": [
    "## 2. Data Manipulation"
   ]
  },
  {
   "cell_type": "markdown",
   "id": "d192e100",
   "metadata": {},
   "source": [
    "Now that we have our arrays, we need to be able to actually do something with them. In this section, we will see 5 ways of interacting with an array: attributes, indexing, slicing, reshaping and joining + splitting"
   ]
  },
  {
   "cell_type": "markdown",
   "id": "165b8f33",
   "metadata": {},
   "source": [
    "**ILLUSTRATION**"
   ]
  },
  {
   "cell_type": "markdown",
   "id": "600cade0",
   "metadata": {},
   "source": [
    "**2.a. attributes**"
   ]
  },
  {
   "cell_type": "markdown",
   "id": "9c38a340",
   "metadata": {},
   "source": [
    "Every array has certain *attributes* that can be accessed with the dot notation. We have already seen one before: *array.dtype*\n",
    "Other useful attributes are *ndim* for the number of dimensions and *shape* for the size of an array. \n",
    "\n",
    "Be careful here, because while this looks a lot like methods, the syntax is different. *X.mean()* will give us the mean of the numbers in X (brackets because mean is a *method*), *X.shape* will give us the size (no brackets because this is an *attribute*) "
   ]
  },
  {
   "cell_type": "code",
   "execution_count": null,
   "id": "e8a62cfa",
   "metadata": {},
   "outputs": [],
   "source": [
    "# get nr of dimensions\n",
    "print(Y.ndim) \n",
    "print(X.ndim)\n",
    "# get shape -> result is always tuple\n",
    "print(Y.shape)\n",
    "print(X.shape)"
   ]
  },
  {
   "cell_type": "markdown",
   "id": "e614dda5",
   "metadata": {},
   "source": [
    "**2.b. Indexing**"
   ]
  },
  {
   "cell_type": "markdown",
   "id": "6420d6e0",
   "metadata": {},
   "source": [
    "If we want to access a specific element of an array, we can do this with indexing. For a one dimensional array, this is a single number enclosed in square brackets such as [3] for the fourth element (indexing starts at 0). Counting backwards can be done with a negative number. [-2] is the second element counting backwards from the end. Which means the first element is 0 and the last element is -1.\n",
    "\n",
    "For 2D arrays, we can specify a row and a column seperated by a comma: [1, 2] for the second row, third column. (3D arrays can be accessed with a third number [1, 2, 3])"
   ]
  },
  {
   "cell_type": "code",
   "execution_count": null,
   "id": "fbc66b68",
   "metadata": {
    "scrolled": true
   },
   "outputs": [],
   "source": [
    "#accessing values\n",
    "print(Y[1])          # square brackets with positive integer index\n",
    "print(X[1, 2])       # square brackets with positive integer indices\n",
    "print(Y[-1])         # negative index -> index backward from the end of axis\n",
    "print(X[1, -1])      # negative index -> index backward from the end of axis"
   ]
  },
  {
   "cell_type": "markdown",
   "id": "52b921ec",
   "metadata": {},
   "source": [
    "By assigning a new value to a specific element, we can change an element in an array"
   ]
  },
  {
   "cell_type": "code",
   "execution_count": null,
   "id": "90734d33",
   "metadata": {},
   "outputs": [],
   "source": [
    "#changing values\n",
    "Y[1] = 'hello'\n",
    "print(Y)\n",
    "X[1, 2] = 9.9\n",
    "print(X)"
   ]
  },
  {
   "cell_type": "markdown",
   "id": "93c90555",
   "metadata": {},
   "source": [
    "**Note:**  values can only be changed to the correct type. Inserting a string inside a float type array like X is not possible"
   ]
  },
  {
   "cell_type": "markdown",
   "id": "a4dcbe1c",
   "metadata": {},
   "source": [
    "**2.c. Slicing**\n",
    "\n",
    "Indexing can be extended to multiple values, which we call slicing. For this, a range of values must be provided, such as [0:2] for elements 1 and 2 (the endpoint is not included). If nothing is provided, Python will select the largest range possible. Meaning that [:2] is equivalent to [0:2] and [2:] will select until the end of the array. To select everything, we can use a single : such as [2, :] for the entire second row and [:, 2] for the entire second column. [2, :] can be shortened to [2,] or [2], but we recommend to always write out [2, :] to avoid confusion."
   ]
  },
  {
   "cell_type": "code",
   "execution_count": null,
   "id": "0a25618d",
   "metadata": {
    "scrolled": true
   },
   "outputs": [],
   "source": [
    "print(Y[0:2]) \n",
    "print(X[0:2, 1:4])"
   ]
  },
  {
   "cell_type": "code",
   "execution_count": null,
   "id": "1f6ac741",
   "metadata": {},
   "outputs": [],
   "source": [
    "print(Y[:2]) #from start to 2\n",
    "print(Y[2:]) #from 2 until the end"
   ]
  },
  {
   "cell_type": "code",
   "execution_count": null,
   "id": "65dd3b46",
   "metadata": {
    "scrolled": false
   },
   "outputs": [],
   "source": [
    "print(X[1, :])     # extract one row\n",
    "print(X[:, 2])     # extract one column"
   ]
  },
  {
   "cell_type": "markdown",
   "id": "edae094b",
   "metadata": {},
   "source": [
    "Using triple values, we can select ranges with step sizes"
   ]
  },
  {
   "cell_type": "code",
   "execution_count": null,
   "id": "b89accd3",
   "metadata": {
    "scrolled": true
   },
   "outputs": [],
   "source": [
    "print(X[0:150:2, 0:4:2]) #index 0 to 150 in steps of 2 + 0 to 4 in steps of 2"
   ]
  },
  {
   "cell_type": "markdown",
   "id": "b05b1b51",
   "metadata": {},
   "source": [
    "We can change multiple values similar to what we did with indexing. Numpy will *broadcast* the input we provide. This means that if we want to replace three numbers with a single number, Numpy will automatically repeat the single number three times to make the sizes compatible. So 10 becomes [10, 10, 10]. The same principle can be extended to rows and columns. If you ask something impossible such as: \n",
    "\n",
    "    Y[0:3] = ['hello', 'world']\n",
    "    \n",
    "You will get the following error:\n",
    "\n",
    "    ValueError: could not broadcast input array from shape (2,) into shape (3,)\n",
    "\n",
    "This indicates the shapes are not compatible with each other."
   ]
  },
  {
   "cell_type": "code",
   "execution_count": null,
   "id": "070ae340",
   "metadata": {},
   "outputs": [],
   "source": [
    "#change multiple values\n",
    "X[0, 1:3] = 10 #change multiple values to the same one\n",
    "X[1, 1:4] = [1, 2, 3] #change each value to another value\n",
    "print(X)"
   ]
  },
  {
   "cell_type": "markdown",
   "id": "3ccdc494",
   "metadata": {},
   "source": [
    "**2.d. Reshaping**"
   ]
  },
  {
   "cell_type": "markdown",
   "id": "0af46ed1",
   "metadata": {},
   "source": [
    "We can also reshape an array. For example, a 6 by 2 array can be reshaped into a 4 by 3. We could also reshape a 12 element vector into a 3 by 4 array. Note that we can also reshape it into a 12 by 1 array. This may look similar to the original object, but a 12 by 1 array is a 2D object whereas a vector is a 1D object.\n",
    "\n",
    "By default, arrays are filled row by row, but the order argument can be used to change this."
   ]
  },
  {
   "cell_type": "code",
   "execution_count": null,
   "id": "5bf24fed",
   "metadata": {},
   "outputs": [],
   "source": [
    "A = np.arange(1, 13) # 1D array\n",
    "#reshape is not an in-place method, so you need to assign it to a variable\n",
    "A = A.reshape((3, 4)) #reshape\n",
    "print(A)"
   ]
  },
  {
   "cell_type": "code",
   "execution_count": null,
   "id": "6c17ab63",
   "metadata": {},
   "outputs": [],
   "source": [
    "#change order\n",
    "A = np.arange(1, 13) # 1D array\n",
    "A = A.reshape((3, 4), order='F') #reshape, fill in per column\n",
    "print(A)"
   ]
  },
  {
   "cell_type": "markdown",
   "id": "4e87b267",
   "metadata": {},
   "source": [
    "**2.e. Joining and splitting**"
   ]
  },
  {
   "cell_type": "markdown",
   "id": "7d795c85",
   "metadata": {},
   "source": [
    "Arrays can be joined (concatenated) together using *np.concatenate*\n",
    "\n",
    "Splitting can be done by assigning a slice to a new object"
   ]
  },
  {
   "cell_type": "code",
   "execution_count": null,
   "id": "9676e03e",
   "metadata": {},
   "outputs": [],
   "source": [
    "#concatenate\n",
    "X_extra = np.array([[1, 2, 3, 4], [5, 6, 7, 8]])\n",
    "X_new = np.concatenate([X_extra, X]) \n",
    "print(X_new)"
   ]
  },
  {
   "cell_type": "code",
   "execution_count": null,
   "id": "1138ce8b",
   "metadata": {},
   "outputs": [],
   "source": [
    "Y_extra = np.array(['new', 'new'])\n",
    "Y_new = np.concatenate([Y_extra, Y]) "
   ]
  },
  {
   "cell_type": "code",
   "execution_count": null,
   "id": "b8c424cd",
   "metadata": {},
   "outputs": [],
   "source": [
    "#using axis\n",
    "X_new2 = np.concatenate((X, X[:,0].reshape(-1, 1)), axis = 1)"
   ]
  },
  {
   "cell_type": "code",
   "execution_count": null,
   "id": "e7a84ed6",
   "metadata": {},
   "outputs": [],
   "source": [
    "#split\n",
    "X_partial1 = X[:9, :]\n",
    "X_partial2 = X[9:, :]"
   ]
  },
  {
   "cell_type": "markdown",
   "id": "1c975fa8",
   "metadata": {},
   "source": [
    "**EXERCISES**"
   ]
  },
  {
   "cell_type": "markdown",
   "id": "34f6dc6e",
   "metadata": {},
   "source": [
    "**Exer 1**\n",
    "\n",
    "As mentioned earlier, there are different types of variables in the heart disease dataset. Split the original dataset into the following parts:\n",
    "\n",
    "- X_num: this should contain the numerical variables: age (first column), trestbps (resting blood pressure, column four) and col (cholesterol level, column five). \n",
    "- X_cat: an array with the categorical variables: sex (second column), cp (chest pain type, third column), fbs (fasting blood sugar high or low, sixth column) and restecg (resting electrocardiagraphic anomalies, seventh column). While these look numerical, they are in fact categorical variables encoded as numbers (each category can only take a set number of values).\n",
    "- Y_heart: the target variable that we are trying to predict (whether the patient has a heart disease). This is the last column in the original dataframe.\n",
    "\n",
    "Hint: it can be easier if you first make a zeros array with the correct shape (pre-allocation) and then overwrite the right columns."
   ]
  },
  {
   "cell_type": "code",
   "execution_count": null,
   "id": "8148fbf4",
   "metadata": {},
   "outputs": [],
   "source": [
    "#..."
   ]
  },
  {
   "cell_type": "markdown",
   "id": "f9daa21e",
   "metadata": {},
   "source": [
    "## 3. Computation"
   ]
  },
  {
   "cell_type": "markdown",
   "id": "ac59396b",
   "metadata": {},
   "source": [
    "Finally, we can perform computations with arrays. We will discuss universal functions, aggregations, comparisons + masks + boolean logic, fancy indexing and sorting"
   ]
  },
  {
   "cell_type": "markdown",
   "id": "dd07d860",
   "metadata": {},
   "source": [
    "**ILLUSTRATION**"
   ]
  },
  {
   "cell_type": "markdown",
   "id": "9545c98d",
   "metadata": {},
   "source": [
    "**3.a. Universal functions**"
   ]
  },
  {
   "cell_type": "markdown",
   "id": "6e5e2a81",
   "metadata": {},
   "source": [
    "Universal functions are operations that are performed element by element on a vector. Most of these functions have a shorcut, just like + is a shortcut for the *add()* function. There are three ways of performing these functions, which are illustrated below"
   ]
  },
  {
   "cell_type": "code",
   "execution_count": null,
   "id": "2a6106ff",
   "metadata": {},
   "outputs": [],
   "source": [
    "#square 2nd column\n",
    "\n",
    "#option 1\n",
    "#using a for loop to fill in a pre-allocated array\n",
    "A = np.zeros((150,))\n",
    "for i in range(150):\n",
    "    A[i] = X[i,1]**2\n",
    "\n",
    "#option 2\n",
    "#using vectorization\n",
    "B = X[:,1]**2\n",
    "\n",
    "#option 3\n",
    "#using the universal function np.power\n",
    "B = np.power(X[:,1], 2)    "
   ]
  },
  {
   "cell_type": "markdown",
   "id": "5393f610",
   "metadata": {},
   "source": [
    "We will usually prefer the second option, because this is a logical extension of regular arithmetic. Some more examples are given below using this notation"
   ]
  },
  {
   "cell_type": "code",
   "execution_count": null,
   "id": "9e5fe4c0",
   "metadata": {
    "scrolled": true
   },
   "outputs": [],
   "source": [
    "#other arithmetic functions\n",
    "print(X[:,1] + 5) # short for np.add(X[:,1], 5)\n",
    "print(X[:,1] + X[:,2]) # short for np.add(X[:,1], X[:,2])\n",
    "print(X[:,1] - 2) # subtract\n",
    "print(X[:,1] * 2) # multiply\n",
    "print(X[:,1] / 2) # divide\n",
    "print(X[:,1] ** 2) # square"
   ]
  },
  {
   "cell_type": "markdown",
   "id": "af47337e",
   "metadata": {},
   "source": [
    "However, for some functions such as trigonometric ones, we will need the third option."
   ]
  },
  {
   "cell_type": "code",
   "execution_count": null,
   "id": "3106774d",
   "metadata": {},
   "outputs": [],
   "source": [
    "#absolute value, trigonometric, exponents and log functions\n",
    "a = np.array([-1, 0.5, 1.25, 2.0])\n",
    "print(np.abs(a)) # absolute value of each element\n",
    "print(np.sin(a)) # sine of each element (angle assumed in radians)\n",
    "print(np.cos(a)) # cosine of each element (angle assumed in radians)\n",
    "print(np.exp(a)) # exponential function: e^a\n",
    "print(np.log(a)) # natural logarithm (ln(a))"
   ]
  },
  {
   "cell_type": "markdown",
   "id": "1749f4f1",
   "metadata": {},
   "source": [
    "Notice here that Python gives a warning because we cannot take a log of a negative number. The result here is nan (not a number)"
   ]
  },
  {
   "cell_type": "markdown",
   "id": "8d0038ea",
   "metadata": {},
   "source": [
    "**3.b. Aggregations**"
   ]
  },
  {
   "cell_type": "markdown",
   "id": "4456bac3",
   "metadata": {},
   "source": [
    "Aggregations are a specific type of function that compile statistical information about a variable such as the mean or the variance. Unlike universal functions, aggregations can be called as functions *or* as methods. Meaning that:\n",
    "\n",
    "    np.mean(a)\n",
    "    a.mean()\n",
    "    \n",
    "Are both valid ways to calculate the mean."
   ]
  },
  {
   "cell_type": "code",
   "execution_count": null,
   "id": "2ce9c3d4",
   "metadata": {
    "scrolled": true
   },
   "outputs": [],
   "source": [
    "print(X.mean(axis = 0)) #column means\n",
    "print(X.mean(axis = 1)) #row means"
   ]
  },
  {
   "cell_type": "markdown",
   "id": "58d31d02",
   "metadata": {},
   "source": [
    "Below, an overview of the aggregations is given"
   ]
  },
  {
   "cell_type": "markdown",
   "id": "629fe822",
   "metadata": {},
   "source": [
    "![alt text](files_IDS/aggregations.png \"Aggregations\")"
   ]
  },
  {
   "cell_type": "markdown",
   "id": "3e80d74e",
   "metadata": {},
   "source": [
    "By combining mean and std, we can standardise a variable. Here, we use axis to specify we want the column mean"
   ]
  },
  {
   "cell_type": "code",
   "execution_count": null,
   "id": "17a0f086",
   "metadata": {},
   "outputs": [],
   "source": [
    "#standardise (broadcasting)\n",
    "X_standardized = (X - X.mean(axis = 0)) / X.std(axis=0)"
   ]
  },
  {
   "cell_type": "markdown",
   "id": "2c7076d8",
   "metadata": {},
   "source": [
    "**3.c. Comparisons, masks and boolean logic**"
   ]
  },
  {
   "cell_type": "markdown",
   "id": "63f8ea30",
   "metadata": {},
   "source": [
    "If we perform a comparison between a scalar and an array, the result will be logical array with the same size as the original array. If both sides of the comparison are arrays of the same size, an element wise comparison will be performed.\n",
    "\n",
    "Since a True value is counted as 1, the sum function can be used to count the number of True elements of a comparison. So if we want to count how many values in the first column are below 5, we can do this with:"
   ]
  },
  {
   "cell_type": "code",
   "execution_count": null,
   "id": "aee02f48",
   "metadata": {
    "scrolled": true
   },
   "outputs": [],
   "source": [
    "#comparisons\n",
    "A = X[:,0] < 5\n",
    "print(A)\n",
    "print(np.sum(A)) #number of True values (True: 1, False: 0)"
   ]
  },
  {
   "cell_type": "markdown",
   "id": "3dcb0348",
   "metadata": {},
   "source": [
    "An overview of these operators is shown below"
   ]
  },
  {
   "cell_type": "markdown",
   "id": "967e67e2",
   "metadata": {},
   "source": [
    "![alt text](files_IDS/comparison.png \"Comparison\")"
   ]
  },
  {
   "cell_type": "code",
   "execution_count": null,
   "id": "961f9cad",
   "metadata": {
    "scrolled": true
   },
   "outputs": [],
   "source": [
    "A = np.arange(1, 10).reshape((3,3))\n",
    "print(A >= 5) # elements that are greater than or equal to 5\n",
    "print(A % 3 == 0) # remainder after division by 3 equals zero"
   ]
  },
  {
   "cell_type": "markdown",
   "id": "752e629b",
   "metadata": {},
   "source": [
    "We can also use boolean logic, such as AND, OR and NOT"
   ]
  },
  {
   "cell_type": "code",
   "execution_count": null,
   "id": "66b2ac01",
   "metadata": {
    "scrolled": true
   },
   "outputs": [],
   "source": [
    "#boolean logic\n",
    "print((A > 5)  &  (A % 2 == 0)) #AND\n",
    "print((A > 5)  |  (A % 2 == 0)) #OR\n",
    "print(~(A > 5)) #NOT"
   ]
  },
  {
   "cell_type": "markdown",
   "id": "ecdb57ae",
   "metadata": {},
   "source": [
    "This can be combined with other methods such as slicing"
   ]
  },
  {
   "cell_type": "code",
   "execution_count": null,
   "id": "53148bdb",
   "metadata": {
    "scrolled": true
   },
   "outputs": [],
   "source": [
    "print((X[:,0] < 5) & (X[:,2] < 1.5)) #slicing + comparison + boolean logic\n",
    "print(np.sum((X[:,0] < 5) & (X[:,2] < 1.5)))"
   ]
  },
  {
   "cell_type": "markdown",
   "id": "050a0155",
   "metadata": {},
   "source": [
    "An array with True False values can also be used as an index for slicing (mask). All True values will be returned, so [False, False, True] will return the third element"
   ]
  },
  {
   "cell_type": "code",
   "execution_count": null,
   "id": "405663d8",
   "metadata": {},
   "outputs": [],
   "source": [
    "#masks\n",
    "print(A[A % 2 == 0])\n",
    "print(A[(A > 5) | (A % 2 == 0)])"
   ]
  },
  {
   "cell_type": "code",
   "execution_count": null,
   "id": "35de8d70",
   "metadata": {},
   "outputs": [],
   "source": [
    "#masks combined with replacing values\n",
    "A[A % 2 == 0] = 0"
   ]
  },
  {
   "cell_type": "code",
   "execution_count": null,
   "id": "ff289007",
   "metadata": {
    "scrolled": false
   },
   "outputs": [],
   "source": [
    "#masks as partial index\n",
    "print(A[A[:,0] % 2 == 1, :])\n",
    "\n",
    "mask = A[:,0] % 2 == 1 # using an intermediate variable for readability\n",
    "print(A[mask, :])"
   ]
  },
  {
   "cell_type": "markdown",
   "id": "d57f5c44",
   "metadata": {},
   "source": [
    "Putting all this together, we can perform specific tasks, such as:"
   ]
  },
  {
   "cell_type": "code",
   "execution_count": null,
   "id": "df876e0d",
   "metadata": {},
   "outputs": [],
   "source": [
    "#examples\n",
    "\n",
    "#Compute average sepal length of all ‘short’ sepals ( < 5 )\n",
    "mask = X[:,0] < 5\n",
    "print(np.mean(X[mask, 0]))\n",
    "\n",
    "#Compute average sepal length of all ‘setosa’ flowers\n",
    "mask = Y == 'setosa'\n",
    "print(np.mean(X[mask, 0]))\n",
    "\n",
    "#Compute standard deviation of all variables for ‘setosa’ flowers\n",
    "mask = Y == 'setosa'\n",
    "print(np.std(X[mask, :], axis = 0))"
   ]
  },
  {
   "cell_type": "markdown",
   "id": "23afffc5",
   "metadata": {},
   "source": [
    "**3.d. fancy indexing and sorting**"
   ]
  },
  {
   "cell_type": "markdown",
   "id": "1c7396c7",
   "metadata": {},
   "source": [
    "Finally, we have fancy indexing, where an array is used to slice a different array. Just like True and False, we can use [1, 2, 4] to select the second, third and fifth element of an array. Below, we see some examples of this"
   ]
  },
  {
   "cell_type": "code",
   "execution_count": null,
   "id": "b7521e07",
   "metadata": {},
   "outputs": [],
   "source": [
    "#passing an array of indices\n",
    "idx = [1, 2, 4]\n",
    "print(B[idx])\n",
    "\n",
    "#row + column\n",
    "rowidx = [1, 2, 2]\n",
    "colidx = [0, 0, 1]\n",
    "print(A[rowidx, colidx])\n",
    "\n",
    "#combined with slicing\n",
    "rowidx = [0, 2]\n",
    "print(A[rowidx, :])"
   ]
  },
  {
   "cell_type": "code",
   "execution_count": null,
   "id": "16fb0c1b",
   "metadata": {
    "scrolled": true
   },
   "outputs": [],
   "source": [
    "#random\n",
    "rand = np.random.RandomState(1) #generate a random state\n",
    "#this makes the code reproducable\n",
    "rowidx = rand.choice(150, 60, replace=False) #select 60 values between 0 and 150 without replacement\n",
    "#no replacement = value can only be selected once\n",
    "print(X[rowidx, :])"
   ]
  },
  {
   "cell_type": "markdown",
   "id": "1bd23646",
   "metadata": {},
   "source": [
    "Finally, *sort* can be used to sort an array (ascending by default) and *argsort* can be used to return the indexes of a sorted array"
   ]
  },
  {
   "cell_type": "code",
   "execution_count": null,
   "id": "9c2fde85",
   "metadata": {},
   "outputs": [],
   "source": [
    "#sorting\n",
    "B = np.array([5, 8, 7, 3, 1, 2])\n",
    "print(np.sort(B)) #sort ascending\n",
    "print(np.argsort(B)) #indices sorted elements"
   ]
  },
  {
   "cell_type": "code",
   "execution_count": null,
   "id": "b06388f3",
   "metadata": {
    "scrolled": true
   },
   "outputs": [],
   "source": [
    "#Sorting rows of a 2D array on a column\n",
    "idx = np.argsort(X[:,1])\n",
    "print(X[idx, :])"
   ]
  },
  {
   "cell_type": "markdown",
   "id": "e7595d93",
   "metadata": {},
   "source": [
    "**EXERCISES**"
   ]
  },
  {
   "cell_type": "markdown",
   "id": "c523a37f",
   "metadata": {},
   "source": [
    "**Exer 1**\n",
    "\n",
    "X_cat shows numerical variables, but these actually encode specific categories. Adapt this array to show the full category name instead. Use the following conversions:\n",
    "\n",
    "* sex: 0 --> 'female', 1 --> 'male' \n",
    "* cp (chest pain type): 0 --> 'typical angina', 1 --> 'atypical angina', 2 --> 'non-anginal pain', 3 --> 'asymptomatic'\n",
    "* fbs (fasting blood sugar): 0 --> 'low', 1 --> 'high'\n",
    "* restecg (ST-T wave abnormality): 0 --> 'normal', 1 --> 'abnormal'\n",
    "\n",
    "In order to use strings in an array, you need to specify the space that will be reserved. Using dtype=str will only reserve a single character. If you want more characters, you can do this the following way:\n",
    "\n",
    "- np.zeros((3, 2), dtype='<U5')\n",
    "\n",
    "This creates a 3 by 2 array with 5 spaces reserved. Anything longer will be cut off after the 5th letter.\n",
    "\n",
    "Hint: one way to solve this exercise is to first create a new array with the correct type and then fill this one up using the slicing mask to select the correct values."
   ]
  },
  {
   "cell_type": "code",
   "execution_count": null,
   "id": "3aa10e17",
   "metadata": {},
   "outputs": [],
   "source": [
    "#..."
   ]
  },
  {
   "cell_type": "markdown",
   "id": "a03b100e",
   "metadata": {},
   "source": [
    "**Exer 2**\n",
    "\n",
    "What percentage of patients have typical angina? Is this the same for each gender?"
   ]
  },
  {
   "cell_type": "code",
   "execution_count": null,
   "id": "eaf12e36",
   "metadata": {},
   "outputs": [],
   "source": [
    "#..."
   ]
  }
 ],
 "metadata": {
  "kernelspec": {
   "display_name": "Python 3 (ipykernel)",
   "language": "python",
   "name": "python3"
  },
  "language_info": {
   "codemirror_mode": {
    "name": "ipython",
    "version": 3
   },
   "file_extension": ".py",
   "mimetype": "text/x-python",
   "name": "python",
   "nbconvert_exporter": "python",
   "pygments_lexer": "ipython3",
   "version": "3.7.4"
  }
 },
 "nbformat": 4,
 "nbformat_minor": 5
}
